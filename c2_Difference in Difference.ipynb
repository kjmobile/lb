{
  "cells": [
    {
      "cell_type": "markdown",
      "metadata": {
        "id": "view-in-github",
        "colab_type": "text"
      },
      "source": [
        "<a href=\"https://colab.research.google.com/github/kjmobile/lb/blob/main/c2_Difference%20in%20Difference.ipynb\" target=\"_parent\"><img src=\"https://colab.research.google.com/assets/colab-badge.svg\" alt=\"Open In Colab\"/></a>"
      ]
    },
    {
      "cell_type": "markdown",
      "id": "37130310-b1b3-45ae-85af-179cfd0e7a4d",
      "metadata": {
        "id": "37130310-b1b3-45ae-85af-179cfd0e7a4d"
      },
      "source": [
        "# Research Question"
      ]
    },
    {
      "cell_type": "markdown",
      "id": "183ed905-3c21-4ab8-bd51-da3018dd5b32",
      "metadata": {
        "id": "183ed905-3c21-4ab8-bd51-da3018dd5b32"
      },
      "source": [
        "- How does the presence of a nearby incinerator impact the change in residential property values over time?"
      ]
    },
    {
      "cell_type": "markdown",
      "id": "a6a96ebe-caf2-4ae4-9767-c863f7eafce0",
      "metadata": {
        "id": "a6a96ebe-caf2-4ae4-9767-c863f7eafce0"
      },
      "source": [
        "# Research Method"
      ]
    },
    {
      "cell_type": "markdown",
      "id": "046292d3-500f-44a2-994d-ef96307930fb",
      "metadata": {
        "id": "046292d3-500f-44a2-994d-ef96307930fb"
      },
      "source": [
        "- **Difference** in **Difference** Analysis"
      ]
    },
    {
      "cell_type": "markdown",
      "id": "45d6c06f-745a-46da-8f05-6ec6bef4c3eb",
      "metadata": {
        "id": "45d6c06f-745a-46da-8f05-6ec6bef4c3eb"
      },
      "source": [
        "- Difference (price increase between 1978 to 1981) in Difference (existence of incinerator nearby)"
      ]
    },
    {
      "cell_type": "markdown",
      "id": "367e5309-1f1f-4736-9d39-35baf4cadfa7",
      "metadata": {
        "id": "367e5309-1f1f-4736-9d39-35baf4cadfa7"
      },
      "source": [
        "## Data:\n",
        "- **year**: The year when the data was recorded.  \n",
        "- **age**: The age of the building or house.  \n",
        "- **agesq**: The squared value of the building age, used to capture nonlinear relationships.  \n",
        "- **nbh**: Identifier for a specific neighborhood or area.  \n",
        "- **cbd**: Distance to the Central Business District (CBD).  \n",
        "- **intst**: Intensity of nearby major roads or traffic.  \n",
        "- **lintst**: Logarithm of `intst`, reflecting scale adjustment and nonlinear effects.  \n",
        "- **price**: Raw price data of the house.  \n",
        "- **rooms**: Number of rooms in the house.  \n",
        "- **area**: Total area of the house.  \n",
        "- **land**: Size of the land or lot.  \n",
        "- **baths**: Number of bathrooms in the house.  \n",
        "- **dist**: Distance to a specific reference point (e.g., CBD or incinerator).  \n",
        "- **ldist**: Logarithm of `dist`.  \n",
        "- **wind**: Wind direction or other related environmental variable.  \n",
        "- **lprice**: Logarithm of `price`.  \n",
        "- **y81**: Dummy variable indicating the year 1981.  \n",
        "- **larea**: Logarithm of `area`.  \n",
        "- **lland**: Logarithm of `land`.  \n",
        "- **y81ldist**: Interaction term between 1981 (`y81`) and `ldist`.  \n",
        "- **lintstsq**: Squared value of `lintst`.  \n",
        "- **nearinc**: Dummy variable indicating proximity to an incinerator (1 = near, 0 = far).  \n",
        "- **y81nrinc**: Interaction term between 1981 (`y81`) and proximity to the incinerator (`nearinc`).  \n",
        "- **rprice**: Residental housing price.  \n",
        "- **lrprice**: Logarithm of `rprice`.  "
      ]
    },
    {
      "cell_type": "code",
      "execution_count": null,
      "id": "Cv-rXN01AoFL",
      "metadata": {
        "id": "Cv-rXN01AoFL"
      },
      "outputs": [],
      "source": [
        "# !pip install wooldridge\n",
        "# !pip install ISLP"
      ]
    },
    {
      "cell_type": "code",
      "execution_count": null,
      "id": "4fa9b09b-956f-47eb-a0b2-230d67bd37f8",
      "metadata": {
        "id": "4fa9b09b-956f-47eb-a0b2-230d67bd37f8"
      },
      "outputs": [],
      "source": [
        "# Code\n",
        "import wooldridge as woo\n",
        "import numpy as np\n",
        "import pandas as pd\n",
        "import statsmodels.formula.api as smf  # note this\n",
        "import ISLP\n",
        "from ISLP.models import (ModelSpec as MS, summarize,poly)"
      ]
    },
    {
      "cell_type": "code",
      "execution_count": null,
      "id": "dc80f1c3-9688-45a3-a60b-644cea338f82",
      "metadata": {
        "id": "dc80f1c3-9688-45a3-a60b-644cea338f82"
      },
      "outputs": [],
      "source": [
        "# all three approaches produce the same results"
      ]
    },
    {
      "cell_type": "code",
      "execution_count": null,
      "id": "d1e27686-1230-4054-8998-a918605fed44",
      "metadata": {
        "colab": {
          "base_uri": "https://localhost:8080/",
          "height": 174
        },
        "id": "d1e27686-1230-4054-8998-a918605fed44",
        "outputId": "a2d24020-10e9-4e07-e4bd-6813e809c43e"
      },
      "outputs": [
        {
          "data": {
            "text/html": [
              "<div>\n",
              "<style scoped>\n",
              "    .dataframe tbody tr th:only-of-type {\n",
              "        vertical-align: middle;\n",
              "    }\n",
              "\n",
              "    .dataframe tbody tr th {\n",
              "        vertical-align: top;\n",
              "    }\n",
              "\n",
              "    .dataframe thead th {\n",
              "        text-align: right;\n",
              "    }\n",
              "</style>\n",
              "<table border=\"1\" class=\"dataframe\">\n",
              "  <thead>\n",
              "    <tr style=\"text-align: right;\">\n",
              "      <th></th>\n",
              "      <th>coef</th>\n",
              "      <th>std err</th>\n",
              "      <th>t</th>\n",
              "      <th>P&gt;|t|</th>\n",
              "    </tr>\n",
              "  </thead>\n",
              "  <tbody>\n",
              "    <tr>\n",
              "      <th>Intercept</th>\n",
              "      <td>11.2854</td>\n",
              "      <td>0.031</td>\n",
              "      <td>369.839</td>\n",
              "      <td>0.000</td>\n",
              "    </tr>\n",
              "    <tr>\n",
              "      <th>C(year)[T.1981]</th>\n",
              "      <td>0.1931</td>\n",
              "      <td>0.045</td>\n",
              "      <td>4.261</td>\n",
              "      <td>0.000</td>\n",
              "    </tr>\n",
              "    <tr>\n",
              "      <th>nearinc</th>\n",
              "      <td>-0.3399</td>\n",
              "      <td>0.055</td>\n",
              "      <td>-6.231</td>\n",
              "      <td>0.000</td>\n",
              "    </tr>\n",
              "    <tr>\n",
              "      <th>nearinc:C(year)[T.1981]</th>\n",
              "      <td>-0.0626</td>\n",
              "      <td>0.083</td>\n",
              "      <td>-0.751</td>\n",
              "      <td>0.453</td>\n",
              "    </tr>\n",
              "  </tbody>\n",
              "</table>\n",
              "</div>"
            ],
            "text/plain": [
              "                            coef  std err        t  P>|t|\n",
              "Intercept                11.2854    0.031  369.839  0.000\n",
              "C(year)[T.1981]           0.1931    0.045    4.261  0.000\n",
              "nearinc                  -0.3399    0.055   -6.231  0.000\n",
              "nearinc:C(year)[T.1981]  -0.0626    0.083   -0.751  0.453"
            ]
          },
          "execution_count": 10,
          "metadata": {},
          "output_type": "execute_result"
        }
      ],
      "source": [
        "# 1 Using formula.api : difference in difference (DiD) :\n",
        "import statsmodels.formula.api as smf\n",
        "kielmc = woo.dataWoo('kielmc')\n",
        "\n",
        "mod_did_f = smf.ols(formula='np.log(rprice) ~ nearinc*C(year)', data=kielmc)\n",
        "results_did_f = mod_did_f.fit()\n",
        "summarize(results_did_f)"
      ]
    },
    {
      "cell_type": "code",
      "execution_count": null,
      "id": "dcae97db-274e-4a9d-8284-fc35e65f1b92",
      "metadata": {
        "id": "dcae97db-274e-4a9d-8284-fc35e65f1b92",
        "outputId": "7e971305-ce4e-4907-c3ac-e09fb5bd1a65",
        "scrolled": true
      },
      "outputs": [
        {
          "data": {
            "text/html": [
              "<div>\n",
              "<style scoped>\n",
              "    .dataframe tbody tr th:only-of-type {\n",
              "        vertical-align: middle;\n",
              "    }\n",
              "\n",
              "    .dataframe tbody tr th {\n",
              "        vertical-align: top;\n",
              "    }\n",
              "\n",
              "    .dataframe thead th {\n",
              "        text-align: right;\n",
              "    }\n",
              "</style>\n",
              "<table border=\"1\" class=\"dataframe\">\n",
              "  <thead>\n",
              "    <tr style=\"text-align: right;\">\n",
              "      <th></th>\n",
              "      <th>coef</th>\n",
              "      <th>std err</th>\n",
              "      <th>t</th>\n",
              "      <th>P&gt;|t|</th>\n",
              "    </tr>\n",
              "  </thead>\n",
              "  <tbody>\n",
              "    <tr>\n",
              "      <th>const</th>\n",
              "      <td>11.2854</td>\n",
              "      <td>0.031</td>\n",
              "      <td>369.838</td>\n",
              "      <td>0.000</td>\n",
              "    </tr>\n",
              "    <tr>\n",
              "      <th>nearinc</th>\n",
              "      <td>-0.3399</td>\n",
              "      <td>0.055</td>\n",
              "      <td>-6.231</td>\n",
              "      <td>0.000</td>\n",
              "    </tr>\n",
              "    <tr>\n",
              "      <th>year_1981</th>\n",
              "      <td>0.1931</td>\n",
              "      <td>0.045</td>\n",
              "      <td>4.260</td>\n",
              "      <td>0.000</td>\n",
              "    </tr>\n",
              "    <tr>\n",
              "      <th>nearinc_year_1981</th>\n",
              "      <td>-0.0626</td>\n",
              "      <td>0.083</td>\n",
              "      <td>-0.751</td>\n",
              "      <td>0.453</td>\n",
              "    </tr>\n",
              "  </tbody>\n",
              "</table>\n",
              "</div>"
            ],
            "text/plain": [
              "                      coef  std err        t  P>|t|\n",
              "const              11.2854    0.031  369.838  0.000\n",
              "nearinc            -0.3399    0.055   -6.231  0.000\n",
              "year_1981           0.1931    0.045    4.260  0.000\n",
              "nearinc_year_1981  -0.0626    0.083   -0.751  0.453"
            ]
          },
          "execution_count": 14,
          "metadata": {},
          "output_type": "execute_result"
        }
      ],
      "source": [
        "# 2 Manual Design Matrix Approach\n",
        "import statsmodels.api as sm\n",
        "kielmc = woo.dataWoo('kielmc')\n",
        "\n",
        "kielmc = pd.get_dummies(kielmc, columns=['year'], drop_first=True).astype(int)\n",
        "kielmc['nearinc_year_1981'] = kielmc['nearinc'] * kielmc['year_1981']\n",
        "\n",
        "X = kielmc[['nearinc', 'year_1981', 'nearinc_year_1981']]\n",
        "X = sm.add_constant(X)\n",
        "\n",
        "y = np.log(kielmc['rprice'])\n",
        "mod_did_a = sm.OLS(y, X)\n",
        "results_did_a = mod_did_a.fit()\n",
        "summarize(results_did_a)"
      ]
    },
    {
      "cell_type": "code",
      "execution_count": null,
      "id": "73bf3140-09ba-4b5f-b7da-dad54d185b7d",
      "metadata": {
        "id": "73bf3140-09ba-4b5f-b7da-dad54d185b7d",
        "outputId": "6657a8b9-b3c1-4429-e78d-84e883db8773"
      },
      "outputs": [
        {
          "name": "stdout",
          "output_type": "stream",
          "text": [
            "                 coef  std err        t  P>|t|\n",
            "intercept     11.2854    0.031  369.839  0.000\n",
            "nearinc       -0.3399    0.055   -6.231  0.000\n",
            "year[1981]     0.1931    0.045    4.261  0.000\n",
            "nearinc:year  -0.0626    0.083   -0.751  0.453\n",
            "                            OLS Regression Results                            \n",
            "==============================================================================\n",
            "Dep. Variable:                 rprice   R-squared:                       0.246\n",
            "Model:                            OLS   Adj. R-squared:                  0.239\n",
            "Method:                 Least Squares   F-statistic:                     34.47\n",
            "Date:                Thu, 23 Jan 2025   Prob (F-statistic):           2.62e-19\n",
            "Time:                        13:40:21   Log-Likelihood:                -105.68\n",
            "No. Observations:                 321   AIC:                             219.4\n",
            "Df Residuals:                     317   BIC:                             234.4\n",
            "Df Model:                           3                                         \n",
            "Covariance Type:            nonrobust                                         \n",
            "================================================================================\n",
            "                   coef    std err          t      P>|t|      [0.025      0.975]\n",
            "--------------------------------------------------------------------------------\n",
            "intercept       11.2854      0.031    369.839      0.000      11.225      11.345\n",
            "nearinc         -0.3399      0.055     -6.231      0.000      -0.447      -0.233\n",
            "year[1981]       0.1931      0.045      4.261      0.000       0.104       0.282\n",
            "nearinc:year    -0.0626      0.083     -0.751      0.453      -0.227       0.102\n",
            "==============================================================================\n",
            "Omnibus:                       29.462   Durbin-Watson:                   1.568\n",
            "Prob(Omnibus):                  0.000   Jarque-Bera (JB):               84.380\n",
            "Skew:                           0.370   Prob(JB):                     4.75e-19\n",
            "Kurtosis:                       5.400   Cond. No.                         6.05\n",
            "==============================================================================\n",
            "\n",
            "Notes:\n",
            "[1] Standard Errors assume that the covariance matrix of the errors is correctly specified.\n"
          ]
        }
      ],
      "source": [
        "# 3. ModelSpec-Based Design Matrix Approach : using MS()\n",
        "import ISLP\n",
        "from ISLP.models import (ModelSpec as MS, summarize,poly)\n",
        "kielmc = woo.dataWoo('kielmc')\n",
        "\n",
        "kielmc['year'] = kielmc['year'].astype('category')\n",
        "spec = MS(['nearinc', 'year', ('nearinc', 'year')],  categorical_features='year', categorical_encoders={} )\n",
        "X = spec.fit_transform(kielmc)\n",
        "y = np.log(kielmc['rprice'])\n",
        "results_did_ms = sm.OLS(y, X).fit()\n",
        "\n",
        "print(summarize(results_did_ms))\n",
        "print(results_did_ms.summary())\n"
      ]
    },
    {
      "cell_type": "code",
      "execution_count": null,
      "id": "4a882cbf-e13e-4787-97d2-2ed0e5238139",
      "metadata": {
        "id": "4a882cbf-e13e-4787-97d2-2ed0e5238139",
        "outputId": "f43f73f6-fb3c-4e9a-be2e-c62fe714989c"
      },
      "outputs": [
        {
          "data": {
            "image/png": "[encoded data removed]",
            "text/plain": [
              "<Figure size 640x480 with 1 Axes>"
            ]
          },
          "metadata": {},
          "output_type": "display_data"
        }
      ],
      "source": [
        "import matplotlib.pyplot as plt\n",
        "import seaborn as sns\n",
        "\n",
        "summary = kielmc.groupby(['year', 'nearinc'], observed=False)['rprice'].mean().reset_index()\n",
        "summary['log_rprice'] = np.log(summary['rprice'])\n",
        "sns.lineplot(data=summary, x='year', y='log_rprice', hue='nearinc', marker='o')\n",
        "plt.grid()"
      ]
    },
    {
      "cell_type": "markdown",
      "id": "8ed15aa7-d60c-460f-9eea-bb76d8650992",
      "metadata": {
        "id": "8ed15aa7-d60c-460f-9eea-bb76d8650992"
      },
      "source": [
        "# Report:\n"
      ]
    },
    {
      "cell_type": "markdown",
      "id": "90485a79-5838-411b-ad70-0f5f97f9e6ce",
      "metadata": {
        "id": "90485a79-5838-411b-ad70-0f5f97f9e6ce"
      },
      "source": [
        "\n",
        "- Proximity to the Incinerator (nearinc):\n",
        "Properties located near the incinerator have log(prices) approximately 34%(28.8% after exponentiating) lower than those farther away.\n",
        "\n",
        "\n",
        "- Effect of the Year 1981 (y81):\n",
        "Property log(prices) increased by 19.3% (21.3% after exponentiating) from 1978 to 1981, regardless of proximity to the incinerator (p < 0.001).\n",
        "\n",
        "- Interaction Term (y81 × nearinc):\n",
        "There is no significant difference in the rate of price change over time between properties near the incinerator and those farther away (p = 0.453).\n",
        "(Interaction effect is not statistically significant.)\n",
        "\n",
        "**DID Conclusion**:\n",
        "\n",
        "While proximity to the incinerator significantly reduces property values overall, the rate of price change over time does not differ meaningfully between treated (near the incinerator) and control (farther away) groups."
      ]
    },
    {
      "cell_type": "code",
      "execution_count": null,
      "id": "08afdf34-05ae-4156-b0cf-8b95f56ac558",
      "metadata": {
        "id": "08afdf34-05ae-4156-b0cf-8b95f56ac558"
      },
      "outputs": [],
      "source": []
    }
  ],
  "metadata": {
    "colab": {
      "provenance": [],
      "include_colab_link": true
    },
    "kernelspec": {
      "display_name": "Python 3 (ipykernel)",
      "language": "python",
      "name": "python3"
    },
    "language_info": {
      "codemirror_mode": {
        "name": "ipython",
        "version": 3
      },
      "file_extension": ".py",
      "mimetype": "text/x-python",
      "name": "python",
      "nbconvert_exporter": "python",
      "pygments_lexer": "ipython3",
      "version": "3.12.4"
    }
  },
  "nbformat": 4,
  "nbformat_minor": 5
}