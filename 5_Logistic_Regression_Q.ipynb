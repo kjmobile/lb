{
 "cells": [
  {
   "cell_type": "markdown",
   "metadata": {
    "colab_type": "text",
    "id": "view-in-github"
   },
   "source": [
    "<a href=\"https://colab.research.google.com/github/kjmobile/lb/blob/main/5_Logistic_Regression_Q.ipynb\" target=\"_parent\"><img src=\"https://colab.research.google.com/assets/colab-badge.svg\" alt=\"Open In Colab\"/></a>"
   ]
  },
  {
   "cell_type": "markdown",
   "metadata": {
    "id": "gN5IvKAl_R-D"
   },
   "source": [
    "## 1 Libraries\n"
   ]
  },
  {
   "cell_type": "code",
   "execution_count": 96,
   "metadata": {
    "id": "IfQmPgTCdZU8"
   },
   "outputs": [],
   "source": [
    "import numpy as np\n",
    "import pandas as pd\n",
    "import matplotlib.pyplot as plt\n",
    "import seaborn as sns"
   ]
  },
  {
   "cell_type": "markdown",
   "metadata": {
    "id": "A3OxSvTpfeeO"
   },
   "source": [
    "-  1.1. Logistic Function (aka, Sigmoid Function) :  \n",
    "$$P(y=1|X) = \\frac{1}{1+e^{-z}}$$\n",
    "\n",
    "\n",
    "$$\\text where $$\n",
    "\n",
    "$$ z = \\beta_0 + \\beta_1X$$"
   ]
  },
  {
   "cell_type": "markdown",
   "metadata": {
    "id": "s12ZiArw_471"
   },
   "source": [
    "## 2 Import Dataset, titanic"
   ]
  },
  {
   "cell_type": "code",
   "execution_count": null,
   "metadata": {
    "id": "gzjrXZsohZDH"
   },
   "outputs": [],
   "source": [
    "# prompt: get titanic dataset from sns\n",
    "data=pd.read_csv(\"https://raw.githubusercontent.com/kjmobile/data/main/ml/titanic.csv\")"
   ]
  },
  {
   "cell_type": "code",
   "execution_count": null,
   "metadata": {
    "id": "Md-zkG31BIkX"
   },
   "outputs": [],
   "source": [
    "data.head(2)"
   ]
  },
  {
   "cell_type": "markdown",
   "metadata": {
    "id": "fsBV0t9YBVgh"
   },
   "source": [
    "## 3 Checking titanic"
   ]
  },
  {
   "cell_type": "code",
   "execution_count": null,
   "metadata": {
    "id": "07HNMdBqBlcr"
   },
   "outputs": [],
   "source": [
    "data.info()"
   ]
  },
  {
   "cell_type": "code",
   "execution_count": null,
   "metadata": {
    "id": "cWJcVnH2Boeb"
   },
   "outputs": [],
   "source": [
    "data.corr(numeric_only=True)"
   ]
  },
  {
   "cell_type": "code",
   "execution_count": null,
   "metadata": {
    "id": "G2Yd6aU-BybE"
   },
   "outputs": [],
   "source": [
    "sns.heatmap(data.corr(numeric_only=True), cmap='coolwarm', annot=True)"
   ]
  },
  {
   "cell_type": "markdown",
   "metadata": {
    "id": "eToZPcZrBzbE"
   },
   "source": [
    "## 4 Preprocessing: Converting Categorical Variables (Dummy Variables and One-Hot Encoding)"
   ]
  },
  {
   "cell_type": "code",
   "execution_count": null,
   "metadata": {
    "id": "-hxJTWywkyl4"
   },
   "outputs": [],
   "source": [
    "data.head(2)"
   ]
  },
  {
   "cell_type": "code",
   "execution_count": null,
   "metadata": {
    "id": "ork0MnjgB9hF"
   },
   "outputs": [],
   "source": [
    "titanic = data.drop(['Name','Ticket'], axis=1)\n",
    "titanic.head()"
   ]
  },
  {
   "cell_type": "code",
   "execution_count": null,
   "metadata": {
    "id": "xT0D29X-B_5d"
   },
   "outputs": [],
   "source": [
    "# We use dummy coding (instead of one hot encoding this time by setting drop_first=True)\n",
    "titanic_dum=pd.get_dummies(titanic, columns = ['Sex','Embarked'], drop_first=True)\n"
   ]
  },
  {
   "cell_type": "code",
   "execution_count": null,
   "metadata": {
    "id": "C1awWDAIp98S"
   },
   "outputs": [],
   "source": [
    "titanic_dum"
   ]
  },
  {
   "cell_type": "markdown",
   "metadata": {
    "id": "NFxx9yUaCEmB"
   },
   "source": [
    "## 5 Modeling and Predicting"
   ]
  },
  {
   "cell_type": "code",
   "execution_count": null,
   "metadata": {
    "id": "FjMUmTNICHHm"
   },
   "outputs": [],
   "source": [
    "from sklearn.model_selection import train_test_split\n",
    "\n",
    "X = titanic_dum.drop('Survived', axis = 1)\n",
    "y = titanic_dum['Survived']\n",
    "X_train, X_test, y_train, y_test = train_test_split(X, y, test_size = 0.2, random_state = 100)"
   ]
  },
  {
   "cell_type": "code",
   "execution_count": null,
   "metadata": {
    "id": "zDSLrnuFCIIX"
   },
   "outputs": [],
   "source": [
    "from sklearn.linear_model import LogisticRegression"
   ]
  },
  {
   "cell_type": "code",
   "execution_count": null,
   "metadata": {
    "id": "gfWzNOKXpxFK"
   },
   "outputs": [],
   "source": [
    "lr.fit?"
   ]
  },
  {
   "cell_type": "code",
   "execution_count": null,
   "metadata": {
    "id": "OueJXtuuq1s4"
   },
   "outputs": [],
   "source": [
    "X_train.head(2)"
   ]
  },
  {
   "cell_type": "code",
   "execution_count": null,
   "metadata": {
    "id": "iLOfTNNXCJzn"
   },
   "outputs": [],
   "source": [
    "lr = LogisticRegression()\n",
    "lr.fit(X_train, y_train)"
   ]
  },
  {
   "cell_type": "code",
   "execution_count": null,
   "metadata": {
    "id": "QrrHf3fgCKqY"
   },
   "outputs": [],
   "source": [
    "# Predict category\n",
    "pred = lr.predict(X_test)"
   ]
  },
  {
   "cell_type": "code",
   "execution_count": null,
   "metadata": {
    "id": "Eu_Eq8ACrWHQ"
   },
   "outputs": [],
   "source": [
    "# to obtain actual probablities\n",
    "lr.predict_proba(X_test)"
   ]
  },
  {
   "cell_type": "markdown",
   "metadata": {
    "id": "mWlYkDC1CLue"
   },
   "source": [
    "## 6 Evaluating Prediction Models"
   ]
  },
  {
   "cell_type": "code",
   "execution_count": null,
   "metadata": {
    "id": "y8-6L7_KCPJn"
   },
   "outputs": [],
   "source": [
    "from sklearn.metrics import accuracy_score\n",
    "accuracy_score(y_test, pred)"
   ]
  },
  {
   "cell_type": "code",
   "execution_count": null,
   "metadata": {
    "id": "eHmPAaL6CRBf"
   },
   "outputs": [],
   "source": [
    "pd.Series(lr.coef_[0], index = X.columns)"
   ]
  },
  {
   "cell_type": "markdown",
   "metadata": {
    "id": "CDbgBTyxCb1h"
   },
   "source": [
    "## 7 Apply some Feature Engineering"
   ]
  },
  {
   "cell_type": "code",
   "execution_count": null,
   "metadata": {
    "id": "GvnY5sXu_R-i"
   },
   "outputs": [],
   "source": [
    "titanic_dum.columns"
   ]
  },
  {
   "cell_type": "code",
   "execution_count": null,
   "metadata": {
    "id": "W1jZ-pkWChBp"
   },
   "outputs": [],
   "source": [
    "titanic_dum['family'] = titanic_dum['SibSp'] + titanic_dum['Parch'] # sibling & spouse + Parent & child"
   ]
  },
  {
   "cell_type": "code",
   "execution_count": null,
   "metadata": {
    "id": "kOFXr2gXCjBr"
   },
   "outputs": [],
   "source": [
    "titanic_dum.head()"
   ]
  },
  {
   "cell_type": "code",
   "execution_count": null,
   "metadata": {
    "id": "6hAhfzELCkTq"
   },
   "outputs": [],
   "source": [
    "# Dose the prediction accuracy improved by 'engineering' \"family variable?\"\n",
    "X = titanic_dum.drop(['Survived','SibSp','Parch'], axis = 1)\n",
    "y = titanic_dum['Survived']\n",
    "X_train, X_test, y_train, y_test = train_test_split(X, y, test_size = 0.2, random_state = 100)\n",
    "lr = LogisticRegression()\n",
    "lr.fit(X_train, y_train)\n",
    "pred = lr.predict(X_test)\n",
    "accuracy_score(y_test, pred)"
   ]
  },
  {
   "cell_type": "code",
   "execution_count": null,
   "metadata": {
    "id": "x-08onRZIIDL"
   },
   "outputs": [],
   "source": [
    "# visualize the predicted performance: pink (false positive) and black (fasle nagative) bars represents incorrect prediction\n",
    "\n",
    "import matplotlib.pyplot as plt\n",
    "\n",
    "plt.figure(figsize=(16, 1))\n",
    "\n",
    "plt.bar(range(len(y_test)), y_test+1, label='actual+1', color='black')\n",
    "plt.bar(range(len(pred)), (pred+1), label='pred+1', color='red', alpha=0.5)\n",
    "\n",
    "plt.xlabel('Index')\n",
    "plt.ylabel('Value')\n",
    "plt.title('Comparison of pred vs actual (y_test)')\n",
    "plt.legend(ncol=3, loc=(0,1.01))\n",
    "plt.show()\n"
   ]
  }
 ],
 "metadata": {
  "colab": {
   "collapsed_sections": [
    "gN5IvKAl_R-D",
    "s12ZiArw_471",
    "fsBV0t9YBVgh",
    "eToZPcZrBzbE",
    "NFxx9yUaCEmB",
    "mWlYkDC1CLue",
    "CDbgBTyxCb1h"
   ],
   "include_colab_link": true,
   "provenance": []
  },
  "kernelspec": {
   "display_name": "Python 3 (ipykernel)",
   "language": "python",
   "name": "python3"
  },
  "language_info": {
   "codemirror_mode": {
    "name": "ipython",
    "version": 3
   },
   "file_extension": ".py",
   "mimetype": "text/x-python",
   "name": "python",
   "nbconvert_exporter": "python",
   "pygments_lexer": "ipython3",
   "version": "3.12.3"
  }
 },
 "nbformat": 4,
 "nbformat_minor": 4
}
