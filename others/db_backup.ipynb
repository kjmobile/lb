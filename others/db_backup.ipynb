{
 "cells": [
  {
   "cell_type": "code",
   "execution_count": 1,
   "id": "1f89a472-4cd9-4d2a-8a2e-5b35850c31fe",
   "metadata": {},
   "outputs": [
    {
     "name": "stdout",
     "output_type": "stream",
     "text": [
      "Found 9 tables to backup:\n",
      "- aircraft\n",
      "- airlines\n",
      "- airports\n",
      "- bookings\n",
      "- flights\n",
      "- flights_delay\n",
      "- passengers\n",
      "- seat_map\n",
      "- tickets\n",
      "Backing up table: aircraft\n"
     ]
    },
    {
     "name": "stderr",
     "output_type": "stream",
     "text": [
      "C:\\Users\\leek27\\OneDrive - Embry-Riddle Aeronautical University\\0BA_320\\Lab_BA320\\lb\\others\\mysql_to_sqlite_backup.py:33: UserWarning: pandas only supports SQLAlchemy connectable (engine/connection) or database string URI or sqlite3 DBAPI2 connection. Other DBAPI2 objects are not tested. Please consider using SQLAlchemy.\n",
      "  df = pd.read_sql(f\"SELECT * FROM {table_name}\", mysql_conn)\n"
     ]
    },
    {
     "name": "stdout",
     "output_type": "stream",
     "text": [
      "✓ aircraft: 10 rows copied\n",
      "Backing up table: airlines\n",
      "✓ airlines: 15 rows copied\n",
      "Backing up table: airports\n",
      "✓ airports: 15 rows copied\n",
      "Backing up table: bookings\n",
      "✓ bookings: 310 rows copied\n",
      "Backing up table: flights\n",
      "✓ flights: 215 rows copied\n",
      "Backing up table: flights_delay\n",
      "✓ flights_delay: 500 rows copied\n",
      "Backing up table: passengers\n",
      "✓ passengers: 1015 rows copied\n",
      "Backing up table: seat_map\n",
      "✓ seat_map: 0 rows copied\n",
      "Backing up table: tickets\n",
      "✓ tickets: 10 rows copied\n",
      "\n",
      "Backup completed! File saved as: airline_db.sqlite\n",
      "You can open this file with DB Browser for SQLite or any SQLite client.\n"
     ]
    },
    {
     "name": "stderr",
     "output_type": "stream",
     "text": [
      "C:\\Users\\leek27\\OneDrive - Embry-Riddle Aeronautical University\\0BA_320\\Lab_BA320\\lb\\others\\mysql_to_sqlite_backup.py:33: UserWarning: pandas only supports SQLAlchemy connectable (engine/connection) or database string URI or sqlite3 DBAPI2 connection. Other DBAPI2 objects are not tested. Please consider using SQLAlchemy.\n",
      "  df = pd.read_sql(f\"SELECT * FROM {table_name}\", mysql_conn)\n"
     ]
    }
   ],
   "source": [
    "%run mysql_to_sqlite_backup.py"
   ]
  },
  {
   "cell_type": "code",
   "execution_count": null,
   "id": "782d9215-30bd-4aed-87c4-a69cb97dd3db",
   "metadata": {},
   "outputs": [],
   "source": []
  }
 ],
 "metadata": {
  "kernelspec": {
   "display_name": "Python 3 (ipykernel)",
   "language": "python",
   "name": "python3"
  },
  "language_info": {
   "codemirror_mode": {
    "name": "ipython",
    "version": 3
   },
   "file_extension": ".py",
   "mimetype": "text/x-python",
   "name": "python",
   "nbconvert_exporter": "python",
   "pygments_lexer": "ipython3",
   "version": "3.12.3"
  }
 },
 "nbformat": 4,
 "nbformat_minor": 5
}
