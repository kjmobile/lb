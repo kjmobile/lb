{
  "cells": [
    {
      "cell_type": "markdown",
      "metadata": {
        "id": "view-in-github",
        "colab_type": "text"
      },
      "source": [
        "<a href=\"https://colab.research.google.com/github/kjmobile/lb/blob/main/Ch10_deeplearning_lab_Part1_A_GPU_Colab_cleaned.ipynb\" target=\"_parent\"><img src=\"https://colab.research.google.com/assets/colab-badge.svg\" alt=\"Open In Colab\"/></a>"
      ]
    },
    {
      "cell_type": "markdown",
      "id": "5afc399d",
      "metadata": {
        "id": "5afc399d"
      },
      "source": [
        "# Deep Learning\n"
      ]
    },
    {
      "cell_type": "code",
      "source": [
        "!pip install --upgrade pip\n",
        "!pip install torchinfo torchvision torchmetrics\n",
        "!pip install pytorch_lightning\n",
        "!pip install islp"
      ],
      "metadata": {
        "colab": {
          "base_uri": "https://localhost:8080/"
        },
        "id": "EKatKWsqKILo",
        "outputId": "84062129-f85d-4abf-c7cd-36710add79e1"
      },
      "id": "EKatKWsqKILo",
      "execution_count": null,
      "outputs": [
        {
          "output_type": "stream",
          "name": "stdout",
          "text": [
            "Requirement already satisfied: pip in /usr/local/lib/python3.11/dist-packages (24.1.2)\n",
            "Collecting pip\n",
            "  Downloading pip-25.0.1-py3-none-any.whl.metadata (3.7 kB)\n",
            "Downloading pip-25.0.1-py3-none-any.whl (1.8 MB)\n",
            "\u001b[2K   \u001b[90m━━━━━━━━━━━━━━━━━━━━━━━━━━━━━━━━━━━━━━━━\u001b[0m \u001b[32m1.8/1.8 MB\u001b[0m \u001b[31m63.8 MB/s\u001b[0m eta \u001b[36m0:00:00\u001b[0m\n",
            "\u001b[?25hInstalling collected packages: pip\n",
            "  Attempting uninstall: pip\n",
            "    Found existing installation: pip 24.1.2\n",
            "    Uninstalling pip-24.1.2:\n",
            "      Successfully uninstalled pip-24.1.2\n",
            "Successfully installed pip-25.0.1\n",
            "Collecting torchinfo\n",
            "  Downloading torchinfo-1.8.0-py3-none-any.whl.metadata (21 kB)\n",
            "Requirement already satisfied: torchvision in /usr/local/lib/python3.11/dist-packages (0.20.1+cu124)\n",
            "Collecting torchmetrics\n",
            "  Downloading torchmetrics-1.7.0-py3-none-any.whl.metadata (21 kB)\n",
            "Requirement already satisfied: numpy in /usr/local/lib/python3.11/dist-packages (from torchvision) (1.26.4)\n",
            "Requirement already satisfied: torch==2.5.1 in /usr/local/lib/python3.11/dist-packages (from torchvision) (2.5.1+cu124)\n",
            "Requirement already satisfied: pillow!=8.3.*,>=5.3.0 in /usr/local/lib/python3.11/dist-packages (from torchvision) (11.1.0)\n",
            "Requirement already satisfied: filelock in /usr/local/lib/python3.11/dist-packages (from torch==2.5.1->torchvision) (3.17.0)\n",
            "Requirement already satisfied: typing-extensions>=4.8.0 in /usr/local/lib/python3.11/dist-packages (from torch==2.5.1->torchvision) (4.12.2)\n",
            "Requirement already satisfied: networkx in /usr/local/lib/python3.11/dist-packages (from torch==2.5.1->torchvision) (3.4.2)\n",
            "Requirement already satisfied: jinja2 in /usr/local/lib/python3.11/dist-packages (from torch==2.5.1->torchvision) (3.1.5)\n",
            "Requirement already satisfied: fsspec in /usr/local/lib/python3.11/dist-packages (from torch==2.5.1->torchvision) (2024.10.0)\n",
            "Collecting nvidia-cuda-nvrtc-cu12==12.4.127 (from torch==2.5.1->torchvision)\n",
            "  Downloading nvidia_cuda_nvrtc_cu12-12.4.127-py3-none-manylinux2014_x86_64.whl.metadata (1.5 kB)\n",
            "Collecting nvidia-cuda-runtime-cu12==12.4.127 (from torch==2.5.1->torchvision)\n",
            "  Downloading nvidia_cuda_runtime_cu12-12.4.127-py3-none-manylinux2014_x86_64.whl.metadata (1.5 kB)\n",
            "Collecting nvidia-cuda-cupti-cu12==12.4.127 (from torch==2.5.1->torchvision)\n",
            "  Downloading nvidia_cuda_cupti_cu12-12.4.127-py3-none-manylinux2014_x86_64.whl.metadata (1.6 kB)\n",
            "Collecting nvidia-cudnn-cu12==9.1.0.70 (from torch==2.5.1->torchvision)\n",
            "  Downloading nvidia_cudnn_cu12-9.1.0.70-py3-none-manylinux2014_x86_64.whl.metadata (1.6 kB)\n",
            "Collecting nvidia-cublas-cu12==12.4.5.8 (from torch==2.5.1->torchvision)\n",
            "  Downloading nvidia_cublas_cu12-12.4.5.8-py3-none-manylinux2014_x86_64.whl.metadata (1.5 kB)\n",
            "Collecting nvidia-cufft-cu12==11.2.1.3 (from torch==2.5.1->torchvision)\n",
            "  Downloading nvidia_cufft_cu12-11.2.1.3-py3-none-manylinux2014_x86_64.whl.metadata (1.5 kB)\n",
            "Collecting nvidia-curand-cu12==10.3.5.147 (from torch==2.5.1->torchvision)\n",
            "  Downloading nvidia_curand_cu12-10.3.5.147-py3-none-manylinux2014_x86_64.whl.metadata (1.5 kB)\n",
            "Collecting nvidia-cusolver-cu12==11.6.1.9 (from torch==2.5.1->torchvision)\n",
            "  Downloading nvidia_cusolver_cu12-11.6.1.9-py3-none-manylinux2014_x86_64.whl.metadata (1.6 kB)\n",
            "Collecting nvidia-cusparse-cu12==12.3.1.170 (from torch==2.5.1->torchvision)\n",
            "  Downloading nvidia_cusparse_cu12-12.3.1.170-py3-none-manylinux2014_x86_64.whl.metadata (1.6 kB)\n",
            "Requirement already satisfied: nvidia-nccl-cu12==2.21.5 in /usr/local/lib/python3.11/dist-packages (from torch==2.5.1->torchvision) (2.21.5)\n",
            "Requirement already satisfied: nvidia-nvtx-cu12==12.4.127 in /usr/local/lib/python3.11/dist-packages (from torch==2.5.1->torchvision) (12.4.127)\n",
            "Collecting nvidia-nvjitlink-cu12==12.4.127 (from torch==2.5.1->torchvision)\n",
            "  Downloading nvidia_nvjitlink_cu12-12.4.127-py3-none-manylinux2014_x86_64.whl.metadata (1.5 kB)\n",
            "Requirement already satisfied: triton==3.1.0 in /usr/local/lib/python3.11/dist-packages (from torch==2.5.1->torchvision) (3.1.0)\n",
            "Requirement already satisfied: sympy==1.13.1 in /usr/local/lib/python3.11/dist-packages (from torch==2.5.1->torchvision) (1.13.1)\n",
            "Requirement already satisfied: mpmath<1.4,>=1.1.0 in /usr/local/lib/python3.11/dist-packages (from sympy==1.13.1->torch==2.5.1->torchvision) (1.3.0)\n",
            "Requirement already satisfied: packaging>17.1 in /usr/local/lib/python3.11/dist-packages (from torchmetrics) (24.2)\n",
            "Collecting lightning-utilities>=0.8.0 (from torchmetrics)\n",
            "  Downloading lightning_utilities-0.14.2-py3-none-any.whl.metadata (5.6 kB)\n",
            "Requirement already satisfied: setuptools in /usr/local/lib/python3.11/dist-packages (from lightning-utilities>=0.8.0->torchmetrics) (75.1.0)\n",
            "Requirement already satisfied: MarkupSafe>=2.0 in /usr/local/lib/python3.11/dist-packages (from jinja2->torch==2.5.1->torchvision) (3.0.2)\n",
            "Downloading torchinfo-1.8.0-py3-none-any.whl (23 kB)\n",
            "Downloading nvidia_cublas_cu12-12.4.5.8-py3-none-manylinux2014_x86_64.whl (363.4 MB)\n",
            "\u001b[2K   \u001b[90m━━━━━━━━━━━━━━━━━━━━━━━━━━━━━━━━━━━━━━━━\u001b[0m \u001b[32m363.4/363.4 MB\u001b[0m \u001b[31m59.0 MB/s\u001b[0m eta \u001b[36m0:00:00\u001b[0m\n",
            "\u001b[?25hDownloading nvidia_cuda_cupti_cu12-12.4.127-py3-none-manylinux2014_x86_64.whl (13.8 MB)\n",
            "\u001b[2K   \u001b[90m━━━━━━━━━━━━━━━━━━━━━━━━━━━━━━━━━━━━━━━━\u001b[0m \u001b[32m13.8/13.8 MB\u001b[0m \u001b[31m123.0 MB/s\u001b[0m eta \u001b[36m0:00:00\u001b[0m\n",
            "\u001b[?25hDownloading nvidia_cuda_nvrtc_cu12-12.4.127-py3-none-manylinux2014_x86_64.whl (24.6 MB)\n",
            "\u001b[2K   \u001b[90m━━━━━━━━━━━━━━━━━━━━━━━━━━━━━━━━━━━━━━━━\u001b[0m \u001b[32m24.6/24.6 MB\u001b[0m \u001b[31m151.9 MB/s\u001b[0m eta \u001b[36m0:00:00\u001b[0m\n",
            "\u001b[?25hDownloading nvidia_cuda_runtime_cu12-12.4.127-py3-none-manylinux2014_x86_64.whl (883 kB)\n",
            "\u001b[2K   \u001b[90m━━━━━━━━━━━━━━━━━━━━━━━━━━━━━━━━━━━━━━━━\u001b[0m \u001b[32m883.7/883.7 kB\u001b[0m \u001b[31m44.7 MB/s\u001b[0m eta \u001b[36m0:00:00\u001b[0m\n",
            "\u001b[?25hDownloading nvidia_cudnn_cu12-9.1.0.70-py3-none-manylinux2014_x86_64.whl (664.8 MB)\n",
            "\u001b[2K   \u001b[90m━━━━━━━━━━━━━━━━━━━━━━━━━━━━━━━━━━━━━━━━\u001b[0m \u001b[32m664.8/664.8 MB\u001b[0m \u001b[31m37.0 MB/s\u001b[0m eta \u001b[36m0:00:00\u001b[0m\n",
            "\u001b[?25hDownloading nvidia_cufft_cu12-11.2.1.3-py3-none-manylinux2014_x86_64.whl (211.5 MB)\n",
            "\u001b[2K   \u001b[90m━━━━━━━━━━━━━━━━━━━━━━━━━━━━━━━━━━━━━━━━\u001b[0m \u001b[32m211.5/211.5 MB\u001b[0m \u001b[31m103.5 MB/s\u001b[0m eta \u001b[36m0:00:00\u001b[0m\n",
            "\u001b[?25hDownloading nvidia_curand_cu12-10.3.5.147-py3-none-manylinux2014_x86_64.whl (56.3 MB)\n",
            "\u001b[2K   \u001b[90m━━━━━━━━━━━━━━━━━━━━━━━━━━━━━━━━━━━━━━━━\u001b[0m \u001b[32m56.3/56.3 MB\u001b[0m \u001b[31m135.6 MB/s\u001b[0m eta \u001b[36m0:00:00\u001b[0m\n",
            "\u001b[?25hDownloading nvidia_cusolver_cu12-11.6.1.9-py3-none-manylinux2014_x86_64.whl (127.9 MB)\n",
            "\u001b[2K   \u001b[90m━━━━━━━━━━━━━━━━━━━━━━━━━━━━━━━━━━━━━━━━\u001b[0m \u001b[32m127.9/127.9 MB\u001b[0m \u001b[31m60.7 MB/s\u001b[0m eta \u001b[36m0:00:00\u001b[0m\n",
            "\u001b[?25hDownloading nvidia_cusparse_cu12-12.3.1.170-py3-none-manylinux2014_x86_64.whl (207.5 MB)\n",
            "\u001b[2K   \u001b[90m━━━━━━━━━━━━━━━━━━━━━━━━━━━━━━━━━━━━━━━━\u001b[0m \u001b[32m207.5/207.5 MB\u001b[0m \u001b[31m68.5 MB/s\u001b[0m eta \u001b[36m0:00:00\u001b[0m\n",
            "\u001b[?25hDownloading nvidia_nvjitlink_cu12-12.4.127-py3-none-manylinux2014_x86_64.whl (21.1 MB)\n",
            "\u001b[2K   \u001b[90m━━━━━━━━━━━━━━━━━━━━━━━━━━━━━━━━━━━━━━━━\u001b[0m \u001b[32m21.1/21.1 MB\u001b[0m \u001b[31m147.3 MB/s\u001b[0m eta \u001b[36m0:00:00\u001b[0m\n",
            "\u001b[?25hDownloading torchmetrics-1.7.0-py3-none-any.whl (960 kB)\n",
            "\u001b[2K   \u001b[90m━━━━━━━━━━━━━━━━━━━━━━━━━━━━━━━━━━━━━━━━\u001b[0m \u001b[32m960.9/960.9 kB\u001b[0m \u001b[31m50.2 MB/s\u001b[0m eta \u001b[36m0:00:00\u001b[0m\n",
            "\u001b[?25hDownloading lightning_utilities-0.14.2-py3-none-any.whl (28 kB)\n",
            "Installing collected packages: torchinfo, nvidia-nvjitlink-cu12, nvidia-curand-cu12, nvidia-cufft-cu12, nvidia-cuda-runtime-cu12, nvidia-cuda-nvrtc-cu12, nvidia-cuda-cupti-cu12, nvidia-cublas-cu12, lightning-utilities, nvidia-cusparse-cu12, nvidia-cudnn-cu12, nvidia-cusolver-cu12, torchmetrics\n",
            "  Attempting uninstall: nvidia-nvjitlink-cu12\n",
            "    Found existing installation: nvidia-nvjitlink-cu12 12.5.82\n",
            "    Uninstalling nvidia-nvjitlink-cu12-12.5.82:\n",
            "      Successfully uninstalled nvidia-nvjitlink-cu12-12.5.82\n",
            "  Attempting uninstall: nvidia-curand-cu12\n",
            "    Found existing installation: nvidia-curand-cu12 10.3.6.82\n",
            "    Uninstalling nvidia-curand-cu12-10.3.6.82:\n",
            "      Successfully uninstalled nvidia-curand-cu12-10.3.6.82\n",
            "  Attempting uninstall: nvidia-cufft-cu12\n",
            "    Found existing installation: nvidia-cufft-cu12 11.2.3.61\n",
            "    Uninstalling nvidia-cufft-cu12-11.2.3.61:\n",
            "      Successfully uninstalled nvidia-cufft-cu12-11.2.3.61\n",
            "  Attempting uninstall: nvidia-cuda-runtime-cu12\n",
            "    Found existing installation: nvidia-cuda-runtime-cu12 12.5.82\n",
            "    Uninstalling nvidia-cuda-runtime-cu12-12.5.82:\n",
            "      Successfully uninstalled nvidia-cuda-runtime-cu12-12.5.82\n",
            "  Attempting uninstall: nvidia-cuda-nvrtc-cu12\n",
            "    Found existing installation: nvidia-cuda-nvrtc-cu12 12.5.82\n",
            "    Uninstalling nvidia-cuda-nvrtc-cu12-12.5.82:\n",
            "      Successfully uninstalled nvidia-cuda-nvrtc-cu12-12.5.82\n",
            "  Attempting uninstall: nvidia-cuda-cupti-cu12\n",
            "    Found existing installation: nvidia-cuda-cupti-cu12 12.5.82\n",
            "    Uninstalling nvidia-cuda-cupti-cu12-12.5.82:\n",
            "      Successfully uninstalled nvidia-cuda-cupti-cu12-12.5.82\n",
            "  Attempting uninstall: nvidia-cublas-cu12\n",
            "    Found existing installation: nvidia-cublas-cu12 12.5.3.2\n",
            "    Uninstalling nvidia-cublas-cu12-12.5.3.2:\n",
            "      Successfully uninstalled nvidia-cublas-cu12-12.5.3.2\n",
            "  Attempting uninstall: nvidia-cusparse-cu12\n",
            "    Found existing installation: nvidia-cusparse-cu12 12.5.1.3\n",
            "    Uninstalling nvidia-cusparse-cu12-12.5.1.3:\n",
            "      Successfully uninstalled nvidia-cusparse-cu12-12.5.1.3\n",
            "  Attempting uninstall: nvidia-cudnn-cu12\n",
            "    Found existing installation: nvidia-cudnn-cu12 9.3.0.75\n",
            "    Uninstalling nvidia-cudnn-cu12-9.3.0.75:\n",
            "      Successfully uninstalled nvidia-cudnn-cu12-9.3.0.75\n",
            "  Attempting uninstall: nvidia-cusolver-cu12\n",
            "    Found existing installation: nvidia-cusolver-cu12 11.6.3.83\n",
            "    Uninstalling nvidia-cusolver-cu12-11.6.3.83:\n",
            "      Successfully uninstalled nvidia-cusolver-cu12-11.6.3.83\n",
            "Successfully installed lightning-utilities-0.14.2 nvidia-cublas-cu12-12.4.5.8 nvidia-cuda-cupti-cu12-12.4.127 nvidia-cuda-nvrtc-cu12-12.4.127 nvidia-cuda-runtime-cu12-12.4.127 nvidia-cudnn-cu12-9.1.0.70 nvidia-cufft-cu12-11.2.1.3 nvidia-curand-cu12-10.3.5.147 nvidia-cusolver-cu12-11.6.1.9 nvidia-cusparse-cu12-12.3.1.170 nvidia-nvjitlink-cu12-12.4.127 torchinfo-1.8.0 torchmetrics-1.7.0\n",
            "Collecting pytorch_lightning\n",
            "  Downloading pytorch_lightning-2.5.1-py3-none-any.whl.metadata (20 kB)\n",
            "Requirement already satisfied: torch>=2.1.0 in /usr/local/lib/python3.11/dist-packages (from pytorch_lightning) (2.5.1+cu124)\n",
            "Requirement already satisfied: tqdm>=4.57.0 in /usr/local/lib/python3.11/dist-packages (from pytorch_lightning) (4.67.1)\n",
            "Requirement already satisfied: PyYAML>=5.4 in /usr/local/lib/python3.11/dist-packages (from pytorch_lightning) (6.0.2)\n",
            "Requirement already satisfied: fsspec>=2022.5.0 in /usr/local/lib/python3.11/dist-packages (from fsspec[http]>=2022.5.0->pytorch_lightning) (2024.10.0)\n",
            "Requirement already satisfied: torchmetrics>=0.7.0 in /usr/local/lib/python3.11/dist-packages (from pytorch_lightning) (1.7.0)\n",
            "Requirement already satisfied: packaging>=20.0 in /usr/local/lib/python3.11/dist-packages (from pytorch_lightning) (24.2)\n",
            "Requirement already satisfied: typing-extensions>=4.4.0 in /usr/local/lib/python3.11/dist-packages (from pytorch_lightning) (4.12.2)\n",
            "Requirement already satisfied: lightning-utilities>=0.10.0 in /usr/local/lib/python3.11/dist-packages (from pytorch_lightning) (0.14.2)\n",
            "Requirement already satisfied: aiohttp!=4.0.0a0,!=4.0.0a1 in /usr/local/lib/python3.11/dist-packages (from fsspec[http]>=2022.5.0->pytorch_lightning) (3.11.13)\n",
            "Requirement already satisfied: setuptools in /usr/local/lib/python3.11/dist-packages (from lightning-utilities>=0.10.0->pytorch_lightning) (75.1.0)\n",
            "Requirement already satisfied: filelock in /usr/local/lib/python3.11/dist-packages (from torch>=2.1.0->pytorch_lightning) (3.17.0)\n",
            "Requirement already satisfied: networkx in /usr/local/lib/python3.11/dist-packages (from torch>=2.1.0->pytorch_lightning) (3.4.2)\n",
            "Requirement already satisfied: jinja2 in /usr/local/lib/python3.11/dist-packages (from torch>=2.1.0->pytorch_lightning) (3.1.5)\n",
            "Requirement already satisfied: nvidia-cuda-nvrtc-cu12==12.4.127 in /usr/local/lib/python3.11/dist-packages (from torch>=2.1.0->pytorch_lightning) (12.4.127)\n",
            "Requirement already satisfied: nvidia-cuda-runtime-cu12==12.4.127 in /usr/local/lib/python3.11/dist-packages (from torch>=2.1.0->pytorch_lightning) (12.4.127)\n",
            "Requirement already satisfied: nvidia-cuda-cupti-cu12==12.4.127 in /usr/local/lib/python3.11/dist-packages (from torch>=2.1.0->pytorch_lightning) (12.4.127)\n",
            "Requirement already satisfied: nvidia-cudnn-cu12==9.1.0.70 in /usr/local/lib/python3.11/dist-packages (from torch>=2.1.0->pytorch_lightning) (9.1.0.70)\n",
            "Requirement already satisfied: nvidia-cublas-cu12==12.4.5.8 in /usr/local/lib/python3.11/dist-packages (from torch>=2.1.0->pytorch_lightning) (12.4.5.8)\n",
            "Requirement already satisfied: nvidia-cufft-cu12==11.2.1.3 in /usr/local/lib/python3.11/dist-packages (from torch>=2.1.0->pytorch_lightning) (11.2.1.3)\n",
            "Requirement already satisfied: nvidia-curand-cu12==10.3.5.147 in /usr/local/lib/python3.11/dist-packages (from torch>=2.1.0->pytorch_lightning) (10.3.5.147)\n",
            "Requirement already satisfied: nvidia-cusolver-cu12==11.6.1.9 in /usr/local/lib/python3.11/dist-packages (from torch>=2.1.0->pytorch_lightning) (11.6.1.9)\n",
            "Requirement already satisfied: nvidia-cusparse-cu12==12.3.1.170 in /usr/local/lib/python3.11/dist-packages (from torch>=2.1.0->pytorch_lightning) (12.3.1.170)\n",
            "Requirement already satisfied: nvidia-nccl-cu12==2.21.5 in /usr/local/lib/python3.11/dist-packages (from torch>=2.1.0->pytorch_lightning) (2.21.5)\n",
            "Requirement already satisfied: nvidia-nvtx-cu12==12.4.127 in /usr/local/lib/python3.11/dist-packages (from torch>=2.1.0->pytorch_lightning) (12.4.127)\n",
            "Requirement already satisfied: nvidia-nvjitlink-cu12==12.4.127 in /usr/local/lib/python3.11/dist-packages (from torch>=2.1.0->pytorch_lightning) (12.4.127)\n",
            "Requirement already satisfied: triton==3.1.0 in /usr/local/lib/python3.11/dist-packages (from torch>=2.1.0->pytorch_lightning) (3.1.0)\n",
            "Requirement already satisfied: sympy==1.13.1 in /usr/local/lib/python3.11/dist-packages (from torch>=2.1.0->pytorch_lightning) (1.13.1)\n",
            "Requirement already satisfied: mpmath<1.4,>=1.1.0 in /usr/local/lib/python3.11/dist-packages (from sympy==1.13.1->torch>=2.1.0->pytorch_lightning) (1.3.0)\n",
            "Requirement already satisfied: numpy>1.20.0 in /usr/local/lib/python3.11/dist-packages (from torchmetrics>=0.7.0->pytorch_lightning) (1.26.4)\n",
            "Requirement already satisfied: aiohappyeyeballs>=2.3.0 in /usr/local/lib/python3.11/dist-packages (from aiohttp!=4.0.0a0,!=4.0.0a1->fsspec[http]>=2022.5.0->pytorch_lightning) (2.4.6)\n",
            "Requirement already satisfied: aiosignal>=1.1.2 in /usr/local/lib/python3.11/dist-packages (from aiohttp!=4.0.0a0,!=4.0.0a1->fsspec[http]>=2022.5.0->pytorch_lightning) (1.3.2)\n",
            "Requirement already satisfied: attrs>=17.3.0 in /usr/local/lib/python3.11/dist-packages (from aiohttp!=4.0.0a0,!=4.0.0a1->fsspec[http]>=2022.5.0->pytorch_lightning) (25.1.0)\n",
            "Requirement already satisfied: frozenlist>=1.1.1 in /usr/local/lib/python3.11/dist-packages (from aiohttp!=4.0.0a0,!=4.0.0a1->fsspec[http]>=2022.5.0->pytorch_lightning) (1.5.0)\n",
            "Requirement already satisfied: multidict<7.0,>=4.5 in /usr/local/lib/python3.11/dist-packages (from aiohttp!=4.0.0a0,!=4.0.0a1->fsspec[http]>=2022.5.0->pytorch_lightning) (6.1.0)\n",
            "Requirement already satisfied: propcache>=0.2.0 in /usr/local/lib/python3.11/dist-packages (from aiohttp!=4.0.0a0,!=4.0.0a1->fsspec[http]>=2022.5.0->pytorch_lightning) (0.3.0)\n",
            "Requirement already satisfied: yarl<2.0,>=1.17.0 in /usr/local/lib/python3.11/dist-packages (from aiohttp!=4.0.0a0,!=4.0.0a1->fsspec[http]>=2022.5.0->pytorch_lightning) (1.18.3)\n",
            "Requirement already satisfied: MarkupSafe>=2.0 in /usr/local/lib/python3.11/dist-packages (from jinja2->torch>=2.1.0->pytorch_lightning) (3.0.2)\n",
            "Requirement already satisfied: idna>=2.0 in /usr/local/lib/python3.11/dist-packages (from yarl<2.0,>=1.17.0->aiohttp!=4.0.0a0,!=4.0.0a1->fsspec[http]>=2022.5.0->pytorch_lightning) (3.10)\n",
            "Downloading pytorch_lightning-2.5.1-py3-none-any.whl (822 kB)\n",
            "\u001b[2K   \u001b[90m━━━━━━━━━━━━━━━━━━━━━━━━━━━━━━━━━━━━━━━━\u001b[0m \u001b[32m823.0/823.0 kB\u001b[0m \u001b[31m39.4 MB/s\u001b[0m eta \u001b[36m0:00:00\u001b[0m\n",
            "\u001b[?25hInstalling collected packages: pytorch_lightning\n",
            "Successfully installed pytorch_lightning-2.5.1\n",
            "Collecting islp\n",
            "  Downloading ISLP-0.4.0-py3-none-any.whl.metadata (7.0 kB)\n",
            "Requirement already satisfied: numpy>=1.7.1 in /usr/local/lib/python3.11/dist-packages (from islp) (1.26.4)\n",
            "Requirement already satisfied: scipy>=0.9 in /usr/local/lib/python3.11/dist-packages (from islp) (1.13.1)\n",
            "Requirement already satisfied: pandas>=0.20 in /usr/local/lib/python3.11/dist-packages (from islp) (2.2.2)\n",
            "Requirement already satisfied: lxml in /usr/local/lib/python3.11/dist-packages (from islp) (5.3.1)\n",
            "Requirement already satisfied: scikit-learn>=1.2 in /usr/local/lib/python3.11/dist-packages (from islp) (1.6.1)\n",
            "Requirement already satisfied: joblib in /usr/local/lib/python3.11/dist-packages (from islp) (1.4.2)\n",
            "Requirement already satisfied: statsmodels>=0.13 in /usr/local/lib/python3.11/dist-packages (from islp) (0.14.4)\n",
            "Collecting lifelines (from islp)\n",
            "  Downloading lifelines-0.30.0-py3-none-any.whl.metadata (3.2 kB)\n",
            "Collecting pygam (from islp)\n",
            "  Downloading pygam-0.9.1-py3-none-any.whl.metadata (7.1 kB)\n",
            "Requirement already satisfied: torch in /usr/local/lib/python3.11/dist-packages (from islp) (2.5.1+cu124)\n",
            "Requirement already satisfied: pytorch-lightning in /usr/local/lib/python3.11/dist-packages (from islp) (2.5.1)\n",
            "Requirement already satisfied: torchmetrics in /usr/local/lib/python3.11/dist-packages (from islp) (1.7.0)\n",
            "Requirement already satisfied: python-dateutil>=2.8.2 in /usr/local/lib/python3.11/dist-packages (from pandas>=0.20->islp) (2.8.2)\n",
            "Requirement already satisfied: pytz>=2020.1 in /usr/local/lib/python3.11/dist-packages (from pandas>=0.20->islp) (2025.1)\n",
            "Requirement already satisfied: tzdata>=2022.7 in /usr/local/lib/python3.11/dist-packages (from pandas>=0.20->islp) (2025.1)\n",
            "Requirement already satisfied: threadpoolctl>=3.1.0 in /usr/local/lib/python3.11/dist-packages (from scikit-learn>=1.2->islp) (3.5.0)\n",
            "Requirement already satisfied: patsy>=0.5.6 in /usr/local/lib/python3.11/dist-packages (from statsmodels>=0.13->islp) (1.0.1)\n",
            "Requirement already satisfied: packaging>=21.3 in /usr/local/lib/python3.11/dist-packages (from statsmodels>=0.13->islp) (24.2)\n",
            "Requirement already satisfied: matplotlib>=3.0 in /usr/local/lib/python3.11/dist-packages (from lifelines->islp) (3.10.0)\n",
            "Requirement already satisfied: autograd>=1.5 in /usr/local/lib/python3.11/dist-packages (from lifelines->islp) (1.7.0)\n",
            "Collecting autograd-gamma>=0.3 (from lifelines->islp)\n",
            "  Downloading autograd-gamma-0.5.0.tar.gz (4.0 kB)\n",
            "  Preparing metadata (setup.py) ... \u001b[?25l\u001b[?25hdone\n",
            "Collecting formulaic>=0.2.2 (from lifelines->islp)\n",
            "  Downloading formulaic-1.1.1-py3-none-any.whl.metadata (6.9 kB)\n",
            "Requirement already satisfied: progressbar2<5.0.0,>=4.2.0 in /usr/local/lib/python3.11/dist-packages (from pygam->islp) (4.5.0)\n",
            "Collecting scipy>=0.9 (from islp)\n",
            "  Downloading scipy-1.11.4-cp311-cp311-manylinux_2_17_x86_64.manylinux2014_x86_64.whl.metadata (60 kB)\n",
            "Requirement already satisfied: tqdm>=4.57.0 in /usr/local/lib/python3.11/dist-packages (from pytorch-lightning->islp) (4.67.1)\n",
            "Requirement already satisfied: PyYAML>=5.4 in /usr/local/lib/python3.11/dist-packages (from pytorch-lightning->islp) (6.0.2)\n",
            "Requirement already satisfied: fsspec>=2022.5.0 in /usr/local/lib/python3.11/dist-packages (from fsspec[http]>=2022.5.0->pytorch-lightning->islp) (2024.10.0)\n",
            "Requirement already satisfied: typing-extensions>=4.4.0 in /usr/local/lib/python3.11/dist-packages (from pytorch-lightning->islp) (4.12.2)\n",
            "Requirement already satisfied: lightning-utilities>=0.10.0 in /usr/local/lib/python3.11/dist-packages (from pytorch-lightning->islp) (0.14.2)\n",
            "Requirement already satisfied: filelock in /usr/local/lib/python3.11/dist-packages (from torch->islp) (3.17.0)\n",
            "Requirement already satisfied: networkx in /usr/local/lib/python3.11/dist-packages (from torch->islp) (3.4.2)\n",
            "Requirement already satisfied: jinja2 in /usr/local/lib/python3.11/dist-packages (from torch->islp) (3.1.5)\n",
            "Requirement already satisfied: nvidia-cuda-nvrtc-cu12==12.4.127 in /usr/local/lib/python3.11/dist-packages (from torch->islp) (12.4.127)\n",
            "Requirement already satisfied: nvidia-cuda-runtime-cu12==12.4.127 in /usr/local/lib/python3.11/dist-packages (from torch->islp) (12.4.127)\n",
            "Requirement already satisfied: nvidia-cuda-cupti-cu12==12.4.127 in /usr/local/lib/python3.11/dist-packages (from torch->islp) (12.4.127)\n",
            "Requirement already satisfied: nvidia-cudnn-cu12==9.1.0.70 in /usr/local/lib/python3.11/dist-packages (from torch->islp) (9.1.0.70)\n",
            "Requirement already satisfied: nvidia-cublas-cu12==12.4.5.8 in /usr/local/lib/python3.11/dist-packages (from torch->islp) (12.4.5.8)\n",
            "Requirement already satisfied: nvidia-cufft-cu12==11.2.1.3 in /usr/local/lib/python3.11/dist-packages (from torch->islp) (11.2.1.3)\n",
            "Requirement already satisfied: nvidia-curand-cu12==10.3.5.147 in /usr/local/lib/python3.11/dist-packages (from torch->islp) (10.3.5.147)\n",
            "Requirement already satisfied: nvidia-cusolver-cu12==11.6.1.9 in /usr/local/lib/python3.11/dist-packages (from torch->islp) (11.6.1.9)\n",
            "Requirement already satisfied: nvidia-cusparse-cu12==12.3.1.170 in /usr/local/lib/python3.11/dist-packages (from torch->islp) (12.3.1.170)\n",
            "Requirement already satisfied: nvidia-nccl-cu12==2.21.5 in /usr/local/lib/python3.11/dist-packages (from torch->islp) (2.21.5)\n",
            "Requirement already satisfied: nvidia-nvtx-cu12==12.4.127 in /usr/local/lib/python3.11/dist-packages (from torch->islp) (12.4.127)\n",
            "Requirement already satisfied: nvidia-nvjitlink-cu12==12.4.127 in /usr/local/lib/python3.11/dist-packages (from torch->islp) (12.4.127)\n",
            "Requirement already satisfied: triton==3.1.0 in /usr/local/lib/python3.11/dist-packages (from torch->islp) (3.1.0)\n",
            "Requirement already satisfied: sympy==1.13.1 in /usr/local/lib/python3.11/dist-packages (from torch->islp) (1.13.1)\n",
            "Requirement already satisfied: mpmath<1.4,>=1.1.0 in /usr/local/lib/python3.11/dist-packages (from sympy==1.13.1->torch->islp) (1.3.0)\n",
            "Collecting interface-meta>=1.2.0 (from formulaic>=0.2.2->lifelines->islp)\n",
            "  Downloading interface_meta-1.3.0-py3-none-any.whl.metadata (6.7 kB)\n",
            "Requirement already satisfied: wrapt>=1.0 in /usr/local/lib/python3.11/dist-packages (from formulaic>=0.2.2->lifelines->islp) (1.17.2)\n",
            "Requirement already satisfied: aiohttp!=4.0.0a0,!=4.0.0a1 in /usr/local/lib/python3.11/dist-packages (from fsspec[http]>=2022.5.0->pytorch-lightning->islp) (3.11.13)\n",
            "Requirement already satisfied: setuptools in /usr/local/lib/python3.11/dist-packages (from lightning-utilities>=0.10.0->pytorch-lightning->islp) (75.1.0)\n",
            "Requirement already satisfied: contourpy>=1.0.1 in /usr/local/lib/python3.11/dist-packages (from matplotlib>=3.0->lifelines->islp) (1.3.1)\n",
            "Requirement already satisfied: cycler>=0.10 in /usr/local/lib/python3.11/dist-packages (from matplotlib>=3.0->lifelines->islp) (0.12.1)\n",
            "Requirement already satisfied: fonttools>=4.22.0 in /usr/local/lib/python3.11/dist-packages (from matplotlib>=3.0->lifelines->islp) (4.56.0)\n",
            "Requirement already satisfied: kiwisolver>=1.3.1 in /usr/local/lib/python3.11/dist-packages (from matplotlib>=3.0->lifelines->islp) (1.4.8)\n",
            "Requirement already satisfied: pillow>=8 in /usr/local/lib/python3.11/dist-packages (from matplotlib>=3.0->lifelines->islp) (11.1.0)\n",
            "Requirement already satisfied: pyparsing>=2.3.1 in /usr/local/lib/python3.11/dist-packages (from matplotlib>=3.0->lifelines->islp) (3.2.1)\n",
            "Requirement already satisfied: python-utils>=3.8.1 in /usr/local/lib/python3.11/dist-packages (from progressbar2<5.0.0,>=4.2.0->pygam->islp) (3.9.1)\n",
            "Requirement already satisfied: six>=1.5 in /usr/local/lib/python3.11/dist-packages (from python-dateutil>=2.8.2->pandas>=0.20->islp) (1.17.0)\n",
            "Requirement already satisfied: MarkupSafe>=2.0 in /usr/local/lib/python3.11/dist-packages (from jinja2->torch->islp) (3.0.2)\n",
            "Requirement already satisfied: aiohappyeyeballs>=2.3.0 in /usr/local/lib/python3.11/dist-packages (from aiohttp!=4.0.0a0,!=4.0.0a1->fsspec[http]>=2022.5.0->pytorch-lightning->islp) (2.4.6)\n",
            "Requirement already satisfied: aiosignal>=1.1.2 in /usr/local/lib/python3.11/dist-packages (from aiohttp!=4.0.0a0,!=4.0.0a1->fsspec[http]>=2022.5.0->pytorch-lightning->islp) (1.3.2)\n",
            "Requirement already satisfied: attrs>=17.3.0 in /usr/local/lib/python3.11/dist-packages (from aiohttp!=4.0.0a0,!=4.0.0a1->fsspec[http]>=2022.5.0->pytorch-lightning->islp) (25.1.0)\n",
            "Requirement already satisfied: frozenlist>=1.1.1 in /usr/local/lib/python3.11/dist-packages (from aiohttp!=4.0.0a0,!=4.0.0a1->fsspec[http]>=2022.5.0->pytorch-lightning->islp) (1.5.0)\n",
            "Requirement already satisfied: multidict<7.0,>=4.5 in /usr/local/lib/python3.11/dist-packages (from aiohttp!=4.0.0a0,!=4.0.0a1->fsspec[http]>=2022.5.0->pytorch-lightning->islp) (6.1.0)\n",
            "Requirement already satisfied: propcache>=0.2.0 in /usr/local/lib/python3.11/dist-packages (from aiohttp!=4.0.0a0,!=4.0.0a1->fsspec[http]>=2022.5.0->pytorch-lightning->islp) (0.3.0)\n",
            "Requirement already satisfied: yarl<2.0,>=1.17.0 in /usr/local/lib/python3.11/dist-packages (from aiohttp!=4.0.0a0,!=4.0.0a1->fsspec[http]>=2022.5.0->pytorch-lightning->islp) (1.18.3)\n",
            "Requirement already satisfied: idna>=2.0 in /usr/local/lib/python3.11/dist-packages (from yarl<2.0,>=1.17.0->aiohttp!=4.0.0a0,!=4.0.0a1->fsspec[http]>=2022.5.0->pytorch-lightning->islp) (3.10)\n",
            "Downloading ISLP-0.4.0-py3-none-any.whl (3.6 MB)\n",
            "\u001b[2K   \u001b[90m━━━━━━━━━━━━━━━━━━━━━━━━━━━━━━━━━━━━━━━━\u001b[0m \u001b[32m3.6/3.6 MB\u001b[0m \u001b[31m103.7 MB/s\u001b[0m eta \u001b[36m0:00:00\u001b[0m\n",
            "\u001b[?25hDownloading lifelines-0.30.0-py3-none-any.whl (349 kB)\n",
            "Downloading pygam-0.9.1-py3-none-any.whl (522 kB)\n",
            "Downloading scipy-1.11.4-cp311-cp311-manylinux_2_17_x86_64.manylinux2014_x86_64.whl (36.4 MB)\n",
            "\u001b[2K   \u001b[90m━━━━━━━━━━━━━━━━━━━━━━━━━━━━━━━━━━━━━━━━\u001b[0m \u001b[32m36.4/36.4 MB\u001b[0m \u001b[31m80.9 MB/s\u001b[0m eta \u001b[36m0:00:00\u001b[0m\n",
            "\u001b[?25hDownloading formulaic-1.1.1-py3-none-any.whl (115 kB)\n",
            "Downloading interface_meta-1.3.0-py3-none-any.whl (14 kB)\n",
            "Building wheels for collected packages: autograd-gamma\n",
            "  Building wheel for autograd-gamma (setup.py) ... \u001b[?25l\u001b[?25hdone\n",
            "  Created wheel for autograd-gamma: filename=autograd_gamma-0.5.0-py3-none-any.whl size=4031 sha256=d80cf45638692e05452ce7ae97421871073bbca3b362b59ea57263b758d78d9e\n",
            "  Stored in directory: /root/.cache/pip/wheels/8b/67/f4/2caaae2146198dcb824f31a303833b07b14a5ec863fb3acd7b\n",
            "Successfully built autograd-gamma\n",
            "Installing collected packages: scipy, interface-meta, autograd-gamma, pygam, formulaic, lifelines, islp\n",
            "  Attempting uninstall: scipy\n",
            "    Found existing installation: scipy 1.13.1\n",
            "    Uninstalling scipy-1.13.1:\n",
            "      Successfully uninstalled scipy-1.13.1\n",
            "Successfully installed autograd-gamma-0.5.0 formulaic-1.1.1 interface-meta-1.3.0 islp-0.4.0 lifelines-0.30.0 pygam-0.9.1 scipy-1.11.4\n"
          ]
        }
      ]
    },
    {
      "cell_type": "code",
      "execution_count": null,
      "id": "71bd6b71",
      "metadata": {
        "lines_to_next_cell": 2,
        "id": "71bd6b71"
      },
      "outputs": [],
      "source": [
        "import numpy as np, pandas as pd\n",
        "from matplotlib.pyplot import subplots\n",
        "from sklearn.linear_model import \\\n",
        "     (LinearRegression,\n",
        "      LogisticRegression,\n",
        "      Lasso)\n",
        "from sklearn.preprocessing import StandardScaler\n",
        "from sklearn.model_selection import KFold\n",
        "from sklearn.pipeline import Pipeline\n",
        "from ISLP import load_data\n",
        "from ISLP.models import ModelSpec as MS\n",
        "from sklearn.model_selection import \\\n",
        "     (train_test_split,\n",
        "      GridSearchCV)"
      ]
    },
    {
      "cell_type": "markdown",
      "id": "9b799d88",
      "metadata": {
        "id": "9b799d88"
      },
      "source": [
        "### Torch-Specific Imports\n"
      ]
    },
    {
      "cell_type": "code",
      "execution_count": null,
      "id": "3298bdf1",
      "metadata": {
        "id": "3298bdf1"
      },
      "outputs": [],
      "source": [
        "import torch\n",
        "from torch import nn\n",
        "from torch.optim import RMSprop\n",
        "from torch.utils.data import TensorDataset\n"
      ]
    },
    {
      "cell_type": "code",
      "execution_count": null,
      "id": "aeae9bd9",
      "metadata": {
        "id": "aeae9bd9"
      },
      "outputs": [],
      "source": [
        "from torchmetrics import (MeanAbsoluteError,\n",
        "                          R2Score)\n",
        "from torchinfo import summary\n"
      ]
    },
    {
      "cell_type": "code",
      "execution_count": null,
      "id": "a5a39702",
      "metadata": {
        "id": "a5a39702"
      },
      "outputs": [],
      "source": [
        "from pytorch_lightning import Trainer\n",
        "from pytorch_lightning.loggers import CSVLogger\n"
      ]
    },
    {
      "cell_type": "code",
      "execution_count": null,
      "id": "11bf06a4",
      "metadata": {
        "id": "11bf06a4",
        "outputId": "65d7e2fe-0de3-48fc-c088-c0edb7cf2464",
        "colab": {
          "base_uri": "https://localhost:8080/"
        }
      },
      "outputs": [
        {
          "output_type": "stream",
          "name": "stderr",
          "text": [
            "INFO:lightning_fabric.utilities.seed:Seed set to 0\n"
          ]
        }
      ],
      "source": [
        "from pytorch_lightning import seed_everything\n",
        "seed_everything(0, workers=True)\n",
        "torch.use_deterministic_algorithms(True, warn_only=True)\n"
      ]
    },
    {
      "cell_type": "code",
      "execution_count": null,
      "id": "062cd869",
      "metadata": {
        "lines_to_next_cell": 0,
        "id": "062cd869"
      },
      "outputs": [],
      "source": [
        "from torchvision.io import read_image\n",
        "from torchvision.datasets import MNIST, CIFAR100\n",
        "from torchvision.models import (resnet50,\n",
        "                                ResNet50_Weights)\n",
        "from torchvision.transforms import (Resize,\n",
        "                                    Normalize,\n",
        "                                    CenterCrop,\n",
        "                                    ToTensor)"
      ]
    },
    {
      "cell_type": "code",
      "execution_count": null,
      "id": "4a05884a",
      "metadata": {
        "id": "4a05884a"
      },
      "outputs": [],
      "source": [
        "from ISLP.torch import (SimpleDataModule,SimpleModule, ErrorTracker, rec_num_workers)"
      ]
    },
    {
      "cell_type": "code",
      "execution_count": null,
      "id": "1474e88b",
      "metadata": {
        "id": "1474e88b"
      },
      "outputs": [],
      "source": [
        "from ISLP.torch.imdb import (load_lookup,load_tensor,load_sparse,load_sequential)"
      ]
    },
    {
      "cell_type": "code",
      "execution_count": null,
      "id": "0100ff28",
      "metadata": {
        "lines_to_next_cell": 2,
        "id": "0100ff28"
      },
      "outputs": [],
      "source": [
        "from glob import glob\n",
        "import json\n"
      ]
    },
    {
      "cell_type": "markdown",
      "id": "b0f81cea",
      "metadata": {
        "id": "b0f81cea"
      },
      "source": [
        "## Single Layer Network on Hitters Data\n"
      ]
    },
    {
      "cell_type": "code",
      "execution_count": null,
      "id": "bd7ae20c-f492-4ba1-b626-18897ea0cf46",
      "metadata": {
        "lines_to_next_cell": 0,
        "id": "bd7ae20c-f492-4ba1-b626-18897ea0cf46"
      },
      "outputs": [],
      "source": [
        "Hitters = load_data('Hitters').dropna()\n",
        "n = Hitters.shape[0]\n"
      ]
    },
    {
      "cell_type": "code",
      "execution_count": null,
      "id": "4deacf91",
      "metadata": {
        "lines_to_next_cell": 0,
        "id": "4deacf91"
      },
      "outputs": [],
      "source": [
        "model = MS(Hitters.columns.drop('Salary'), intercept=False)\n",
        "X = model.fit_transform(Hitters).to_numpy() ###ch\n",
        "Y = Hitters['Salary'].to_numpy()\n"
      ]
    },
    {
      "cell_type": "code",
      "execution_count": null,
      "id": "8593f62b",
      "metadata": {
        "id": "8593f62b"
      },
      "outputs": [],
      "source": [
        "(X_train,\n",
        " X_test,\n",
        " Y_train,\n",
        " Y_test) = train_test_split(X,\n",
        "                            Y,\n",
        "                            test_size=1/3,\n",
        "                            random_state=1)"
      ]
    },
    {
      "cell_type": "markdown",
      "id": "d1e980ad",
      "metadata": {
        "id": "d1e980ad"
      },
      "source": [
        "### Linear Models\n"
      ]
    },
    {
      "cell_type": "code",
      "execution_count": null,
      "id": "54b14993",
      "metadata": {
        "id": "54b14993",
        "outputId": "87815eb4-7b59-4629-8741-aff852b2f614",
        "colab": {
          "base_uri": "https://localhost:8080/"
        }
      },
      "outputs": [
        {
          "output_type": "execute_result",
          "data": {
            "text/plain": [
              "259.7152883314627"
            ]
          },
          "metadata": {},
          "execution_count": 14
        }
      ],
      "source": [
        "hit_lm = LinearRegression().fit(X_train, Y_train)\n",
        "Yhat_test = hit_lm.predict(X_test)\n",
        "np.abs(Yhat_test - Y_test).mean() ##check how much error in dolloars"
      ]
    },
    {
      "cell_type": "code",
      "execution_count": null,
      "id": "4142f382-bf5a-4f85-98b0-ac12eb6cf003",
      "metadata": {
        "id": "4142f382-bf5a-4f85-98b0-ac12eb6cf003"
      },
      "outputs": [],
      "source": [
        "# same as below\n",
        "# from sklearn.metrics import mean_absolute_error as mae\n",
        "# mae(Yhat_test, Y_test)"
      ]
    },
    {
      "cell_type": "code",
      "execution_count": null,
      "id": "84c668ad",
      "metadata": {
        "id": "84c668ad"
      },
      "outputs": [],
      "source": [
        "scaler = StandardScaler(with_mean=True, with_std=True)\n",
        "lasso = Lasso(warm_start=True, max_iter=30000) #Q1\n",
        "standard_lasso = Pipeline(steps=[('scaler', scaler),\n",
        "                                 ('lasso', lasso)])"
      ]
    },
    {
      "cell_type": "code",
      "execution_count": null,
      "id": "093f8ce9",
      "metadata": {
        "lines_to_next_cell": 0,
        "id": "093f8ce9"
      },
      "outputs": [],
      "source": [
        "X_s = scaler.fit_transform(X_train)\n",
        "n = X_s.shape[0]\n",
        "lam_max = np.fabs(X_s.T.dot(Y_train - Y_train.mean())).max() / n #Q2\n",
        "param_grid = {'lasso__alpha': np.exp(np.linspace(0, np.log(0.01), 100))\n",
        "             * lam_max}"
      ]
    },
    {
      "cell_type": "code",
      "execution_count": null,
      "id": "38773381",
      "metadata": {
        "id": "38773381"
      },
      "outputs": [],
      "source": [
        "cv = KFold(10,\n",
        "           shuffle=True,\n",
        "           random_state=1)\n",
        "grid = GridSearchCV(standard_lasso,\n",
        "                    param_grid,\n",
        "                    cv=cv,\n",
        "                    scoring='neg_mean_absolute_error')\n",
        "grid.fit(X_train, Y_train);"
      ]
    },
    {
      "cell_type": "code",
      "execution_count": null,
      "id": "adc24a51",
      "metadata": {
        "lines_to_next_cell": 0,
        "id": "adc24a51",
        "outputId": "a4d9d871-3c01-4b8a-e3c6-ef99c3146756",
        "colab": {
          "base_uri": "https://localhost:8080/"
        }
      },
      "outputs": [
        {
          "output_type": "execute_result",
          "data": {
            "text/plain": [
              "235.6754837478029"
            ]
          },
          "metadata": {},
          "execution_count": 19
        }
      ],
      "source": [
        "trained_lasso = grid.best_estimator_\n",
        "Yhat_test = trained_lasso.predict(X_test)\n",
        "np.fabs(Yhat_test - Y_test).mean() #Q3 now how much mae  in dollar after applying cv on lasso?"
      ]
    },
    {
      "cell_type": "markdown",
      "id": "252e9dc1",
      "metadata": {
        "id": "252e9dc1"
      },
      "source": [
        "### Specifying a Network: Classes and Inheritance - See illustration in c10-nn\n"
      ]
    },
    {
      "cell_type": "code",
      "execution_count": null,
      "id": "415cf74b",
      "metadata": {
        "id": "415cf74b"
      },
      "outputs": [],
      "source": [
        "class HittersModel(nn.Module): #Q4, Q5\n",
        "\n",
        "    def __init__(self, input_size):\n",
        "        super(HittersModel, self).__init__() #Q6\n",
        "        self.flatten = nn.Flatten()\n",
        "        self.sequential = nn.Sequential(\n",
        "            nn.Linear(input_size, 50),\n",
        "            nn.ReLU(),\n",
        "            nn.Dropout(0.4),\n",
        "            nn.Linear(50, 1))\n",
        "\n",
        "    def forward(self, x):\n",
        "        x = self.flatten(x)\n",
        "        return torch.flatten(self.sequential(x))\n"
      ]
    },
    {
      "cell_type": "code",
      "execution_count": null,
      "id": "60469c96",
      "metadata": {
        "id": "60469c96"
      },
      "outputs": [],
      "source": [
        "hit_model = HittersModel(X.shape[1])\n"
      ]
    },
    {
      "cell_type": "code",
      "execution_count": null,
      "id": "84720ca7",
      "metadata": {
        "lines_to_next_cell": 0,
        "id": "84720ca7",
        "outputId": "3feaa158-b388-40bc-d8ee-6b7cd898868f",
        "colab": {
          "base_uri": "https://localhost:8080/"
        }
      },
      "outputs": [
        {
          "output_type": "stream",
          "name": "stderr",
          "text": [
            "/usr/local/lib/python3.11/dist-packages/torch/nn/modules/linear.py:125: UserWarning: Deterministic behavior was enabled with either `torch.use_deterministic_algorithms(True)` or `at::Context::setDeterministicAlgorithms(true)`, but this operation is not deterministic because it uses CuBLAS and you have CUDA >= 10.2. To enable deterministic behavior in this case, you must set an environment variable before running your PyTorch application: CUBLAS_WORKSPACE_CONFIG=:4096:8 or CUBLAS_WORKSPACE_CONFIG=:16:8. For more information, go to https://docs.nvidia.com/cuda/cublas/index.html#results-reproducibility (Triggered internally at ../aten/src/ATen/Context.cpp:208.)\n",
            "  return F.linear(input, self.weight, self.bias)\n"
          ]
        },
        {
          "output_type": "execute_result",
          "data": {
            "text/plain": [
              "===================================================================================================================\n",
              "Layer (type:depth-idx)                   Input Shape               Output Shape              Param #\n",
              "===================================================================================================================\n",
              "HittersModel                             [175, 19]                 [175]                     --\n",
              "├─Flatten: 1-1                           [175, 19]                 [175, 19]                 --\n",
              "├─Sequential: 1-2                        [175, 19]                 [175, 1]                  --\n",
              "│    └─Linear: 2-1                       [175, 19]                 [175, 50]                 1,000\n",
              "│    └─ReLU: 2-2                         [175, 50]                 [175, 50]                 --\n",
              "│    └─Dropout: 2-3                      [175, 50]                 [175, 50]                 --\n",
              "│    └─Linear: 2-4                       [175, 50]                 [175, 1]                  51\n",
              "===================================================================================================================\n",
              "Total params: 1,051\n",
              "Trainable params: 1,051\n",
              "Non-trainable params: 0\n",
              "Total mult-adds (Units.MEGABYTES): 0.18\n",
              "===================================================================================================================\n",
              "Input size (MB): 0.01\n",
              "Forward/backward pass size (MB): 0.07\n",
              "Params size (MB): 0.00\n",
              "Estimated Total Size (MB): 0.09\n",
              "==================================================================================================================="
            ]
          },
          "metadata": {},
          "execution_count": 22
        }
      ],
      "source": [
        "summary(hit_model,                     #Q8, #Q9\n",
        "        input_size=X_train.shape,\n",
        "        col_names=['input_size',\n",
        "                   'output_size',\n",
        "                   'num_params'])    ### num params, why 1000. sequential(), hidden layer, output layer, Relu and Dropout are \"operations\" Q10 50 bias-terms\n"
      ]
    },
    {
      "cell_type": "code",
      "execution_count": null,
      "id": "6f8038ce",
      "metadata": {
        "lines_to_next_cell": 0,
        "id": "6f8038ce"
      },
      "outputs": [],
      "source": [
        "X_train_t = torch.tensor(X_train.astype(np.float32))\n",
        "Y_train_t = torch.tensor(Y_train.astype(np.float32))\n",
        "hit_train = TensorDataset(X_train_t, Y_train_t)"
      ]
    },
    {
      "cell_type": "code",
      "execution_count": null,
      "id": "ffe8314e",
      "metadata": {
        "id": "ffe8314e"
      },
      "outputs": [],
      "source": [
        "X_test_t = torch.tensor(X_test.astype(np.float32))\n",
        "Y_test_t = torch.tensor(Y_test.astype(np.float32))\n",
        "hit_test = TensorDataset(X_test_t, Y_test_t) #Q12\n"
      ]
    },
    {
      "cell_type": "code",
      "execution_count": null,
      "id": "337f4f07",
      "metadata": {
        "id": "337f4f07"
      },
      "outputs": [],
      "source": [
        "max_num_workers = rec_num_workers()"
      ]
    },
    {
      "cell_type": "code",
      "execution_count": null,
      "id": "c60b1e3f",
      "metadata": {
        "id": "c60b1e3f"
      },
      "outputs": [],
      "source": [
        "from ISLP.torch import (SimpleDataModule,SimpleModule, ErrorTracker, rec_num_workers)\n",
        "\n",
        "hit_dm = SimpleDataModule(hit_train,    #Q11 #Q13\n",
        "                          hit_test,\n",
        "                          batch_size=32, #Q14\n",
        "                          num_workers=min(4, max_num_workers),\n",
        "                          validation=hit_test)"
      ]
    },
    {
      "cell_type": "code",
      "execution_count": null,
      "id": "916cfd66",
      "metadata": {
        "id": "916cfd66"
      },
      "outputs": [],
      "source": [
        "hit_module = SimpleModule.regression(hit_model,\n",
        "                           metrics={'mae':MeanAbsoluteError()}) # Q17\n"
      ]
    },
    {
      "cell_type": "code",
      "execution_count": null,
      "id": "44a44fb1",
      "metadata": {
        "id": "44a44fb1"
      },
      "outputs": [],
      "source": [
        "hit_logger = CSVLogger('logs', name='hitters')"
      ]
    },
    {
      "cell_type": "code",
      "execution_count": null,
      "id": "8e91122a",
      "metadata": {
        "lines_to_next_cell": 0,
        "colab": {
          "referenced_widgets": [
            "122392122ed543d3a45f5f8dbdde2895",
            "c65787b8be7d4ec987a85354c7f662f2",
            "4403c79108b8402098d366a3262a58fa",
            "84ddccf48d2c40719baebfdc1fc52af8",
            "d166929faeab4108bc80d27787e4bb82",
            "e5d7fed4c0ab4742a80433bacddb17dc",
            "6ef7c1a579604f008ec3b319725f390f",
            "bbb8e6b9fdd04106812ed0555a9f3667",
            "7ffb5f7b7d364ff4a8b36d7caf7d3bd6",
            "4cf9e2cf398c4a1899850c7488f98b9f",
            "8a2a7718c9444427b9d9e1310be2b7e8",
            "25510ae6b0ce4dbd971eb421725714f5",
            "d0d1ce75d4724f1b878e2ee4faac21a4",
            "832934642e0c4bcfba81a09eb1c9e5a6",
            "cc0ebc219d274038bd1da15dfd5281d5",
            "38097b20a1bb4b84b125295eb876d98d",
            "7e224e1ca1804cf3ba789b46be5401f6",
            "7594a6e541fa47778417e71e91eac602",
            "11d5252783314577aae95756c44ff90d",
            "ca35a5c7d5924350bd8431803c332517",
            "4d690930d4bf4c83a006333ae28a396b",
            "cd5b6db0066f46458994acd5b3a654d5",
            "5b3bcf3c78c84c9eae883849dc19b525",
            "2886a0aae9dd495fb5ac614a8c68e320",
            "b8614a3f210f410b8ba7ae06fa671852",
            "cf59db1de2104cdeafaadc82c924deab",
            "71cb1cb9670a4289898efbcfe07c01fd",
            "1e263876d4fe462581c0f164977f98a7",
            "8a4cda9191714a8aa33ee4fab4861f9b",
            "1abef5ed55ce4f3489bc3f1a6f831a96",
            "f1e35ce1829f47fe9773d82ba9f6dc1a",
            "1303105bc60a4104aa9b20d8a764e859",
            "db9e547459f44410834f9405bca7b3d6",
            "2c92d0e1fbd8424bb7fadf1760ef3e18",
            "9c13f8122de2466797390dc4e5f0da66",
            "86803ecc1bca46efbc2bd3fbc4dcd26f",
            "9436b92599c2428fa98294aa77e25add",
            "a47afa5784034b3f9c0a36db45ab4831",
            "b55d759962ff4182b51a61ef33605c7e",
            "522d99aa089e4cbc8c9d9f4b23bd457f",
            "bebb29f397ff456888ed1b939e67413c",
            "5e3d9ecd0dad4a8b8dfe771cc1061531",
            "60cbdf82cf19470d9a4c7217890aa909",
            "5008500be21e4c6b94ec99d3f6636fc3",
            "19b994e58b1f4568ba2a40e6aa4ad533",
            "246505c7ea60432fa2ba9d93cf9997bc",
            "bc146c94d4cb4b5fad4ec45203b0da60",
            "f7aaf922987b42509b49fbdb4a08e62e",
            "8c33f8e939434c389cf0b326bc93a515",
            "c657a4b81d714ea3b1632f8545b95468",
            "09b6fb81b0584fd9985a0d4eef255427",
            "b8f4b0d3782c444fa0371b3fe85ad607",
            "f5c2825d63cc40b4ab9dfe0a38e798f2",
            "f3a26ddd197a4e2c92ec35c43c108cf6",
            "8120efd52f994fab8f90b345dcb10dee",
            "05c08e243ac04e2ea21ecb8be645806e",
            "97ef201654dd48a38ca153d270d24c3a",
            "b08986ace84e4089a68fa08bab05230a",
            "c577479a6de5462a928cf8c19b92496e",
            "2911d7c100b240f2b8bf37e8c7c4a779",
            "2edace79708c403cb992e8717a40da47",
            "76c202c81d82423cb2a3b9665e576c4c",
            "d7c106812c544bfbb7ecb90044903164",
            "7bfcccb6549e4b629bc9aeee6c73766f",
            "7498ca2c990c43f58588b64a93d2d7b2",
            "c0363594a9504fbbb5859fd05b8ce8fd",
            "047d3db8304a425fa13c085aa80bb77f",
            "59b685c782904852aa4be613fa55c7db",
            "9fa64be239b34ff2b5d1bbfffe348998",
            "465ea6dc10ba4773b240409029c51c69",
            "3d25440a1b804f90bbab5c6f76d6b8aa",
            "3c756877952341f992710d2b70a6cec2",
            "bcf6a28e41ea469f97af60815431f01f",
            "29d0629691a84fa8bf1024d6dbc7d0d3",
            "7eddabd14e2f4ce4a39b21fd6b72ee23",
            "8257c4cf1e3948ed8bd8e4d08371741a",
            "7ef7b9760be4408e9fb52294bd6cc3a0",
            "80067e3877a342e2a6bf92c9e4f11a3f",
            "cace706a72d84974bbb28625595a7271",
            "80273eebc87944bfa54c4bbf58b14e27",
            "da0957305fca49a2a0293ac88f09761e",
            "3acf8fd9b26f41d38fadd2b6dea2be3d",
            "60043daa9b5c44a59d16ac4f0e5fd685",
            "566693b2a70a4b4db277b1600ecd23c3",
            "932008433b1a4999994a6069acaeba51",
            "0c278efffb0249c094420c75cccdab7b",
            "86f7c4e2154246fe85c61bd989a9b039",
            "4cd06c6271614c1a93bc88938aa80fc0",
            "9ee321c8d15e458c8a26d650996a4e7f",
            "26be2fa260d0497aad99d4ff437f5157",
            "1e202ab4b5694f03934b656c5f15246d",
            "9ecff25d40354b0d87ad6a85f57b2865",
            "524c468a64284092b8657829f47623eb",
            "538d30923c604115ad1f3a82ea7e8c0f",
            "20cfb9c936364e01bb808b17d60ef52c",
            "8f734b81c7db424cbfb7469aaade330f",
            "82d4f5e930aa43d99699099098e3aba5",
            "9e7247038f3e438ca47be59ca1c3319b",
            "8bfad3ea759c4729a21c1c4ccf2e872b",
            "f7b62837e78043efb45fd21a8f419dca",
            "570becda6c544428b9d7764f18c74637",
            "a57b2d237f8f4f679b2dfadf1cd7f8dd",
            "f9fa2ed7526c4daeac2cb7499b2db0f9",
            "e92e280078154cfaa22364af4f6969ef",
            "7bcdc16b7f06490c91c6a0a0852636d0",
            "f1366aefc5a5410dbabe4bf2ef4463b2",
            "841f92de845d4c9c8747280c9c4e470c",
            "2099781da2824899a2267791235de40b",
            "4d946e7c22404782a816e57da3019622",
            "e4a35f35f4b74e70926dea66b87ea2e8",
            "62d5fe7e302a4b7c95bd2842947f04a0",
            "fb4d666de93a4c67aed795b4ec0002f8",
            "f23bf32ab4e648f1a89843b406e8c511",
            "6d19ba753769483f88614ee968da9cb1",
            "6e817c0bb25b4e49bb3d08438a450471",
            "0343b90a45154920af3c29130126ddb8",
            "02e3e1d41e6545529a7910a367730a38",
            "b89764fb230c4a73bbef006b300ef234",
            "a964ae84c38c44029db4e04297935935",
            "60db83d799214145b4cfff910975696d",
            "9f63b3d1dc7449b88a7b36f69df1ed20",
            "eb3543f0eb2447cf9d302d0e3496a1e7",
            "f8646efdfc3641dcaa52dfc08f6c872a",
            "e8d149add10f45a9937593265b8af9b8",
            "6279bcf604264a908e1656d3fec6c8cd",
            "2344ad9d343d464883114bd3222eca57",
            "d62c0f11476c48d79e5fded7783704da",
            "a3328c0a61ca4c78bd6d7bdc7c3e1b71",
            "722de79cb95545fd9129f5b9effb8e70",
            "bae7d6ae0b194c4c86ef5103faf45d18",
            "c9bb19ff928d4173b6114bedba077419",
            "37490a12305c42f081752b29c8e87258",
            "9461e0852af840b1b47890cef908a92d",
            "53f9cb53bd634384b7984db4f88dcfa2",
            "f23cfe760a5f4a648396b44f080e2ac3",
            "c990651bd08e4f2093043e31f0d70c95",
            "8937aeace2394ae6bd7671fead9382cd",
            "34ae953ebb5b4974829bf99051aa97f7",
            "ebaac60af75f4821913d3713b41d9a22",
            "1b5b6fb2ea724c84b3fe3f3b489f3d81",
            "3e94623730024ffe91b7bafa99105eaf",
            "7b85683dacb74784b20b8fa3d0c82ebc",
            "7244a47f417d4406aa2ae54748ab8d37",
            "ddd9fca594904284993a87d64fc14539",
            "f1ee4bf72dc74c99b1f5325fe748c6d7",
            "97791ed35bde4618bb7b54d37d8e1cf2",
            "63180eb91d8a400990749485ad746461",
            "1d54341d63ae4fb39bc639f3ba3cf0e5",
            "9ed8639a217743b8b77b95a2b3c44014",
            "0a86ed347cb145d893e0dafd38326c21",
            "8dc7d8847e5e4e18a015a899ef5d4d0b",
            "bd0c372667ed44deae5786b7d2cd7f6d",
            "b636948d2e6748d5b66f3dd6241e58c6",
            "23df14c82a25480d9e3d2cfa2259b356",
            "3f0090566e9a4c05972762bb5bec7277",
            "1393f22a5528494587127eb6dc503a56",
            "1fcc92f00a59456f98d6b592937e651d",
            "d4c343847d7741c384d86af1e6abb786",
            "4eed869e925b4979bf0f5786ba57dad7",
            "a3084c2d61cc4d7e9bb3ac5654c6c34f",
            "3880e4ed0b42421e9a562bdaf25bc6c3",
            "f6e009df31574627bbb06bf1eb662e5b",
            "bebc6fbaf1c049b4ac1ce1fc1e2366d0",
            "81aa252e187543cabc785b988a719700",
            "18978a603fe0408ca20ef4e47f9c895a",
            "b18b05b6407448139c00bd3a7da5a5c5",
            "0b937c6edfd04a55821a14543cb8ca7e",
            "25449d76e7cb479784132782b4edc3b5",
            "34ec043270734f99b736ad626a6a4ed8",
            "e96b48ce000a433f9d8bd1019c7cdfe6",
            "d5433f43e54d4d82a72be31f01b08e18",
            "09c17f640804474bbbf1a37e60171df5",
            "f8e523ab8cda417985820f872caa4989",
            "da64fd3d585648508785a5ef83561d56",
            "2c2b18739bdd45acaea50a8bbf58a890",
            "f4ee4a4750d44ffa8403412c56f9edf2",
            "a0f63402bde14feab95d287c03873f96",
            "2583fbd5e5d84161b794c6d19784424e",
            "fec782fc4e80455682364ffa0a6dde9f",
            "b714cad9737c43d09742226586b90cbc",
            "5bd81037ced3463abad03fc550d96e0f",
            "bebaaa2a359b4b18bbfecabe1a64ccae",
            "69a5fb203b0642729fdb91fe5aca3dfe",
            "f29fa315efe84830a05174c65ab6db20",
            "aff88ab9b43f44f093a27cd68511b310",
            "d7e2e32701da47089ad0370e571885c6",
            "875596f157394fb2b317510b1661d9ea",
            "314a07dc6f374b22a604ca43b222a193",
            "948633cebc8d47e18a6a1bf8684b588d",
            "d9c5aab0db6f4e79be45ee76d331faba",
            "0bd90577bcee4e238c04697f4a6996bb",
            "90f458202e3647c7a09ac78896d68099",
            "7573dd9e412e4d898412361c038e0960",
            "600be12d222b422082aa6b1e8b5468e9",
            "232922e82f0a4dbfbbb6aba8cd6c12d9",
            "92fbcc25abdc43648d5059014b4941d5",
            "a215467ef687406aa9b323822556c81f",
            "dec51d37f9384a26b11ea1f854450f7d",
            "0569b3521e0144009abc11257e0cf669",
            "202f76af719f4219b5f737f8ed6726de",
            "11493795d2c74d5cb08a99a64fe11286",
            "a14cb908db4444a68540c4e9e702b3c9",
            "748e9f194e944e9398cf7ee3ecc465c2",
            "75e9644d2d8c4be7a72867187361387e",
            "74e0455b94d64914b6b63d1c5ae002fa",
            "ec9b1971fdf34e4ebd68bc94dfe635e9",
            "370f28966d344baf84f59132bc158acf",
            "2af9b66703aa4c63b98fb03bed66c7ac",
            "3b2a6bdcd9f44431b1ea12998f7596a3",
            "d8d67160e174427894c79583910ecb35",
            "176b6ece623d474aa3d2ece35498f6f9",
            "0941840a334a4b55990182f51bc31095",
            "6451b421136543fca1c5cc0b8288d919",
            "200e5ffba0ae4940b2376078236147d4",
            "f82e60bc7a924c7b837a2a6d6f299ddf",
            "73d88f44b1864b369a6681b7842b319c",
            "5700780f9bee4bc1b0456759bbe82aef",
            "a69c06e167d94976857d53d46af5704d",
            "0d66351497b64a5186f4938864503f5f",
            "3f4b6eaafa7d43ae8f7ea8c9dddcc408",
            "0b216c15fb354654a5520a1014bcd6f9",
            "d4140c79e4684735abe8b320431a250e",
            "3e1b47bb25ab4d6abd17908a6fde56a7",
            "fde465fd2f4d4539ad1f894220f25b9b",
            "97d4aab5cb9248cc94365a20fb4ca2ae",
            "c20c5e00922f4b4ba88c22e264bf94ee",
            "d31bc26dc6144e4b8f6c2d5cb4739709",
            "f24f8b585650489f8041c59ad7b971d1",
            "1d1b236a2f8a425ea00ec84be87d1edc",
            "17fc0888d9224b30a39fb7669f542d11",
            "5b79b34c0f744865aabe62752c964f75",
            "65ade4f39c4749fcabd3eef8a2f999f0",
            "fa3e89b27d9941748dbb267c0f62bced",
            "a105346941d241a7b944147ace68f735",
            "fc65c1f9dc8649498209629cfcec2b29",
            "90041c8a284e4e0587bc35dd4494a7d2",
            "f4df813d508b455293578231698812aa",
            "5fb81002c7264fee96266cf23c196101",
            "fa6f29ed6c6144c0859438c132e00edd",
            "a0b3e79671f24388952476e9ef1a0c04",
            "d675bcad7af0457d958cfb9dcc96e06e",
            "c3217743c0a043fd9337c9eba94058d7",
            "666df0e86a1141d2a40b3aaaf54d3a32",
            "00c180b0d58c4cb0be4feecb949a8af2",
            "bbf9fe6bd94f4c2092bfc86a73ad8ae3",
            "02179dc7602b4688b0b13941db90f23e",
            "f00752f19f52401886820381553f78e7",
            "01406c53e69849daab7a695c400da502",
            "bd4ae6e9463e440dad871419abf646c1",
            "7eb327cf6b1848239b12a2bb7afba6f6",
            "413962a281864c6bad4145aef8170c35",
            "3224e1a6bd9444738e6eeb00d0c910a3",
            "128ec99347a24909bee32e5311ad1877",
            "7c941e8ac8554c79bbaf3aed4584c802",
            "0f01397d50664164bc3f24c55ba11b52",
            "42fde47a576b4bf09fb945dce3bca505",
            "d27a2265d69b4dcf8d8fa7404d6cd770",
            "c8242982fb694eda94f6f5462d8cfa56",
            "155294d7da984d949440e2ef77ff59f6",
            "d8503c0fbb05445fb4d13b331dff3fab",
            "cba5bd4aa80e4556a01388e8dad4b76e",
            "b7c170a80a68448abe0387a237503896",
            "14076163c998486f8051820c7e86fd00",
            "9cc2e494766743618f9c37ed97189907",
            "600415837a994fa9aba07fa3d3587d5e",
            "154c7a524748451b9561b63ca291b486",
            "652e5a2e0b1c4c9985211331d70007ec",
            "5829382258d6410583686dfd0660462b",
            "7d506e0dcd3f4dffa914da28fa0593a0",
            "6c05737abcd84d2494178ccc63468fe3",
            "5622776d006f41409ae66f8aa84e6bac",
            "dc9fd2e0f7a74dadbc52bae03fdcff43",
            "e8b6be79f8ce4f9eb000853240e1047f",
            "e576d55cdc58481a94124bef40d58b8c",
            "c0590d9cddc94ea0a255f92a46ffe6de",
            "203defbf5ebe40acb8897fff87282bbc",
            "d6efab7ba6d341198f2ecbbca7c989c1",
            "e0617788ae8b4038b788cd48ca4cf9f6",
            "88caf53d4fdc4443af45332587dd233f",
            "ddfe4e9cd45a42eda40ba3f3a714d189",
            "e644f932cbb7449cbaa7765566b82a3e",
            "0b2defc43f32472fb2d903b958e50721",
            "93da637bab1a438687d494e6cef128d7",
            "d63559d899214b71b25d78052e17a01c",
            "11b7914317be4556bd0c0f85d57ac4f0",
            "66b30134cc20454f8d5c5a0c571554fa",
            "399031cd86084bf5a22972b0ace0d7c8",
            "4523d1e35379491e81cb5f5722f930ab",
            "a9a26e2c139f451e9884f9b4c861f0d9",
            "017f194b5fa04ed18a1c3eb705a168be",
            "7fca891cbb8e4ceaae9bdbd06aa01a83",
            "a4012f67644b450a9a9fdb91d4a6660d",
            "e765824222fe44d3b8fd1dcefdc03783",
            "00a160f1ffef447fbe0e81a406e41f64",
            "570ff56f843c44e1b8cf5acf2bdfe522",
            "fa5b9f1239144698ba36608d27f82a0d",
            "cfa3cf5559de463a81d92d2089003c30",
            "734965c6b70e43f6b263ad27445ea220",
            "3fa35b7e5fc44cafa968dcd339f4594e",
            "a9a2bb10af2e421f8d29c26d38d083a9",
            "91fde32b8bd24feebaf427a705293cba",
            "829c89e566ab45a8a221eb6ce1f5452a",
            "88a1e562372942d88764109aa2316775",
            "097ce970f2924d54a3bdeda29515238d",
            "c11e02ecfe974a12be33762ac7b3842d",
            "892d4212a4964cc6958b1f70a65079f4",
            "329dc2d4f3c9455b8eff613a58f9846f",
            "388c26b8f5fa462e99a34a5f2ea6c3cd",
            "934bd9066833427e93c72b7d23b27a2e",
            "14e804e687184f5398bc671cabf51e7b",
            "4ae0085067024138939ac64d6a294d20",
            "d666a11fa77f4c15ad8ce24f5239eaa7",
            "ea913f6a129c4b00878c3f33be2dd21d",
            "b310138b18dc45aea542d2a197ecb66f",
            "dfd3b4a53a634d57aed0664494cc6048",
            "016700cb9216408aa247b4ee113d00b2",
            "6312a9a47a384111b5ddefd00cad1095",
            "852e66e724ac4d099644f60e424783c7",
            "d2f16bf9b49c4bb3916ab7d8aaf5423d",
            "a33ee0f34bb54bfba6e60c1228484e06",
            "788e3328f46b465681b396400cc835d3",
            "4350b81b1e6f447f8fad66558e147a6a",
            "f32c1590fdbd4d29ab79c4aed46eb175",
            "70f388db51154063bb56ac3b2fc38ea1",
            "0ecf170f7b2240e2b14e2a0362b16428",
            "3a181be1d9484464a2b06f2b47dcf1b8",
            "3572db4fd6d246cf8f40715da6e681c7",
            "e30ceb2dbe16424da60bb5aa4741b1d4",
            "026321f27157446d916ab37154d154a3",
            "3ea865224dfb47b0b2c007d3816c292f",
            "9b476991e2b649a3a295792e52d1042b",
            "007d5e675c1b4624abf65d75ff301429",
            "fd69792e6f374fbc9a02623cf79b5960",
            "303983af0b594ff68964832d902af01c",
            "536536cd47624170b16aee288ad9d473",
            "0ba84be7d4064dda9797ac620d1a8a62",
            "af805c5a613746ef9952fbf409acca39",
            "dfd349797f254e65834c72620c324a90",
            "726d74531ee64907a0ad7dec6da0cc59",
            "ab8f0f2e05b74b2ca1b56c16c135440a",
            "b73cc727bd004ba6a382a5e83761249a",
            "ba115001a86b4f67b6b8d754c3d220dc",
            "0ad794fdce0a45eabc722d7b9ebdf258",
            "f1b6a62d0fc94fdbb655e1f454ae7dac",
            "3bb8b4b9ed344ccab503bbf615d47710",
            "947b460c435b42978da39b9fc455b834",
            "8ebc0216766d4a53857328741afa828b",
            "cb540df87ca447ad96c5d6b70ef526e0",
            "ebf4716011e14c6f8f19c6159c9dcaab",
            "030b6bad40d14f9fbb051e3b2249da7d",
            "dfb6d09a778d4a09906f73cabcb9e8d8",
            "e8a9701f92614e3e8e71194b7aa2b1e4",
            "1e8f0d03990444ebb807358591448fe1",
            "6db72c28ee43424c80cfab01ec30fb95",
            "f8d1df60552c4f73a0aa4bab4f81ce91",
            "f37cf0755070448c86912623253b15b4",
            "c7d2575c31084c47a962aa913d354066",
            "5d4ce8976d124c1ab408b9ff6088ff6e",
            "e2a0d30a0c934ed38dba52d51d75dd33",
            "5563a6fabfbd4610a04ec25cf31ef27e",
            "11715cbc5d0845a0b9a48d8c01152c18",
            "bb8c1d6e3aad4865b61e3662d3f96ce8",
            "42c80057f70a4f8fabc83cfb9217913e",
            "e11178b39f49408cbe5c511c561a9810",
            "95b943544031427da22f463fd1060c18",
            "bf031e4b6f374e3b89f6afa7dcd235e9",
            "547905fcf90a43a9b2ca7feb8a014ba4",
            "0ecfc583766b44549fa6ee9045699704",
            "2b658f717c024fa2b86f3d83ca194624",
            "008dc71064094978b31eb6e024d9e335",
            "6e7056dd724845cb8226edd5cee8ddb0",
            "c4bd45c9d3c842ab81b368891b824d53",
            "905d5872f4c14bccba786040c1feabdf",
            "dae4f25fc07b4e4ea9d42395e652c616",
            "f9aeb53947ff42f5b8b1d73968ad9292",
            "6ccea0b008694ae0b90182dcce3e19bc",
            "718ec49b29aa441295c2861fd31552d0",
            "29f4b983cd484ab9a31685f765766c89",
            "18b10754ca34437d8cc6bbfa548d54fa",
            "84b782f6c1ed44a4856588e1e1f0fab2",
            "ee27722b942e4e7693a1428fb8c97fe4",
            "f96642b968644f28a570f01a1c6756a5",
            "c68bb85df6674bde951e0e0b93b524fb",
            "81aab3bfc19c41a8858f7ddd2c814054",
            "54f5686b56f344559c32a7571a407446",
            "3b293b34a5744074a4c085fbfd013390",
            "9517cae50aaf48459deda08bd6e0c640",
            "8bc22cadf4bd40659d52e50d8fe2a5ca",
            "83ccceb2355c4c3daacff223f0fa1128",
            "6c0d2df9b94241e2bc9033605cfbe2a1",
            "a2500bdb2f0946d6b937a19f56c6f6e8",
            "c6083a32de0e4f8ca5c7cac7d3ca899b",
            "189fc1257be7406b95865b190f7faeea",
            "4eadf51c102f404ea2b40554da183688",
            "72824676fadd4b1ca4de3ada3c5d6afc",
            "f13141f8a07b402996c55125c9e890d9",
            "adc8c73a6cf345918842e168dc1919cb",
            "d1eb4b57aa074d8084805c3c53b3956c",
            "6cefeece2c7443038e0a95263d7a5e2c",
            "3c683257fa8a43cd82767449c074668e",
            "259937fd70994ffa99d4486fbeaaeca8",
            "e1dbc5f80cc84949a2956120b0491cea",
            "0f1b919dea3a451ab32c7bce542a6019",
            "31cc5f68ccce450388725b4ee3a9e51a",
            "748bed678a0e41f0ac7f24a69c230736",
            "9983cecaa2be4d03bee2e81e3070b570",
            "6568c2f506fd4e05adf54fa9376cee4a",
            "438c2ab8a8cd403ea23bd2a4594400a6",
            "1e54d4d834794ab7b16c57c2e50935cb",
            "44c867b2deaa40439cda4f28ef543c21",
            "83c8e9a589d747ce810f77b8af8f7d62",
            "165232481c4242158ba24974717aebc7",
            "b3946c920ff2489e84ca99b994e19f8b",
            "01354326d3f44d8490ee172baf847fa3",
            "e3bd8e1195e34078a62fe279607d8f78",
            "584f7f8bd8d94c8b8b22c667591807c1",
            "7320ac3fac4f45bd9e6abacc5ac8dd94",
            "44933f60096e4ecc91a46621c743adc6",
            "978824304dca4571b1dfe334dd649967",
            "11cd6acad1384faca9c94cb5fc837d19",
            "ba17b4aa5c0245b3866ebb87a9fe2fcc",
            "46ee2360de4942cab7b426db5590d65f",
            "b8790f7afbc5440e96a361a187067124",
            "2ccc6d9bc8744b3fb403b104c42e759f",
            "4d5c07b79adf42ec974aaf99afc69347",
            "96d55f3c72c64674a1e48ded6a1cc3dc",
            "8eaf9cb084a543cca1a12bb49e0d4ed4",
            "d4b8a44256b749b89181f1190e547ff7",
            "d4039a3772b54de9b30667285ad4c3e0",
            "dc457c5ac49e4784a3b67a7b60a81d75",
            "b8b340b8bf424d5e99037c0b9a74002a",
            "f0b042e640be4ba89502a29736fb54df",
            "90d693d3ecc541fb91f6a99c28db14d4",
            "6fd3e7f0749049528580e3dfb2a644b2",
            "699eb038e2444edf91522b6327e11af7",
            "d150c039107c49b6a9fee666db28456e",
            "c8af51f748b648ac8afd94eea6915889",
            "bd7561d358ea4587a2c6c4b0e1cba0e7",
            "b09c56c41666491b890f244205b72843",
            "6626d1e2bd654197a717377b0f92c64a",
            "3a7e214335be42be930f2a19f2b76767",
            "4cc203f93590475ab3f1a9262d4fb4e5",
            "7366a296103d4ed88d994d0bd6c3719a",
            "bffc9c1085874af3beda4fce6fe1a46e",
            "57f07051584042968c59d726865eed99",
            "8feda5750dc04b35920242cc98214c2f",
            "f111b55b8ec949deb6e6a71204c22f67",
            "2cfcbf9233d4475889db212896a8de9c",
            "046300cd2c1241d5baff5ba78678241c",
            "680e7e36b04a474fb364e321445cfc5e",
            "a61f5929aa2546c4b4488f6a3a08825c",
            "399d46ddf29845b3be461a092c94b68c",
            "d3de40f7db944f83a620bdcda9a51e16",
            "877761917ba6456eb0f35eccda8aaba2",
            "8fa53cf6fb99474996af74895bf864e7",
            "a58045736b414e8f9621bc23aee9f97b",
            "96899a42cb7349368434f6b36aa39cb5",
            "eda828b56fad47e8b1773609a63b3e89",
            "d155f0302c464a86b1ca8e068115db5b",
            "0e7c746a8fc8410da7786381c95b28f8",
            "d010e37be4024253942f08fa1d336d33",
            "211694f750394af79120cbe42b2adc7a",
            "19cc09704bd94850913eacf11e0a6009",
            "37a234cb056545fba6f4b85d2512870f",
            "3d69947e0c3f46d5afd175cca5b201c9",
            "5d637be6d8e7481791f03d9078e69e6f",
            "92e91208bbc64c01a933d2ca68ffee36",
            "3e0deaf73ade47cbaf3fd5bdff8a8a43",
            "83eefc6adbd94130a1286162533df572",
            "2d1df733b30b43278afe8538f402b995",
            "d7383e4ae64644bc821952cf01873ee3",
            "c530c322e0494060b8c2ea71bbf44909",
            "bc3991b8da0644bdb425fc8c37dce536",
            "6a1d0386c63d4bee902a41823f3d7cfe",
            "75a021e6fbbe4012ab026822319d2278",
            "de8094f5ceb2416182cc068a402dc364",
            "e6f2128b39dc49a2b44ae3e83d6494fa",
            "3739f79f99524948a52ff5bf8686e105",
            "d0cb4d6fb13142a5858b967ff7896776",
            "4bb4091068334c2eb392da550935c1f4",
            "2f62caa242254a0d94ec45082edd8fb1",
            "da5e9341fd064b118b8eaa840e780593",
            "c7fd86afa0c74d8aa216bf681dea717f",
            "b58d5b12d54d4a9aa1265334653fdd93",
            "c95f7a5e16424f1793e45ac91e21f0fb",
            "858470c5e6ff4ca1813b6272ef6717d8",
            "cb62444269d0489c964b70909b7c108b",
            "f7dcb75716d9490a8ceee0a1bd1ce0e0",
            "ff799e05a49a4cdc8736a811bf6a8d81",
            "a022bdf6314846e78842128f4bb84a94",
            "91cf046694fa4981a3f55f3e1ad28a81",
            "6ef7834f5435411f905ceefabce2fee6",
            "5992fd3d38414a5bb52732164e9852c3",
            "88f22c8b0a6c4f359ce313d558656e98",
            "7f6b292136ce46b1bed2b64df68edce0",
            "6f5bc171d9e1401f80060554ca8c2e3b",
            "8322419a64f541289c11c17a4c10f91b",
            "fa8f4b4d48574c67a2fb1b29782e1fc1",
            "02de869d96b64e7e9f5d3fbf15c87428",
            "fe7966735e074c34b1962aa802f5574f",
            "054f077d5be3425ea422b2de437c4321",
            "6fc0fa412fde4f2984ddbff526926938",
            "d83757476b184ef087aad85ffb9751e6",
            "d870d6ee3b1d4899ab294c84b24d53f7",
            "819c0aa311bc45578aa90fcf802a5401",
            "8e82b6aebb014af898567d87f9bdc484",
            "86b5adfc8830483ebe81167ccd4f8fa8",
            "4474a78388f64a6db95a3e8e9dc0de8e",
            "84893937a74343319cff476010588b8c",
            "c9c788d3c56d485e80b3b0fa2be1c304",
            "13c5fb03edbc4464af88b5a4589afdca",
            "00f60eed6e6b4cb98de07203fd9e74ea",
            "40972ea828764e9cae0f1a7975e359b8",
            "1450ed8accc94ca0b56e72e45537d308",
            "0116a063703b4c729e5b6c7f936fbcdd",
            "8e0662f687c0489b997df71a1390d32a",
            "19dd3b2aa69b4a359e57bfff90d1b158",
            "e55616a82869432dbef3f3715f78d700",
            "ad33d04f9e454ec89e2d984876f501e9",
            "3163a0e8ac6d4c0fb046a504af71c42e",
            "93bd1afb69ed448c910a6f8d5d8866f0",
            "f3dd8a1633944228a70d3448b4a83764",
            "9473afcd2f684d2b9e31ea7136aa6772",
            "5c6ed68a644f478d8e5216060ad69aca",
            "640e1d0787c64fa0ac771529d72346b4",
            "ff5abbd209074a289ce0e5a12e7d2bbc",
            "04ec430458664b7dac2a9071bae62289",
            "52487511c508475b97be5c7d8947fb0f",
            "6982d24740974c7c805e13f743d7b4bd",
            "23f3230be9b54e3a9d5b1acc73820a93",
            "51c54a94a95342fd998e2775fb01fb18",
            "971b575a19494810ad50b36f24c3c202",
            "ef1c21cd726e49c9bc08747754f8095d",
            "b2bace6009c4440c86247046bda498ef",
            "e27b01080aa543c3aadb35df51816f07",
            "c5d37677a26f4c439b5b4cadf55b45d6",
            "c6c40735d08b4403a498613c7a74bfde",
            "93f0054d286a4043b726dec4c84d13e7",
            "d4a06606bc574f02a7c670fbf5941ea2",
            "7796c4deb20948ca8352c7ce3ed944bb",
            "b05543bb8622459eabd9588c595ae114",
            "cd9959cfd8b14256b9c18180350f8109",
            "1ae1a3cfe2c244d5a2a9e496b5084978",
            "984b4dd02a794e34a0da6bf137ef7133",
            "531944394a9d457d9ac23764d65838c3",
            "f4d7b72c0f6a45a1b97c8ab2b79484fe",
            "e1d51539aba3432ba221d4388f43822b",
            "57fbb72cda8142f78a73e905b25056f6",
            "5fb35f23dde24b8084d69ef781c12556",
            "71e626dda33246028d4b6313f48cd516",
            "2e28cd7569884e5d89eb3be8488b0bb4",
            "d74541eb723c4d6d8115e48ba1998db9",
            "0725270dba2e4ff6b293a08b264fe3c4",
            "c83b4a28a8344f60be3cef8df014ac5f",
            "886a727e53d5418d9729e2f7ca5232a3",
            "aa4acc7f25d247a68532d6df94d54b08",
            "4206c60bb7304a99bf00a351dd4e0c85",
            "0f28111ae8d94b4daa8b0bde9f2d6f71",
            "e9ec4b62b7f24bffa0e7d6773b2a52f8",
            "dd46b9795edd41a68616fd15c76b8b5b",
            "a7035f038fef46c0968ba76afe8565e8",
            "b7be956b393b4af6aec3626134d4dc40",
            "b284bc28d9154639a71489cb9b7005cf",
            "2ceab25fa6cb4bafbb742a605fb21956",
            "e253fdd4195b40a3998e94bb95246849",
            "41b18bdcc81e4f0ba70dcde34dde6492",
            "9885128277334863957a2ac38ca03e23",
            "82d456972dcb477cbd7dc63deda8c3bf",
            "624ef6140ab445e4a0ffc7a0a5948b1a",
            "60ba0688646446978519d5a5b81361bd",
            "7d22512c03ab413896d3b1b22e7b1aeb",
            "8d009090f0e44427ad33bf928b154b4e"
          ],
          "base_uri": "https://localhost:8080/",
          "height": 381
        },
        "id": "8e91122a",
        "outputId": "ea26d7e1-ea5e-479f-f16d-96c714f38f3b"
      },
      "outputs": [
        {
          "output_type": "stream",
          "name": "stderr",
          "text": [
            "INFO:pytorch_lightning.utilities.rank_zero:You are using the plain ModelCheckpoint callback. Consider using LitModelCheckpoint which with seamless uploading to Model registry.\n",
            "INFO:pytorch_lightning.utilities.rank_zero:GPU available: True (cuda), used: True\n",
            "INFO:pytorch_lightning.utilities.rank_zero:TPU available: False, using: 0 TPU cores\n",
            "INFO:pytorch_lightning.utilities.rank_zero:HPU available: False, using: 0 HPUs\n",
            "INFO:pytorch_lightning.accelerators.cuda:LOCAL_RANK: 0 - CUDA_VISIBLE_DEVICES: [0]\n",
            "INFO:pytorch_lightning.callbacks.model_summary:\n",
            "  | Name  | Type         | Params | Mode \n",
            "-----------------------------------------------\n",
            "0 | model | HittersModel | 1.1 K  | train\n",
            "1 | loss  | MSELoss      | 0      | train\n",
            "-----------------------------------------------\n",
            "1.1 K     Trainable params\n",
            "0         Non-trainable params\n",
            "1.1 K     Total params\n",
            "0.004     Total estimated model params size (MB)\n",
            "8         Modules in train mode\n",
            "0         Modules in eval mode\n"
          ]
        },
        {
          "output_type": "display_data",
          "data": {
            "text/plain": [
              "Sanity Checking: |          | 0/? [00:00<?, ?it/s]"
            ],
            "application/vnd.jupyter.widget-view+json": {
              "version_major": 2,
              "version_minor": 0,
              "model_id": "122392122ed543d3a45f5f8dbdde2895"
            }
          },
          "metadata": {}
        },
        {
          "output_type": "display_data",
          "data": {
            "text/plain": [
              "Training: |          | 0/? [00:00<?, ?it/s]"
            ],
            "application/vnd.jupyter.widget-view+json": {
              "version_major": 2,
              "version_minor": 0,
              "model_id": "25510ae6b0ce4dbd971eb421725714f5"
            }
          },
          "metadata": {}
        },
        {
          "output_type": "display_data",
          "data": {
            "text/plain": [
              "Validation: |          | 0/? [00:00<?, ?it/s]"
            ],
            "application/vnd.jupyter.widget-view+json": {
              "version_major": 2,
              "version_minor": 0,
              "model_id": "5b3bcf3c78c84c9eae883849dc19b525"
            }
          },
          "metadata": {}
        },
        {
          "output_type": "display_data",
          "data": {
            "text/plain": [
              "Validation: |          | 0/? [00:00<?, ?it/s]"
            ],
            "application/vnd.jupyter.widget-view+json": {
              "version_major": 2,
              "version_minor": 0,
              "model_id": "2c92d0e1fbd8424bb7fadf1760ef3e18"
            }
          },
          "metadata": {}
        },
        {
          "output_type": "display_data",
          "data": {
            "text/plain": [
              "Validation: |          | 0/? [00:00<?, ?it/s]"
            ],
            "application/vnd.jupyter.widget-view+json": {
              "version_major": 2,
              "version_minor": 0,
              "model_id": "19b994e58b1f4568ba2a40e6aa4ad533"
            }
          },
          "metadata": {}
        },
        {
          "output_type": "display_data",
          "data": {
            "text/plain": [
              "Validation: |          | 0/? [00:00<?, ?it/s]"
            ],
            "application/vnd.jupyter.widget-view+json": {
              "version_major": 2,
              "version_minor": 0,
              "model_id": "05c08e243ac04e2ea21ecb8be645806e"
            }
          },
          "metadata": {}
        },
        {
          "output_type": "display_data",
          "data": {
            "text/plain": [
              "Validation: |          | 0/? [00:00<?, ?it/s]"
            ],
            "application/vnd.jupyter.widget-view+json": {
              "version_major": 2,
              "version_minor": 0,
              "model_id": "047d3db8304a425fa13c085aa80bb77f"
            }
          },
          "metadata": {}
        },
        {
          "output_type": "display_data",
          "data": {
            "text/plain": [
              "Validation: |          | 0/? [00:00<?, ?it/s]"
            ],
            "application/vnd.jupyter.widget-view+json": {
              "version_major": 2,
              "version_minor": 0,
              "model_id": "80067e3877a342e2a6bf92c9e4f11a3f"
            }
          },
          "metadata": {}
        },
        {
          "output_type": "display_data",
          "data": {
            "text/plain": [
              "Validation: |          | 0/? [00:00<?, ?it/s]"
            ],
            "application/vnd.jupyter.widget-view+json": {
              "version_major": 2,
              "version_minor": 0,
              "model_id": "9ee321c8d15e458c8a26d650996a4e7f"
            }
          },
          "metadata": {}
        },
        {
          "output_type": "display_data",
          "data": {
            "text/plain": [
              "Validation: |          | 0/? [00:00<?, ?it/s]"
            ],
            "application/vnd.jupyter.widget-view+json": {
              "version_major": 2,
              "version_minor": 0,
              "model_id": "f7b62837e78043efb45fd21a8f419dca"
            }
          },
          "metadata": {}
        },
        {
          "output_type": "display_data",
          "data": {
            "text/plain": [
              "Validation: |          | 0/? [00:00<?, ?it/s]"
            ],
            "application/vnd.jupyter.widget-view+json": {
              "version_major": 2,
              "version_minor": 0,
              "model_id": "62d5fe7e302a4b7c95bd2842947f04a0"
            }
          },
          "metadata": {}
        },
        {
          "output_type": "display_data",
          "data": {
            "text/plain": [
              "Validation: |          | 0/? [00:00<?, ?it/s]"
            ],
            "application/vnd.jupyter.widget-view+json": {
              "version_major": 2,
              "version_minor": 0,
              "model_id": "eb3543f0eb2447cf9d302d0e3496a1e7"
            }
          },
          "metadata": {}
        },
        {
          "output_type": "display_data",
          "data": {
            "text/plain": [
              "Validation: |          | 0/? [00:00<?, ?it/s]"
            ],
            "application/vnd.jupyter.widget-view+json": {
              "version_major": 2,
              "version_minor": 0,
              "model_id": "9461e0852af840b1b47890cef908a92d"
            }
          },
          "metadata": {}
        },
        {
          "output_type": "display_data",
          "data": {
            "text/plain": [
              "Validation: |          | 0/? [00:00<?, ?it/s]"
            ],
            "application/vnd.jupyter.widget-view+json": {
              "version_major": 2,
              "version_minor": 0,
              "model_id": "ddd9fca594904284993a87d64fc14539"
            }
          },
          "metadata": {}
        },
        {
          "output_type": "display_data",
          "data": {
            "text/plain": [
              "Validation: |          | 0/? [00:00<?, ?it/s]"
            ],
            "application/vnd.jupyter.widget-view+json": {
              "version_major": 2,
              "version_minor": 0,
              "model_id": "3f0090566e9a4c05972762bb5bec7277"
            }
          },
          "metadata": {}
        },
        {
          "output_type": "display_data",
          "data": {
            "text/plain": [
              "Validation: |          | 0/? [00:00<?, ?it/s]"
            ],
            "application/vnd.jupyter.widget-view+json": {
              "version_major": 2,
              "version_minor": 0,
              "model_id": "b18b05b6407448139c00bd3a7da5a5c5"
            }
          },
          "metadata": {}
        },
        {
          "output_type": "display_data",
          "data": {
            "text/plain": [
              "Validation: |          | 0/? [00:00<?, ?it/s]"
            ],
            "application/vnd.jupyter.widget-view+json": {
              "version_major": 2,
              "version_minor": 0,
              "model_id": "a0f63402bde14feab95d287c03873f96"
            }
          },
          "metadata": {}
        },
        {
          "output_type": "display_data",
          "data": {
            "text/plain": [
              "Validation: |          | 0/? [00:00<?, ?it/s]"
            ],
            "application/vnd.jupyter.widget-view+json": {
              "version_major": 2,
              "version_minor": 0,
              "model_id": "314a07dc6f374b22a604ca43b222a193"
            }
          },
          "metadata": {}
        },
        {
          "output_type": "display_data",
          "data": {
            "text/plain": [
              "Validation: |          | 0/? [00:00<?, ?it/s]"
            ],
            "application/vnd.jupyter.widget-view+json": {
              "version_major": 2,
              "version_minor": 0,
              "model_id": "0569b3521e0144009abc11257e0cf669"
            }
          },
          "metadata": {}
        },
        {
          "output_type": "display_data",
          "data": {
            "text/plain": [
              "Validation: |          | 0/? [00:00<?, ?it/s]"
            ],
            "application/vnd.jupyter.widget-view+json": {
              "version_major": 2,
              "version_minor": 0,
              "model_id": "d8d67160e174427894c79583910ecb35"
            }
          },
          "metadata": {}
        },
        {
          "output_type": "display_data",
          "data": {
            "text/plain": [
              "Validation: |          | 0/? [00:00<?, ?it/s]"
            ],
            "application/vnd.jupyter.widget-view+json": {
              "version_major": 2,
              "version_minor": 0,
              "model_id": "0b216c15fb354654a5520a1014bcd6f9"
            }
          },
          "metadata": {}
        },
        {
          "output_type": "display_data",
          "data": {
            "text/plain": [
              "Validation: |          | 0/? [00:00<?, ?it/s]"
            ],
            "application/vnd.jupyter.widget-view+json": {
              "version_major": 2,
              "version_minor": 0,
              "model_id": "65ade4f39c4749fcabd3eef8a2f999f0"
            }
          },
          "metadata": {}
        },
        {
          "output_type": "display_data",
          "data": {
            "text/plain": [
              "Validation: |          | 0/? [00:00<?, ?it/s]"
            ],
            "application/vnd.jupyter.widget-view+json": {
              "version_major": 2,
              "version_minor": 0,
              "model_id": "666df0e86a1141d2a40b3aaaf54d3a32"
            }
          },
          "metadata": {}
        },
        {
          "output_type": "display_data",
          "data": {
            "text/plain": [
              "Validation: |          | 0/? [00:00<?, ?it/s]"
            ],
            "application/vnd.jupyter.widget-view+json": {
              "version_major": 2,
              "version_minor": 0,
              "model_id": "7c941e8ac8554c79bbaf3aed4584c802"
            }
          },
          "metadata": {}
        },
        {
          "output_type": "display_data",
          "data": {
            "text/plain": [
              "Validation: |          | 0/? [00:00<?, ?it/s]"
            ],
            "application/vnd.jupyter.widget-view+json": {
              "version_major": 2,
              "version_minor": 0,
              "model_id": "600415837a994fa9aba07fa3d3587d5e"
            }
          },
          "metadata": {}
        },
        {
          "output_type": "display_data",
          "data": {
            "text/plain": [
              "Validation: |          | 0/? [00:00<?, ?it/s]"
            ],
            "application/vnd.jupyter.widget-view+json": {
              "version_major": 2,
              "version_minor": 0,
              "model_id": "203defbf5ebe40acb8897fff87282bbc"
            }
          },
          "metadata": {}
        },
        {
          "output_type": "display_data",
          "data": {
            "text/plain": [
              "Validation: |          | 0/? [00:00<?, ?it/s]"
            ],
            "application/vnd.jupyter.widget-view+json": {
              "version_major": 2,
              "version_minor": 0,
              "model_id": "399031cd86084bf5a22972b0ace0d7c8"
            }
          },
          "metadata": {}
        },
        {
          "output_type": "display_data",
          "data": {
            "text/plain": [
              "Validation: |          | 0/? [00:00<?, ?it/s]"
            ],
            "application/vnd.jupyter.widget-view+json": {
              "version_major": 2,
              "version_minor": 0,
              "model_id": "734965c6b70e43f6b263ad27445ea220"
            }
          },
          "metadata": {}
        },
        {
          "output_type": "display_data",
          "data": {
            "text/plain": [
              "Validation: |          | 0/? [00:00<?, ?it/s]"
            ],
            "application/vnd.jupyter.widget-view+json": {
              "version_major": 2,
              "version_minor": 0,
              "model_id": "934bd9066833427e93c72b7d23b27a2e"
            }
          },
          "metadata": {}
        },
        {
          "output_type": "display_data",
          "data": {
            "text/plain": [
              "Validation: |          | 0/? [00:00<?, ?it/s]"
            ],
            "application/vnd.jupyter.widget-view+json": {
              "version_major": 2,
              "version_minor": 0,
              "model_id": "a33ee0f34bb54bfba6e60c1228484e06"
            }
          },
          "metadata": {}
        },
        {
          "output_type": "display_data",
          "data": {
            "text/plain": [
              "Validation: |          | 0/? [00:00<?, ?it/s]"
            ],
            "application/vnd.jupyter.widget-view+json": {
              "version_major": 2,
              "version_minor": 0,
              "model_id": "9b476991e2b649a3a295792e52d1042b"
            }
          },
          "metadata": {}
        },
        {
          "output_type": "display_data",
          "data": {
            "text/plain": [
              "Validation: |          | 0/? [00:00<?, ?it/s]"
            ],
            "application/vnd.jupyter.widget-view+json": {
              "version_major": 2,
              "version_minor": 0,
              "model_id": "ba115001a86b4f67b6b8d754c3d220dc"
            }
          },
          "metadata": {}
        },
        {
          "output_type": "display_data",
          "data": {
            "text/plain": [
              "Validation: |          | 0/? [00:00<?, ?it/s]"
            ],
            "application/vnd.jupyter.widget-view+json": {
              "version_major": 2,
              "version_minor": 0,
              "model_id": "1e8f0d03990444ebb807358591448fe1"
            }
          },
          "metadata": {}
        },
        {
          "output_type": "display_data",
          "data": {
            "text/plain": [
              "Validation: |          | 0/? [00:00<?, ?it/s]"
            ],
            "application/vnd.jupyter.widget-view+json": {
              "version_major": 2,
              "version_minor": 0,
              "model_id": "e11178b39f49408cbe5c511c561a9810"
            }
          },
          "metadata": {}
        },
        {
          "output_type": "display_data",
          "data": {
            "text/plain": [
              "Validation: |          | 0/? [00:00<?, ?it/s]"
            ],
            "application/vnd.jupyter.widget-view+json": {
              "version_major": 2,
              "version_minor": 0,
              "model_id": "f9aeb53947ff42f5b8b1d73968ad9292"
            }
          },
          "metadata": {}
        },
        {
          "output_type": "display_data",
          "data": {
            "text/plain": [
              "Validation: |          | 0/? [00:00<?, ?it/s]"
            ],
            "application/vnd.jupyter.widget-view+json": {
              "version_major": 2,
              "version_minor": 0,
              "model_id": "3b293b34a5744074a4c085fbfd013390"
            }
          },
          "metadata": {}
        },
        {
          "output_type": "display_data",
          "data": {
            "text/plain": [
              "Validation: |          | 0/? [00:00<?, ?it/s]"
            ],
            "application/vnd.jupyter.widget-view+json": {
              "version_major": 2,
              "version_minor": 0,
              "model_id": "adc8c73a6cf345918842e168dc1919cb"
            }
          },
          "metadata": {}
        },
        {
          "output_type": "display_data",
          "data": {
            "text/plain": [
              "Validation: |          | 0/? [00:00<?, ?it/s]"
            ],
            "application/vnd.jupyter.widget-view+json": {
              "version_major": 2,
              "version_minor": 0,
              "model_id": "438c2ab8a8cd403ea23bd2a4594400a6"
            }
          },
          "metadata": {}
        },
        {
          "output_type": "display_data",
          "data": {
            "text/plain": [
              "Validation: |          | 0/? [00:00<?, ?it/s]"
            ],
            "application/vnd.jupyter.widget-view+json": {
              "version_major": 2,
              "version_minor": 0,
              "model_id": "978824304dca4571b1dfe334dd649967"
            }
          },
          "metadata": {}
        },
        {
          "output_type": "display_data",
          "data": {
            "text/plain": [
              "Validation: |          | 0/? [00:00<?, ?it/s]"
            ],
            "application/vnd.jupyter.widget-view+json": {
              "version_major": 2,
              "version_minor": 0,
              "model_id": "dc457c5ac49e4784a3b67a7b60a81d75"
            }
          },
          "metadata": {}
        },
        {
          "output_type": "display_data",
          "data": {
            "text/plain": [
              "Validation: |          | 0/? [00:00<?, ?it/s]"
            ],
            "application/vnd.jupyter.widget-view+json": {
              "version_major": 2,
              "version_minor": 0,
              "model_id": "3a7e214335be42be930f2a19f2b76767"
            }
          },
          "metadata": {}
        },
        {
          "output_type": "display_data",
          "data": {
            "text/plain": [
              "Validation: |          | 0/? [00:00<?, ?it/s]"
            ],
            "application/vnd.jupyter.widget-view+json": {
              "version_major": 2,
              "version_minor": 0,
              "model_id": "399d46ddf29845b3be461a092c94b68c"
            }
          },
          "metadata": {}
        },
        {
          "output_type": "display_data",
          "data": {
            "text/plain": [
              "Validation: |          | 0/? [00:00<?, ?it/s]"
            ],
            "application/vnd.jupyter.widget-view+json": {
              "version_major": 2,
              "version_minor": 0,
              "model_id": "19cc09704bd94850913eacf11e0a6009"
            }
          },
          "metadata": {}
        },
        {
          "output_type": "display_data",
          "data": {
            "text/plain": [
              "Validation: |          | 0/? [00:00<?, ?it/s]"
            ],
            "application/vnd.jupyter.widget-view+json": {
              "version_major": 2,
              "version_minor": 0,
              "model_id": "6a1d0386c63d4bee902a41823f3d7cfe"
            }
          },
          "metadata": {}
        },
        {
          "output_type": "display_data",
          "data": {
            "text/plain": [
              "Validation: |          | 0/? [00:00<?, ?it/s]"
            ],
            "application/vnd.jupyter.widget-view+json": {
              "version_major": 2,
              "version_minor": 0,
              "model_id": "c95f7a5e16424f1793e45ac91e21f0fb"
            }
          },
          "metadata": {}
        },
        {
          "output_type": "display_data",
          "data": {
            "text/plain": [
              "Validation: |          | 0/? [00:00<?, ?it/s]"
            ],
            "application/vnd.jupyter.widget-view+json": {
              "version_major": 2,
              "version_minor": 0,
              "model_id": "6f5bc171d9e1401f80060554ca8c2e3b"
            }
          },
          "metadata": {}
        },
        {
          "output_type": "display_data",
          "data": {
            "text/plain": [
              "Validation: |          | 0/? [00:00<?, ?it/s]"
            ],
            "application/vnd.jupyter.widget-view+json": {
              "version_major": 2,
              "version_minor": 0,
              "model_id": "86b5adfc8830483ebe81167ccd4f8fa8"
            }
          },
          "metadata": {}
        },
        {
          "output_type": "display_data",
          "data": {
            "text/plain": [
              "Validation: |          | 0/? [00:00<?, ?it/s]"
            ],
            "application/vnd.jupyter.widget-view+json": {
              "version_major": 2,
              "version_minor": 0,
              "model_id": "e55616a82869432dbef3f3715f78d700"
            }
          },
          "metadata": {}
        },
        {
          "output_type": "display_data",
          "data": {
            "text/plain": [
              "Validation: |          | 0/? [00:00<?, ?it/s]"
            ],
            "application/vnd.jupyter.widget-view+json": {
              "version_major": 2,
              "version_minor": 0,
              "model_id": "6982d24740974c7c805e13f743d7b4bd"
            }
          },
          "metadata": {}
        },
        {
          "output_type": "display_data",
          "data": {
            "text/plain": [
              "Validation: |          | 0/? [00:00<?, ?it/s]"
            ],
            "application/vnd.jupyter.widget-view+json": {
              "version_major": 2,
              "version_minor": 0,
              "model_id": "7796c4deb20948ca8352c7ce3ed944bb"
            }
          },
          "metadata": {}
        },
        {
          "output_type": "display_data",
          "data": {
            "text/plain": [
              "Validation: |          | 0/? [00:00<?, ?it/s]"
            ],
            "application/vnd.jupyter.widget-view+json": {
              "version_major": 2,
              "version_minor": 0,
              "model_id": "2e28cd7569884e5d89eb3be8488b0bb4"
            }
          },
          "metadata": {}
        },
        {
          "output_type": "display_data",
          "data": {
            "text/plain": [
              "Validation: |          | 0/? [00:00<?, ?it/s]"
            ],
            "application/vnd.jupyter.widget-view+json": {
              "version_major": 2,
              "version_minor": 0,
              "model_id": "b7be956b393b4af6aec3626134d4dc40"
            }
          },
          "metadata": {}
        },
        {
          "output_type": "stream",
          "name": "stderr",
          "text": [
            "INFO:pytorch_lightning.utilities.rank_zero:`Trainer.fit` stopped: `max_epochs=50` reached.\n"
          ]
        }
      ],
      "source": [
        "from pytorch_lightning import Trainer\n",
        "\n",
        "hit_trainer = Trainer(deterministic=False,    #Q15\n",
        "                      max_epochs=50,\n",
        "                      log_every_n_steps=5,\n",
        "                      logger=hit_logger,\n",
        "                      callbacks=[ErrorTracker()])\n",
        "hit_trainer.fit(hit_module, datamodule=hit_dm) #  Q16"
      ]
    },
    {
      "cell_type": "code",
      "execution_count": null,
      "id": "e6012d1f",
      "metadata": {
        "lines_to_next_cell": 2,
        "colab": {
          "referenced_widgets": [
            "79f0c3a1147d4071bd6cf1bc4a3a876f",
            "08eb86fd78564d428cf33cece192a605",
            "146f4f0252f0416ea2d12155744a4eb0",
            "c7ab890a46f5413f82cacc9043463ed9",
            "93a1b3b1ce874633a357e3bf150e63d3",
            "1d24466e2a8545b0a017a463f3486181",
            "6f488231c6424ffbbbbf2bb3f038aaf0",
            "10e38f3feba04e3ba7bdfd1171fe3b83",
            "cd6d79d088444922b1422e30b2c24087",
            "5d4e542ed3c6494e95d70395c97f90d8",
            "fcc1232c16074cfa97f457e45637f8e7"
          ],
          "base_uri": "https://localhost:8080/",
          "height": 186
        },
        "id": "e6012d1f",
        "outputId": "d6d8e239-4428-426c-c313-b82b4f171004"
      },
      "outputs": [
        {
          "output_type": "stream",
          "name": "stderr",
          "text": [
            "INFO:pytorch_lightning.accelerators.cuda:LOCAL_RANK: 0 - CUDA_VISIBLE_DEVICES: [0]\n"
          ]
        },
        {
          "output_type": "display_data",
          "data": {
            "text/plain": [
              "Testing: |          | 0/? [00:00<?, ?it/s]"
            ],
            "application/vnd.jupyter.widget-view+json": {
              "version_major": 2,
              "version_minor": 0,
              "model_id": "79f0c3a1147d4071bd6cf1bc4a3a876f"
            }
          },
          "metadata": {}
        },
        {
          "output_type": "display_data",
          "data": {
            "text/plain": [
              "┏━━━━━━━━━━━━━━━━━━━━━━━━━━━┳━━━━━━━━━━━━━━━━━━━━━━━━━━━┓\n",
              "┃\u001b[1m \u001b[0m\u001b[1m       Test metric       \u001b[0m\u001b[1m \u001b[0m┃\u001b[1m \u001b[0m\u001b[1m      DataLoader 0       \u001b[0m\u001b[1m \u001b[0m┃\n",
              "┡━━━━━━━━━━━━━━━━━━━━━━━━━━━╇━━━━━━━━━━━━━━━━━━━━━━━━━━━┩\n",
              "│\u001b[36m \u001b[0m\u001b[36m        test_loss        \u001b[0m\u001b[36m \u001b[0m│\u001b[35m \u001b[0m\u001b[35m     123543.3203125      \u001b[0m\u001b[35m \u001b[0m│\n",
              "│\u001b[36m \u001b[0m\u001b[36m        test_mae         \u001b[0m\u001b[36m \u001b[0m│\u001b[35m \u001b[0m\u001b[35m   248.27792358398438    \u001b[0m\u001b[35m \u001b[0m│\n",
              "└───────────────────────────┴───────────────────────────┘\n"
            ],
            "text/html": [
              "<pre style=\"white-space:pre;overflow-x:auto;line-height:normal;font-family:Menlo,'DejaVu Sans Mono',consolas,'Courier New',monospace\">┏━━━━━━━━━━━━━━━━━━━━━━━━━━━┳━━━━━━━━━━━━━━━━━━━━━━━━━━━┓\n",
              "┃<span style=\"font-weight: bold\">        Test metric        </span>┃<span style=\"font-weight: bold\">       DataLoader 0        </span>┃\n",
              "┡━━━━━━━━━━━━━━━━━━━━━━━━━━━╇━━━━━━━━━━━━━━━━━━━━━━━━━━━┩\n",
              "│<span style=\"color: #008080; text-decoration-color: #008080\">         test_loss         </span>│<span style=\"color: #800080; text-decoration-color: #800080\">      123543.3203125       </span>│\n",
              "│<span style=\"color: #008080; text-decoration-color: #008080\">         test_mae          </span>│<span style=\"color: #800080; text-decoration-color: #800080\">    248.27792358398438     </span>│\n",
              "└───────────────────────────┴───────────────────────────┘\n",
              "</pre>\n"
            ]
          },
          "metadata": {}
        },
        {
          "output_type": "execute_result",
          "data": {
            "text/plain": [
              "[{'test_loss': 123543.3203125, 'test_mae': 248.27792358398438}]"
            ]
          },
          "metadata": {},
          "execution_count": 30
        }
      ],
      "source": [
        "hit_trainer.test(hit_module, datamodule=hit_dm) ### MAE now\n"
      ]
    },
    {
      "cell_type": "code",
      "execution_count": null,
      "id": "c16407d4-a034-4d62-a53d-0df178877a49",
      "metadata": {
        "id": "c16407d4-a034-4d62-a53d-0df178877a49",
        "outputId": "ae1ff434-e738-439a-e44d-5a05b6437be4",
        "colab": {
          "base_uri": "https://localhost:8080/",
          "height": 121
        }
      },
      "outputs": [
        {
          "output_type": "execute_result",
          "data": {
            "text/plain": [
              "<bound method _ExperimentWriter.log_metrics of <pytorch_lightning.loggers.csv_logs.ExperimentWriter object at 0x7a037613a950>>"
            ],
            "text/html": [
              "<div style=\"max-width:800px; border: 1px solid var(--colab-border-color);\"><style>\n",
              "      pre.function-repr-contents {\n",
              "        overflow-x: auto;\n",
              "        padding: 8px 12px;\n",
              "        max-height: 500px;\n",
              "      }\n",
              "\n",
              "      pre.function-repr-contents.function-repr-contents-collapsed {\n",
              "        cursor: pointer;\n",
              "        max-height: 100px;\n",
              "      }\n",
              "    </style>\n",
              "    <pre style=\"white-space: initial; background:\n",
              "         var(--colab-secondary-surface-color); padding: 8px 12px;\n",
              "         border-bottom: 1px solid var(--colab-border-color);\"><b>lightning_fabric.loggers.csv_logs._ExperimentWriter.log_metrics</b><br/>def log_metrics(metrics_dict: dict[str, float], step: Optional[int]=None) -&gt; None</pre><pre class=\"function-repr-contents function-repr-contents-collapsed\" style=\"\"><a class=\"filepath\" style=\"display:none\" href=\"#\">/usr/local/lib/python3.11/dist-packages/lightning_fabric/loggers/csv_logs.py</a>Record metrics.</pre>\n",
              "      <script>\n",
              "      if (google.colab.kernel.accessAllowed && google.colab.files && google.colab.files.view) {\n",
              "        for (const element of document.querySelectorAll('.filepath')) {\n",
              "          element.style.display = 'block'\n",
              "          element.onclick = (event) => {\n",
              "            event.preventDefault();\n",
              "            event.stopPropagation();\n",
              "            google.colab.files.view(element.textContent, 213);\n",
              "          };\n",
              "        }\n",
              "      }\n",
              "      for (const element of document.querySelectorAll('.function-repr-contents')) {\n",
              "        element.onclick = (event) => {\n",
              "          event.preventDefault();\n",
              "          event.stopPropagation();\n",
              "          element.classList.toggle('function-repr-contents-collapsed');\n",
              "        };\n",
              "      }\n",
              "      </script>\n",
              "      </div>"
            ]
          },
          "metadata": {},
          "execution_count": 31
        }
      ],
      "source": [
        "hit_logger.experiment.log_metrics"
      ]
    },
    {
      "cell_type": "code",
      "execution_count": null,
      "id": "48313d02",
      "metadata": {
        "id": "48313d02"
      },
      "outputs": [],
      "source": [
        "hit_results = pd.read_csv(hit_logger.experiment.metrics_file_path)"
      ]
    },
    {
      "cell_type": "code",
      "execution_count": null,
      "id": "7827c656-0aa3-4a34-9c9d-aee435dde64b",
      "metadata": {
        "id": "7827c656-0aa3-4a34-9c9d-aee435dde64b",
        "outputId": "030f73b9-3908-42c0-c1c7-b8208e09f009",
        "colab": {
          "base_uri": "https://localhost:8080/",
          "height": 424
        }
      },
      "outputs": [
        {
          "output_type": "execute_result",
          "data": {
            "text/plain": [
              "     epoch  step      test_loss    test_mae  train_loss  train_mae_epoch  \\\n",
              "0        0     4            NaN         NaN         NaN              NaN   \n",
              "1        0     5            NaN         NaN         NaN              NaN   \n",
              "2        0     5            NaN         NaN  811154.375       552.164978   \n",
              "3        1     9            NaN         NaN         NaN              NaN   \n",
              "4        1    11            NaN         NaN         NaN              NaN   \n",
              "..     ...   ...            ...         ...         ...              ...   \n",
              "156     49   294            NaN         NaN         NaN              NaN   \n",
              "157     49   299            NaN         NaN         NaN              NaN   \n",
              "158     49   299            NaN         NaN         NaN              NaN   \n",
              "159     49   299            NaN         NaN  137719.750       252.673508   \n",
              "160     50   300  123543.320312  248.277924         NaN              NaN   \n",
              "\n",
              "     train_mae_step     valid_loss   valid_mae  \n",
              "0        331.035126            NaN         NaN  \n",
              "1               NaN  143938.828125  237.721832  \n",
              "2               NaN            NaN         NaN  \n",
              "3        228.919983            NaN         NaN  \n",
              "4               NaN  140019.484375  239.368256  \n",
              "..              ...            ...         ...  \n",
              "156      265.289673            NaN         NaN  \n",
              "157      210.600296            NaN         NaN  \n",
              "158             NaN  123543.320312  248.277924  \n",
              "159             NaN            NaN         NaN  \n",
              "160             NaN            NaN         NaN  \n",
              "\n",
              "[161 rows x 9 columns]"
            ],
            "text/html": [
              "\n",
              "  <div id=\"df-72e7c9b8-b4b2-47ae-b3ec-1aa428f1cebd\" class=\"colab-df-container\">\n",
              "    <div>\n",
              "<style scoped>\n",
              "    .dataframe tbody tr th:only-of-type {\n",
              "        vertical-align: middle;\n",
              "    }\n",
              "\n",
              "    .dataframe tbody tr th {\n",
              "        vertical-align: top;\n",
              "    }\n",
              "\n",
              "    .dataframe thead th {\n",
              "        text-align: right;\n",
              "    }\n",
              "</style>\n",
              "<table border=\"1\" class=\"dataframe\">\n",
              "  <thead>\n",
              "    <tr style=\"text-align: right;\">\n",
              "      <th></th>\n",
              "      <th>epoch</th>\n",
              "      <th>step</th>\n",
              "      <th>test_loss</th>\n",
              "      <th>test_mae</th>\n",
              "      <th>train_loss</th>\n",
              "      <th>train_mae_epoch</th>\n",
              "      <th>train_mae_step</th>\n",
              "      <th>valid_loss</th>\n",
              "      <th>valid_mae</th>\n",
              "    </tr>\n",
              "  </thead>\n",
              "  <tbody>\n",
              "    <tr>\n",
              "      <th>0</th>\n",
              "      <td>0</td>\n",
              "      <td>4</td>\n",
              "      <td>NaN</td>\n",
              "      <td>NaN</td>\n",
              "      <td>NaN</td>\n",
              "      <td>NaN</td>\n",
              "      <td>331.035126</td>\n",
              "      <td>NaN</td>\n",
              "      <td>NaN</td>\n",
              "    </tr>\n",
              "    <tr>\n",
              "      <th>1</th>\n",
              "      <td>0</td>\n",
              "      <td>5</td>\n",
              "      <td>NaN</td>\n",
              "      <td>NaN</td>\n",
              "      <td>NaN</td>\n",
              "      <td>NaN</td>\n",
              "      <td>NaN</td>\n",
              "      <td>143938.828125</td>\n",
              "      <td>237.721832</td>\n",
              "    </tr>\n",
              "    <tr>\n",
              "      <th>2</th>\n",
              "      <td>0</td>\n",
              "      <td>5</td>\n",
              "      <td>NaN</td>\n",
              "      <td>NaN</td>\n",
              "      <td>811154.375</td>\n",
              "      <td>552.164978</td>\n",
              "      <td>NaN</td>\n",
              "      <td>NaN</td>\n",
              "      <td>NaN</td>\n",
              "    </tr>\n",
              "    <tr>\n",
              "      <th>3</th>\n",
              "      <td>1</td>\n",
              "      <td>9</td>\n",
              "      <td>NaN</td>\n",
              "      <td>NaN</td>\n",
              "      <td>NaN</td>\n",
              "      <td>NaN</td>\n",
              "      <td>228.919983</td>\n",
              "      <td>NaN</td>\n",
              "      <td>NaN</td>\n",
              "    </tr>\n",
              "    <tr>\n",
              "      <th>4</th>\n",
              "      <td>1</td>\n",
              "      <td>11</td>\n",
              "      <td>NaN</td>\n",
              "      <td>NaN</td>\n",
              "      <td>NaN</td>\n",
              "      <td>NaN</td>\n",
              "      <td>NaN</td>\n",
              "      <td>140019.484375</td>\n",
              "      <td>239.368256</td>\n",
              "    </tr>\n",
              "    <tr>\n",
              "      <th>...</th>\n",
              "      <td>...</td>\n",
              "      <td>...</td>\n",
              "      <td>...</td>\n",
              "      <td>...</td>\n",
              "      <td>...</td>\n",
              "      <td>...</td>\n",
              "      <td>...</td>\n",
              "      <td>...</td>\n",
              "      <td>...</td>\n",
              "    </tr>\n",
              "    <tr>\n",
              "      <th>156</th>\n",
              "      <td>49</td>\n",
              "      <td>294</td>\n",
              "      <td>NaN</td>\n",
              "      <td>NaN</td>\n",
              "      <td>NaN</td>\n",
              "      <td>NaN</td>\n",
              "      <td>265.289673</td>\n",
              "      <td>NaN</td>\n",
              "      <td>NaN</td>\n",
              "    </tr>\n",
              "    <tr>\n",
              "      <th>157</th>\n",
              "      <td>49</td>\n",
              "      <td>299</td>\n",
              "      <td>NaN</td>\n",
              "      <td>NaN</td>\n",
              "      <td>NaN</td>\n",
              "      <td>NaN</td>\n",
              "      <td>210.600296</td>\n",
              "      <td>NaN</td>\n",
              "      <td>NaN</td>\n",
              "    </tr>\n",
              "    <tr>\n",
              "      <th>158</th>\n",
              "      <td>49</td>\n",
              "      <td>299</td>\n",
              "      <td>NaN</td>\n",
              "      <td>NaN</td>\n",
              "      <td>NaN</td>\n",
              "      <td>NaN</td>\n",
              "      <td>NaN</td>\n",
              "      <td>123543.320312</td>\n",
              "      <td>248.277924</td>\n",
              "    </tr>\n",
              "    <tr>\n",
              "      <th>159</th>\n",
              "      <td>49</td>\n",
              "      <td>299</td>\n",
              "      <td>NaN</td>\n",
              "      <td>NaN</td>\n",
              "      <td>137719.750</td>\n",
              "      <td>252.673508</td>\n",
              "      <td>NaN</td>\n",
              "      <td>NaN</td>\n",
              "      <td>NaN</td>\n",
              "    </tr>\n",
              "    <tr>\n",
              "      <th>160</th>\n",
              "      <td>50</td>\n",
              "      <td>300</td>\n",
              "      <td>123543.320312</td>\n",
              "      <td>248.277924</td>\n",
              "      <td>NaN</td>\n",
              "      <td>NaN</td>\n",
              "      <td>NaN</td>\n",
              "      <td>NaN</td>\n",
              "      <td>NaN</td>\n",
              "    </tr>\n",
              "  </tbody>\n",
              "</table>\n",
              "<p>161 rows × 9 columns</p>\n",
              "</div>\n",
              "    <div class=\"colab-df-buttons\">\n",
              "\n",
              "  <div class=\"colab-df-container\">\n",
              "    <button class=\"colab-df-convert\" onclick=\"convertToInteractive('df-72e7c9b8-b4b2-47ae-b3ec-1aa428f1cebd')\"\n",
              "            title=\"Convert this dataframe to an interactive table.\"\n",
              "            style=\"display:none;\">\n",
              "\n",
              "  <svg xmlns=\"http://www.w3.org/2000/svg\" height=\"24px\" viewBox=\"0 -960 960 960\">\n",
              "    <path d=\"M120-120v-720h720v720H120Zm60-500h600v-160H180v160Zm220 220h160v-160H400v160Zm0 220h160v-160H400v160ZM180-400h160v-160H180v160Zm440 0h160v-160H620v160ZM180-180h160v-160H180v160Zm440 0h160v-160H620v160Z\"/>\n",
              "  </svg>\n",
              "    </button>\n",
              "\n",
              "  <style>\n",
              "    .colab-df-container {\n",
              "      display:flex;\n",
              "      gap: 12px;\n",
              "    }\n",
              "\n",
              "    .colab-df-convert {\n",
              "      background-color: #E8F0FE;\n",
              "      border: none;\n",
              "      border-radius: 50%;\n",
              "      cursor: pointer;\n",
              "      display: none;\n",
              "      fill: #1967D2;\n",
              "      height: 32px;\n",
              "      padding: 0 0 0 0;\n",
              "      width: 32px;\n",
              "    }\n",
              "\n",
              "    .colab-df-convert:hover {\n",
              "      background-color: #E2EBFA;\n",
              "      box-shadow: 0px 1px 2px rgba(60, 64, 67, 0.3), 0px 1px 3px 1px rgba(60, 64, 67, 0.15);\n",
              "      fill: #174EA6;\n",
              "    }\n",
              "\n",
              "    .colab-df-buttons div {\n",
              "      margin-bottom: 4px;\n",
              "    }\n",
              "\n",
              "    [theme=dark] .colab-df-convert {\n",
              "      background-color: #3B4455;\n",
              "      fill: #D2E3FC;\n",
              "    }\n",
              "\n",
              "    [theme=dark] .colab-df-convert:hover {\n",
              "      background-color: #434B5C;\n",
              "      box-shadow: 0px 1px 3px 1px rgba(0, 0, 0, 0.15);\n",
              "      filter: drop-shadow(0px 1px 2px rgba(0, 0, 0, 0.3));\n",
              "      fill: #FFFFFF;\n",
              "    }\n",
              "  </style>\n",
              "\n",
              "    <script>\n",
              "      const buttonEl =\n",
              "        document.querySelector('#df-72e7c9b8-b4b2-47ae-b3ec-1aa428f1cebd button.colab-df-convert');\n",
              "      buttonEl.style.display =\n",
              "        google.colab.kernel.accessAllowed ? 'block' : 'none';\n",
              "\n",
              "      async function convertToInteractive(key) {\n",
              "        const element = document.querySelector('#df-72e7c9b8-b4b2-47ae-b3ec-1aa428f1cebd');\n",
              "        const dataTable =\n",
              "          await google.colab.kernel.invokeFunction('convertToInteractive',\n",
              "                                                    [key], {});\n",
              "        if (!dataTable) return;\n",
              "\n",
              "        const docLinkHtml = 'Like what you see? Visit the ' +\n",
              "          '<a target=\"_blank\" href=https://colab.research.google.com/notebooks/data_table.ipynb>data table notebook</a>'\n",
              "          + ' to learn more about interactive tables.';\n",
              "        element.innerHTML = '';\n",
              "        dataTable['output_type'] = 'display_data';\n",
              "        await google.colab.output.renderOutput(dataTable, element);\n",
              "        const docLink = document.createElement('div');\n",
              "        docLink.innerHTML = docLinkHtml;\n",
              "        element.appendChild(docLink);\n",
              "      }\n",
              "    </script>\n",
              "  </div>\n",
              "\n",
              "\n",
              "<div id=\"df-e1a4f6d4-76de-4df3-aab6-b1860421fda4\">\n",
              "  <button class=\"colab-df-quickchart\" onclick=\"quickchart('df-e1a4f6d4-76de-4df3-aab6-b1860421fda4')\"\n",
              "            title=\"Suggest charts\"\n",
              "            style=\"display:none;\">\n",
              "\n",
              "<svg xmlns=\"http://www.w3.org/2000/svg\" height=\"24px\"viewBox=\"0 0 24 24\"\n",
              "     width=\"24px\">\n",
              "    <g>\n",
              "        <path d=\"M19 3H5c-1.1 0-2 .9-2 2v14c0 1.1.9 2 2 2h14c1.1 0 2-.9 2-2V5c0-1.1-.9-2-2-2zM9 17H7v-7h2v7zm4 0h-2V7h2v10zm4 0h-2v-4h2v4z\"/>\n",
              "    </g>\n",
              "</svg>\n",
              "  </button>\n",
              "\n",
              "<style>\n",
              "  .colab-df-quickchart {\n",
              "      --bg-color: #E8F0FE;\n",
              "      --fill-color: #1967D2;\n",
              "      --hover-bg-color: #E2EBFA;\n",
              "      --hover-fill-color: #174EA6;\n",
              "      --disabled-fill-color: #AAA;\n",
              "      --disabled-bg-color: #DDD;\n",
              "  }\n",
              "\n",
              "  [theme=dark] .colab-df-quickchart {\n",
              "      --bg-color: #3B4455;\n",
              "      --fill-color: #D2E3FC;\n",
              "      --hover-bg-color: #434B5C;\n",
              "      --hover-fill-color: #FFFFFF;\n",
              "      --disabled-bg-color: #3B4455;\n",
              "      --disabled-fill-color: #666;\n",
              "  }\n",
              "\n",
              "  .colab-df-quickchart {\n",
              "    background-color: var(--bg-color);\n",
              "    border: none;\n",
              "    border-radius: 50%;\n",
              "    cursor: pointer;\n",
              "    display: none;\n",
              "    fill: var(--fill-color);\n",
              "    height: 32px;\n",
              "    padding: 0;\n",
              "    width: 32px;\n",
              "  }\n",
              "\n",
              "  .colab-df-quickchart:hover {\n",
              "    background-color: var(--hover-bg-color);\n",
              "    box-shadow: 0 1px 2px rgba(60, 64, 67, 0.3), 0 1px 3px 1px rgba(60, 64, 67, 0.15);\n",
              "    fill: var(--button-hover-fill-color);\n",
              "  }\n",
              "\n",
              "  .colab-df-quickchart-complete:disabled,\n",
              "  .colab-df-quickchart-complete:disabled:hover {\n",
              "    background-color: var(--disabled-bg-color);\n",
              "    fill: var(--disabled-fill-color);\n",
              "    box-shadow: none;\n",
              "  }\n",
              "\n",
              "  .colab-df-spinner {\n",
              "    border: 2px solid var(--fill-color);\n",
              "    border-color: transparent;\n",
              "    border-bottom-color: var(--fill-color);\n",
              "    animation:\n",
              "      spin 1s steps(1) infinite;\n",
              "  }\n",
              "\n",
              "  @keyframes spin {\n",
              "    0% {\n",
              "      border-color: transparent;\n",
              "      border-bottom-color: var(--fill-color);\n",
              "      border-left-color: var(--fill-color);\n",
              "    }\n",
              "    20% {\n",
              "      border-color: transparent;\n",
              "      border-left-color: var(--fill-color);\n",
              "      border-top-color: var(--fill-color);\n",
              "    }\n",
              "    30% {\n",
              "      border-color: transparent;\n",
              "      border-left-color: var(--fill-color);\n",
              "      border-top-color: var(--fill-color);\n",
              "      border-right-color: var(--fill-color);\n",
              "    }\n",
              "    40% {\n",
              "      border-color: transparent;\n",
              "      border-right-color: var(--fill-color);\n",
              "      border-top-color: var(--fill-color);\n",
              "    }\n",
              "    60% {\n",
              "      border-color: transparent;\n",
              "      border-right-color: var(--fill-color);\n",
              "    }\n",
              "    80% {\n",
              "      border-color: transparent;\n",
              "      border-right-color: var(--fill-color);\n",
              "      border-bottom-color: var(--fill-color);\n",
              "    }\n",
              "    90% {\n",
              "      border-color: transparent;\n",
              "      border-bottom-color: var(--fill-color);\n",
              "    }\n",
              "  }\n",
              "</style>\n",
              "\n",
              "  <script>\n",
              "    async function quickchart(key) {\n",
              "      const quickchartButtonEl =\n",
              "        document.querySelector('#' + key + ' button');\n",
              "      quickchartButtonEl.disabled = true;  // To prevent multiple clicks.\n",
              "      quickchartButtonEl.classList.add('colab-df-spinner');\n",
              "      try {\n",
              "        const charts = await google.colab.kernel.invokeFunction(\n",
              "            'suggestCharts', [key], {});\n",
              "      } catch (error) {\n",
              "        console.error('Error during call to suggestCharts:', error);\n",
              "      }\n",
              "      quickchartButtonEl.classList.remove('colab-df-spinner');\n",
              "      quickchartButtonEl.classList.add('colab-df-quickchart-complete');\n",
              "    }\n",
              "    (() => {\n",
              "      let quickchartButtonEl =\n",
              "        document.querySelector('#df-e1a4f6d4-76de-4df3-aab6-b1860421fda4 button');\n",
              "      quickchartButtonEl.style.display =\n",
              "        google.colab.kernel.accessAllowed ? 'block' : 'none';\n",
              "    })();\n",
              "  </script>\n",
              "</div>\n",
              "\n",
              "  <div id=\"id_e70fdc6c-2cc8-4137-b31d-fb6395f819af\">\n",
              "    <style>\n",
              "      .colab-df-generate {\n",
              "        background-color: #E8F0FE;\n",
              "        border: none;\n",
              "        border-radius: 50%;\n",
              "        cursor: pointer;\n",
              "        display: none;\n",
              "        fill: #1967D2;\n",
              "        height: 32px;\n",
              "        padding: 0 0 0 0;\n",
              "        width: 32px;\n",
              "      }\n",
              "\n",
              "      .colab-df-generate:hover {\n",
              "        background-color: #E2EBFA;\n",
              "        box-shadow: 0px 1px 2px rgba(60, 64, 67, 0.3), 0px 1px 3px 1px rgba(60, 64, 67, 0.15);\n",
              "        fill: #174EA6;\n",
              "      }\n",
              "\n",
              "      [theme=dark] .colab-df-generate {\n",
              "        background-color: #3B4455;\n",
              "        fill: #D2E3FC;\n",
              "      }\n",
              "\n",
              "      [theme=dark] .colab-df-generate:hover {\n",
              "        background-color: #434B5C;\n",
              "        box-shadow: 0px 1px 3px 1px rgba(0, 0, 0, 0.15);\n",
              "        filter: drop-shadow(0px 1px 2px rgba(0, 0, 0, 0.3));\n",
              "        fill: #FFFFFF;\n",
              "      }\n",
              "    </style>\n",
              "    <button class=\"colab-df-generate\" onclick=\"generateWithVariable('hit_results')\"\n",
              "            title=\"Generate code using this dataframe.\"\n",
              "            style=\"display:none;\">\n",
              "\n",
              "  <svg xmlns=\"http://www.w3.org/2000/svg\" height=\"24px\"viewBox=\"0 0 24 24\"\n",
              "       width=\"24px\">\n",
              "    <path d=\"M7,19H8.4L18.45,9,17,7.55,7,17.6ZM5,21V16.75L18.45,3.32a2,2,0,0,1,2.83,0l1.4,1.43a1.91,1.91,0,0,1,.58,1.4,1.91,1.91,0,0,1-.58,1.4L9.25,21ZM18.45,9,17,7.55Zm-12,3A5.31,5.31,0,0,0,4.9,8.1,5.31,5.31,0,0,0,1,6.5,5.31,5.31,0,0,0,4.9,4.9,5.31,5.31,0,0,0,6.5,1,5.31,5.31,0,0,0,8.1,4.9,5.31,5.31,0,0,0,12,6.5,5.46,5.46,0,0,0,6.5,12Z\"/>\n",
              "  </svg>\n",
              "    </button>\n",
              "    <script>\n",
              "      (() => {\n",
              "      const buttonEl =\n",
              "        document.querySelector('#id_e70fdc6c-2cc8-4137-b31d-fb6395f819af button.colab-df-generate');\n",
              "      buttonEl.style.display =\n",
              "        google.colab.kernel.accessAllowed ? 'block' : 'none';\n",
              "\n",
              "      buttonEl.onclick = () => {\n",
              "        google.colab.notebook.generateWithVariable('hit_results');\n",
              "      }\n",
              "      })();\n",
              "    </script>\n",
              "  </div>\n",
              "\n",
              "    </div>\n",
              "  </div>\n"
            ],
            "application/vnd.google.colaboratory.intrinsic+json": {
              "type": "dataframe",
              "variable_name": "hit_results",
              "summary": "{\n  \"name\": \"hit_results\",\n  \"rows\": 161,\n  \"fields\": [\n    {\n      \"column\": \"epoch\",\n      \"properties\": {\n        \"dtype\": \"number\",\n        \"std\": 14,\n        \"min\": 0,\n        \"max\": 50,\n        \"num_unique_values\": 51,\n        \"samples\": [\n          43,\n          40,\n          46\n        ],\n        \"semantic_type\": \"\",\n        \"description\": \"\"\n      }\n    },\n    {\n      \"column\": \"step\",\n      \"properties\": {\n        \"dtype\": \"number\",\n        \"std\": 87,\n        \"min\": 4,\n        \"max\": 300,\n        \"num_unique_values\": 101,\n        \"samples\": [\n          254,\n          167,\n          199\n        ],\n        \"semantic_type\": \"\",\n        \"description\": \"\"\n      }\n    },\n    {\n      \"column\": \"test_loss\",\n      \"properties\": {\n        \"dtype\": \"number\",\n        \"std\": null,\n        \"min\": 123543.3203125,\n        \"max\": 123543.3203125,\n        \"num_unique_values\": 1,\n        \"samples\": [\n          123543.3203125\n        ],\n        \"semantic_type\": \"\",\n        \"description\": \"\"\n      }\n    },\n    {\n      \"column\": \"test_mae\",\n      \"properties\": {\n        \"dtype\": \"number\",\n        \"std\": null,\n        \"min\": 248.2779235839844,\n        \"max\": 248.2779235839844,\n        \"num_unique_values\": 1,\n        \"samples\": [\n          248.2779235839844\n        ],\n        \"semantic_type\": \"\",\n        \"description\": \"\"\n      }\n    },\n    {\n      \"column\": \"train_loss\",\n      \"properties\": {\n        \"dtype\": \"number\",\n        \"std\": 97345.11001180508,\n        \"min\": 105378.3515625,\n        \"max\": 811154.375,\n        \"num_unique_values\": 50,\n        \"samples\": [\n          164025.96875\n        ],\n        \"semantic_type\": \"\",\n        \"description\": \"\"\n      }\n    },\n    {\n      \"column\": \"train_mae_epoch\",\n      \"properties\": {\n        \"dtype\": \"number\",\n        \"std\": 45.15876032576485,\n        \"min\": 223.4641265869141,\n        \"max\": 552.1649780273438,\n        \"num_unique_values\": 50,\n        \"samples\": [\n          263.9648132324219\n        ],\n        \"semantic_type\": \"\",\n        \"description\": \"\"\n      }\n    },\n    {\n      \"column\": \"train_mae_step\",\n      \"properties\": {\n        \"dtype\": \"number\",\n        \"std\": 48.721734772298056,\n        \"min\": 170.34786987304688,\n        \"max\": 366.4397583007813,\n        \"num_unique_values\": 60,\n        \"samples\": [\n          331.0351257324219\n        ],\n        \"semantic_type\": \"\",\n        \"description\": \"\"\n      }\n    },\n    {\n      \"column\": \"valid_loss\",\n      \"properties\": {\n        \"dtype\": \"number\",\n        \"std\": 14676.271058309912,\n        \"min\": 115110.640625,\n        \"max\": 181318.984375,\n        \"num_unique_values\": 50,\n        \"samples\": [\n          130741.1875\n        ],\n        \"semantic_type\": \"\",\n        \"description\": \"\"\n      }\n    },\n    {\n      \"column\": \"valid_mae\",\n      \"properties\": {\n        \"dtype\": \"number\",\n        \"std\": 12.993018744111389,\n        \"min\": 236.3345184326172,\n        \"max\": 295.4714050292969,\n        \"num_unique_values\": 50,\n        \"samples\": [\n          249.67613220214844\n        ],\n        \"semantic_type\": \"\",\n        \"description\": \"\"\n      }\n    }\n  ]\n}"
            }
          },
          "metadata": {},
          "execution_count": 33
        }
      ],
      "source": [
        "hit_results"
      ]
    },
    {
      "cell_type": "code",
      "execution_count": null,
      "id": "4f9ccf9b",
      "metadata": {
        "lines_to_next_cell": 0,
        "id": "4f9ccf9b"
      },
      "outputs": [],
      "source": [
        "def summary_plot(results,\n",
        "                 ax,\n",
        "                 col='loss',\n",
        "                 valid_legend='Validation',\n",
        "                 training_legend='Training',\n",
        "                 ylabel='Loss',\n",
        "                 fontsize=20):\n",
        "    for (column,\n",
        "         color,\n",
        "         label) in zip([f'train_{col}_epoch',\n",
        "                        f'valid_{col}'],\n",
        "                       ['black',\n",
        "                        'red'],\n",
        "                       [training_legend,\n",
        "                        valid_legend]):\n",
        "        results.plot(x='epoch',\n",
        "                     y=column,\n",
        "                     label=label,\n",
        "                     marker='*',\n",
        "                     color=color,\n",
        "                     ax=ax)\n",
        "    ax.set_xlabel('Epoch')\n",
        "    ax.set_ylabel(ylabel)\n",
        "    return ax"
      ]
    },
    {
      "cell_type": "code",
      "execution_count": null,
      "id": "3d77370a",
      "metadata": {
        "lines_to_next_cell": 2,
        "id": "3d77370a",
        "outputId": "03c52379-bf25-440f-b4e9-551dff7d6e80",
        "colab": {
          "base_uri": "https://localhost:8080/",
          "height": 547
        }
      },
      "outputs": [
        {
          "output_type": "display_data",
          "data": {
            "text/plain": [
              "<Figure size 600x600 with 1 Axes>"
            ],
            "image/png": "[encoded data removed]"
          },
          "metadata": {}
        }
      ],
      "source": [
        "fig, ax = subplots(1, 1, figsize=(6, 6)) #Q18\n",
        "ax = summary_plot(hit_results,\n",
        "                  ax,\n",
        "                  col='mae',\n",
        "                  ylabel='MAE',\n",
        "                  valid_legend='Validation (=Test)')\n",
        "ax.set_ylim([0, 400])\n",
        "ax.set_xticks(np.linspace(0, 50, 11).astype(int));"
      ]
    },
    {
      "cell_type": "code",
      "execution_count": null,
      "id": "e6a48733",
      "metadata": {
        "lines_to_next_cell": 0,
        "id": "e6a48733",
        "outputId": "6a432c9c-4928-4fd0-802c-61f0f68e25da",
        "colab": {
          "base_uri": "https://localhost:8080/"
        }
      },
      "outputs": [
        {
          "output_type": "execute_result",
          "data": {
            "text/plain": [
              "tensor(248.2779, grad_fn=<MeanBackward0>)"
            ]
          },
          "metadata": {},
          "execution_count": 36
        }
      ],
      "source": [
        "hit_model.eval()\n",
        "preds = hit_module(X_test_t)\n",
        "torch.abs(Y_test_t - preds).mean() #Q19"
      ]
    },
    {
      "cell_type": "markdown",
      "id": "b51594bb",
      "metadata": {
        "id": "b51594bb"
      },
      "source": [
        "### Cleanup\n"
      ]
    },
    {
      "cell_type": "code",
      "execution_count": null,
      "id": "78ca542d",
      "metadata": {
        "lines_to_next_cell": 2,
        "id": "78ca542d"
      },
      "outputs": [],
      "source": [
        "del(Hitters,  #Q20\n",
        "    hit_model, hit_dm,\n",
        "    hit_logger,\n",
        "    hit_test, hit_train,\n",
        "    X, Y,\n",
        "    X_test, X_train,\n",
        "    Y_test, Y_train,\n",
        "    X_test_t, Y_test_t,\n",
        "    hit_trainer, hit_module)\n"
      ]
    },
    {
      "cell_type": "markdown",
      "id": "42547131",
      "metadata": {
        "id": "42547131"
      },
      "source": [
        "## Multilayer Network on the MNIST Digit Data\n"
      ]
    },
    {
      "cell_type": "code",
      "execution_count": null,
      "id": "7a6d7416",
      "metadata": {
        "id": "7a6d7416",
        "outputId": "95c60cd0-c3ba-4c84-d375-c1ba42e22c24",
        "colab": {
          "base_uri": "https://localhost:8080/"
        }
      },
      "outputs": [
        {
          "output_type": "stream",
          "name": "stdout",
          "text": [
            "Downloading http://yann.lecun.com/exdb/mnist/train-images-idx3-ubyte.gz\n",
            "Failed to download (trying next):\n",
            "HTTP Error 404: Not Found\n",
            "\n",
            "Downloading https://ossci-datasets.s3.amazonaws.com/mnist/train-images-idx3-ubyte.gz\n",
            "Downloading https://ossci-datasets.s3.amazonaws.com/mnist/train-images-idx3-ubyte.gz to data/MNIST/raw/train-images-idx3-ubyte.gz\n"
          ]
        },
        {
          "output_type": "stream",
          "name": "stderr",
          "text": [
            "100%|██████████| 9.91M/9.91M [00:02<00:00, 4.59MB/s]\n"
          ]
        },
        {
          "output_type": "stream",
          "name": "stdout",
          "text": [
            "Extracting data/MNIST/raw/train-images-idx3-ubyte.gz to data/MNIST/raw\n",
            "\n",
            "Downloading http://yann.lecun.com/exdb/mnist/train-labels-idx1-ubyte.gz\n",
            "Failed to download (trying next):\n",
            "HTTP Error 404: Not Found\n",
            "\n",
            "Downloading https://ossci-datasets.s3.amazonaws.com/mnist/train-labels-idx1-ubyte.gz\n",
            "Downloading https://ossci-datasets.s3.amazonaws.com/mnist/train-labels-idx1-ubyte.gz to data/MNIST/raw/train-labels-idx1-ubyte.gz\n"
          ]
        },
        {
          "output_type": "stream",
          "name": "stderr",
          "text": [
            "100%|██████████| 28.9k/28.9k [00:00<00:00, 132kB/s]\n"
          ]
        },
        {
          "output_type": "stream",
          "name": "stdout",
          "text": [
            "Extracting data/MNIST/raw/train-labels-idx1-ubyte.gz to data/MNIST/raw\n",
            "\n",
            "Downloading http://yann.lecun.com/exdb/mnist/t10k-images-idx3-ubyte.gz\n",
            "Failed to download (trying next):\n",
            "HTTP Error 404: Not Found\n",
            "\n",
            "Downloading https://ossci-datasets.s3.amazonaws.com/mnist/t10k-images-idx3-ubyte.gz\n",
            "Downloading https://ossci-datasets.s3.amazonaws.com/mnist/t10k-images-idx3-ubyte.gz to data/MNIST/raw/t10k-images-idx3-ubyte.gz\n"
          ]
        },
        {
          "output_type": "stream",
          "name": "stderr",
          "text": [
            "100%|██████████| 1.65M/1.65M [00:01<00:00, 1.26MB/s]\n"
          ]
        },
        {
          "output_type": "stream",
          "name": "stdout",
          "text": [
            "Extracting data/MNIST/raw/t10k-images-idx3-ubyte.gz to data/MNIST/raw\n",
            "\n",
            "Downloading http://yann.lecun.com/exdb/mnist/t10k-labels-idx1-ubyte.gz\n",
            "Failed to download (trying next):\n",
            "HTTP Error 404: Not Found\n",
            "\n",
            "Downloading https://ossci-datasets.s3.amazonaws.com/mnist/t10k-labels-idx1-ubyte.gz\n",
            "Downloading https://ossci-datasets.s3.amazonaws.com/mnist/t10k-labels-idx1-ubyte.gz to data/MNIST/raw/t10k-labels-idx1-ubyte.gz\n"
          ]
        },
        {
          "output_type": "stream",
          "name": "stderr",
          "text": [
            "100%|██████████| 4.54k/4.54k [00:00<00:00, 8.66MB/s]"
          ]
        },
        {
          "output_type": "stream",
          "name": "stdout",
          "text": [
            "Extracting data/MNIST/raw/t10k-labels-idx1-ubyte.gz to data/MNIST/raw\n",
            "\n"
          ]
        },
        {
          "output_type": "stream",
          "name": "stderr",
          "text": [
            "\n"
          ]
        },
        {
          "output_type": "execute_result",
          "data": {
            "text/plain": [
              "Dataset MNIST\n",
              "    Number of datapoints: 60000\n",
              "    Root location: data\n",
              "    Split: Train\n",
              "    StandardTransform\n",
              "Transform: ToTensor()"
            ]
          },
          "metadata": {},
          "execution_count": 38
        }
      ],
      "source": [
        "from torchvision.datasets import MNIST, CIFAR100\n",
        "\n",
        "(mnist_train,                                #Q22, Q23. ### num records\n",
        " mnist_test) = [MNIST(root='data',\n",
        "                      train=train,\n",
        "                      download=True,\n",
        "                      transform=ToTensor())\n",
        "                for train in [True, False]]\n",
        "mnist_train\n"
      ]
    },
    {
      "cell_type": "code",
      "execution_count": null,
      "id": "e6c5e82c",
      "metadata": {
        "id": "e6c5e82c"
      },
      "outputs": [],
      "source": [
        "mnist_dm = SimpleDataModule(mnist_train,\n",
        "                            mnist_test,\n",
        "                            validation=0.2,\n",
        "                            num_workers=max_num_workers,\n",
        "                            batch_size=256)\n"
      ]
    },
    {
      "cell_type": "code",
      "execution_count": null,
      "id": "6ecf940c",
      "metadata": {
        "lines_to_next_cell": 2,
        "id": "6ecf940c",
        "outputId": "783b7386-051e-4667-cd6c-7e6cb73d301f",
        "colab": {
          "base_uri": "https://localhost:8080/"
        }
      },
      "outputs": [
        {
          "output_type": "stream",
          "name": "stdout",
          "text": [
            "X:  torch.Size([256, 1, 28, 28])\n",
            "Y:  torch.Size([256])\n",
            "X:  torch.Size([256, 1, 28, 28])\n",
            "Y:  torch.Size([256])\n"
          ]
        }
      ],
      "source": [
        "for idx, (X_ ,Y_) in enumerate(mnist_dm.train_dataloader()):\n",
        "    print('X: ', X_.shape)\n",
        "    print('Y: ', Y_.shape)\n",
        "    if idx >= 1:\n",
        "        break\n"
      ]
    },
    {
      "cell_type": "code",
      "execution_count": null,
      "id": "ca399c8b-c8ee-4c85-a5e6-b8d432ef1b68",
      "metadata": {
        "id": "ca399c8b-c8ee-4c85-a5e6-b8d432ef1b68"
      },
      "outputs": [],
      "source": []
    },
    {
      "cell_type": "markdown",
      "id": "7cd3482f-720f-43f2-8c63-643a340f2a99",
      "metadata": {
        "id": "7cd3482f-720f-43f2-8c63-643a340f2a99"
      },
      "source": [
        "# sample handwriting image per category"
      ]
    },
    {
      "cell_type": "code",
      "execution_count": null,
      "id": "759972ff-bf9c-4d6c-a9d8-5e63ed453b0f",
      "metadata": {
        "id": "759972ff-bf9c-4d6c-a9d8-5e63ed453b0f",
        "outputId": "a16f9b2f-79b9-439c-9b58-b18fdff8b570",
        "colab": {
          "base_uri": "https://localhost:8080/",
          "height": 112
        }
      },
      "outputs": [
        {
          "output_type": "display_data",
          "data": {
            "text/plain": [
              "<Figure size 1000x100 with 10 Axes>"
            ],
            "image/png": "[encoded data removed]"
          },
          "metadata": {}
        }
      ],
      "source": [
        "import matplotlib.pyplot as plt\n",
        "\n",
        "found = {}\n",
        "for img, label in zip(mnist_train.data, mnist_train.targets):\n",
        "    lbl = label.item()\n",
        "    if lbl not in found:\n",
        "        found[lbl] = img\n",
        "    if len(found) == 10:\n",
        "        break\n",
        "\n",
        "fig, axes = plt.subplots(1, 10, figsize=(10, 1))\n",
        "for i in range(10):\n",
        "    axes[i].imshow(found[i], cmap='gray')\n",
        "    axes[i].set_title(f\"Label: {i}\")\n",
        "    axes[i].axis('off')\n",
        "plt.tight_layout()\n"
      ]
    },
    {
      "cell_type": "code",
      "execution_count": null,
      "id": "f4c49bab",
      "metadata": {
        "id": "f4c49bab"
      },
      "outputs": [],
      "source": [
        "class MNISTModel(nn.Module):\n",
        "    def __init__(self):\n",
        "        super(MNISTModel, self).__init__()\n",
        "        self.layer1 = nn.Sequential(\n",
        "            nn.Flatten(),\n",
        "            nn.Linear(28*28, 256),  ### 256, 128 determined by... domain experience; rule of thusm: begin experiements with 256, 128, 64...\n",
        "            nn.ReLU(),\n",
        "            nn.Dropout(0.4))\n",
        "        self.layer2 = nn.Sequential(\n",
        "            nn.Linear(256, 128),\n",
        "            nn.ReLU(),\n",
        "            nn.Dropout(0.3))\n",
        "        self._forward = nn.Sequential(\n",
        "            self.layer1,\n",
        "            self.layer2,\n",
        "            nn.Linear(128, 10))\n",
        "    def forward(self, x):\n",
        "        return self._forward(x)"
      ]
    },
    {
      "cell_type": "code",
      "execution_count": null,
      "id": "8dd2770f",
      "metadata": {
        "id": "8dd2770f"
      },
      "outputs": [],
      "source": [
        "mnist_model = MNISTModel()\n"
      ]
    },
    {
      "cell_type": "code",
      "execution_count": null,
      "id": "54a6b6b2",
      "metadata": {
        "id": "54a6b6b2",
        "outputId": "75d97a3c-5a55-4891-d0e0-8c743ff6e288",
        "colab": {
          "base_uri": "https://localhost:8080/"
        }
      },
      "outputs": [
        {
          "output_type": "execute_result",
          "data": {
            "text/plain": [
              "===================================================================================================================\n",
              "Layer (type:depth-idx)                   Input Shape               Output Shape              Param #\n",
              "===================================================================================================================\n",
              "MNISTModel                               [256, 1, 28, 28]          [256, 10]                 --\n",
              "├─Sequential: 1-1                        [256, 1, 28, 28]          [256, 10]                 --\n",
              "│    └─Sequential: 2-1                   [256, 1, 28, 28]          [256, 256]                --\n",
              "│    │    └─Flatten: 3-1                 [256, 1, 28, 28]          [256, 784]                --\n",
              "│    │    └─Linear: 3-2                  [256, 784]                [256, 256]                200,960\n",
              "│    │    └─ReLU: 3-3                    [256, 256]                [256, 256]                --\n",
              "│    │    └─Dropout: 3-4                 [256, 256]                [256, 256]                --\n",
              "│    └─Sequential: 2-2                   [256, 256]                [256, 128]                --\n",
              "│    │    └─Linear: 3-5                  [256, 256]                [256, 128]                32,896\n",
              "│    │    └─ReLU: 3-6                    [256, 128]                [256, 128]                --\n",
              "│    │    └─Dropout: 3-7                 [256, 128]                [256, 128]                --\n",
              "│    └─Linear: 2-3                       [256, 128]                [256, 10]                 1,290\n",
              "===================================================================================================================\n",
              "Total params: 235,146\n",
              "Trainable params: 235,146\n",
              "Non-trainable params: 0\n",
              "Total mult-adds (Units.MEGABYTES): 60.20\n",
              "===================================================================================================================\n",
              "Input size (MB): 0.80\n",
              "Forward/backward pass size (MB): 0.81\n",
              "Params size (MB): 0.94\n",
              "Estimated Total Size (MB): 2.55\n",
              "==================================================================================================================="
            ]
          },
          "metadata": {},
          "execution_count": 44
        }
      ],
      "source": [
        "summary(mnist_model,\n",
        "        input_data=X_,\n",
        "        col_names=['input_size',\n",
        "                   'output_size',\n",
        "                   'num_params'])"
      ]
    },
    {
      "cell_type": "code",
      "execution_count": null,
      "id": "c1fa96fd",
      "metadata": {
        "id": "c1fa96fd"
      },
      "outputs": [],
      "source": [
        "mnist_module = SimpleModule.classification(mnist_model,num_classes=10)\n",
        "mnist_logger = CSVLogger('logs', name='MNIST')\n"
      ]
    },
    {
      "cell_type": "code",
      "execution_count": null,
      "id": "25515af7",
      "metadata": {
        "lines_to_next_cell": 0,
        "id": "25515af7",
        "outputId": "11f1b4be-d4df-4870-f805-6d3ea9860279",
        "colab": {
          "base_uri": "https://localhost:8080/",
          "height": 381,
          "referenced_widgets": [
            "2ec01a5f513a4d888edb9218b58571b9",
            "0d0fb7b54f3b45748784826d3bed9ca6",
            "e37df15d4e8f4e32a58f964600679f6d",
            "862096d56b22459f8a08e68c42a740a5",
            "4f582048994a4dbc88579683d16e1a62",
            "8d2f596c346c426999e7628030865692",
            "5d65e82dbd6644948a8fee64882562eb",
            "9fe2fc7ab3a842329559c59fc33a5ded",
            "e4aaac164f734f3eb353c0343bf32364",
            "cf0946f9b6504a43b2a49c1a192894de",
            "0d493cec5b9645e5bbaa03ca1e29ecf4",
            "450d139607844e2386967f7645281b1f",
            "2597640603d14a47a4d2133976b1bbac",
            "23cce25a27ff4fbfa4514be63ba3e72b",
            "0f8b528785e0425dbca98bd7e076d6ae",
            "683fbdbcf8bf4dadb4a64ed6391c218e",
            "0da68e9ad3e14176ba93e54e2d719a80",
            "8f54f43cd709401eb6e331fd2b64dcbc",
            "3ed1984969e1475896d74a994f751b67",
            "ea2dfddf78d74bef86bbcda193fb342a",
            "583d8209f7964a649eae0ea20b7cb7fb",
            "620b480897504dc2a3494b40f1278345",
            "7c40e11a3742440485ee1a81f20d7e0c",
            "b706b0a8ccc142bfa0fa1779d2847657",
            "be9644bd9ea04731a3288e7841a328c4",
            "64d37a38963b4e1a922baa6299f535db",
            "8c0c584dea3a4c3cb428d85ae57a7a53",
            "b40fe847c7124221a6edd96a5e55fe70",
            "8faeea85b92b41a8a628e20659d886f5",
            "1dad5da47ccf418498d09d494910a5ae",
            "5da9e3dc5d1b4342b5aa40b7fd93f177",
            "5842fee18fa74badbdddc35dae8c3351",
            "e270560e3f234c00a8b74b931995c323",
            "941358ad6bef446bbe51d2c21488bdde",
            "f17d50bed4a8402095e553ffd0da899c",
            "0a25c396c8f042fbbee65380569ede40",
            "f8b28875e2d44686900b713f3288a935",
            "20ae6ca0442a42b0812a7c1187d2d3cb",
            "3b7bc30c9c1049b8838d466024abcbb0",
            "14ae1c6b70e8434e83137cedb5c33bbe",
            "f1b760e3790841d196dcc60fe3b42319",
            "af3b803e93524c55b5e15f72e1954a70",
            "257edaf667cd4f5ea2393315b8e680a3",
            "86f4cf2cdd7f4314bdcf1b83d7172f81",
            "7b60809cf6a646069969d902a57d1351",
            "00e734f2370b4806ab810b7aee0e6c8a",
            "372812a0e1a141fbb5b28336656861d6",
            "3cf3a0582fd249a8a870e5fb0ee44d4c",
            "75f512ed331641de857cbab73665a5be",
            "267cd4a5f75647d99a28ff42f100c47a",
            "13cae4f2ec6d41bcb52c12eac199822c",
            "42ed3ddef00841c5a0c1e939faea0414",
            "3f9288850698471e92f234362bb2359d",
            "a24fb8433f144c649c7be200a25665b9",
            "2a18aa397ab346ceb6cbdbea01ea4e93",
            "ebaaae12910e425d94897ad9e070a0b6",
            "cffd0392ffba40858a3b156549158dc6",
            "4643703e0f68477eb80b0c483f4cab32",
            "d9942889f15b463cb17400e6d0c482c8",
            "ccb71389a7c84bb997bce5c4ea79895d",
            "d2c3f73608e3476da4f929009ba4f7f5",
            "dd604594f03e429fb039c2be29c90434",
            "7edc92aad8b14123a9006bf55e7a5c91",
            "43aaa964b6b44ffe8e348ebe2d502ba3",
            "8dad8b460c564f52b990b835b6fb7c29",
            "6ecde96a6db24c01a5ca0744a34ab4c4",
            "c17cc05192f34f6081d237c51b47f8f8",
            "ff2aa21e683e48a2a2939acb86819fd3",
            "7b51c7c2a9fb4eca885660588a7c66ce",
            "8995cf0d07fc4f74b1b88af9513c6052",
            "3f7c8eb7ad31436cb335527e3ec2a94c",
            "6fb7d9e612044989aef3df64e5f45fb5",
            "f060f7ca970942fc98379bd74358bc8d",
            "c09fab1cb74c4600bdc8e1fe06f3ec1b",
            "7dd2837122cd4c73bfa80439a3e4895a",
            "a190b864fa20419fbdb9238ea8b46978",
            "5a5dd6520ad04d2596c4e79efe0f5efe",
            "509c2719efc44dbcb86dd86a3785cc56",
            "6fbf15dbc9f249f1b58b911e612e0d74",
            "84715c85866b4109ace1a02677f4ad05",
            "f5cb7bc0f4ab4168ae5f598edd4d74f8",
            "adac63c67d0c4ba1a5a45b3d0154b514",
            "a14934071af8452e8c772c01399b4a4a",
            "8dfb8ee734d14fdb80019b7e83c9b1e3",
            "bbde783b04c6409490cad8c360dc058d",
            "8c09e44662d042cd97e8a625ee8a0894",
            "b0d5f3f996a64828a0313e5af5300bbd",
            "2ea6363274b944a2a0c906d5f8c9fbbc",
            "0de6899dec9c40ebaae642db9fc54265",
            "96e4930392874eb88a1de298cff0129e",
            "b3538aa1e6264a9c88e9116407d576d9",
            "3d31b84e0c4e49b1aff5e4ddc60bba6c",
            "b2be943bfce04bacbc102cf46cf4a5b3",
            "9ef7ba67e10740cbb0cd6d0d4928d27f",
            "08c5fa39fa7b4f2b893ae8dc465d112a",
            "6eae1901843b42f28e62382b0bc29512",
            "1311e7978d0442ed84d6127b3130ec55",
            "79c0bea223bb4be9a4a94316e63b4371",
            "a7a7dd978a2941338b578e86e4dac8b9",
            "42706a378f0742ed88f22767a3e7588d",
            "85d612b2f32d471d88b82fa9af7bb65d",
            "c3beeb8b0d7143cd82d8ac8d4ca4b90a",
            "f116a98f4fb24fbb9cedc01e3b173431",
            "6bb8142d758c4a388f15c6033e7d57a6",
            "6568ac2d8cd54d909e322354a19f9faf",
            "f091d79be8f74826a54d738989330d0d",
            "2914f8b2777e4a5099b24c6fd1b88351",
            "2762e9b4c2be45b4859b3eddf4e349c7",
            "2de5238ef38045e99db5aaea1bb79666",
            "6d30c48224b9460f9f90c9ddac1e3daf",
            "a736db4247244add887abccb025f7cff",
            "67d19226cb3148348f5bea2fdcf0f61c",
            "435b1ce002eb4223bf08e23b3da86669",
            "054788684565446a9fef96458d9be9a3",
            "8cceb2ab213746cd881ca927e612fcdb",
            "4944edbf0b874d9daac2c6be045c448e",
            "682d115e2d354dbaabbf3e571b66105c",
            "95f59abe2f134c6dae8c32078d7591d1",
            "3abe75cb4eaf4e06bf235b462e1109a4",
            "f97a09e62cc64bf688ac27ddf95e900f",
            "fb28f5ed237b4f1eb37cac341bf3ee1f",
            "c3ed28b76f254e11898eb053503d4837",
            "8c295bccfd4d4eb2bd6c070813fa3d4b",
            "f154858089704568be04cc4d77ac2b4d",
            "92ead1973aa1427b89047377fab66f70",
            "a0c6b9e1d2404939a83902c70a2ea0c1",
            "43e5034a7b8145ebb8165619f81f6780",
            "6afc316b7e4340eaa528f42b1999751f",
            "c9ad3cdd8bb446ceb3e9447dd8ca1c29",
            "24c519a83a9a49c99fd8a55bae74d842",
            "dcb8cb275ba34e4c9713d5d3c6804f75",
            "256745b64dd64af0aba05ffef3bd07c0",
            "0ee55064d4f644a88053cc5e0e01e7ce",
            "c933cf15f5b04163b161cbce7dc3efd6",
            "f9601919d7934eb4b1759d3ccc402b4d",
            "4909ae6a617b4079a201ae04f13b8906",
            "f497e2996c04447a9b37b5baf8f24654",
            "7d26732d7917420692bea77a94bb97ca",
            "dd6183f94c064e1098c09ed4895702f6",
            "f9e854076f8141a3871bc834343b780d",
            "3ca3947861bf4f878f18ede6e58b495c",
            "ba718795a4c24275bbf27f0c3d0b0154",
            "b34ee5c31a1045359ef3a6d631c6ef5a",
            "abde2a72f6494c3a94e3c86818016e6a",
            "91b006c981a14c03ba1d6faf527d1852",
            "4565e77f499d43b3a8ce4e9a8529952c",
            "3ba97d0ef7e04eb288227c204f7491e4",
            "63def41b3d1846e7b0bf197fb3848dad",
            "2f126e2f386e4883ba2896df7fc97fad",
            "214e9c778f6047acb3d02b4a68f4b10f",
            "4e77001e037248ecb8d90a06fde2b3b1",
            "def6af80ddd844ba9fabf25cb3f5efbb",
            "95dea34af4e1478abbee7c330c7e950c",
            "005d636ca6e2459b855cf5cc3cff4d10",
            "8eb3526591b64318bbc78c4d80d52578",
            "b807155cdbdb4a888b2e290c8573e34c",
            "ec8a5434cb4c49f0907696af22c92faa",
            "de200ebe7aaa40cab6b976f4768b5969",
            "af160320b9d34d3c854f2d168aa49ffe",
            "1138f6baafae49b3a9d51fd8826f7d9d",
            "c08c3bba953542dcad9df63d21e894f0",
            "86a11af00b3245d4af12fcf9959bf1b6",
            "d79fa0d5b2f141b9b2cba1c0b5e30eb0",
            "ef81f75209044648b25cca676930ae92",
            "aa70e43df6984d43a6957d4458d6cca3",
            "78272973414e445bb30a63db2805f999",
            "1920dbf48f6c4372b2f3d1bf45ba3280",
            "545e482c4d62485aaa84e04a0a55b978",
            "0cd4d8b414f84ad9a6cf3f8ea3b0a2cf",
            "1ec470e4086145a999df7aa1c64e75b2",
            "09e505e99d9e40debee6c7fdbd784910",
            "27ce2dcbdefb4b7089f81d486c578ef1",
            "18d560bb643a402c8d1fd340d00abf8d",
            "54ff2d63c38343aab62a22f81c8ec20a",
            "122cfafe8089402e955b2d143b074a49",
            "2711f4be67574a639974c804313aebea",
            "a23f937c6cc04a67a5252268ebdcd52c",
            "9e928688514543a9af04ec981852f68b",
            "26e20a08ed2448de8726e45f4b188a67",
            "6ad800267a034c64b8123d3ba54e8ebf",
            "3ffcff52b83f40019319e6eb29b77067",
            "cc98033e029d4dba99cf85ebb690ecf5",
            "942c5c3ebb894ff3a16cf96768f97df2",
            "d19fe64c61ef49b788ae2f30e57acebf",
            "8e25999c0173417390a32f9b93256f65",
            "0da333ce2f574b59810dbca44237e0c5",
            "c88700876e894f6fbc91333521be376a",
            "ecdb84ab893645728b642b1bddaf77e3",
            "d1167511067d4a5bb4696ccb1e119ef3",
            "21c6ae971e81414cb22c5f1254933dc3",
            "2023c3f904484e71a2259327ec4694ad",
            "d8c19efb229041088d4d57c29929a266",
            "291e49b0b4124675acce26a1966d076b",
            "a5f0eaed6d2547d5a1d6826465b7fb67",
            "4e849a993d78485baed6ba7d111fe864",
            "2dce8996f4a94b29926c7b15588dc98b",
            "e40a411f749d4bc1aa2dc853dd7474b8",
            "54503f124d534336b180b678edc04779",
            "06491e33d2c0403ea4288e7e5bd5dfa9",
            "ca23e98e5cdd4d2a822f7628ec0db070",
            "37d8833296854f47ac89acd195fe116c",
            "8a6994204fd04304b50f077fe7fac41d",
            "511582760d584d4595ae8b38bd3df4c2",
            "609904c0b7ec4fc3867294ad3591add4",
            "d7d93a1e118a442594091f051917447e",
            "3997cd01137c49dba0cc251e38835cdb",
            "1741e25f38484acdbe4499931041767f",
            "7bd2d838b65e46fbaa1cfe31d6349f06",
            "ad3bd4f4d1234c76850649cb7a1bf649",
            "520e209ebf48423397479a1bafa01673",
            "b4dff5ce7bd240d4abcb22351dab4209",
            "6a19bc495d1b4e7d8a0b794605cfad3c",
            "48f619f88a184ce59f585f6613a2a39e",
            "b7e5145e7e6b4c4a9f02ed7a0f1ca90f",
            "4cf951dcbcb548fea900743e039dec7b",
            "1cd33627f6e44e36b22ed8bea39b1e95",
            "5292a6fc29be4217b760e04400c0cb72",
            "0f6db529103e41a085b29117a8ac53f3",
            "65d88fa5066248fba29242d8fa8fa7f7",
            "98c272c3475149d395ba9b1a47140e2c",
            "5c00b7bd7e2e4a11ae59d67a20531852",
            "6c51c343d46642ecbd4cd0ac89c20535",
            "d0efcc4c44224d3cb5addfec97487e8e",
            "fc12afa6313248bd8feae7897ee699be",
            "7664e27e6f9f4b4d9ac8d0834d4877bc",
            "9dba157684314453b61ce6fe1afd9641",
            "042950ae8f2e4af482c0f26662a9d271",
            "a3d5969ae97d4e75a00698a19124f0ec",
            "a2c4b3f4ddf04322b4b280d3f038570c",
            "fff8e5ce4ff9452499e0c70e74acc6d8",
            "4253c9b31ac64293a676e102ddfafba4",
            "a6d691b8371a4b6798bd033e56530bf5",
            "2b188082fee94512bdbf2b9772a501c4",
            "45b4becf02f94e899f4f272bdeb659ba",
            "d71418c86b874b6ab31f628f3a78471b",
            "ca4cc5f8b543477c888b8f0894cbe773",
            "fafb687c29364926b0efdc1a16d9d618",
            "aa874a8917b34be4bab1058f09eab171",
            "7ca7c3f1b6844d4ea89f805cbc6fa4d0",
            "f8d2236c0a6e4def95077f3f255bf992",
            "ed40d09c661d4d9592ec5944be0feb45",
            "a19294730c474698a670b1ffff971daa",
            "920c6c1dc4524187b83cad68d3ad9597",
            "6537846f452f410d84e8142ad9facecf",
            "0189a5eaa5f14958b22cc3db6704a3eb",
            "bacebdcd531f4b008759f99eb25cd43f",
            "2ff0428e03cd4b338872cd8cc09d7cc7",
            "e350c38c7e1543be9d1d3584524bc03e",
            "942ea1f3c9ee49de9f6ee34f5276c977",
            "b3a26d4650eb4338a774eb98c2204f97",
            "d87fe967ba344e06a510fb05be9d295f",
            "633bf6cb7bb64b9a9a2ec404179c0804",
            "53e2cbbff2324d399d2532fc626254c8",
            "6572b33a3b2e4ad09c8f4acb5da87b72",
            "309843cada54449c839a3ddd3dab0fa5",
            "6eae2a4f022147a3b6ae057d162eefb9",
            "9ddfe5f2fb084c2da4d2af81d1c04606",
            "15488fe5b7ef4dde97f7e29cf46a3739",
            "a2011d9d6b9d43e6947c318fbeecc40f",
            "b1318df8b97c4e5fa234479862687613",
            "1f67f03ce43b4c7285d913a63c49fd85",
            "2ba3bb5f87504a23b64ad68c287c0265",
            "98d233c4329c451c868839ba274ffb17",
            "a51bc86f4df74a2d8b87479f469f7603",
            "5552e9558e5e438790f14cf7603eefa9",
            "12f808850c05476aa545f6bc2235b7ac",
            "8997ed47eee249b1b4ae482996aa6e01",
            "3a1959299e3345e9a24629ca836b66b3",
            "7d7a182a10474fc0afd5e1016dfeb6c9",
            "278e3157a43a4889b48708614ec4e890",
            "25dcd4a63bc3432cb28f71272baef83e",
            "747bcd1eaf194204a043bd30f0420120",
            "7936d2bca79149519c4bfb266cfffd12",
            "3d37d668c4f14213a98fb52bbffcf715",
            "10feff2188834e63a5bf8139839a6edc",
            "c44091ac51ca4419a07e26db5c824052",
            "7c7de779cb9f4c0b891f751870da937e",
            "94fd76c9227b4ebd9f64e48e4f41d18d",
            "b47fa8ca3647454abdba8f99efe1288f",
            "dadbe7c0c46341948d397e1ce331a82e",
            "4f54cc768b8348c2a52dac5bd234edd9",
            "18c79439f7c14e40a0b65283f52c0857",
            "37b4374419944c82b6bacb39410afc07",
            "b02f89b51d264efeb7043ead5f5ee04e",
            "2321abc4e89242cdb1c3de66c83364c4",
            "2a704506a34d460d83e6b9b05d018918",
            "4e8d35ae0f524221a212bc73119cfccb",
            "8235d3e3b20546cc8942eaf5067412de",
            "6ba212ac002f45f5aa0ea72470d8bc3a",
            "853dbbeb1432444faa61f18e2a7836cf",
            "f2621e6b650045cf97dcb7b9cc52eba1",
            "6d265c33d48d43d8a168732e8cae0466",
            "fdfb35ab6abd4e39b74be2c7c5a05006",
            "7b94356552044c86b2ccdc6d9d2f042d",
            "fe2bdc38224a40ae95b563624826a390",
            "b4c60a20088041ac8494d2be7fdfd670",
            "7dbc2b93a9df47f68ae90a1daee33ff4",
            "04ec7dc220d74b3b84a28db031942642",
            "b9a4cee6b5554f89be9393c909c1bf18",
            "6166890ef82444b59aabd28d08d3015d",
            "62fc1c2f8055486fa018afaa9e8225a5",
            "f5dd32533b684b0a97298d5b4ab6caa5",
            "32d8bec9923d415d95961a72df237578",
            "4d31d6e2287b4ccaabd8d3d5ab37cd99",
            "bef12b009a3d4d6caa411e2ed4919c17",
            "a9f62d22bb184b25a0dad356baec6f9a",
            "c8c59907c0544b2e8b1d13a1f8acde94",
            "5ef211a5b9d441f2849e4bb60556b33a",
            "6c8bf0b8009b4c90934e587f24a49a85",
            "5aa670e2d6b04cbbaadb7bc6bd5b2ab6",
            "5d3015c919214ff9b7b4b73ce690c5c8",
            "f313fec765444c0f997d0e736a906c34",
            "874608aed44148ebb82a622a9b1e25cb",
            "1406cc087ccf4eaca9ba3dbe0dec929e",
            "f6c09876c2484f15a5c1d457126159cb",
            "2a910d9fe9864ffba180c5e84492ef82",
            "209a4363bc4a47c583574536ae36097f",
            "403c094a99964fe285acb77cce0d428e",
            "1f7a7d5b49624e62ae5c5f94263fd642",
            "81e01f9dc7284bb88a6a68c5f66470c9",
            "2944b20e519345f6b96bb63a005613f9",
            "5d8c5f4a9ce8498fbe81dd441584d0c5",
            "819d130cdbc24cceb361e8e9b74963a0",
            "a3f649a949904dc6a0d37f0ae83cfbe9",
            "c16ffe55a793416e80ae412a56e2080d",
            "e1b0d06d0f48461a8d8c902306d1601f",
            "98b19275b8004e74af89b4793595f163",
            "e839c75d7d4b45e4a19c66840c7d6dee",
            "c226a1e553db4cb7a2d9a6934f4534f6",
            "e48e3b56e39e4cb797480e11df81a37f",
            "1a2f7f70dd7542c7908599c0d72e4e0d",
            "88ea95f9957b4be89dbf994fed176d77",
            "e3628a5aef0f48acb3b28b9b3bd860e1",
            "fd38ff2c01464080a77ded99cd32f81e",
            "fdd2cce059834222be40fa2dbb5cd16b",
            "52eb548fb5c14e24a357e6304956dc37",
            "473a89b1262c48c692b80417c479f6e8",
            "ecc37e02f98646f4b288a683f1a357ba",
            "ab20347552c1420e89cfb1ad8f729e17",
            "df02f6801a64473b8f4ab28e5128cdbc",
            "01258cdf01624ba884d538b08147a72d",
            "f24f4363ef9e4dea81f7174cdca33b80",
            "a085170c8b13447d84641da8aeb1d986",
            "3e454991e8f14f2a82755240abe3a42e",
            "bb2557aa99814770840b6784b888d6fd",
            "14742384f7ab4351aa83df10975c3a78",
            "9677d9b017694b7ea2c36f819070db80",
            "3c425be225694a20ab5258d749331845",
            "c1367623ebdc4c699015dae6faae76ef",
            "67d6efb1c83c45e8a95fa554739a5f75",
            "c79e0aba02744749a7866d7da0b7591a",
            "a7459a960e8c47dba158c9d1b845828a"
          ]
        }
      },
      "outputs": [
        {
          "output_type": "stream",
          "name": "stderr",
          "text": [
            "INFO:pytorch_lightning.utilities.rank_zero:You are using the plain ModelCheckpoint callback. Consider using LitModelCheckpoint which with seamless uploading to Model registry.\n",
            "INFO:pytorch_lightning.utilities.rank_zero:GPU available: True (cuda), used: True\n",
            "INFO:pytorch_lightning.utilities.rank_zero:TPU available: False, using: 0 TPU cores\n",
            "INFO:pytorch_lightning.utilities.rank_zero:HPU available: False, using: 0 HPUs\n",
            "INFO:pytorch_lightning.accelerators.cuda:LOCAL_RANK: 0 - CUDA_VISIBLE_DEVICES: [0]\n",
            "INFO:pytorch_lightning.callbacks.model_summary:\n",
            "  | Name  | Type             | Params | Mode \n",
            "---------------------------------------------------\n",
            "0 | model | MNISTModel       | 235 K  | train\n",
            "1 | loss  | CrossEntropyLoss | 0      | train\n",
            "---------------------------------------------------\n",
            "235 K     Trainable params\n",
            "0         Non-trainable params\n",
            "235 K     Total params\n",
            "0.941     Total estimated model params size (MB)\n",
            "13        Modules in train mode\n",
            "0         Modules in eval mode\n"
          ]
        },
        {
          "output_type": "display_data",
          "data": {
            "text/plain": [
              "Sanity Checking: |          | 0/? [00:00<?, ?it/s]"
            ],
            "application/vnd.jupyter.widget-view+json": {
              "version_major": 2,
              "version_minor": 0,
              "model_id": "2ec01a5f513a4d888edb9218b58571b9"
            }
          },
          "metadata": {}
        },
        {
          "output_type": "display_data",
          "data": {
            "text/plain": [
              "Training: |          | 0/? [00:00<?, ?it/s]"
            ],
            "application/vnd.jupyter.widget-view+json": {
              "version_major": 2,
              "version_minor": 0,
              "model_id": "450d139607844e2386967f7645281b1f"
            }
          },
          "metadata": {}
        },
        {
          "output_type": "display_data",
          "data": {
            "text/plain": [
              "Validation: |          | 0/? [00:00<?, ?it/s]"
            ],
            "application/vnd.jupyter.widget-view+json": {
              "version_major": 2,
              "version_minor": 0,
              "model_id": "7c40e11a3742440485ee1a81f20d7e0c"
            }
          },
          "metadata": {}
        },
        {
          "output_type": "display_data",
          "data": {
            "text/plain": [
              "Validation: |          | 0/? [00:00<?, ?it/s]"
            ],
            "application/vnd.jupyter.widget-view+json": {
              "version_major": 2,
              "version_minor": 0,
              "model_id": "941358ad6bef446bbe51d2c21488bdde"
            }
          },
          "metadata": {}
        },
        {
          "output_type": "display_data",
          "data": {
            "text/plain": [
              "Validation: |          | 0/? [00:00<?, ?it/s]"
            ],
            "application/vnd.jupyter.widget-view+json": {
              "version_major": 2,
              "version_minor": 0,
              "model_id": "7b60809cf6a646069969d902a57d1351"
            }
          },
          "metadata": {}
        },
        {
          "output_type": "display_data",
          "data": {
            "text/plain": [
              "Validation: |          | 0/? [00:00<?, ?it/s]"
            ],
            "application/vnd.jupyter.widget-view+json": {
              "version_major": 2,
              "version_minor": 0,
              "model_id": "ebaaae12910e425d94897ad9e070a0b6"
            }
          },
          "metadata": {}
        },
        {
          "output_type": "display_data",
          "data": {
            "text/plain": [
              "Validation: |          | 0/? [00:00<?, ?it/s]"
            ],
            "application/vnd.jupyter.widget-view+json": {
              "version_major": 2,
              "version_minor": 0,
              "model_id": "c17cc05192f34f6081d237c51b47f8f8"
            }
          },
          "metadata": {}
        },
        {
          "output_type": "display_data",
          "data": {
            "text/plain": [
              "Validation: |          | 0/? [00:00<?, ?it/s]"
            ],
            "application/vnd.jupyter.widget-view+json": {
              "version_major": 2,
              "version_minor": 0,
              "model_id": "509c2719efc44dbcb86dd86a3785cc56"
            }
          },
          "metadata": {}
        },
        {
          "output_type": "display_data",
          "data": {
            "text/plain": [
              "Validation: |          | 0/? [00:00<?, ?it/s]"
            ],
            "application/vnd.jupyter.widget-view+json": {
              "version_major": 2,
              "version_minor": 0,
              "model_id": "0de6899dec9c40ebaae642db9fc54265"
            }
          },
          "metadata": {}
        },
        {
          "output_type": "display_data",
          "data": {
            "text/plain": [
              "Validation: |          | 0/? [00:00<?, ?it/s]"
            ],
            "application/vnd.jupyter.widget-view+json": {
              "version_major": 2,
              "version_minor": 0,
              "model_id": "42706a378f0742ed88f22767a3e7588d"
            }
          },
          "metadata": {}
        },
        {
          "output_type": "display_data",
          "data": {
            "text/plain": [
              "Validation: |          | 0/? [00:00<?, ?it/s]"
            ],
            "application/vnd.jupyter.widget-view+json": {
              "version_major": 2,
              "version_minor": 0,
              "model_id": "a736db4247244add887abccb025f7cff"
            }
          },
          "metadata": {}
        },
        {
          "output_type": "display_data",
          "data": {
            "text/plain": [
              "Validation: |          | 0/? [00:00<?, ?it/s]"
            ],
            "application/vnd.jupyter.widget-view+json": {
              "version_major": 2,
              "version_minor": 0,
              "model_id": "c3ed28b76f254e11898eb053503d4837"
            }
          },
          "metadata": {}
        },
        {
          "output_type": "display_data",
          "data": {
            "text/plain": [
              "Validation: |          | 0/? [00:00<?, ?it/s]"
            ],
            "application/vnd.jupyter.widget-view+json": {
              "version_major": 2,
              "version_minor": 0,
              "model_id": "0ee55064d4f644a88053cc5e0e01e7ce"
            }
          },
          "metadata": {}
        },
        {
          "output_type": "display_data",
          "data": {
            "text/plain": [
              "Validation: |          | 0/? [00:00<?, ?it/s]"
            ],
            "application/vnd.jupyter.widget-view+json": {
              "version_major": 2,
              "version_minor": 0,
              "model_id": "abde2a72f6494c3a94e3c86818016e6a"
            }
          },
          "metadata": {}
        },
        {
          "output_type": "display_data",
          "data": {
            "text/plain": [
              "Validation: |          | 0/? [00:00<?, ?it/s]"
            ],
            "application/vnd.jupyter.widget-view+json": {
              "version_major": 2,
              "version_minor": 0,
              "model_id": "8eb3526591b64318bbc78c4d80d52578"
            }
          },
          "metadata": {}
        },
        {
          "output_type": "display_data",
          "data": {
            "text/plain": [
              "Validation: |          | 0/? [00:00<?, ?it/s]"
            ],
            "application/vnd.jupyter.widget-view+json": {
              "version_major": 2,
              "version_minor": 0,
              "model_id": "78272973414e445bb30a63db2805f999"
            }
          },
          "metadata": {}
        },
        {
          "output_type": "display_data",
          "data": {
            "text/plain": [
              "Validation: |          | 0/? [00:00<?, ?it/s]"
            ],
            "application/vnd.jupyter.widget-view+json": {
              "version_major": 2,
              "version_minor": 0,
              "model_id": "a23f937c6cc04a67a5252268ebdcd52c"
            }
          },
          "metadata": {}
        },
        {
          "output_type": "display_data",
          "data": {
            "text/plain": [
              "Validation: |          | 0/? [00:00<?, ?it/s]"
            ],
            "application/vnd.jupyter.widget-view+json": {
              "version_major": 2,
              "version_minor": 0,
              "model_id": "ecdb84ab893645728b642b1bddaf77e3"
            }
          },
          "metadata": {}
        },
        {
          "output_type": "display_data",
          "data": {
            "text/plain": [
              "Validation: |          | 0/? [00:00<?, ?it/s]"
            ],
            "application/vnd.jupyter.widget-view+json": {
              "version_major": 2,
              "version_minor": 0,
              "model_id": "06491e33d2c0403ea4288e7e5bd5dfa9"
            }
          },
          "metadata": {}
        },
        {
          "output_type": "display_data",
          "data": {
            "text/plain": [
              "Validation: |          | 0/? [00:00<?, ?it/s]"
            ],
            "application/vnd.jupyter.widget-view+json": {
              "version_major": 2,
              "version_minor": 0,
              "model_id": "520e209ebf48423397479a1bafa01673"
            }
          },
          "metadata": {}
        },
        {
          "output_type": "display_data",
          "data": {
            "text/plain": [
              "Validation: |          | 0/? [00:00<?, ?it/s]"
            ],
            "application/vnd.jupyter.widget-view+json": {
              "version_major": 2,
              "version_minor": 0,
              "model_id": "5c00b7bd7e2e4a11ae59d67a20531852"
            }
          },
          "metadata": {}
        },
        {
          "output_type": "display_data",
          "data": {
            "text/plain": [
              "Validation: |          | 0/? [00:00<?, ?it/s]"
            ],
            "application/vnd.jupyter.widget-view+json": {
              "version_major": 2,
              "version_minor": 0,
              "model_id": "a6d691b8371a4b6798bd033e56530bf5"
            }
          },
          "metadata": {}
        },
        {
          "output_type": "display_data",
          "data": {
            "text/plain": [
              "Validation: |          | 0/? [00:00<?, ?it/s]"
            ],
            "application/vnd.jupyter.widget-view+json": {
              "version_major": 2,
              "version_minor": 0,
              "model_id": "920c6c1dc4524187b83cad68d3ad9597"
            }
          },
          "metadata": {}
        },
        {
          "output_type": "display_data",
          "data": {
            "text/plain": [
              "Validation: |          | 0/? [00:00<?, ?it/s]"
            ],
            "application/vnd.jupyter.widget-view+json": {
              "version_major": 2,
              "version_minor": 0,
              "model_id": "6572b33a3b2e4ad09c8f4acb5da87b72"
            }
          },
          "metadata": {}
        },
        {
          "output_type": "display_data",
          "data": {
            "text/plain": [
              "Validation: |          | 0/? [00:00<?, ?it/s]"
            ],
            "application/vnd.jupyter.widget-view+json": {
              "version_major": 2,
              "version_minor": 0,
              "model_id": "5552e9558e5e438790f14cf7603eefa9"
            }
          },
          "metadata": {}
        },
        {
          "output_type": "display_data",
          "data": {
            "text/plain": [
              "Validation: |          | 0/? [00:00<?, ?it/s]"
            ],
            "application/vnd.jupyter.widget-view+json": {
              "version_major": 2,
              "version_minor": 0,
              "model_id": "c44091ac51ca4419a07e26db5c824052"
            }
          },
          "metadata": {}
        },
        {
          "output_type": "display_data",
          "data": {
            "text/plain": [
              "Validation: |          | 0/? [00:00<?, ?it/s]"
            ],
            "application/vnd.jupyter.widget-view+json": {
              "version_major": 2,
              "version_minor": 0,
              "model_id": "4e8d35ae0f524221a212bc73119cfccb"
            }
          },
          "metadata": {}
        },
        {
          "output_type": "display_data",
          "data": {
            "text/plain": [
              "Validation: |          | 0/? [00:00<?, ?it/s]"
            ],
            "application/vnd.jupyter.widget-view+json": {
              "version_major": 2,
              "version_minor": 0,
              "model_id": "04ec7dc220d74b3b84a28db031942642"
            }
          },
          "metadata": {}
        },
        {
          "output_type": "display_data",
          "data": {
            "text/plain": [
              "Validation: |          | 0/? [00:00<?, ?it/s]"
            ],
            "application/vnd.jupyter.widget-view+json": {
              "version_major": 2,
              "version_minor": 0,
              "model_id": "6c8bf0b8009b4c90934e587f24a49a85"
            }
          },
          "metadata": {}
        },
        {
          "output_type": "display_data",
          "data": {
            "text/plain": [
              "Validation: |          | 0/? [00:00<?, ?it/s]"
            ],
            "application/vnd.jupyter.widget-view+json": {
              "version_major": 2,
              "version_minor": 0,
              "model_id": "81e01f9dc7284bb88a6a68c5f66470c9"
            }
          },
          "metadata": {}
        },
        {
          "output_type": "display_data",
          "data": {
            "text/plain": [
              "Validation: |          | 0/? [00:00<?, ?it/s]"
            ],
            "application/vnd.jupyter.widget-view+json": {
              "version_major": 2,
              "version_minor": 0,
              "model_id": "1a2f7f70dd7542c7908599c0d72e4e0d"
            }
          },
          "metadata": {}
        },
        {
          "output_type": "display_data",
          "data": {
            "text/plain": [
              "Validation: |          | 0/? [00:00<?, ?it/s]"
            ],
            "application/vnd.jupyter.widget-view+json": {
              "version_major": 2,
              "version_minor": 0,
              "model_id": "f24f4363ef9e4dea81f7174cdca33b80"
            }
          },
          "metadata": {}
        },
        {
          "output_type": "stream",
          "name": "stderr",
          "text": [
            "INFO:pytorch_lightning.utilities.rank_zero:`Trainer.fit` stopped: `max_epochs=30` reached.\n"
          ]
        }
      ],
      "source": [
        "mnist_trainer = Trainer(deterministic=False,\n",
        "                        max_epochs=30,\n",
        "                        logger=mnist_logger,\n",
        "                        enable_progress_bar=True,\n",
        "                        callbacks=[ErrorTracker()])\n",
        "mnist_trainer.fit(mnist_module,\n",
        "                  datamodule=mnist_dm)\n"
      ]
    },
    {
      "cell_type": "code",
      "execution_count": null,
      "id": "872fed35",
      "metadata": {
        "lines_to_next_cell": 0,
        "id": "872fed35",
        "colab": {
          "base_uri": "https://localhost:8080/",
          "height": 547
        },
        "outputId": "cc56dff3-da78-4220-bbce-f305368ec575"
      },
      "outputs": [
        {
          "output_type": "display_data",
          "data": {
            "text/plain": [
              "<Figure size 600x600 with 1 Axes>"
            ],
            "image/png": "[encoded data removed]"
          },
          "metadata": {}
        }
      ],
      "source": [
        "mnist_results = pd.read_csv(mnist_logger.experiment.metrics_file_path)\n",
        "fig, ax = subplots(1, 1, figsize=(6, 6))\n",
        "summary_plot(mnist_results,\n",
        "             ax,\n",
        "             col='accuracy',\n",
        "             ylabel='Accuracy')\n",
        "ax.set_ylim([0.5, 1])\n",
        "ax.set_ylabel('Accuracy')\n",
        "ax.set_xticks(np.linspace(0, 30, 7).astype(int));\n"
      ]
    },
    {
      "cell_type": "code",
      "execution_count": null,
      "id": "4551c956",
      "metadata": {
        "id": "4551c956",
        "colab": {
          "base_uri": "https://localhost:8080/",
          "height": 186,
          "referenced_widgets": [
            "0618c5bce8374a669fb2878fd07dbc99",
            "3cc7a34169cd4678baedefb43e216ce9",
            "3eb0d4b99bf343f1965f9e9bfbfc9548",
            "a687d58fa67a463f9e53d1ef8a2941a7",
            "a1ccf403cafa4ca59cd82b14f607e18c",
            "b5cb64a0dd8044c5968a2caff8340990",
            "95eaa118f7cc47e0b42f3fbbcf697719",
            "78b1e35521094cb88a9444fb7519786c",
            "2026fa2e7b42441f831466ea55a6bdec",
            "6d01dcfaa92e451e81af7b08cf633092",
            "4ffcdbdf0413448294561bf7dd6556d5"
          ]
        },
        "outputId": "ccd0090d-b7fc-4594-f612-eab3b3fec0d0"
      },
      "outputs": [
        {
          "output_type": "stream",
          "name": "stderr",
          "text": [
            "INFO:pytorch_lightning.accelerators.cuda:LOCAL_RANK: 0 - CUDA_VISIBLE_DEVICES: [0]\n"
          ]
        },
        {
          "output_type": "display_data",
          "data": {
            "text/plain": [
              "Testing: |          | 0/? [00:00<?, ?it/s]"
            ],
            "application/vnd.jupyter.widget-view+json": {
              "version_major": 2,
              "version_minor": 0,
              "model_id": "0618c5bce8374a669fb2878fd07dbc99"
            }
          },
          "metadata": {}
        },
        {
          "output_type": "display_data",
          "data": {
            "text/plain": [
              "┏━━━━━━━━━━━━━━━━━━━━━━━━━━━┳━━━━━━━━━━━━━━━━━━━━━━━━━━━┓\n",
              "┃\u001b[1m \u001b[0m\u001b[1m       Test metric       \u001b[0m\u001b[1m \u001b[0m┃\u001b[1m \u001b[0m\u001b[1m      DataLoader 0       \u001b[0m\u001b[1m \u001b[0m┃\n",
              "┡━━━━━━━━━━━━━━━━━━━━━━━━━━━╇━━━━━━━━━━━━━━━━━━━━━━━━━━━┩\n",
              "│\u001b[36m \u001b[0m\u001b[36m      test_accuracy      \u001b[0m\u001b[36m \u001b[0m│\u001b[35m \u001b[0m\u001b[35m   0.9674999713897705    \u001b[0m\u001b[35m \u001b[0m│\n",
              "│\u001b[36m \u001b[0m\u001b[36m        test_loss        \u001b[0m\u001b[36m \u001b[0m│\u001b[35m \u001b[0m\u001b[35m   0.15101119875907898   \u001b[0m\u001b[35m \u001b[0m│\n",
              "└───────────────────────────┴───────────────────────────┘\n"
            ],
            "text/html": [
              "<pre style=\"white-space:pre;overflow-x:auto;line-height:normal;font-family:Menlo,'DejaVu Sans Mono',consolas,'Courier New',monospace\">┏━━━━━━━━━━━━━━━━━━━━━━━━━━━┳━━━━━━━━━━━━━━━━━━━━━━━━━━━┓\n",
              "┃<span style=\"font-weight: bold\">        Test metric        </span>┃<span style=\"font-weight: bold\">       DataLoader 0        </span>┃\n",
              "┡━━━━━━━━━━━━━━━━━━━━━━━━━━━╇━━━━━━━━━━━━━━━━━━━━━━━━━━━┩\n",
              "│<span style=\"color: #008080; text-decoration-color: #008080\">       test_accuracy       </span>│<span style=\"color: #800080; text-decoration-color: #800080\">    0.9674999713897705     </span>│\n",
              "│<span style=\"color: #008080; text-decoration-color: #008080\">         test_loss         </span>│<span style=\"color: #800080; text-decoration-color: #800080\">    0.15101119875907898    </span>│\n",
              "└───────────────────────────┴───────────────────────────┘\n",
              "</pre>\n"
            ]
          },
          "metadata": {}
        },
        {
          "output_type": "execute_result",
          "data": {
            "text/plain": [
              "[{'test_loss': 0.15101119875907898, 'test_accuracy': 0.9674999713897705}]"
            ]
          },
          "metadata": {},
          "execution_count": 48
        }
      ],
      "source": [
        "mnist_trainer.test(mnist_module,\n",
        "                   datamodule=mnist_dm) #Q26."
      ]
    },
    {
      "cell_type": "markdown",
      "id": "fb1a8d42-d0b4-4ab3-bff1-52a93ad43817",
      "metadata": {
        "id": "fb1a8d42-d0b4-4ab3-bff1-52a93ad43817"
      },
      "source": [
        "###  Individual item prediction check :                            "
      ]
    },
    {
      "cell_type": "code",
      "execution_count": null,
      "id": "1662ce05-24a8-4354-9c42-121956d02256",
      "metadata": {
        "id": "1662ce05-24a8-4354-9c42-121956d02256",
        "colab": {
          "base_uri": "https://localhost:8080/"
        },
        "outputId": "b8c7b4eb-886d-4305-edd9-8a96bf3cc2a1"
      },
      "outputs": [
        {
          "output_type": "stream",
          "name": "stdout",
          "text": [
            "Predicted: 7, Actual: 7\n",
            "Correct\n"
          ]
        }
      ],
      "source": [
        "mnist_module.eval() # Set the module in evaluation mode.\n",
        "test_loader = mnist_dm.test_dataloader()\n",
        "X_batch, y_batch = next(iter(test_loader))\n",
        "\n",
        "with torch.no_grad(): #Context-manager that disables  back propagating gradient calculation\n",
        "    logits = mnist_module(X_batch)\n",
        "    preds = torch.argmax(logits, dim=1)\n",
        "\n",
        "print(f\"Predicted: {preds[0].item()}, Actual: {y_batch[0].item()}\")\n",
        "if preds[0].item() == y_batch[0].item():\n",
        "    print(\"Correct\")\n",
        "else:\n",
        "    print(\"Wrong\")"
      ]
    },
    {
      "cell_type": "markdown",
      "id": "87eb9328-4cc5-4392-a698-6c9d155660fa",
      "metadata": {
        "id": "87eb9328-4cc5-4392-a698-6c9d155660fa"
      },
      "source": [
        "### show  pred vs. actual for 10 first samples from test set"
      ]
    },
    {
      "cell_type": "code",
      "execution_count": null,
      "id": "92b92d3f-0549-40c6-b9f0-e3e27d521318",
      "metadata": {
        "id": "92b92d3f-0549-40c6-b9f0-e3e27d521318",
        "colab": {
          "base_uri": "https://localhost:8080/",
          "height": 163
        },
        "outputId": "58c4efc1-4e51-4e9f-f01d-9d295dc99eea"
      },
      "outputs": [
        {
          "output_type": "display_data",
          "data": {
            "text/plain": [
              "<Figure size 1000x200 with 10 Axes>"
            ],
            "image/png": "[encoded data removed]"
          },
          "metadata": {}
        }
      ],
      "source": [
        "import matplotlib.pyplot as plt\n",
        "import torch\n",
        "\n",
        "with torch.no_grad():\n",
        "    logits = mnist_module(X_batch)\n",
        "    preds = torch.argmax(logits, dim=1)\n",
        "\n",
        "num_samples = 10\n",
        "plt.figure(figsize=(10, 2))\n",
        "for i in range(num_samples):\n",
        "    plt.subplot(1, num_samples, i + 1)\n",
        "    plt.imshow(X_batch[i].squeeze(), cmap='gray')\n",
        "\n",
        "    # Check correctness\n",
        "    pred = preds[i].item()\n",
        "    actual = y_batch[i].item()\n",
        "    color = 'red' if pred != actual else 'black'\n",
        "\n",
        "    plt.title(f\"Pred: {pred}\\nActual: {actual}\", color=color)\n",
        "    plt.axis('off')\n",
        "\n",
        "plt.tight_layout()\n",
        "plt.show()\n"
      ]
    },
    {
      "cell_type": "markdown",
      "id": "9fb6b56d-686f-4ea0-b9d2-27e596539a0e",
      "metadata": {
        "id": "9fb6b56d-686f-4ea0-b9d2-27e596539a0e"
      },
      "source": [
        "## Multiclass Logistic Regression (Not a Neural Net; no hidden layer, no activation function)"
      ]
    },
    {
      "cell_type": "code",
      "execution_count": null,
      "id": "cbf4d0d2",
      "metadata": {
        "id": "cbf4d0d2"
      },
      "outputs": [],
      "source": [
        "class MNIST_MLR(nn.Module):\n",
        "    def __init__(self):\n",
        "        super(MNIST_MLR, self).__init__()\n",
        "        self.linear = nn.Sequential(nn.Flatten(),\n",
        "                                    nn.Linear(784, 10))\n",
        "    def forward(self, x):\n",
        "        return self.linear(x)\n",
        "\n",
        "mlr_model = MNIST_MLR()\n",
        "mlr_module = SimpleModule.classification(mlr_model,\n",
        "                                         num_classes=10)\n",
        "mlr_logger = CSVLogger('logs', name='MNIST_MLR')"
      ]
    },
    {
      "cell_type": "code",
      "execution_count": null,
      "id": "6ff23014",
      "metadata": {
        "lines_to_next_cell": 0,
        "id": "6ff23014",
        "colab": {
          "base_uri": "https://localhost:8080/",
          "height": 381,
          "referenced_widgets": [
            "a7f7fdcdf4e2448dbb5f6f0aa981ba22",
            "caf8dfe75f444b139edb3d6d0aa45915",
            "ee833551124342ca8027edc3fa65058a",
            "d6383a96213545f4acfff4c6e928c776",
            "ce3c93044c074462902b1aaeabaaef32",
            "9f25d2427c2647dd91da93299fb58858",
            "1fa51148d98d4f0faa25102679e3a367",
            "8e1fbec8b6e9442dbdba9d9c70387b05",
            "c67be62b526b4013b2fc2b6a0b6c3d18",
            "21f9ff0a346a4876ae5b0767b82a9246",
            "47041a67394c44bfb12286b7168c408a",
            "23709299fc6c47eeb2d532b5150bd3e2",
            "1cbb26e781904e57b27e50d593bc1016",
            "824ae856e37b41e2ba1fc511b290ccd5",
            "70f68889fe234ae6afe336ea85ea7fb0",
            "948b941ca4c94ef88cd19a0e1e27a061",
            "122dafec4a5045be9541c57ce5a69054",
            "96910456f7984d2ca6643e321cb58333",
            "cbb5528266fd4874b1ca6776545fd227",
            "dda1ee363acc4f95a8f5367872d26c5b",
            "c0a12d9f204b4e62ba3107c80d71f08c",
            "742cd323c10b4c3fb2f01fdbb99112f1",
            "ac415b48d3134698939e8ede175b05de",
            "7106b24b134745ba894c65d6932e6892",
            "c965d2e0bdc44e4cb5f3226ca6f74b42",
            "a89947d92e4f462b9f6261329948300f",
            "30348aa4c84a48d0a17c031e4864649a",
            "58a6a901fbdf416d89c1add393c918ad",
            "7ef2384875234bd684a958bf26b93a91",
            "89a3cb13dc014435b276fdf5118680b8",
            "0c3905ef580849bdbd7e37956ab26727",
            "5a7020c6393e46df81ef9833df7189e0",
            "54c55878a4b24cb8b6114f2d0c68a8c0",
            "cf6a4c9bae164cdcaf96091b85c28ac5",
            "13b360ee693045d5a3a9317809365ff5",
            "9b25532a3ac0430a99383d9e8881e557",
            "ba6bac3801ce47d69b9391cd2d89cf98",
            "edc2cfac6ee64c1ea5e4df0ca37f8e0b",
            "a4c7225788724f1aa291be2e83b6f46f",
            "3951e1e0d44945e09dea0715cd8c2aab",
            "dfe02af5ab59410da1ca7c743d087823",
            "d28f96558ac94681a8de9b50221b2c0e",
            "c419d769858246098773f35555488a72",
            "e8db9aefb356468f844481beda6f956e",
            "d81a705c1d91493a86391af2fa34ed7c",
            "6ab35c8678814fb080262142e9d1be78",
            "d9f6317c415746fc8ee2fda9ecfebcd2",
            "04dac9d747f4493fb8ce6106bfb62ff2",
            "f50f5279be2148ca8e4fffa553604d61",
            "e929297a68c3493a855d95f618b9fd00",
            "349ec8e51cdf42edb52813612e406926",
            "d6b2bacb80f84e648a51dcd6f00e9acb",
            "b6d5a370f8d84f88aa7819161ff66308",
            "83a0b20e39ab4819bc406ced94e90037",
            "6e6187ef90cb4b28a75350dd275210d7",
            "0dc6240dc90744c0b392e850599d984e",
            "8d39d3ed3b934dd3828e9c9a4f3c1462",
            "7e73091d5c57482f9e4fa6576560de0a",
            "db83dee6f68d4430bc262993b325cce1",
            "101519c0fdb8411ebb8aba0b85540eb4",
            "06097578b8244c7bbd766616838e1647",
            "516f2fac6729492c8ece821c0fc44079",
            "9b7b36ef7ac64c92873b9056c4d4b898",
            "01f40fe3a5314286a594d6ce23abbda2",
            "014224b15ad1481a956acac80ccfc3e0",
            "16a935686e774fbf8ddff7aee90b8651",
            "ee6d6ca59b8649a1880c1be74f026b58",
            "846107633f464751a7bb69d3da731da2",
            "d3080fbab90246d785d3668ff45fcadc",
            "f2c2f7cd7e6448e1a11c82988f38b98a",
            "676a597b4a79416eb8edebb676c9aee7",
            "581cd10f95f3435d96fca333884dfe4b",
            "d2881b55a0c1400c9fd3e33fdb22472f",
            "aa45640ad1e24286bd25c498cbef9f00",
            "a6369feaa0ad41c185cb2080337b8199",
            "bd3979b37dfc4122a2f693d33bb31912",
            "e83cf2a19724487b9f387dc853e949a8",
            "a0240c66669248baba4ccf39252b37e5",
            "e1edac4563144f2390563a9e65bf5f98",
            "352d505519ea4e34ae16514475f347f9",
            "872c514f42cb4c72b9b0dce4c041c95b",
            "5ad85c06c91f4887873c8912e013c83f",
            "dbedd837a550485d9f821c9cd79de557",
            "4adfa81e548a486a837f725f03901901",
            "ad297885e70147d0b4c0cd4d4ee3dffd",
            "187d8cf156d7476895ae251b04d0e384",
            "07116f9be98642bca0954c3cec178dee",
            "fe6b337c3b89489fb601f162870af91f",
            "95e0e9b61e22462195c0c236737cfea5",
            "288acd9a6ed049c19cc1344a223e0d9f",
            "4589837884224f8dbd601d79f9fcbd07",
            "e43be271e17048cc87f8ce96868660a3",
            "94bc0da7ad814911b0c829e1a896b7ab",
            "62a4a24b9c2e41ab8244266ccd396130",
            "14791482b54b41afb5f83bc4ad91797b",
            "b59ea51d00ca47ef97405624d1a60019",
            "566efa0d79de4f63a72126399312490d",
            "e2d4bbbf083243cd9eb765b7d3c7a4ec",
            "fff8dea9d7f34d40af3984d4a3160147",
            "b317f06700774028937f370e5aafc695",
            "b50a3198bc444c5ca78cdc5cf9b05e84",
            "662f6ee8b89744078952ccb33af680be",
            "8dc46b0914224926b443fde79675df3b",
            "611df54ea6ab4492a14d04eb7127438f",
            "e62d400e302641e587ef6e462899f03e",
            "042ee0f043c542cfaf37c9af208c31ca",
            "f02f25986fb84c9eb876e015917c2cb4",
            "c8a5421d59734213a615727e138d85a8",
            "54feb63f188e49298f0910c3717776e1",
            "85fc2d84f50d43a98cea6687bd740c73",
            "fad7e3c6e080430f88b4ca9bb7c127ed",
            "c365518beb034ed09461ce7df87d810c",
            "33429f82547b489c989ec2527ae6b23e",
            "140445022c174f2fba5adbe71ac6ffe7",
            "6fda8377c844432f9674105d219a92ca",
            "62bb9f54e36f40aebf1065c4fb319851",
            "6bb869bbeaf644d1bb627199c440185f",
            "d89f68ba29b5403f90dff4d3b9714704",
            "790d68f6e0a04d39bb09a13c6b04e478",
            "0d1cb2cef87d478da026aaa7d69291a8",
            "795ea9d663254558b7b5c0f46c5b6337",
            "bf66a963f25041989a22b9fd4cc51505",
            "9e3855098c1f4349bcc31b7fc69f2fe5",
            "2059c0453fe2481cb080e816b3927080",
            "69c56c34ed75459d9249a9e5cf3cbd81",
            "de51283d7ba44e66b2662415531a298f",
            "2afe1795a0f64718ac433f0fae9b15b3",
            "928b22db1e074e7dadf0e790e01d6c4a",
            "af5d6490ab9a450d9fbfc431925019da",
            "4ddfcf9bf4d94a77adfd743608f834e2",
            "42be864e029b478f80adbecf49ea25b3",
            "a47bbe653b464c028a02bdf779abd6b4",
            "51d8d75e3efe42ad904ef6b871dd7e77",
            "0f4da6a21af24103879da9c0cbedfe77",
            "f87af6bb5bb94fc2aaa9bcee692b1de2",
            "10ce89d899494535948e73b2e37954c0",
            "1dd5b63d5bfb435fa335f95f33f45130",
            "f8f401e7d6944257b12d95384907a5c2",
            "0dd95259b4b548ab8c184cee30f40890",
            "2809284c3715456da750178cbb4d9374",
            "39d85e76ee1045539aebd4a9736bf513",
            "2abdc2f5256b4afa88aa031f27527a02",
            "07dbfce0a0a24abdbc4fb6da5f1e9a6e",
            "b1227928410e463d8ecc5c99e0d40401",
            "33a82f95dc694f1792a48cffb1c2817e",
            "d172e240a4ed4f4bbe96d13b4ad5411c",
            "9caf95319dfe4bd2a43d7d3ac204c19a",
            "545b49a1004b4f66835bd2f76c2e8df9",
            "432f7658adec45df880b94aed6aac9f8",
            "842fb8e7130647cf92b47e8b22a49b83",
            "4c46584c1c224c919f0b7610b42b9672",
            "9bb0123eded54159a59a46dd547c8ab9",
            "25f6ec28bd4b41cb9590d3d31f4c0a31",
            "ac8d61b91144419e8c4380a23cb5a6f2",
            "1f0112c06f1f4a898c478da1b3e2b31b",
            "7cc6f7e92adc46ecb91c6ac529f6716a",
            "02973e709cf8433d80cc3570d2f408e6",
            "ba29bcff093b442485728a90c9b7dbb5",
            "e985c2fe41154f878c6a37faff5b4904",
            "9f5312b9e963415e9870aa9f844458e5",
            "5499a0d094da4c5abf3322963a7ec5dc",
            "80d8eb27938c4c369f540d017b590f44",
            "ec0879d4067447969c3e0ba3b30772f0",
            "6c85c9c376db4727a840b1f9936006f8",
            "85e41c857bae4bccb285240992bcc42b",
            "ced353a13985416fbd75b02de6be35e6",
            "d8c22abb76da4fe5b2180b1d2f4a86f1",
            "389f9ea740aa4f35a751f597f83022a4",
            "5f9ec804567c476ca66d26b4a1956115",
            "550ec630acdb42dba4a4b0880a64d404",
            "f98082eb042e44adaec9549b69defbc9",
            "2f84c5f2fd02456284781971091664fd",
            "b55135b18d044cbea1e57d777815cc50",
            "57d8eed4cdba4924918c831448522065",
            "124fbae96be64399ae04a490210b72ee",
            "698a0bf972f144cab9bc5c5d08dbca74",
            "068c58448b844a609317e5fd0622c3d5",
            "72e48b0cbc8a4b1a85dc5e341fca3f34",
            "8856db0e68784c9dab53c14593f95d46",
            "d28a124134d64ef9ac034a6b0e2d75bb",
            "bff456def4094a3486f3b79e2ef9748e",
            "a0a2bab908774bb0bb125fe6e6dd8168",
            "c162e8faea184e6a9225d2bf1250a58b",
            "5205bca12f4a4063bb3b76ae3e071a9b",
            "531e17df9bc64fb8a7e62a5390b456e3",
            "5a5c5470daf84225bf3669da20739933",
            "7fd89decc56a435bbcf8ad26d8c539f4",
            "d9e9caa9974c4d6bacaf3878a0a2dcb1",
            "9cd69f0ac8d3422e972c38e7dec1eb2b",
            "711a0905959a44958a45366143d4989b",
            "8be1fdad48c247fd82ad202dfe0ac456",
            "c419aa2c83de4d2e80ea101452c2e6d7",
            "046834aab7604981b3a90cae0cd8c65a",
            "461383ed7fed40948edbdba75d0ae9ce",
            "a33df18dcff04d82bb803573df8a6222",
            "790bb316636a4ecf803b7bbcf92d5f83",
            "ee9bff1317ee4b1497a4e7147b43225b",
            "7935e663713e4696a90934b0d174213d",
            "98bed17979b04920bf8cb2f347717a09",
            "b70e54320cdb458497f319f43d17e722",
            "56cbc2877307457a8da825cf501e6f86",
            "8d73dd51373f4244b30750a5c06b3aeb",
            "63839034054a4d5aa2d47508b27a2164",
            "d4703257f7c749e2be13004e1aa8034c",
            "f4f68aa896564f4d8676bbfe99315984",
            "ebb610800d9846d0a19f64467e944ee0",
            "bf059e42521f4413ba3a39ca5023d50f",
            "c9b4427c2bdb42069f0c046ba241b08e",
            "b4cc7a52c7c94ef2b76c053cd1c874f6",
            "e1a087f3bfaa45849be489bbee87133d",
            "687e8e66cdf54f2d8dd7c4018fc932db",
            "baf518e854eb41a6a3fdd9455102f96f",
            "512e086ac3104faa8147e9848e7d3e84",
            "5c4aea8af146482e96de4ea54e73e744",
            "449460c6e0434b8e85e7bcbaaaec4371",
            "ab6ae336389a496c8c9000dbf8a4c6c7",
            "6a5cdc350d204eefaa840ce01416e575",
            "b59c46df51d54e9186e6098f2be5de90",
            "469b918781de467ca713caa6702f772a",
            "12a3b2c28b1c4e6aa56896103478a389",
            "7dde02b3ab874566b6eebc58f509c1a1",
            "6fbe69271eb84064b9789b8bbae04c52",
            "ae1ffaba348942038de4ab6135c99ec0",
            "8274b895e3d84dbda6364ec426d4fdb7",
            "3165d6f54c57445080af2710ff9b243a",
            "efd812975db04afabec8e209f8d8dd39",
            "f57872dc5ee24e85add166ab29a27bed",
            "1f0be43bc342451a9f1aa6669870fa47",
            "3d43366d664145529bfdb32b5b707b83",
            "a0aa3c93b39645a8a31304a7259f4877",
            "0920c6954f634c3d9765803fc8b36583",
            "870eae700ce94721825a05dc42a5928f",
            "059d45daa1db4fc6ab5b6fa8bcddde0f",
            "347acd18dd5e43448ff90e223906b5d1",
            "975ac766531644d984b51fea360932ba",
            "0ce11abdecf94bc78b015fef9a700cd5",
            "2e8bcb72256a46c2a9425a9067a4a117",
            "d06e8f1d5e694602af45fda9084812e0",
            "0b614616f81049f88f49853f4960f844",
            "325308cfe9c44662bcd9014b65428509",
            "5334962b459248da918cb1053ea91d77",
            "da36beb6593c4bd6844ea0188bd62f7e",
            "55cead4c5dcb4dcda87bbd4a12b4a465",
            "0533920fe4b441c9ac8cca9515398a86",
            "667c6a58f6734bd48e7d2691c1156161",
            "1a2baf35a75a4df8ae099a7bdd16ee7f",
            "f63a425f22a747db833f8bf68cdbb932",
            "50b1a90c046f42448d7d7b4527cc50d0",
            "9bf2539c11ff4732a91e29de53e297ae",
            "fea608b7628548f8a8f45bfa88ce96b0",
            "915dccb771104b5389a32f28495b2afb",
            "ed44a79c990a45d7961b0a16072d981d",
            "115793e0dd034a27961fe904456fd317",
            "3a2e84daf8eb4ca29e4346ce978b22f6",
            "49768a32afd74bf18ecc81b84c62da2d",
            "90c32c74c5e94131aa4c0603414264ff",
            "ec5bd2514e744f198b1b11a9be7fb42c",
            "ef6d6d1057ea403eac02ee7e25d7ca00",
            "eccb25859b004e3eaa16f6a71a629d5d",
            "52294ab687d442628ce7c6d78654d483",
            "abd23d43ac6a4624930819f56f6f0347",
            "aca339ad590a4d7aa60f2bad75358588",
            "60bcdd22fe504e1291d7282d1d6d1a2e",
            "fa3375bf22d24650a6aca5cad3acf958",
            "2d285e68f2cb4ecdb0b488af775dd8e6",
            "221030bceab7497d86225092f5185ed5",
            "1a62e820d4da4e4f937c79d14c613e01",
            "b447282a2a6349a1af04469462b0aba4",
            "162f3c5b2d62474195860784d8e76f8b",
            "8d06d5e6cbeb4317b983dba4348faa05",
            "88f8342f5b7544aa8286898b0b22be71",
            "1068e451fa4341cdacb700bff4e4bda7",
            "61b6b2935dc84cad8cb4a1655ec419c2",
            "dba94fac2c9d4dbf8e122db874024ec8",
            "0387adf41d3b4267a1c4f65048c946c9",
            "370e3f07623b4923ab3dfd2c2f16d9bd",
            "e4953142a4d34d78aed20842acc60847",
            "5de84b919bca4b6b8f77546b8cc6c13a",
            "fab8036a792843b5b2f48d87174c17a5",
            "e911436490b5429aaa3b62aaf761bf98",
            "04ed818694f146a88db2cd29ebfd1ad1",
            "694078e4fb2c47daacdc97b0991037f5",
            "2ffa955358fe411eaf905808caa2ece7",
            "eee5d8f47e38419798d495e781442840",
            "a18f3cf3c0da4139b7213bb050945ec5",
            "a3732aa36f3b4153ad18957c5766824c",
            "f58ecde40adb4bdeb80ec39e5e4eb1af",
            "1e145da8cacd409d9ac14fda717e7f1b",
            "b85c4a9c990843c78cd1d547cb073c49",
            "9b7ec3df2ca541e6a6f7fd7f56827645",
            "c2bc95c74b524e408112443fe228a81f",
            "eeca7a053f344795943394edf5de6681",
            "195293545cd842a7bf4c6699c14d163e",
            "6423a503f8424cef9561096c2a983a3b",
            "ced94ed9d868432694fcc556ac23f864",
            "a14099556bfc4e1fabaa689e504a8b94",
            "bec759f2e43e44c484f63eafbb8b7156",
            "de1da875f2234243a2699769fce51c18",
            "0014e8a87bc8448c9d58169d5d90b422",
            "160cebdb65674138bba2e01ae3adbe81",
            "b32e69bb0a854e2bb5359bd1e433d514",
            "1110c967f786428ca78413d89764d630",
            "1edf0823dc8544e1b094124b3e6cf13a",
            "fb75d7faf3a34e88bf53dec227640c42",
            "92d9e2bb7e6e485f83fd0e9025547cc9",
            "12077fadd3044bd9badd8a18576707cb",
            "9c660969ffa3462399af236aabf4d1d3",
            "9d4eda1a52f24e74a6f46ab0c3b246d6",
            "c98fec06699a4ad3b9f9fa07933d2177",
            "fa8e84427fa34bcda05be3c46e81e35d",
            "d6ed3670431e4a6f8c0f56e8785fb6a5",
            "d49a1d41237d45b4bca1845fe676f169",
            "e27804f2a9114133a00bbcc8eed372ad",
            "2b4f10835fe74c8aa48a01de5c47a3fc",
            "656f70e25b864cae860d7e753dcce43d",
            "147eac4875f346cd8d061b95fc0cf3b7",
            "d87ac21c2cae4f3fbf2138dae3a3ff44",
            "2885e315bf7b48d99ab0e03fc29d4d76",
            "64e6588ff3bf4e11b25147510070d922",
            "ed25065071e4451cbd23a5d8a1da3e05",
            "056e4ce65e394e2891f3ff651e5289c9",
            "36a00df16c32426a820cd381b777cdc0",
            "711156b8c97744fabc536aab6038f0c6",
            "ce6241da95f34fb4960d447d81ad90a6",
            "0d1f7ab082e645c58453c78cea03670c",
            "432855575df4441b9d88116120d259ec",
            "6cb8d0d20e164c76b47988e6eb04841e",
            "3e10d8c482b2419e9e0f633d774ec2cb",
            "6625efb5e27d42babba740f07cff35c5",
            "e2c41354d0d64eecbb360d4869993fe9",
            "e26f673a3ba04db9be9deaf86abcbb40",
            "5d8f02ddc0fb4d079f2cd374af27a241",
            "4e11744bc04e47eeae5abf1876915f5b",
            "7e2108ad6f3b474da1fa0d4db72758cd",
            "2281ec1539d64739be7aa6d780cfc7bb",
            "0acc060bdc6449ba8396c25840b0e8fb",
            "1f9dd2916ced4c49829e3791c2b350d5",
            "911c5e68ee86437698493fc20b683875",
            "e8201b29bb024926920cf9e12999599a",
            "7ba86ad8326f4384a3ce9168494a5bb4",
            "76b091e511074a06a78df1199199eb74",
            "8ad6824475224e40a1cad83f4411d2f4",
            "cccc324cae324c5cb1da6909ada5731e",
            "21136352e9204e4a95df9aa6ebe0b4e4",
            "9a78089f8c3a469b91c8e957b198d17e",
            "e24c1d1b61164232a6209ee07c47cf0c",
            "cfa32c253f744ee19e464c2409361594",
            "38abb01586b645f4b92d4788810359b7",
            "608c3f60cb084bad873ab374723aaae1",
            "d1b3659d5856404fa306d7fe328116d7",
            "b08a2d4cc1d344d1a1febc9f202580f5",
            "43a4aa8374094c67acbcd44fa83f8908"
          ]
        },
        "outputId": "f91d0ae5-99f1-4b98-f31d-48fa7303fd10"
      },
      "outputs": [
        {
          "output_type": "stream",
          "name": "stderr",
          "text": [
            "INFO:pytorch_lightning.utilities.rank_zero:You are using the plain ModelCheckpoint callback. Consider using LitModelCheckpoint which with seamless uploading to Model registry.\n",
            "INFO:pytorch_lightning.utilities.rank_zero:GPU available: True (cuda), used: True\n",
            "INFO:pytorch_lightning.utilities.rank_zero:TPU available: False, using: 0 TPU cores\n",
            "INFO:pytorch_lightning.utilities.rank_zero:HPU available: False, using: 0 HPUs\n",
            "INFO:pytorch_lightning.accelerators.cuda:LOCAL_RANK: 0 - CUDA_VISIBLE_DEVICES: [0]\n",
            "INFO:pytorch_lightning.callbacks.model_summary:\n",
            "  | Name  | Type             | Params | Mode \n",
            "---------------------------------------------------\n",
            "0 | model | MNIST_MLR        | 7.9 K  | train\n",
            "1 | loss  | CrossEntropyLoss | 0      | train\n",
            "---------------------------------------------------\n",
            "7.9 K     Trainable params\n",
            "0         Non-trainable params\n",
            "7.9 K     Total params\n",
            "0.031     Total estimated model params size (MB)\n",
            "5         Modules in train mode\n",
            "0         Modules in eval mode\n"
          ]
        },
        {
          "output_type": "display_data",
          "data": {
            "text/plain": [
              "Sanity Checking: |          | 0/? [00:00<?, ?it/s]"
            ],
            "application/vnd.jupyter.widget-view+json": {
              "version_major": 2,
              "version_minor": 0,
              "model_id": "a7f7fdcdf4e2448dbb5f6f0aa981ba22"
            }
          },
          "metadata": {}
        },
        {
          "output_type": "display_data",
          "data": {
            "text/plain": [
              "Training: |          | 0/? [00:00<?, ?it/s]"
            ],
            "application/vnd.jupyter.widget-view+json": {
              "version_major": 2,
              "version_minor": 0,
              "model_id": "23709299fc6c47eeb2d532b5150bd3e2"
            }
          },
          "metadata": {}
        },
        {
          "output_type": "display_data",
          "data": {
            "text/plain": [
              "Validation: |          | 0/? [00:00<?, ?it/s]"
            ],
            "application/vnd.jupyter.widget-view+json": {
              "version_major": 2,
              "version_minor": 0,
              "model_id": "ac415b48d3134698939e8ede175b05de"
            }
          },
          "metadata": {}
        },
        {
          "output_type": "display_data",
          "data": {
            "text/plain": [
              "Validation: |          | 0/? [00:00<?, ?it/s]"
            ],
            "application/vnd.jupyter.widget-view+json": {
              "version_major": 2,
              "version_minor": 0,
              "model_id": "cf6a4c9bae164cdcaf96091b85c28ac5"
            }
          },
          "metadata": {}
        },
        {
          "output_type": "display_data",
          "data": {
            "text/plain": [
              "Validation: |          | 0/? [00:00<?, ?it/s]"
            ],
            "application/vnd.jupyter.widget-view+json": {
              "version_major": 2,
              "version_minor": 0,
              "model_id": "d81a705c1d91493a86391af2fa34ed7c"
            }
          },
          "metadata": {}
        },
        {
          "output_type": "display_data",
          "data": {
            "text/plain": [
              "Validation: |          | 0/? [00:00<?, ?it/s]"
            ],
            "application/vnd.jupyter.widget-view+json": {
              "version_major": 2,
              "version_minor": 0,
              "model_id": "0dc6240dc90744c0b392e850599d984e"
            }
          },
          "metadata": {}
        },
        {
          "output_type": "display_data",
          "data": {
            "text/plain": [
              "Validation: |          | 0/? [00:00<?, ?it/s]"
            ],
            "application/vnd.jupyter.widget-view+json": {
              "version_major": 2,
              "version_minor": 0,
              "model_id": "ee6d6ca59b8649a1880c1be74f026b58"
            }
          },
          "metadata": {}
        },
        {
          "output_type": "display_data",
          "data": {
            "text/plain": [
              "Validation: |          | 0/? [00:00<?, ?it/s]"
            ],
            "application/vnd.jupyter.widget-view+json": {
              "version_major": 2,
              "version_minor": 0,
              "model_id": "a0240c66669248baba4ccf39252b37e5"
            }
          },
          "metadata": {}
        },
        {
          "output_type": "display_data",
          "data": {
            "text/plain": [
              "Validation: |          | 0/? [00:00<?, ?it/s]"
            ],
            "application/vnd.jupyter.widget-view+json": {
              "version_major": 2,
              "version_minor": 0,
              "model_id": "95e0e9b61e22462195c0c236737cfea5"
            }
          },
          "metadata": {}
        },
        {
          "output_type": "display_data",
          "data": {
            "text/plain": [
              "Validation: |          | 0/? [00:00<?, ?it/s]"
            ],
            "application/vnd.jupyter.widget-view+json": {
              "version_major": 2,
              "version_minor": 0,
              "model_id": "b317f06700774028937f370e5aafc695"
            }
          },
          "metadata": {}
        },
        {
          "output_type": "display_data",
          "data": {
            "text/plain": [
              "Validation: |          | 0/? [00:00<?, ?it/s]"
            ],
            "application/vnd.jupyter.widget-view+json": {
              "version_major": 2,
              "version_minor": 0,
              "model_id": "fad7e3c6e080430f88b4ca9bb7c127ed"
            }
          },
          "metadata": {}
        },
        {
          "output_type": "display_data",
          "data": {
            "text/plain": [
              "Validation: |          | 0/? [00:00<?, ?it/s]"
            ],
            "application/vnd.jupyter.widget-view+json": {
              "version_major": 2,
              "version_minor": 0,
              "model_id": "bf66a963f25041989a22b9fd4cc51505"
            }
          },
          "metadata": {}
        },
        {
          "output_type": "display_data",
          "data": {
            "text/plain": [
              "Validation: |          | 0/? [00:00<?, ?it/s]"
            ],
            "application/vnd.jupyter.widget-view+json": {
              "version_major": 2,
              "version_minor": 0,
              "model_id": "51d8d75e3efe42ad904ef6b871dd7e77"
            }
          },
          "metadata": {}
        },
        {
          "output_type": "display_data",
          "data": {
            "text/plain": [
              "Validation: |          | 0/? [00:00<?, ?it/s]"
            ],
            "application/vnd.jupyter.widget-view+json": {
              "version_major": 2,
              "version_minor": 0,
              "model_id": "b1227928410e463d8ecc5c99e0d40401"
            }
          },
          "metadata": {}
        },
        {
          "output_type": "display_data",
          "data": {
            "text/plain": [
              "Validation: |          | 0/? [00:00<?, ?it/s]"
            ],
            "application/vnd.jupyter.widget-view+json": {
              "version_major": 2,
              "version_minor": 0,
              "model_id": "1f0112c06f1f4a898c478da1b3e2b31b"
            }
          },
          "metadata": {}
        },
        {
          "output_type": "display_data",
          "data": {
            "text/plain": [
              "Validation: |          | 0/? [00:00<?, ?it/s]"
            ],
            "application/vnd.jupyter.widget-view+json": {
              "version_major": 2,
              "version_minor": 0,
              "model_id": "ced353a13985416fbd75b02de6be35e6"
            }
          },
          "metadata": {}
        },
        {
          "output_type": "display_data",
          "data": {
            "text/plain": [
              "Validation: |          | 0/? [00:00<?, ?it/s]"
            ],
            "application/vnd.jupyter.widget-view+json": {
              "version_major": 2,
              "version_minor": 0,
              "model_id": "068c58448b844a609317e5fd0622c3d5"
            }
          },
          "metadata": {}
        },
        {
          "output_type": "display_data",
          "data": {
            "text/plain": [
              "Validation: |          | 0/? [00:00<?, ?it/s]"
            ],
            "application/vnd.jupyter.widget-view+json": {
              "version_major": 2,
              "version_minor": 0,
              "model_id": "d9e9caa9974c4d6bacaf3878a0a2dcb1"
            }
          },
          "metadata": {}
        },
        {
          "output_type": "display_data",
          "data": {
            "text/plain": [
              "Validation: |          | 0/? [00:00<?, ?it/s]"
            ],
            "application/vnd.jupyter.widget-view+json": {
              "version_major": 2,
              "version_minor": 0,
              "model_id": "98bed17979b04920bf8cb2f347717a09"
            }
          },
          "metadata": {}
        },
        {
          "output_type": "display_data",
          "data": {
            "text/plain": [
              "Validation: |          | 0/? [00:00<?, ?it/s]"
            ],
            "application/vnd.jupyter.widget-view+json": {
              "version_major": 2,
              "version_minor": 0,
              "model_id": "e1a087f3bfaa45849be489bbee87133d"
            }
          },
          "metadata": {}
        },
        {
          "output_type": "display_data",
          "data": {
            "text/plain": [
              "Validation: |          | 0/? [00:00<?, ?it/s]"
            ],
            "application/vnd.jupyter.widget-view+json": {
              "version_major": 2,
              "version_minor": 0,
              "model_id": "7dde02b3ab874566b6eebc58f509c1a1"
            }
          },
          "metadata": {}
        },
        {
          "output_type": "display_data",
          "data": {
            "text/plain": [
              "Validation: |          | 0/? [00:00<?, ?it/s]"
            ],
            "application/vnd.jupyter.widget-view+json": {
              "version_major": 2,
              "version_minor": 0,
              "model_id": "870eae700ce94721825a05dc42a5928f"
            }
          },
          "metadata": {}
        },
        {
          "output_type": "display_data",
          "data": {
            "text/plain": [
              "Validation: |          | 0/? [00:00<?, ?it/s]"
            ],
            "application/vnd.jupyter.widget-view+json": {
              "version_major": 2,
              "version_minor": 0,
              "model_id": "55cead4c5dcb4dcda87bbd4a12b4a465"
            }
          },
          "metadata": {}
        },
        {
          "output_type": "display_data",
          "data": {
            "text/plain": [
              "Validation: |          | 0/? [00:00<?, ?it/s]"
            ],
            "application/vnd.jupyter.widget-view+json": {
              "version_major": 2,
              "version_minor": 0,
              "model_id": "3a2e84daf8eb4ca29e4346ce978b22f6"
            }
          },
          "metadata": {}
        },
        {
          "output_type": "display_data",
          "data": {
            "text/plain": [
              "Validation: |          | 0/? [00:00<?, ?it/s]"
            ],
            "application/vnd.jupyter.widget-view+json": {
              "version_major": 2,
              "version_minor": 0,
              "model_id": "2d285e68f2cb4ecdb0b488af775dd8e6"
            }
          },
          "metadata": {}
        },
        {
          "output_type": "display_data",
          "data": {
            "text/plain": [
              "Validation: |          | 0/? [00:00<?, ?it/s]"
            ],
            "application/vnd.jupyter.widget-view+json": {
              "version_major": 2,
              "version_minor": 0,
              "model_id": "370e3f07623b4923ab3dfd2c2f16d9bd"
            }
          },
          "metadata": {}
        },
        {
          "output_type": "display_data",
          "data": {
            "text/plain": [
              "Validation: |          | 0/? [00:00<?, ?it/s]"
            ],
            "application/vnd.jupyter.widget-view+json": {
              "version_major": 2,
              "version_minor": 0,
              "model_id": "f58ecde40adb4bdeb80ec39e5e4eb1af"
            }
          },
          "metadata": {}
        },
        {
          "output_type": "display_data",
          "data": {
            "text/plain": [
              "Validation: |          | 0/? [00:00<?, ?it/s]"
            ],
            "application/vnd.jupyter.widget-view+json": {
              "version_major": 2,
              "version_minor": 0,
              "model_id": "de1da875f2234243a2699769fce51c18"
            }
          },
          "metadata": {}
        },
        {
          "output_type": "display_data",
          "data": {
            "text/plain": [
              "Validation: |          | 0/? [00:00<?, ?it/s]"
            ],
            "application/vnd.jupyter.widget-view+json": {
              "version_major": 2,
              "version_minor": 0,
              "model_id": "c98fec06699a4ad3b9f9fa07933d2177"
            }
          },
          "metadata": {}
        },
        {
          "output_type": "display_data",
          "data": {
            "text/plain": [
              "Validation: |          | 0/? [00:00<?, ?it/s]"
            ],
            "application/vnd.jupyter.widget-view+json": {
              "version_major": 2,
              "version_minor": 0,
              "model_id": "ed25065071e4451cbd23a5d8a1da3e05"
            }
          },
          "metadata": {}
        },
        {
          "output_type": "display_data",
          "data": {
            "text/plain": [
              "Validation: |          | 0/? [00:00<?, ?it/s]"
            ],
            "application/vnd.jupyter.widget-view+json": {
              "version_major": 2,
              "version_minor": 0,
              "model_id": "e26f673a3ba04db9be9deaf86abcbb40"
            }
          },
          "metadata": {}
        },
        {
          "output_type": "display_data",
          "data": {
            "text/plain": [
              "Validation: |          | 0/? [00:00<?, ?it/s]"
            ],
            "application/vnd.jupyter.widget-view+json": {
              "version_major": 2,
              "version_minor": 0,
              "model_id": "8ad6824475224e40a1cad83f4411d2f4"
            }
          },
          "metadata": {}
        },
        {
          "output_type": "stream",
          "name": "stderr",
          "text": [
            "INFO:pytorch_lightning.utilities.rank_zero:`Trainer.fit` stopped: `max_epochs=30` reached.\n"
          ]
        }
      ],
      "source": [
        "mlr_trainer = Trainer(deterministic=False,\n",
        "                      max_epochs=30,\n",
        "                      enable_progress_bar=True,\n",
        "                      callbacks=[ErrorTracker()])\n",
        "mlr_trainer.fit(mlr_module, datamodule=mnist_dm)"
      ]
    },
    {
      "cell_type": "code",
      "execution_count": null,
      "id": "ca159ef2",
      "metadata": {
        "lines_to_next_cell": 0,
        "id": "ca159ef2",
        "colab": {
          "base_uri": "https://localhost:8080/",
          "height": 186,
          "referenced_widgets": [
            "480d81878be64c35a863c7ee8a789b7a",
            "336dd786ca034b919abeb279d7a499fa",
            "a9db3de0dcf2482da00ae4cc9011fd53",
            "e35309b368d3442cb7c8ed7eba312304",
            "d64a50bd15404c12b0e0fecb17c0af47",
            "e165b3d517d748cc8925df924f2be6ce",
            "919ec3d63f174f068ec2a454685bd61e",
            "ddb96ceff44f45f0b372dc89e540f975",
            "d9c0852d121d4630a35739c961b7b44e",
            "d4487275eded4a5983ffbe0e71838f39",
            "a7e550422cab4aa58f32eae334b1bafe"
          ]
        },
        "outputId": "14e2d869-11fd-45a2-b5ba-857ab28ed726"
      },
      "outputs": [
        {
          "output_type": "stream",
          "name": "stderr",
          "text": [
            "INFO:pytorch_lightning.accelerators.cuda:LOCAL_RANK: 0 - CUDA_VISIBLE_DEVICES: [0]\n"
          ]
        },
        {
          "output_type": "display_data",
          "data": {
            "text/plain": [
              "Testing: |          | 0/? [00:00<?, ?it/s]"
            ],
            "application/vnd.jupyter.widget-view+json": {
              "version_major": 2,
              "version_minor": 0,
              "model_id": "480d81878be64c35a863c7ee8a789b7a"
            }
          },
          "metadata": {}
        },
        {
          "output_type": "display_data",
          "data": {
            "text/plain": [
              "┏━━━━━━━━━━━━━━━━━━━━━━━━━━━┳━━━━━━━━━━━━━━━━━━━━━━━━━━━┓\n",
              "┃\u001b[1m \u001b[0m\u001b[1m       Test metric       \u001b[0m\u001b[1m \u001b[0m┃\u001b[1m \u001b[0m\u001b[1m      DataLoader 0       \u001b[0m\u001b[1m \u001b[0m┃\n",
              "┡━━━━━━━━━━━━━━━━━━━━━━━━━━━╇━━━━━━━━━━━━━━━━━━━━━━━━━━━┩\n",
              "│\u001b[36m \u001b[0m\u001b[36m      test_accuracy      \u001b[0m\u001b[36m \u001b[0m│\u001b[35m \u001b[0m\u001b[35m    0.920799970626831    \u001b[0m\u001b[35m \u001b[0m│\n",
              "│\u001b[36m \u001b[0m\u001b[36m        test_loss        \u001b[0m\u001b[36m \u001b[0m│\u001b[35m \u001b[0m\u001b[35m   0.33121007680892944   \u001b[0m\u001b[35m \u001b[0m│\n",
              "└───────────────────────────┴───────────────────────────┘\n"
            ],
            "text/html": [
              "<pre style=\"white-space:pre;overflow-x:auto;line-height:normal;font-family:Menlo,'DejaVu Sans Mono',consolas,'Courier New',monospace\">┏━━━━━━━━━━━━━━━━━━━━━━━━━━━┳━━━━━━━━━━━━━━━━━━━━━━━━━━━┓\n",
              "┃<span style=\"font-weight: bold\">        Test metric        </span>┃<span style=\"font-weight: bold\">       DataLoader 0        </span>┃\n",
              "┡━━━━━━━━━━━━━━━━━━━━━━━━━━━╇━━━━━━━━━━━━━━━━━━━━━━━━━━━┩\n",
              "│<span style=\"color: #008080; text-decoration-color: #008080\">       test_accuracy       </span>│<span style=\"color: #800080; text-decoration-color: #800080\">     0.920799970626831     </span>│\n",
              "│<span style=\"color: #008080; text-decoration-color: #008080\">         test_loss         </span>│<span style=\"color: #800080; text-decoration-color: #800080\">    0.33121007680892944    </span>│\n",
              "└───────────────────────────┴───────────────────────────┘\n",
              "</pre>\n"
            ]
          },
          "metadata": {}
        },
        {
          "output_type": "execute_result",
          "data": {
            "text/plain": [
              "[{'test_loss': 0.33121007680892944, 'test_accuracy': 0.920799970626831}]"
            ]
          },
          "metadata": {},
          "execution_count": 53
        }
      ],
      "source": [
        "mlr_trainer.test(mlr_module,\n",
        "                 datamodule=mnist_dm)"
      ]
    },
    {
      "cell_type": "markdown",
      "id": "3cf93fb9-eaa7-43ed-9927-4e44b9ec2afb",
      "metadata": {
        "id": "3cf93fb9-eaa7-43ed-9927-4e44b9ec2afb"
      },
      "source": [
        "#### 10 first samples from test set"
      ]
    },
    {
      "cell_type": "code",
      "execution_count": null,
      "id": "e89981cc-0123-4ef8-b8fb-23d280da0c88",
      "metadata": {
        "id": "e89981cc-0123-4ef8-b8fb-23d280da0c88",
        "colab": {
          "base_uri": "https://localhost:8080/",
          "height": 148
        },
        "outputId": "e7a90be1-a5c7-44a0-a573-e0b2f4b5ac9c"
      },
      "outputs": [
        {
          "output_type": "display_data",
          "data": {
            "text/plain": [
              "<Figure size 1000x200 with 10 Axes>"
            ],
            "image/png": "[encoded data removed]"
          },
          "metadata": {}
        }
      ],
      "source": [
        "test_loader = mnist_dm.test_dataloader()\n",
        "X_batch, y_batch = next(iter(test_loader))\n",
        "\n",
        "mlr_module.eval()  # Set to evaluation mode\n",
        "with torch.no_grad():\n",
        "    logits = mlr_module(X_batch)               # Use the trained mlr_module\n",
        "    preds = torch.argmax(logits, dim=1)        # Get predicted class index\n",
        "\n",
        "num_samples = min(10, X_batch.shape[0])\n",
        "plt.figure(figsize=(10, 2))\n",
        "for i in range(num_samples):\n",
        "    plt.subplot(1, num_samples, i + 1)\n",
        "    plt.imshow(X_batch[i].squeeze(), cmap='gray')\n",
        "\n",
        "    pred = preds[i].item()\n",
        "    actual = y_batch[i].item()\n",
        "    color = 'red' if pred != actual else 'black'\n",
        "\n",
        "    plt.title(f\"Pred: {pred}\\nActual: {actual}\", color=color, fontsize=8)\n",
        "    plt.axis('off')\n",
        "\n",
        "plt.tight_layout()\n",
        "plt.show()\n"
      ]
    },
    {
      "cell_type": "code",
      "execution_count": null,
      "id": "5842c930",
      "metadata": {
        "lines_to_next_cell": 2,
        "id": "5842c930"
      },
      "outputs": [],
      "source": [
        "del(mnist_test,\n",
        "    mnist_train,\n",
        "    mnist_model,\n",
        "    mnist_dm,\n",
        "    mnist_trainer,\n",
        "    mnist_module,\n",
        "    mnist_results,\n",
        "    mlr_model,\n",
        "    mlr_module,\n",
        "    mlr_trainer)"
      ]
    },
    {
      "cell_type": "markdown",
      "source": [],
      "metadata": {
        "id": "swuixes1S3nU"
      },
      "id": "swuixes1S3nU"
    },
    {
      "cell_type": "markdown",
      "id": "cd9e98b5",
      "metadata": {
        "id": "cd9e98b5"
      },
      "source": [
        "## Convolutional Neural Networks\n"
      ]
    },
    {
      "cell_type": "code",
      "execution_count": null,
      "id": "cb406355",
      "metadata": {
        "id": "cb406355",
        "colab": {
          "base_uri": "https://localhost:8080/"
        },
        "outputId": "adeea278-4ca1-478f-cbaa-4718e79d8ba2"
      },
      "outputs": [
        {
          "output_type": "stream",
          "name": "stdout",
          "text": [
            "Downloading https://www.cs.toronto.edu/~kriz/cifar-100-python.tar.gz to data/cifar-100-python.tar.gz\n"
          ]
        },
        {
          "output_type": "stream",
          "name": "stderr",
          "text": [
            "100%|██████████| 169M/169M [00:13<00:00, 12.9MB/s]\n"
          ]
        },
        {
          "output_type": "stream",
          "name": "stdout",
          "text": [
            "Extracting data/cifar-100-python.tar.gz to data\n",
            "Files already downloaded and verified\n"
          ]
        }
      ],
      "source": [
        "(cifar_train,\n",
        " cifar_test) = [CIFAR100(root=\"data\",\n",
        "                         train=train,\n",
        "                         download=True)\n",
        "             for train in [True, False]] #Q27"
      ]
    },
    {
      "cell_type": "code",
      "execution_count": null,
      "id": "5caed552-206c-484d-be8f-c7514452d62e",
      "metadata": {
        "id": "5caed552-206c-484d-be8f-c7514452d62e",
        "colab": {
          "base_uri": "https://localhost:8080/"
        },
        "outputId": "04a6b4e6-b7fe-4313-cc3a-c787ad965d42"
      },
      "outputs": [
        {
          "output_type": "execute_result",
          "data": {
            "text/plain": [
              "Dataset CIFAR100\n",
              "    Number of datapoints: 50000\n",
              "    Root location: data\n",
              "    Split: Train"
            ]
          },
          "metadata": {},
          "execution_count": 57
        }
      ],
      "source": [
        "cifar_train"
      ]
    },
    {
      "cell_type": "code",
      "execution_count": null,
      "id": "2b539140-dcec-4957-8493-7f677713c292",
      "metadata": {
        "id": "2b539140-dcec-4957-8493-7f677713c292",
        "colab": {
          "base_uri": "https://localhost:8080/"
        },
        "outputId": "2040b947-562d-4ac0-f27c-a4c4efacebea"
      },
      "outputs": [
        {
          "output_type": "execute_result",
          "data": {
            "text/plain": [
              "(50000, 32, 32, 3)"
            ]
          },
          "metadata": {},
          "execution_count": 58
        }
      ],
      "source": [
        "cifar_train.data.shape ### how many chanels"
      ]
    },
    {
      "cell_type": "code",
      "execution_count": null,
      "id": "8dcd79cc",
      "metadata": {
        "id": "8dcd79cc"
      },
      "outputs": [],
      "source": [
        "transform = ToTensor() ### Convert image (H, W, C, uint8) to tensor (C, H, W, float32) scaled to [0,1]\n",
        "cifar_train_X = torch.stack([transform(x) for x in\n",
        "                            cifar_train.data])\n",
        "cifar_test_X = torch.stack([transform(x) for x in\n",
        "                            cifar_test.data])\n",
        "cifar_train = TensorDataset(cifar_train_X,\n",
        "                            torch.tensor(cifar_train.targets))\n",
        "cifar_test = TensorDataset(cifar_test_X,\n",
        "                            torch.tensor(cifar_test.targets))"
      ]
    },
    {
      "cell_type": "code",
      "execution_count": null,
      "id": "ac2c6076-69d3-4923-b7f2-095dab79b802",
      "metadata": {
        "id": "ac2c6076-69d3-4923-b7f2-095dab79b802",
        "colab": {
          "base_uri": "https://localhost:8080/"
        },
        "outputId": "1d3774a1-96ed-49c5-f617-4b4fc78c6dfb"
      },
      "outputs": [
        {
          "output_type": "execute_result",
          "data": {
            "text/plain": [
              "torch.Size([50000, 3, 32, 32])"
            ]
          },
          "metadata": {},
          "execution_count": 60
        }
      ],
      "source": [
        "cifar_train_X.shape ### channels color"
      ]
    },
    {
      "cell_type": "code",
      "execution_count": null,
      "id": "6980303a",
      "metadata": {
        "lines_to_next_cell": 0,
        "id": "6980303a"
      },
      "outputs": [],
      "source": [
        "cifar_dm = SimpleDataModule(cifar_train,\n",
        "                            cifar_test,\n",
        "                            validation=0.2,\n",
        "                            num_workers=max_num_workers,\n",
        "                            batch_size=128)\n"
      ]
    },
    {
      "cell_type": "code",
      "execution_count": null,
      "id": "401888c7",
      "metadata": {
        "lines_to_next_cell": 2,
        "id": "401888c7",
        "colab": {
          "base_uri": "https://localhost:8080/"
        },
        "outputId": "f95002a0-44c2-4cd4-8ad3-93447a8a17d4"
      },
      "outputs": [
        {
          "output_type": "stream",
          "name": "stdout",
          "text": [
            "X:  torch.Size([128, 3, 32, 32])\n",
            "Y:  torch.Size([128])\n",
            "X:  torch.Size([128, 3, 32, 32])\n",
            "Y:  torch.Size([128])\n"
          ]
        }
      ],
      "source": [
        "for idx, (X_ ,Y_) in enumerate(cifar_dm.train_dataloader()): #train_dataloader() fetches the training data in batches.\n",
        "    print('X: ', X_.shape)\n",
        "    print('Y: ', Y_.shape)\n",
        "    if idx >= 1: ### show only two batches\n",
        "        break\n"
      ]
    },
    {
      "cell_type": "code",
      "execution_count": null,
      "id": "3ad4b2f7-e333-4af4-8856-c5c76cc4a806",
      "metadata": {
        "id": "3ad4b2f7-e333-4af4-8856-c5c76cc4a806"
      },
      "outputs": [],
      "source": []
    },
    {
      "cell_type": "code",
      "execution_count": null,
      "id": "56090846",
      "metadata": {
        "lines_to_next_cell": 0,
        "id": "56090846",
        "colab": {
          "base_uri": "https://localhost:8080/",
          "height": 422
        },
        "outputId": "731ac599-345e-42ca-d01f-afeb7ea53eca"
      },
      "outputs": [
        {
          "output_type": "display_data",
          "data": {
            "text/plain": [
              "<Figure size 500x500 with 25 Axes>"
            ],
            "image/png": "[encoded data removed]"
          },
          "metadata": {}
        }
      ],
      "source": [
        "fig, axes = subplots(5, 5, figsize=(5,5))\n",
        "rng = np.random.default_rng(4)\n",
        "indices = rng.choice(np.arange(len(cifar_train)), 25,\n",
        "                     replace=False).reshape((5,5))\n",
        "for i in range(5):\n",
        "    for j in range(5):\n",
        "        idx = indices[i,j]\n",
        "        axes[i,j].imshow(np.transpose(cifar_train[idx][0],\n",
        "                                      [1,2,0]),\n",
        "                                      interpolation=None)\n",
        "        axes[i,j].set_xticks([])\n",
        "        axes[i,j].set_yticks([])\n"
      ]
    },
    {
      "cell_type": "code",
      "execution_count": null,
      "id": "90119b9b-5f78-43a5-9a4a-5db9d54de979",
      "metadata": {
        "id": "90119b9b-5f78-43a5-9a4a-5db9d54de979"
      },
      "outputs": [],
      "source": []
    },
    {
      "cell_type": "code",
      "execution_count": null,
      "id": "8c0567d9",
      "metadata": {
        "id": "8c0567d9"
      },
      "outputs": [],
      "source": [
        "class BuildingBlock(nn.Module):\n",
        "\n",
        "    def __init__(self,\n",
        "                 in_channels,\n",
        "                 out_channels):\n",
        "\n",
        "        super(BuildingBlock, self).__init__()\n",
        "        self.conv = nn.Conv2d(in_channels=in_channels,\n",
        "                              out_channels=out_channels,\n",
        "                              kernel_size=(3,3),\n",
        "                              padding='same')\n",
        "        self.activation = nn.ReLU()\n",
        "        self.pool = nn.MaxPool2d(kernel_size=(2,2))\n",
        "\n",
        "    def forward(self, x):\n",
        "        return self.pool(self.activation(self.conv(x)))\n"
      ]
    },
    {
      "cell_type": "code",
      "execution_count": null,
      "id": "e4d3eb9a",
      "metadata": {
        "id": "e4d3eb9a"
      },
      "outputs": [],
      "source": [
        "class CIFARModel(nn.Module): #Q30\n",
        "\n",
        "    def __init__(self):\n",
        "        super(CIFARModel, self).__init__()\n",
        "        sizes = [(3,32),\n",
        "                 (32,64),\n",
        "                 (64,128),\n",
        "                 (128,256)]\n",
        "        self.conv = nn.Sequential(*[BuildingBlock(in_, out_)\n",
        "                                    for in_, out_ in sizes])\n",
        "\n",
        "        self.output = nn.Sequential(nn.Dropout(0.5),\n",
        "                                    nn.Linear(2*2*256, 512),\n",
        "                                    nn.ReLU(),\n",
        "                                    nn.Linear(512, 100))\n",
        "    def forward(self, x):\n",
        "        val = self.conv(x)\n",
        "        val = torch.flatten(val, start_dim=1)\n",
        "        return self.output(val)\n"
      ]
    },
    {
      "cell_type": "code",
      "execution_count": null,
      "id": "5ff4e0a5",
      "metadata": {
        "lines_to_next_cell": 2,
        "id": "5ff4e0a5",
        "colab": {
          "base_uri": "https://localhost:8080/"
        },
        "outputId": "3a28b305-15e0-4f3e-8ecb-afda8650daed"
      },
      "outputs": [
        {
          "output_type": "execute_result",
          "data": {
            "text/plain": [
              "===================================================================================================================\n",
              "Layer (type:depth-idx)                   Input Shape               Output Shape              Param #\n",
              "===================================================================================================================\n",
              "CIFARModel                               [128, 3, 32, 32]          [128, 100]                --\n",
              "├─Sequential: 1-1                        [128, 3, 32, 32]          [128, 256, 2, 2]          --\n",
              "│    └─BuildingBlock: 2-1                [128, 3, 32, 32]          [128, 32, 16, 16]         --\n",
              "│    │    └─Conv2d: 3-1                  [128, 3, 32, 32]          [128, 32, 32, 32]         896\n",
              "│    │    └─ReLU: 3-2                    [128, 32, 32, 32]         [128, 32, 32, 32]         --\n",
              "│    │    └─MaxPool2d: 3-3               [128, 32, 32, 32]         [128, 32, 16, 16]         --\n",
              "│    └─BuildingBlock: 2-2                [128, 32, 16, 16]         [128, 64, 8, 8]           --\n",
              "│    │    └─Conv2d: 3-4                  [128, 32, 16, 16]         [128, 64, 16, 16]         18,496\n",
              "│    │    └─ReLU: 3-5                    [128, 64, 16, 16]         [128, 64, 16, 16]         --\n",
              "│    │    └─MaxPool2d: 3-6               [128, 64, 16, 16]         [128, 64, 8, 8]           --\n",
              "│    └─BuildingBlock: 2-3                [128, 64, 8, 8]           [128, 128, 4, 4]          --\n",
              "│    │    └─Conv2d: 3-7                  [128, 64, 8, 8]           [128, 128, 8, 8]          73,856\n",
              "│    │    └─ReLU: 3-8                    [128, 128, 8, 8]          [128, 128, 8, 8]          --\n",
              "│    │    └─MaxPool2d: 3-9               [128, 128, 8, 8]          [128, 128, 4, 4]          --\n",
              "│    └─BuildingBlock: 2-4                [128, 128, 4, 4]          [128, 256, 2, 2]          --\n",
              "│    │    └─Conv2d: 3-10                 [128, 128, 4, 4]          [128, 256, 4, 4]          295,168\n",
              "│    │    └─ReLU: 3-11                   [128, 256, 4, 4]          [128, 256, 4, 4]          --\n",
              "│    │    └─MaxPool2d: 3-12              [128, 256, 4, 4]          [128, 256, 2, 2]          --\n",
              "├─Sequential: 1-2                        [128, 1024]               [128, 100]                --\n",
              "│    └─Dropout: 2-5                      [128, 1024]               [128, 1024]               --\n",
              "│    └─Linear: 2-6                       [128, 1024]               [128, 512]                524,800\n",
              "│    └─ReLU: 2-7                         [128, 512]                [128, 512]                --\n",
              "│    └─Linear: 2-8                       [128, 512]                [128, 100]                51,300\n",
              "===================================================================================================================\n",
              "Total params: 964,516\n",
              "Trainable params: 964,516\n",
              "Non-trainable params: 0\n",
              "Total mult-adds (Units.GIGABYTES): 2.01\n",
              "===================================================================================================================\n",
              "Input size (MB): 1.57\n",
              "Forward/backward pass size (MB): 63.54\n",
              "Params size (MB): 3.86\n",
              "Estimated Total Size (MB): 68.97\n",
              "==================================================================================================================="
            ]
          },
          "metadata": {},
          "execution_count": 66
        }
      ],
      "source": [
        "cifar_model = CIFARModel()\n",
        "summary(cifar_model,\n",
        "        input_data=X_,\n",
        "        col_names=['input_size',\n",
        "                   'output_size',\n",
        "                   'num_params'])"
      ]
    },
    {
      "cell_type": "code",
      "execution_count": null,
      "id": "ab9d9080",
      "metadata": {
        "id": "ab9d9080"
      },
      "outputs": [],
      "source": [
        "cifar_optimizer = RMSprop(cifar_model.parameters(), lr=0.001)\n",
        "# In PyTorch, parameters() collects all the hidden weights and biases inside the model and passes them to the optimizer.\n",
        "# This allows the optimizer to know exactly which parameters to update during training.\n",
        "\n",
        "cifar_module = SimpleModule.classification(cifar_model,\n",
        "                                    num_classes=100,\n",
        "                                    optimizer=cifar_optimizer)\n",
        "cifar_logger = CSVLogger('logs', name='CIFAR100')\n"
      ]
    },
    {
      "cell_type": "code",
      "execution_count": null,
      "id": "5a86b37d",
      "metadata": {
        "id": "5a86b37d",
        "colab": {
          "base_uri": "https://localhost:8080/",
          "height": 381,
          "referenced_widgets": [
            "f54f718e2cfc451cb40c79a881cbf7f7",
            "ceea315ab6af458fb6b3aadcd7ffe238",
            "ef3b3da88c174d69aab435123cb05116",
            "2ee29f310abb4e00bc30bd8115661fc0",
            "e5c27c2ef70f4700a86b064a1608c3c7",
            "b4f58a84bfde469f8118cd58457ee4a9",
            "06e592910697422cba5440e2ba51cc6a",
            "c4aff4e458d14d649a6fe5c6ad0f2241",
            "bbda33d43f674af7b56ff7c644d8be61",
            "ff65092b33884cf8957751e920f7192a",
            "0646c68b7ccb4f2cbad7be927c22e926",
            "652ea1d5ece44f6f8b085b6b27cde7d6",
            "7b6160268e2e41f2a822fee5ea72b839",
            "e8754bffc7fe4a79955cbc14f0cb27e4",
            "37d4f0e9a8914b42af6dad18b67097ac",
            "9438bbddd7b346b4a64460f4cc528ab1",
            "15b8b5d79e9a4861aee996821c43b721",
            "ae4a45e63a2647248f0151767b0b437f",
            "bfe145f19e7a4d3594ae22f84ab97bef",
            "7bc359b8fa8f4c20a0c0038723e60ee4",
            "e5ce5da0b6b841a9ac0dd753f31a81d5",
            "9a4e9226f2ef4f8eb5426878bf0b6865",
            "99e733b5b76d4f6d9a17cca383e53a2b",
            "15c9da0f193c46d4aa6c106138615eba",
            "78b499c622364e9b9a1b669ec0386050",
            "dc571a3b40114de8b57170e6a30c2611",
            "a0034fc0a3b4490891109e06f9604a35",
            "705011c0bb4045c09b05c6eb197e96b4",
            "32af4df1600448af80bbbc9a2eb930ad",
            "501338dbf4f34645b8dfc695f7deb7d2",
            "d508cfc1574f483fb032cab7d0c08ff9",
            "68761724fc81428cb12f4c4654f433b6",
            "1576a3a1d1144a159082fa060f3514d0",
            "d623c05be71449ea88b846f27d50cb18",
            "eaeaf1a98dd647cdbeb9df26bb9922eb",
            "71071f3f27124f0f9aa2f6d1e82de7d4",
            "a282a10793bf4681b7c4dcecbe05c79a",
            "b068c87fa8ea4961b10505aac076cc0c",
            "72da78de89204879bc5572d6e1825328",
            "126f1e1d0b624d83ac4ed28aca741eea",
            "2d80e1956cb749548377b4d7322ae2c8",
            "4e5ddac5ff1e41a899ed2ec6a597d612",
            "afba28aa91bc4f789a6199846d2ed6e2",
            "1b2db2fbcbbb48c8868adfca82b6f142",
            "2dd4d9c7e15746129c622b3795297db9",
            "6c311ec973c74c41867f095c267f92d6",
            "7d99c47cfac648818b516d54c00c1437",
            "2f2b03291a0446b19810eda81dee411a",
            "2069d19bbcb84310857f57285497f9d0",
            "28af89cefc7049478c0370989c22f5fe",
            "bcad5a7cf0eb4b1dadc6f02424a82a65",
            "1b583d7e741f461a9258dcaca711e984",
            "13c5274844cd41dab8c85ce2fc9cddf9",
            "65a1393aecaa4671b1f5ab41e4f59100",
            "ef8b91bb9e73422ca997139cda120495",
            "ded1a0c260bd4e34a6d95a3b875c0af6",
            "7672c79c71f84777add211c15ea6832e",
            "4407124331684337869b1c3c86e1c9cd",
            "dc9613efadaf4f01b8af31dd09025d0c",
            "89e871c66800418d8f64961a0c4886b8",
            "71a9e87ea03a4e87926d35499b4cccf0",
            "402e3d19a1d14bfebb309870196aff5f",
            "070c7cf1985049d3919d4496bef15288",
            "6e2f042b06f14d46b6a81515bf936fde",
            "4e8dde8f28424f9f88750a20c1260de3",
            "13101642d9d94e9a81bc4db92557968b",
            "c1e350f0a5de43959d7baf0702e016fe",
            "c7ded96f738f4f1180dc65fd5bd08db8",
            "588accbd8fda4019b79c7f813909b15b",
            "aae86071fe464d679483c7a7fd0114f7",
            "5dab2392d9694ecea6eef7062ffeb590",
            "8f6a0c662b7942b69a0a3dbcff573fcc",
            "5ff496ed55314e63bb4fc9293bc320f9",
            "65b3e0f305eb4cae944ea8813367318d",
            "08b955df7f014b1685e758f2f7750300",
            "853dac4df5294e4098579ff307ef98cd",
            "500e7112e2f445d1b9b84e82f1004e88",
            "90c3cff724564b29bae5054683c52062",
            "e5df4e02a67847d9a7ef6dcd3f768ac3",
            "bc48d99b109143918c6ac99647715597",
            "a88ab28f6a7f42c982b528e9a7a1d8a6",
            "c6fae0f383914bc4960556c4533d4a96",
            "d3f153b97ded4c2fb6fdcf1d1bbc4eb4",
            "4d764505aeba45ef978299f372af6170",
            "05ab474f842643019a6cc5719d88022d",
            "6a99bc3285f8466eb68698ebb4ea659a",
            "b803f4bf6bdb45f4a971cfdf29d5d0fa",
            "56ef9ab62c874de1a28a2e160e9f0165",
            "46123b73b75f4959a1040922906bc51a",
            "88ec88ea91314e30b7ac2b8c98aa7d4a",
            "6c9e6608fb874ef4bfaca347d87802df",
            "b9dd503822194d3595f4bd290ef5d9fc",
            "c0471fa3be5e42db81456810e007d823",
            "d02e7a373c504dbb8860a949fb52f960",
            "d57e602176ca40c6a0218ba93369326c",
            "c867955685d649708830f4a0b18b8c97",
            "f97526a10dd644c380fb21cd8c6b222a",
            "1ca7b65ba01b44b6a8007f1207697160",
            "b661f3c6f2494b86896fffd117abf4af",
            "e7add99417744e96b9d8792b1cfa1356",
            "72b9254a9c244d8590b62162ba92d51a",
            "7814bb18f1f6457e976d0c72b820d104",
            "cd7261503d2f4bfba34988356e3787ba",
            "619b123c751b49c7b0b4cd4d15210c1c",
            "dfe038928a8641ceb10ff04137875437",
            "4d0ce82823724c85b2cb1fa3673166ff",
            "d7cfec2302d94bc5a69795c7bec0d03b",
            "85fd63addbdb40d691b532551e226dde",
            "36c48e95c7d440998e947f664c145fd5",
            "844b59d924084931a39030da0de17d1b",
            "6f909d1be16d40ba9b6b96f76fe08acd",
            "eae4300e7bc7401b87f1a75b0ba75d05",
            "91dac95f045c4b0c80d750f0b955e810",
            "038542f4d0f640a59938222e36082a6b",
            "c1c8059413104e80b3583bbf157f6893",
            "fa67a59100c74c8cb77168c3cf433ec4",
            "b103d9449f1e48e29efd4da3670d6fa9",
            "4978b7a39b1b44e2a8269a25223c96c5",
            "24d5672b755f4c35a713861efea56ede",
            "830bcb8bda844bb3baae4503c1ce8b82",
            "49285c1d9ca640c08aa19dd64fa5dea1",
            "08eb460d09264898b4b8a868b891a382",
            "2ac96f25b94f4fa283ec7872b9b45dd5",
            "e6bf6a5f401b40e39231730c6e729337",
            "3e97f7ad5e314c3e9e969aa8c1537c6b",
            "2c3f7ad0fe2342afa9b2b4767d1ed234",
            "08f82bf595e64cfd9019d04d233aaaf5",
            "e0202fe4a2df4b1f948fa1ac1a8596cb",
            "c376d08fb379477eb89d22530013d727",
            "57c1270235ff4181a3451f3bf4290412",
            "6166dffc9c814f428f0d0dba279c54bd",
            "ec8da2553583420991f147a693e6cd19",
            "3a56f9fbb2e1420ab16e908173bfda0d",
            "42f31129d55c4083918fa2457f29f4e3",
            "f95ba4f32d3c49d3a432475ad7ca9c21",
            "35b9e13699ae4c5dad9076c2ee139eee",
            "555d2a52edd746ec99fe90bdf413b7f1",
            "3c19fd79763a4200aead99db94954e87",
            "79af068c138e492ca6fbfb07bf2ff2ad",
            "347e2d426bcf456e90f1f7aa51df7f45",
            "15450a7991d84ac7ae7c68768d04e727",
            "30f151758998450c9db1d069ea72a86f",
            "ce3754456ae74201944da00d9e30af82",
            "ada80b7cc7b44a36b1d32d286f47f30d",
            "29b483a09167407395a4cb2b3eb69a3f",
            "4c213e78f39644d8afc43bf6d8d8f3a6",
            "3710c1ab9fe94313b30d8129c161cf63",
            "b0e281e8372d4a66aa92b9edf3638f30",
            "4f4a7c8526be4595b68addb0e78de755",
            "ad39c2f0c43c40fa882c44385dcf16af",
            "e6b83c21d0c745769bddd8f53007df4e",
            "043662e9ff7d486ba844e5f050ba3b76",
            "5a3f5f957b6040dea471410072643b22",
            "e2c1c6284c4a493c80db45c6550b1be3",
            "cd63298b9e874525b7833bd221aad237",
            "94030b26d2284407be0c63750dd04247",
            "4e50a75ddc8f43f4955d11d5c0830f7b",
            "043d399a58bb4945a2736f50edc35d70",
            "07992ded66804cecad54b036d853bb04",
            "e1b5032eb4d644f38c23dcff92db7416",
            "8ed998f4ee224ffcb7a3d1e9d801edaa",
            "0471257720ab45dc8b0919f751c6ca30",
            "ce724a60ddec41a49706eccf45a8f6ab",
            "ad67bbfe5dba4aaeb969f942087abfb2",
            "93f07d4342c241ceb5f3c53bb308ed34",
            "d0ea1fd8e2684adab74f0960d083f2e0",
            "61658399d3ab4ef490d8a8dbf013acab",
            "900e7d6340d744aa9c7b108674d0019f",
            "2c978851c9b646c980752a017aea442b",
            "2cfb4c9cb5a24972922507729ae84019",
            "403cbb61955640a2a21f2834539cb73c",
            "ae8c593bf5de49eea72bc7fca38efa1c",
            "bf68341ec89e4ce188ac02225a0d219d",
            "5e737a8b6627439e9b2db9101e24ee74",
            "0b74e0c7bb9c4e5d93b71f7c22dc5701",
            "e57a219ee4cc4cd8b2793908696a4d1b",
            "3a520aba5ca649fcbae2886725cbf58a",
            "1f2cfcfdb4724ac8926d5f4c5537d1eb",
            "109e9af5582540788b1963447b6cc936",
            "98ba9a07c40c45e2acbbcc57d1d485b9",
            "8c1583ef50cf43d2a3a30d6a6cbf9a62",
            "28ab45aeca4440df81fd612fdf682fd6",
            "625284a479e0463c83dafe6d1cee993d",
            "41edb4904c2d4bd48a694ccfe7627fd4",
            "537dd330706a42bcb25610823fca5a50",
            "522cbc959ff74c92a09a969081582686",
            "cb951e99d45d49db8d5c04fc43a4908a",
            "404fcbad99c044ad99927514ab5df70a",
            "3d46e157524349728f4f0a02af39e9e8",
            "c8079284c8a340ebad51c6e7a7c05c8f",
            "a2cd4b067a7c4ddaa679f59781b86c9f",
            "0d21ad986e554953b551cf0d7b2764e2",
            "e8e2af206951435d855114a959871b68",
            "d8649a050c364d948ba5f3d00ccbdc7c",
            "d14ba95b99764778a51839b01a1532e4",
            "492b3210360d4aee9a286a905b4bede7",
            "4a6c557e98ac42fe9c8af836d7c62913",
            "9655ef45adbb4bd684cc36be32e67eac",
            "2323a67e0aee49c984f2dd625ea6a303",
            "5f0fa545c19344819a6b59f78637a426",
            "fd77eadb9816402092ea10a97993f28f",
            "1ec748919be644b5880fb8f80b407252",
            "350993925d5d43eba5c8e35df8e4ea07",
            "66805054bea84e769bcdb6d57df96f07",
            "473c92c8d1df442fad2ca7dbbf4627fa",
            "5f72f5a80c38433883da60249ad86bfe",
            "1427b1ddddae4de086c2c8eae18e94d9",
            "b21743f1b5084edd9733c4251324fd59",
            "2bf32121a56e4d6e834ee312650d5522",
            "39250ba3de694c9dbad0ecece24f13ee",
            "c56f39aaa1bb49b2a19225e5e6561bea",
            "ff1db6b061484ee494eea32ee239508c",
            "89876203d8f349f7b71da186d9913885",
            "63b8870b6d9f48b4b2345281619267c6",
            "a76c51844e3a4acab400e6aac0c04f0d",
            "b999d1b0c5824c6abafd0937d5716bec",
            "41b27c5fe98d4149a142bf176bfbbefc",
            "233cbbe9844a4152ac17f9a718c2708e",
            "eed21f127c0b410da353d6e48c939105",
            "7b52737f73564014ad902c80565bb493",
            "ad85d25dc72e4844a88b66f772c4e9a2",
            "d1b9118f71a140b49ede11f804e838ae",
            "8a40997b90ab49028313353b99f7b728",
            "9c0bb1c7430f4c1fa47da511fe52d19f",
            "ffa742946be64401a034ced469b69de7",
            "2fc15419f4be489daaf3970abe6daaa5",
            "de821821eabf4cfbb6b3b68eb2484e89",
            "26c71e9dc5ad4b15be2641c711130476",
            "a285ac53212945f9b8dcce2ac9e28d05",
            "ef3016e6c1bc4d97a8d003b20a7da824",
            "58929bafc9094fe791c979654332447a",
            "5eb5263374c14338a0c3be3a12560cd9",
            "3d0fcc616cbd45ab83f860c71ee84281",
            "2d87e035c08d4065b4e1bd612775f41a",
            "6ebba5cf51444c07b8c30d33edda4eec",
            "98b4a0733b7044719abac63c9c346cdf",
            "bbfaba3799c44d1da784fe8bd1b10f9b",
            "eb61658f29fd4c2e8874a508f49645f1",
            "214f48e38306458a898e3cca0f220aaa",
            "9adf471f41c247ae8ba881919e57e59f",
            "f0ab601ca8c043dfab54d17a1085b828",
            "adc1d5d8087c423e91c026dd4c72e03a",
            "b00992e2dba641c5b3778048ee85f703",
            "63525703cfd0447da44e07f4f087f420",
            "967ca27d036f4b9aa37c142a7d98e288",
            "cde5696b7a384b4dad70f7e2e81f3f0b",
            "7f416e2b735841329b52a5544af06dd1",
            "183d9b240d5a4a4bba4a3556367ce797",
            "929f462b259b49f09226909e6a86c189",
            "602b8efc7ecd459b9f7a14d6a000626e",
            "90082054e3d14146aa283965d4b5535a",
            "cb29616abe1d430eb0178c743fe2418b",
            "16460a952d4d44deae1efdcb0efa698a",
            "bc1b4f2d7a71472b8204392be292f5ac",
            "c5801b7c56c54e23a59c3bf65c895f37",
            "223b4511e11e4fd2acdd345b444e0fca",
            "32531dc0802943f0b08a3af22d44c779",
            "92f9e61df8c44a12aa7d327d1c3cabe8",
            "dc4ab07406164729b5d782efa37b60d9",
            "6a458f852db7495ea20ad71c4f38f271",
            "03af12abd9b449948b5cb63cdbee3848",
            "5639d9ea33e843dfac147537d363e1f5",
            "482171f15c054a38b45a4ae9bba58ab5",
            "ae29918b46754ef186d91ca6230fcd6e",
            "57a8e267bbdb4040b8b92a161fc38eeb",
            "09408d65716c46dea24265253158b137",
            "a6fcdb067b3a42fcbcb48dd475543d4e",
            "bb096a3326ba43359b8b7c544db2d5dd",
            "d5ffaf70adbd4a6aa813aab8695965f2",
            "58c98c0f524848cca748b44e4a6d7a31",
            "55d80136b6744accadab387d2be55659",
            "72351fafd37b4197904f39a1b8c06e17",
            "e2c9dab9856a4422b2aa80543425b65d",
            "5431e9f0bcb54db486da073cb6afae53",
            "7f1bc4fe46d249e7afbff032589ff80c",
            "0ce5428895024dd994b10f80e2832c05",
            "1c3b3b28983548fa81d89d3268c07d94",
            "5928307ce20741bda894f16a5b1af80a",
            "3f165e03211c4acc9093b0ddefbf0fde",
            "51bc7e1c8fcf40788ece5fbf5ee763dc",
            "f7c6c19b6ac8493292976159b4bfde57",
            "c1da32d760784fc596160c07a216a30a",
            "7ef9f96bff874c38b711b4205b745b02",
            "13f25816773e40f9a03b75701301a258",
            "50428583f5aa4fcc978987d28c362627",
            "f034e26a6e0d4367b92c0256bfd6cdfa",
            "0e464b9bd3c84950a30232c1b19917c8",
            "ebc03ac7beee4e3a98ccb3fdea0b09ea",
            "7d85b8a0863442539793ca1773621978",
            "ecb40002a6d24bafb120c8e4a6c22070",
            "4667d6924da943c8be471ff1def88fde",
            "c35697c3396840d08b3e5c1953e34742",
            "52e3dca1ea074c0b867424798e5bec4c",
            "f2218ad46a22401ba3c143be8cedd0be",
            "1cfc43b919d64bb1840d2f6323e7488d",
            "45793dd0b65f4db7a0aad484c69b8013",
            "61007a97fa2c4ba0bdc300cbc6bffd61",
            "91af0444c1f143e48335c6bcec830440",
            "3ec284ad2c4f457cae722987613252ea",
            "fb68af09b2c34888b634e5cdf49bdc4c",
            "81ca59074f7f4b549d5acea39d0f8e67",
            "ac28fb0e48a745b7b0c788c166e05d76",
            "b0cea3c2549f48cb884db649c7e16716",
            "5ad48d4de2c241739af830efb26290d3",
            "b01c84f4ce754df9a4f660ea784fd0c4",
            "cf28f9b59d67422c9a552fd7053a9d19",
            "1c0d8fd598fb41e6b4202c8ecbb3f1e3",
            "1b3d0a8dc331428092cb36fd7e7bb3cc",
            "cab8a9669c0c4f0ea9dfd24cd30f49fc",
            "ca8596f4fde64bcfa88a1bff58cce3ec",
            "0c91dc6d524e4962ace92e832af57660",
            "74acefff5df749dd8376c75bed7d1b00",
            "8231b26dd1954040a7d6207fad32a6fe",
            "b053f9baa7a8429bb02351612a6e771e",
            "73fefa75a2604ae5b39db4884645b7fa",
            "e9abd38efc1947239689cadc2cfd1393",
            "a10d63d8ad7145fdbe5f2bd498165b91",
            "37af10c865154ee6849d610fe982ca11",
            "e9e690c28fc54315893284606b894b00",
            "a0fb2b5d98b246acb3257aeb06c974b9",
            "768e6530ea85446da618970e23557b5b",
            "b345bfc08d904e5eaa2ab2bab75731e9",
            "3df6748aa3be475e996dad271d17de09",
            "c568ae925eb3477ab501c1e6a670c6d7",
            "245461cf130e44568466349fc09b6b6a",
            "6b009f994a0741539720ffb1fb98f846",
            "7c1e0f153120419987be71f856497af3",
            "a36e49822ce4449da7a75bee6e4db2dd",
            "feee93e8740942c7b516d008d359bf07",
            "6bdbcfe9c9ed485281c4bff80ce5e145",
            "bc296f408e4d419e941aac95542d81ef",
            "85e0b7b4674d42b19b3a90108956629c",
            "0876a15e5ce94c8d97fa101a02a5890d",
            "620740dc779d4e15b294ebb73e3bbd83",
            "f545a86ed04749628cd8784f8d3111e7",
            "206692c19c074c328fd426544b4d95ef",
            "ecbd3dac6eec4aecb400147b10162eaf",
            "c6c050134cf541f182c11bab002abe1e",
            "923a9ea617c24ce39cc0564b6a44f40d",
            "a629e03a6d16488cbedb7f42629cf4cc",
            "f427b93029c744c09a70f7779ac83046",
            "9569d3ba9781440aac8dca8457637760",
            "595567bb907e493b8e71d352fdf609d3",
            "cb9ef9c92c4449cb96eb5a0f3fd7d8de",
            "6ae1605c843340eb8926b9f5a08596b4",
            "eae9a6b73d844ab68ae07f269281c421",
            "e8851759e7f34b858adf97f1525c6e7a",
            "86679da6860d4b99a2943c0ae6294349",
            "18ba84fefd0a44a6869d2aa23fe77667",
            "5800765fd8c540428c548755e469d33c",
            "35b783b934574f28ae90063454ce717e",
            "cdb0560932204438a1c14837f0c90e3f"
          ]
        },
        "outputId": "5f20b096-7eaf-4590-c3c7-fcabfdd85156"
      },
      "outputs": [
        {
          "output_type": "stream",
          "name": "stderr",
          "text": [
            "INFO:pytorch_lightning.utilities.rank_zero:You are using the plain ModelCheckpoint callback. Consider using LitModelCheckpoint which with seamless uploading to Model registry.\n",
            "INFO:pytorch_lightning.utilities.rank_zero:GPU available: True (cuda), used: True\n",
            "INFO:pytorch_lightning.utilities.rank_zero:TPU available: False, using: 0 TPU cores\n",
            "INFO:pytorch_lightning.utilities.rank_zero:HPU available: False, using: 0 HPUs\n",
            "INFO:pytorch_lightning.accelerators.cuda:LOCAL_RANK: 0 - CUDA_VISIBLE_DEVICES: [0]\n",
            "INFO:pytorch_lightning.callbacks.model_summary:\n",
            "  | Name  | Type             | Params | Mode \n",
            "---------------------------------------------------\n",
            "0 | model | CIFARModel       | 964 K  | train\n",
            "1 | loss  | CrossEntropyLoss | 0      | train\n",
            "---------------------------------------------------\n",
            "964 K     Trainable params\n",
            "0         Non-trainable params\n",
            "964 K     Total params\n",
            "3.858     Total estimated model params size (MB)\n",
            "24        Modules in train mode\n",
            "0         Modules in eval mode\n"
          ]
        },
        {
          "output_type": "display_data",
          "data": {
            "text/plain": [
              "Sanity Checking: |          | 0/? [00:00<?, ?it/s]"
            ],
            "application/vnd.jupyter.widget-view+json": {
              "version_major": 2,
              "version_minor": 0,
              "model_id": "f54f718e2cfc451cb40c79a881cbf7f7"
            }
          },
          "metadata": {}
        },
        {
          "output_type": "display_data",
          "data": {
            "text/plain": [
              "Training: |          | 0/? [00:00<?, ?it/s]"
            ],
            "application/vnd.jupyter.widget-view+json": {
              "version_major": 2,
              "version_minor": 0,
              "model_id": "652ea1d5ece44f6f8b085b6b27cde7d6"
            }
          },
          "metadata": {}
        },
        {
          "output_type": "display_data",
          "data": {
            "text/plain": [
              "Validation: |          | 0/? [00:00<?, ?it/s]"
            ],
            "application/vnd.jupyter.widget-view+json": {
              "version_major": 2,
              "version_minor": 0,
              "model_id": "99e733b5b76d4f6d9a17cca383e53a2b"
            }
          },
          "metadata": {}
        },
        {
          "output_type": "display_data",
          "data": {
            "text/plain": [
              "Validation: |          | 0/? [00:00<?, ?it/s]"
            ],
            "application/vnd.jupyter.widget-view+json": {
              "version_major": 2,
              "version_minor": 0,
              "model_id": "d623c05be71449ea88b846f27d50cb18"
            }
          },
          "metadata": {}
        },
        {
          "output_type": "display_data",
          "data": {
            "text/plain": [
              "Validation: |          | 0/? [00:00<?, ?it/s]"
            ],
            "application/vnd.jupyter.widget-view+json": {
              "version_major": 2,
              "version_minor": 0,
              "model_id": "2dd4d9c7e15746129c622b3795297db9"
            }
          },
          "metadata": {}
        },
        {
          "output_type": "display_data",
          "data": {
            "text/plain": [
              "Validation: |          | 0/? [00:00<?, ?it/s]"
            ],
            "application/vnd.jupyter.widget-view+json": {
              "version_major": 2,
              "version_minor": 0,
              "model_id": "ded1a0c260bd4e34a6d95a3b875c0af6"
            }
          },
          "metadata": {}
        },
        {
          "output_type": "display_data",
          "data": {
            "text/plain": [
              "Validation: |          | 0/? [00:00<?, ?it/s]"
            ],
            "application/vnd.jupyter.widget-view+json": {
              "version_major": 2,
              "version_minor": 0,
              "model_id": "c1e350f0a5de43959d7baf0702e016fe"
            }
          },
          "metadata": {}
        },
        {
          "output_type": "display_data",
          "data": {
            "text/plain": [
              "Validation: |          | 0/? [00:00<?, ?it/s]"
            ],
            "application/vnd.jupyter.widget-view+json": {
              "version_major": 2,
              "version_minor": 0,
              "model_id": "90c3cff724564b29bae5054683c52062"
            }
          },
          "metadata": {}
        },
        {
          "output_type": "display_data",
          "data": {
            "text/plain": [
              "Validation: |          | 0/? [00:00<?, ?it/s]"
            ],
            "application/vnd.jupyter.widget-view+json": {
              "version_major": 2,
              "version_minor": 0,
              "model_id": "46123b73b75f4959a1040922906bc51a"
            }
          },
          "metadata": {}
        },
        {
          "output_type": "display_data",
          "data": {
            "text/plain": [
              "Validation: |          | 0/? [00:00<?, ?it/s]"
            ],
            "application/vnd.jupyter.widget-view+json": {
              "version_major": 2,
              "version_minor": 0,
              "model_id": "e7add99417744e96b9d8792b1cfa1356"
            }
          },
          "metadata": {}
        },
        {
          "output_type": "display_data",
          "data": {
            "text/plain": [
              "Validation: |          | 0/? [00:00<?, ?it/s]"
            ],
            "application/vnd.jupyter.widget-view+json": {
              "version_major": 2,
              "version_minor": 0,
              "model_id": "6f909d1be16d40ba9b6b96f76fe08acd"
            }
          },
          "metadata": {}
        },
        {
          "output_type": "display_data",
          "data": {
            "text/plain": [
              "Validation: |          | 0/? [00:00<?, ?it/s]"
            ],
            "application/vnd.jupyter.widget-view+json": {
              "version_major": 2,
              "version_minor": 0,
              "model_id": "08eb460d09264898b4b8a868b891a382"
            }
          },
          "metadata": {}
        },
        {
          "output_type": "display_data",
          "data": {
            "text/plain": [
              "Validation: |          | 0/? [00:00<?, ?it/s]"
            ],
            "application/vnd.jupyter.widget-view+json": {
              "version_major": 2,
              "version_minor": 0,
              "model_id": "3a56f9fbb2e1420ab16e908173bfda0d"
            }
          },
          "metadata": {}
        },
        {
          "output_type": "display_data",
          "data": {
            "text/plain": [
              "Validation: |          | 0/? [00:00<?, ?it/s]"
            ],
            "application/vnd.jupyter.widget-view+json": {
              "version_major": 2,
              "version_minor": 0,
              "model_id": "ada80b7cc7b44a36b1d32d286f47f30d"
            }
          },
          "metadata": {}
        },
        {
          "output_type": "display_data",
          "data": {
            "text/plain": [
              "Validation: |          | 0/? [00:00<?, ?it/s]"
            ],
            "application/vnd.jupyter.widget-view+json": {
              "version_major": 2,
              "version_minor": 0,
              "model_id": "cd63298b9e874525b7833bd221aad237"
            }
          },
          "metadata": {}
        },
        {
          "output_type": "display_data",
          "data": {
            "text/plain": [
              "Validation: |          | 0/? [00:00<?, ?it/s]"
            ],
            "application/vnd.jupyter.widget-view+json": {
              "version_major": 2,
              "version_minor": 0,
              "model_id": "d0ea1fd8e2684adab74f0960d083f2e0"
            }
          },
          "metadata": {}
        },
        {
          "output_type": "display_data",
          "data": {
            "text/plain": [
              "Validation: |          | 0/? [00:00<?, ?it/s]"
            ],
            "application/vnd.jupyter.widget-view+json": {
              "version_major": 2,
              "version_minor": 0,
              "model_id": "3a520aba5ca649fcbae2886725cbf58a"
            }
          },
          "metadata": {}
        },
        {
          "output_type": "display_data",
          "data": {
            "text/plain": [
              "Validation: |          | 0/? [00:00<?, ?it/s]"
            ],
            "application/vnd.jupyter.widget-view+json": {
              "version_major": 2,
              "version_minor": 0,
              "model_id": "404fcbad99c044ad99927514ab5df70a"
            }
          },
          "metadata": {}
        },
        {
          "output_type": "display_data",
          "data": {
            "text/plain": [
              "Validation: |          | 0/? [00:00<?, ?it/s]"
            ],
            "application/vnd.jupyter.widget-view+json": {
              "version_major": 2,
              "version_minor": 0,
              "model_id": "2323a67e0aee49c984f2dd625ea6a303"
            }
          },
          "metadata": {}
        },
        {
          "output_type": "display_data",
          "data": {
            "text/plain": [
              "Validation: |          | 0/? [00:00<?, ?it/s]"
            ],
            "application/vnd.jupyter.widget-view+json": {
              "version_major": 2,
              "version_minor": 0,
              "model_id": "39250ba3de694c9dbad0ecece24f13ee"
            }
          },
          "metadata": {}
        },
        {
          "output_type": "display_data",
          "data": {
            "text/plain": [
              "Validation: |          | 0/? [00:00<?, ?it/s]"
            ],
            "application/vnd.jupyter.widget-view+json": {
              "version_major": 2,
              "version_minor": 0,
              "model_id": "ad85d25dc72e4844a88b66f772c4e9a2"
            }
          },
          "metadata": {}
        },
        {
          "output_type": "display_data",
          "data": {
            "text/plain": [
              "Validation: |          | 0/? [00:00<?, ?it/s]"
            ],
            "application/vnd.jupyter.widget-view+json": {
              "version_major": 2,
              "version_minor": 0,
              "model_id": "5eb5263374c14338a0c3be3a12560cd9"
            }
          },
          "metadata": {}
        },
        {
          "output_type": "display_data",
          "data": {
            "text/plain": [
              "Validation: |          | 0/? [00:00<?, ?it/s]"
            ],
            "application/vnd.jupyter.widget-view+json": {
              "version_major": 2,
              "version_minor": 0,
              "model_id": "b00992e2dba641c5b3778048ee85f703"
            }
          },
          "metadata": {}
        },
        {
          "output_type": "display_data",
          "data": {
            "text/plain": [
              "Validation: |          | 0/? [00:00<?, ?it/s]"
            ],
            "application/vnd.jupyter.widget-view+json": {
              "version_major": 2,
              "version_minor": 0,
              "model_id": "bc1b4f2d7a71472b8204392be292f5ac"
            }
          },
          "metadata": {}
        },
        {
          "output_type": "display_data",
          "data": {
            "text/plain": [
              "Validation: |          | 0/? [00:00<?, ?it/s]"
            ],
            "application/vnd.jupyter.widget-view+json": {
              "version_major": 2,
              "version_minor": 0,
              "model_id": "57a8e267bbdb4040b8b92a161fc38eeb"
            }
          },
          "metadata": {}
        },
        {
          "output_type": "display_data",
          "data": {
            "text/plain": [
              "Validation: |          | 0/? [00:00<?, ?it/s]"
            ],
            "application/vnd.jupyter.widget-view+json": {
              "version_major": 2,
              "version_minor": 0,
              "model_id": "0ce5428895024dd994b10f80e2832c05"
            }
          },
          "metadata": {}
        },
        {
          "output_type": "display_data",
          "data": {
            "text/plain": [
              "Validation: |          | 0/? [00:00<?, ?it/s]"
            ],
            "application/vnd.jupyter.widget-view+json": {
              "version_major": 2,
              "version_minor": 0,
              "model_id": "0e464b9bd3c84950a30232c1b19917c8"
            }
          },
          "metadata": {}
        },
        {
          "output_type": "display_data",
          "data": {
            "text/plain": [
              "Validation: |          | 0/? [00:00<?, ?it/s]"
            ],
            "application/vnd.jupyter.widget-view+json": {
              "version_major": 2,
              "version_minor": 0,
              "model_id": "91af0444c1f143e48335c6bcec830440"
            }
          },
          "metadata": {}
        },
        {
          "output_type": "display_data",
          "data": {
            "text/plain": [
              "Validation: |          | 0/? [00:00<?, ?it/s]"
            ],
            "application/vnd.jupyter.widget-view+json": {
              "version_major": 2,
              "version_minor": 0,
              "model_id": "cab8a9669c0c4f0ea9dfd24cd30f49fc"
            }
          },
          "metadata": {}
        },
        {
          "output_type": "display_data",
          "data": {
            "text/plain": [
              "Validation: |          | 0/? [00:00<?, ?it/s]"
            ],
            "application/vnd.jupyter.widget-view+json": {
              "version_major": 2,
              "version_minor": 0,
              "model_id": "a0fb2b5d98b246acb3257aeb06c974b9"
            }
          },
          "metadata": {}
        },
        {
          "output_type": "display_data",
          "data": {
            "text/plain": [
              "Validation: |          | 0/? [00:00<?, ?it/s]"
            ],
            "application/vnd.jupyter.widget-view+json": {
              "version_major": 2,
              "version_minor": 0,
              "model_id": "bc296f408e4d419e941aac95542d81ef"
            }
          },
          "metadata": {}
        },
        {
          "output_type": "display_data",
          "data": {
            "text/plain": [
              "Validation: |          | 0/? [00:00<?, ?it/s]"
            ],
            "application/vnd.jupyter.widget-view+json": {
              "version_major": 2,
              "version_minor": 0,
              "model_id": "9569d3ba9781440aac8dca8457637760"
            }
          },
          "metadata": {}
        },
        {
          "output_type": "stream",
          "name": "stderr",
          "text": [
            "INFO:pytorch_lightning.utilities.rank_zero:`Trainer.fit` stopped: `max_epochs=30` reached.\n"
          ]
        }
      ],
      "source": [
        "cifar_trainer = Trainer(deterministic=False,    # takes more than 10 minutes don't run again.\n",
        "                        max_epochs=30,\n",
        "                        logger=cifar_logger,\n",
        "                        enable_progress_bar=True,\n",
        "                        callbacks=[ErrorTracker()])\n",
        "cifar_trainer.fit(cifar_module,\n",
        "                  datamodule=cifar_dm)\n"
      ]
    },
    {
      "cell_type": "code",
      "execution_count": null,
      "id": "9cf596b4",
      "metadata": {
        "lines_to_next_cell": 0,
        "id": "9cf596b4",
        "colab": {
          "base_uri": "https://localhost:8080/",
          "height": 547
        },
        "outputId": "c66927e5-5820-4d23-88e0-38f805f0018a"
      },
      "outputs": [
        {
          "output_type": "display_data",
          "data": {
            "text/plain": [
              "<Figure size 600x600 with 1 Axes>"
            ],
            "image/png": "[encoded data removed]"
          },
          "metadata": {}
        }
      ],
      "source": [
        "log_path = cifar_logger.experiment.metrics_file_path\n",
        "cifar_results = pd.read_csv(log_path)\n",
        "fig, ax = subplots(1, 1, figsize=(6, 6))\n",
        "summary_plot(cifar_results,\n",
        "             ax,\n",
        "             col='accuracy',\n",
        "             ylabel='Accuracy')\n",
        "ax.set_xticks(np.linspace(0, 10, 6).astype(int))\n",
        "ax.set_ylabel('Accuracy')\n",
        "ax.set_ylim([0, 1]);"
      ]
    },
    {
      "cell_type": "code",
      "execution_count": null,
      "id": "0f5ad9bb",
      "metadata": {
        "lines_to_next_cell": 2,
        "id": "0f5ad9bb",
        "colab": {
          "base_uri": "https://localhost:8080/",
          "height": 186,
          "referenced_widgets": [
            "9d62b71f985a45149c12e655d4754cd6",
            "498e9c2d5b4945c7b7f6bc1e07de4bc8",
            "084fdcacf98848bb870dade3a9af1764",
            "5a52f90ff6494d4b85d7436633d3c658",
            "cdfde5fe7c2a468399579d94c6120223",
            "834845369e604ba4912634194c46253c",
            "ceda001b2a844e749cc57947f8196935",
            "a237bc54791a40968390868f5d04069d",
            "4f8336d0cff849b58539a52899c13f7a",
            "acd02d38c8a543de9409a908641a0cdd",
            "2fe14dc5ab4e4f50bc006b11762d3790"
          ]
        },
        "outputId": "3428ef1c-ec21-46c1-8a24-fc5e8869cefa"
      },
      "outputs": [
        {
          "output_type": "stream",
          "name": "stderr",
          "text": [
            "INFO:pytorch_lightning.accelerators.cuda:LOCAL_RANK: 0 - CUDA_VISIBLE_DEVICES: [0]\n"
          ]
        },
        {
          "output_type": "display_data",
          "data": {
            "text/plain": [
              "Testing: |          | 0/? [00:00<?, ?it/s]"
            ],
            "application/vnd.jupyter.widget-view+json": {
              "version_major": 2,
              "version_minor": 0,
              "model_id": "9d62b71f985a45149c12e655d4754cd6"
            }
          },
          "metadata": {}
        },
        {
          "output_type": "display_data",
          "data": {
            "text/plain": [
              "┏━━━━━━━━━━━━━━━━━━━━━━━━━━━┳━━━━━━━━━━━━━━━━━━━━━━━━━━━┓\n",
              "┃\u001b[1m \u001b[0m\u001b[1m       Test metric       \u001b[0m\u001b[1m \u001b[0m┃\u001b[1m \u001b[0m\u001b[1m      DataLoader 0       \u001b[0m\u001b[1m \u001b[0m┃\n",
              "┡━━━━━━━━━━━━━━━━━━━━━━━━━━━╇━━━━━━━━━━━━━━━━━━━━━━━━━━━┩\n",
              "│\u001b[36m \u001b[0m\u001b[36m      test_accuracy      \u001b[0m\u001b[36m \u001b[0m│\u001b[35m \u001b[0m\u001b[35m   0.4101000130176544    \u001b[0m\u001b[35m \u001b[0m│\n",
              "│\u001b[36m \u001b[0m\u001b[36m        test_loss        \u001b[0m\u001b[36m \u001b[0m│\u001b[35m \u001b[0m\u001b[35m   2.4676947593688965    \u001b[0m\u001b[35m \u001b[0m│\n",
              "└───────────────────────────┴───────────────────────────┘\n"
            ],
            "text/html": [
              "<pre style=\"white-space:pre;overflow-x:auto;line-height:normal;font-family:Menlo,'DejaVu Sans Mono',consolas,'Courier New',monospace\">┏━━━━━━━━━━━━━━━━━━━━━━━━━━━┳━━━━━━━━━━━━━━━━━━━━━━━━━━━┓\n",
              "┃<span style=\"font-weight: bold\">        Test metric        </span>┃<span style=\"font-weight: bold\">       DataLoader 0        </span>┃\n",
              "┡━━━━━━━━━━━━━━━━━━━━━━━━━━━╇━━━━━━━━━━━━━━━━━━━━━━━━━━━┩\n",
              "│<span style=\"color: #008080; text-decoration-color: #008080\">       test_accuracy       </span>│<span style=\"color: #800080; text-decoration-color: #800080\">    0.4101000130176544     </span>│\n",
              "│<span style=\"color: #008080; text-decoration-color: #008080\">         test_loss         </span>│<span style=\"color: #800080; text-decoration-color: #800080\">    2.4676947593688965     </span>│\n",
              "└───────────────────────────┴───────────────────────────┘\n",
              "</pre>\n"
            ]
          },
          "metadata": {}
        },
        {
          "output_type": "execute_result",
          "data": {
            "text/plain": [
              "[{'test_loss': 2.4676947593688965, 'test_accuracy': 0.4101000130176544}]"
            ]
          },
          "metadata": {},
          "execution_count": 70
        }
      ],
      "source": [
        "cifar_trainer.test(cifar_module,\n",
        "                   datamodule=cifar_dm)\n"
      ]
    },
    {
      "cell_type": "markdown",
      "id": "ed52c614",
      "metadata": {
        "id": "ed52c614"
      },
      "source": [
        "### Hardware Acceleration :using apple M1/M2 GPU only if available\n"
      ]
    },
    {
      "cell_type": "code",
      "execution_count": null,
      "id": "e763b4c4",
      "metadata": {
        "lines_to_next_cell": 0,
        "id": "e763b4c4"
      },
      "outputs": [],
      "source": [
        "# try:\n",
        "#     for name, metric in cifar_module.metrics.items():\n",
        "#         cifar_module.metrics[name] = metric.to('mps')\n",
        "#     cifar_trainer_mps = Trainer(accelerator='mps',\n",
        "#                                 deterministic=True,\n",
        "#                                 enable_progress_bar=False,\n",
        "#                                 max_epochs=30)\n",
        "#     cifar_trainer_mps.fit(cifar_module,\n",
        "#                           datamodule=cifar_dm)\n",
        "#     cifar_trainer_mps.test(cifar_module,\n",
        "#                           datamodule=cifar_dm)\n",
        "# except:\n",
        "#     pass"
      ]
    },
    {
      "cell_type": "markdown",
      "id": "51532403",
      "metadata": {
        "id": "51532403"
      },
      "source": [
        "## Using Pretrained CNN Models\n"
      ]
    },
    {
      "cell_type": "code",
      "source": [
        "import os, urllib.request, requests #added to create book_images folder\n",
        "from glob import glob\n",
        "\n",
        "os.makedirs(\"book_images\", exist_ok=True)\n",
        "\n",
        "r = requests.get(\"https://api.github.com/repos/kjmobile/data/contents/img/book_images\")\n",
        "urls = [f[\"download_url\"] for f in r.json() if f[\"name\"].lower().endswith((\".png\", \".jpg\", \".jpeg\"))]\n",
        "\n",
        "for url in urls:\n",
        "    urllib.request.urlretrieve(url, f\"book_images/{url.split('/')[-1]}\")\n",
        "\n",
        "\n"
      ],
      "metadata": {
        "id": "D0MjcopnVwTT"
      },
      "id": "D0MjcopnVwTT",
      "execution_count": null,
      "outputs": []
    },
    {
      "cell_type": "code",
      "execution_count": null,
      "id": "8ddd3831",
      "metadata": {
        "lines_to_next_cell": 2,
        "id": "8ddd3831",
        "colab": {
          "base_uri": "https://localhost:8080/"
        },
        "outputId": "502a0eb0-1691-48db-f4cc-0060aba1d9ff"
      },
      "outputs": [
        {
          "output_type": "execute_result",
          "data": {
            "text/plain": [
              "torch.Size([6, 3, 224, 224])"
            ]
          },
          "metadata": {},
          "execution_count": 73
        }
      ],
      "source": [
        "resize = Resize((232,232), antialias=True)\n",
        "crop = CenterCrop(224)\n",
        "normalize = Normalize([0.485,0.456,0.406],\n",
        "                      [0.229,0.224,0.225])\n",
        "imgfiles = sorted(glob(\"book_images/*\"))\n",
        "imgs = torch.stack([torch.div(crop(resize(read_image(f))), 255)\n",
        "                    for f in imgfiles])\n",
        "imgs = normalize(imgs)\n",
        "imgs.size()"
      ]
    },
    {
      "cell_type": "code",
      "execution_count": null,
      "id": "1126ee25",
      "metadata": {
        "lines_to_next_cell": 0,
        "id": "1126ee25",
        "colab": {
          "base_uri": "https://localhost:8080/"
        },
        "outputId": "7e2555f0-079c-4830-ac07-84bf38270b7b"
      },
      "outputs": [
        {
          "output_type": "stream",
          "name": "stderr",
          "text": [
            "Downloading: \"https://download.pytorch.org/models/resnet50-11ad3fa6.pth\" to /root/.cache/torch/hub/checkpoints/resnet50-11ad3fa6.pth\n",
            "100%|██████████| 97.8M/97.8M [00:00<00:00, 223MB/s]\n"
          ]
        },
        {
          "output_type": "execute_result",
          "data": {
            "text/plain": [
              "===================================================================================================================\n",
              "Layer (type:depth-idx)                   Input Shape               Output Shape              Param #\n",
              "===================================================================================================================\n",
              "ResNet                                   [6, 3, 224, 224]          [6, 1000]                 --\n",
              "├─Conv2d: 1-1                            [6, 3, 224, 224]          [6, 64, 112, 112]         9,408\n",
              "├─BatchNorm2d: 1-2                       [6, 64, 112, 112]         [6, 64, 112, 112]         128\n",
              "├─ReLU: 1-3                              [6, 64, 112, 112]         [6, 64, 112, 112]         --\n",
              "├─MaxPool2d: 1-4                         [6, 64, 112, 112]         [6, 64, 56, 56]           --\n",
              "├─Sequential: 1-5                        [6, 64, 56, 56]           [6, 256, 56, 56]          --\n",
              "│    └─Bottleneck: 2-1                   [6, 64, 56, 56]           [6, 256, 56, 56]          --\n",
              "│    │    └─Conv2d: 3-1                  [6, 64, 56, 56]           [6, 64, 56, 56]           4,096\n",
              "│    │    └─BatchNorm2d: 3-2             [6, 64, 56, 56]           [6, 64, 56, 56]           128\n",
              "│    │    └─ReLU: 3-3                    [6, 64, 56, 56]           [6, 64, 56, 56]           --\n",
              "│    │    └─Conv2d: 3-4                  [6, 64, 56, 56]           [6, 64, 56, 56]           36,864\n",
              "│    │    └─BatchNorm2d: 3-5             [6, 64, 56, 56]           [6, 64, 56, 56]           128\n",
              "│    │    └─ReLU: 3-6                    [6, 64, 56, 56]           [6, 64, 56, 56]           --\n",
              "│    │    └─Conv2d: 3-7                  [6, 64, 56, 56]           [6, 256, 56, 56]          16,384\n",
              "│    │    └─BatchNorm2d: 3-8             [6, 256, 56, 56]          [6, 256, 56, 56]          512\n",
              "│    │    └─Sequential: 3-9              [6, 64, 56, 56]           [6, 256, 56, 56]          16,896\n",
              "│    │    └─ReLU: 3-10                   [6, 256, 56, 56]          [6, 256, 56, 56]          --\n",
              "│    └─Bottleneck: 2-2                   [6, 256, 56, 56]          [6, 256, 56, 56]          --\n",
              "│    │    └─Conv2d: 3-11                 [6, 256, 56, 56]          [6, 64, 56, 56]           16,384\n",
              "│    │    └─BatchNorm2d: 3-12            [6, 64, 56, 56]           [6, 64, 56, 56]           128\n",
              "│    │    └─ReLU: 3-13                   [6, 64, 56, 56]           [6, 64, 56, 56]           --\n",
              "│    │    └─Conv2d: 3-14                 [6, 64, 56, 56]           [6, 64, 56, 56]           36,864\n",
              "│    │    └─BatchNorm2d: 3-15            [6, 64, 56, 56]           [6, 64, 56, 56]           128\n",
              "│    │    └─ReLU: 3-16                   [6, 64, 56, 56]           [6, 64, 56, 56]           --\n",
              "│    │    └─Conv2d: 3-17                 [6, 64, 56, 56]           [6, 256, 56, 56]          16,384\n",
              "│    │    └─BatchNorm2d: 3-18            [6, 256, 56, 56]          [6, 256, 56, 56]          512\n",
              "│    │    └─ReLU: 3-19                   [6, 256, 56, 56]          [6, 256, 56, 56]          --\n",
              "│    └─Bottleneck: 2-3                   [6, 256, 56, 56]          [6, 256, 56, 56]          --\n",
              "│    │    └─Conv2d: 3-20                 [6, 256, 56, 56]          [6, 64, 56, 56]           16,384\n",
              "│    │    └─BatchNorm2d: 3-21            [6, 64, 56, 56]           [6, 64, 56, 56]           128\n",
              "│    │    └─ReLU: 3-22                   [6, 64, 56, 56]           [6, 64, 56, 56]           --\n",
              "│    │    └─Conv2d: 3-23                 [6, 64, 56, 56]           [6, 64, 56, 56]           36,864\n",
              "│    │    └─BatchNorm2d: 3-24            [6, 64, 56, 56]           [6, 64, 56, 56]           128\n",
              "│    │    └─ReLU: 3-25                   [6, 64, 56, 56]           [6, 64, 56, 56]           --\n",
              "│    │    └─Conv2d: 3-26                 [6, 64, 56, 56]           [6, 256, 56, 56]          16,384\n",
              "│    │    └─BatchNorm2d: 3-27            [6, 256, 56, 56]          [6, 256, 56, 56]          512\n",
              "│    │    └─ReLU: 3-28                   [6, 256, 56, 56]          [6, 256, 56, 56]          --\n",
              "├─Sequential: 1-6                        [6, 256, 56, 56]          [6, 512, 28, 28]          --\n",
              "│    └─Bottleneck: 2-4                   [6, 256, 56, 56]          [6, 512, 28, 28]          --\n",
              "│    │    └─Conv2d: 3-29                 [6, 256, 56, 56]          [6, 128, 56, 56]          32,768\n",
              "│    │    └─BatchNorm2d: 3-30            [6, 128, 56, 56]          [6, 128, 56, 56]          256\n",
              "│    │    └─ReLU: 3-31                   [6, 128, 56, 56]          [6, 128, 56, 56]          --\n",
              "│    │    └─Conv2d: 3-32                 [6, 128, 56, 56]          [6, 128, 28, 28]          147,456\n",
              "│    │    └─BatchNorm2d: 3-33            [6, 128, 28, 28]          [6, 128, 28, 28]          256\n",
              "│    │    └─ReLU: 3-34                   [6, 128, 28, 28]          [6, 128, 28, 28]          --\n",
              "│    │    └─Conv2d: 3-35                 [6, 128, 28, 28]          [6, 512, 28, 28]          65,536\n",
              "│    │    └─BatchNorm2d: 3-36            [6, 512, 28, 28]          [6, 512, 28, 28]          1,024\n",
              "│    │    └─Sequential: 3-37             [6, 256, 56, 56]          [6, 512, 28, 28]          132,096\n",
              "│    │    └─ReLU: 3-38                   [6, 512, 28, 28]          [6, 512, 28, 28]          --\n",
              "│    └─Bottleneck: 2-5                   [6, 512, 28, 28]          [6, 512, 28, 28]          --\n",
              "│    │    └─Conv2d: 3-39                 [6, 512, 28, 28]          [6, 128, 28, 28]          65,536\n",
              "│    │    └─BatchNorm2d: 3-40            [6, 128, 28, 28]          [6, 128, 28, 28]          256\n",
              "│    │    └─ReLU: 3-41                   [6, 128, 28, 28]          [6, 128, 28, 28]          --\n",
              "│    │    └─Conv2d: 3-42                 [6, 128, 28, 28]          [6, 128, 28, 28]          147,456\n",
              "│    │    └─BatchNorm2d: 3-43            [6, 128, 28, 28]          [6, 128, 28, 28]          256\n",
              "│    │    └─ReLU: 3-44                   [6, 128, 28, 28]          [6, 128, 28, 28]          --\n",
              "│    │    └─Conv2d: 3-45                 [6, 128, 28, 28]          [6, 512, 28, 28]          65,536\n",
              "│    │    └─BatchNorm2d: 3-46            [6, 512, 28, 28]          [6, 512, 28, 28]          1,024\n",
              "│    │    └─ReLU: 3-47                   [6, 512, 28, 28]          [6, 512, 28, 28]          --\n",
              "│    └─Bottleneck: 2-6                   [6, 512, 28, 28]          [6, 512, 28, 28]          --\n",
              "│    │    └─Conv2d: 3-48                 [6, 512, 28, 28]          [6, 128, 28, 28]          65,536\n",
              "│    │    └─BatchNorm2d: 3-49            [6, 128, 28, 28]          [6, 128, 28, 28]          256\n",
              "│    │    └─ReLU: 3-50                   [6, 128, 28, 28]          [6, 128, 28, 28]          --\n",
              "│    │    └─Conv2d: 3-51                 [6, 128, 28, 28]          [6, 128, 28, 28]          147,456\n",
              "│    │    └─BatchNorm2d: 3-52            [6, 128, 28, 28]          [6, 128, 28, 28]          256\n",
              "│    │    └─ReLU: 3-53                   [6, 128, 28, 28]          [6, 128, 28, 28]          --\n",
              "│    │    └─Conv2d: 3-54                 [6, 128, 28, 28]          [6, 512, 28, 28]          65,536\n",
              "│    │    └─BatchNorm2d: 3-55            [6, 512, 28, 28]          [6, 512, 28, 28]          1,024\n",
              "│    │    └─ReLU: 3-56                   [6, 512, 28, 28]          [6, 512, 28, 28]          --\n",
              "│    └─Bottleneck: 2-7                   [6, 512, 28, 28]          [6, 512, 28, 28]          --\n",
              "│    │    └─Conv2d: 3-57                 [6, 512, 28, 28]          [6, 128, 28, 28]          65,536\n",
              "│    │    └─BatchNorm2d: 3-58            [6, 128, 28, 28]          [6, 128, 28, 28]          256\n",
              "│    │    └─ReLU: 3-59                   [6, 128, 28, 28]          [6, 128, 28, 28]          --\n",
              "│    │    └─Conv2d: 3-60                 [6, 128, 28, 28]          [6, 128, 28, 28]          147,456\n",
              "│    │    └─BatchNorm2d: 3-61            [6, 128, 28, 28]          [6, 128, 28, 28]          256\n",
              "│    │    └─ReLU: 3-62                   [6, 128, 28, 28]          [6, 128, 28, 28]          --\n",
              "│    │    └─Conv2d: 3-63                 [6, 128, 28, 28]          [6, 512, 28, 28]          65,536\n",
              "│    │    └─BatchNorm2d: 3-64            [6, 512, 28, 28]          [6, 512, 28, 28]          1,024\n",
              "│    │    └─ReLU: 3-65                   [6, 512, 28, 28]          [6, 512, 28, 28]          --\n",
              "├─Sequential: 1-7                        [6, 512, 28, 28]          [6, 1024, 14, 14]         --\n",
              "│    └─Bottleneck: 2-8                   [6, 512, 28, 28]          [6, 1024, 14, 14]         --\n",
              "│    │    └─Conv2d: 3-66                 [6, 512, 28, 28]          [6, 256, 28, 28]          131,072\n",
              "│    │    └─BatchNorm2d: 3-67            [6, 256, 28, 28]          [6, 256, 28, 28]          512\n",
              "│    │    └─ReLU: 3-68                   [6, 256, 28, 28]          [6, 256, 28, 28]          --\n",
              "│    │    └─Conv2d: 3-69                 [6, 256, 28, 28]          [6, 256, 14, 14]          589,824\n",
              "│    │    └─BatchNorm2d: 3-70            [6, 256, 14, 14]          [6, 256, 14, 14]          512\n",
              "│    │    └─ReLU: 3-71                   [6, 256, 14, 14]          [6, 256, 14, 14]          --\n",
              "│    │    └─Conv2d: 3-72                 [6, 256, 14, 14]          [6, 1024, 14, 14]         262,144\n",
              "│    │    └─BatchNorm2d: 3-73            [6, 1024, 14, 14]         [6, 1024, 14, 14]         2,048\n",
              "│    │    └─Sequential: 3-74             [6, 512, 28, 28]          [6, 1024, 14, 14]         526,336\n",
              "│    │    └─ReLU: 3-75                   [6, 1024, 14, 14]         [6, 1024, 14, 14]         --\n",
              "│    └─Bottleneck: 2-9                   [6, 1024, 14, 14]         [6, 1024, 14, 14]         --\n",
              "│    │    └─Conv2d: 3-76                 [6, 1024, 14, 14]         [6, 256, 14, 14]          262,144\n",
              "│    │    └─BatchNorm2d: 3-77            [6, 256, 14, 14]          [6, 256, 14, 14]          512\n",
              "│    │    └─ReLU: 3-78                   [6, 256, 14, 14]          [6, 256, 14, 14]          --\n",
              "│    │    └─Conv2d: 3-79                 [6, 256, 14, 14]          [6, 256, 14, 14]          589,824\n",
              "│    │    └─BatchNorm2d: 3-80            [6, 256, 14, 14]          [6, 256, 14, 14]          512\n",
              "│    │    └─ReLU: 3-81                   [6, 256, 14, 14]          [6, 256, 14, 14]          --\n",
              "│    │    └─Conv2d: 3-82                 [6, 256, 14, 14]          [6, 1024, 14, 14]         262,144\n",
              "│    │    └─BatchNorm2d: 3-83            [6, 1024, 14, 14]         [6, 1024, 14, 14]         2,048\n",
              "│    │    └─ReLU: 3-84                   [6, 1024, 14, 14]         [6, 1024, 14, 14]         --\n",
              "│    └─Bottleneck: 2-10                  [6, 1024, 14, 14]         [6, 1024, 14, 14]         --\n",
              "│    │    └─Conv2d: 3-85                 [6, 1024, 14, 14]         [6, 256, 14, 14]          262,144\n",
              "│    │    └─BatchNorm2d: 3-86            [6, 256, 14, 14]          [6, 256, 14, 14]          512\n",
              "│    │    └─ReLU: 3-87                   [6, 256, 14, 14]          [6, 256, 14, 14]          --\n",
              "│    │    └─Conv2d: 3-88                 [6, 256, 14, 14]          [6, 256, 14, 14]          589,824\n",
              "│    │    └─BatchNorm2d: 3-89            [6, 256, 14, 14]          [6, 256, 14, 14]          512\n",
              "│    │    └─ReLU: 3-90                   [6, 256, 14, 14]          [6, 256, 14, 14]          --\n",
              "│    │    └─Conv2d: 3-91                 [6, 256, 14, 14]          [6, 1024, 14, 14]         262,144\n",
              "│    │    └─BatchNorm2d: 3-92            [6, 1024, 14, 14]         [6, 1024, 14, 14]         2,048\n",
              "│    │    └─ReLU: 3-93                   [6, 1024, 14, 14]         [6, 1024, 14, 14]         --\n",
              "│    └─Bottleneck: 2-11                  [6, 1024, 14, 14]         [6, 1024, 14, 14]         --\n",
              "│    │    └─Conv2d: 3-94                 [6, 1024, 14, 14]         [6, 256, 14, 14]          262,144\n",
              "│    │    └─BatchNorm2d: 3-95            [6, 256, 14, 14]          [6, 256, 14, 14]          512\n",
              "│    │    └─ReLU: 3-96                   [6, 256, 14, 14]          [6, 256, 14, 14]          --\n",
              "│    │    └─Conv2d: 3-97                 [6, 256, 14, 14]          [6, 256, 14, 14]          589,824\n",
              "│    │    └─BatchNorm2d: 3-98            [6, 256, 14, 14]          [6, 256, 14, 14]          512\n",
              "│    │    └─ReLU: 3-99                   [6, 256, 14, 14]          [6, 256, 14, 14]          --\n",
              "│    │    └─Conv2d: 3-100                [6, 256, 14, 14]          [6, 1024, 14, 14]         262,144\n",
              "│    │    └─BatchNorm2d: 3-101           [6, 1024, 14, 14]         [6, 1024, 14, 14]         2,048\n",
              "│    │    └─ReLU: 3-102                  [6, 1024, 14, 14]         [6, 1024, 14, 14]         --\n",
              "│    └─Bottleneck: 2-12                  [6, 1024, 14, 14]         [6, 1024, 14, 14]         --\n",
              "│    │    └─Conv2d: 3-103                [6, 1024, 14, 14]         [6, 256, 14, 14]          262,144\n",
              "│    │    └─BatchNorm2d: 3-104           [6, 256, 14, 14]          [6, 256, 14, 14]          512\n",
              "│    │    └─ReLU: 3-105                  [6, 256, 14, 14]          [6, 256, 14, 14]          --\n",
              "│    │    └─Conv2d: 3-106                [6, 256, 14, 14]          [6, 256, 14, 14]          589,824\n",
              "│    │    └─BatchNorm2d: 3-107           [6, 256, 14, 14]          [6, 256, 14, 14]          512\n",
              "│    │    └─ReLU: 3-108                  [6, 256, 14, 14]          [6, 256, 14, 14]          --\n",
              "│    │    └─Conv2d: 3-109                [6, 256, 14, 14]          [6, 1024, 14, 14]         262,144\n",
              "│    │    └─BatchNorm2d: 3-110           [6, 1024, 14, 14]         [6, 1024, 14, 14]         2,048\n",
              "│    │    └─ReLU: 3-111                  [6, 1024, 14, 14]         [6, 1024, 14, 14]         --\n",
              "│    └─Bottleneck: 2-13                  [6, 1024, 14, 14]         [6, 1024, 14, 14]         --\n",
              "│    │    └─Conv2d: 3-112                [6, 1024, 14, 14]         [6, 256, 14, 14]          262,144\n",
              "│    │    └─BatchNorm2d: 3-113           [6, 256, 14, 14]          [6, 256, 14, 14]          512\n",
              "│    │    └─ReLU: 3-114                  [6, 256, 14, 14]          [6, 256, 14, 14]          --\n",
              "│    │    └─Conv2d: 3-115                [6, 256, 14, 14]          [6, 256, 14, 14]          589,824\n",
              "│    │    └─BatchNorm2d: 3-116           [6, 256, 14, 14]          [6, 256, 14, 14]          512\n",
              "│    │    └─ReLU: 3-117                  [6, 256, 14, 14]          [6, 256, 14, 14]          --\n",
              "│    │    └─Conv2d: 3-118                [6, 256, 14, 14]          [6, 1024, 14, 14]         262,144\n",
              "│    │    └─BatchNorm2d: 3-119           [6, 1024, 14, 14]         [6, 1024, 14, 14]         2,048\n",
              "│    │    └─ReLU: 3-120                  [6, 1024, 14, 14]         [6, 1024, 14, 14]         --\n",
              "├─Sequential: 1-8                        [6, 1024, 14, 14]         [6, 2048, 7, 7]           --\n",
              "│    └─Bottleneck: 2-14                  [6, 1024, 14, 14]         [6, 2048, 7, 7]           --\n",
              "│    │    └─Conv2d: 3-121                [6, 1024, 14, 14]         [6, 512, 14, 14]          524,288\n",
              "│    │    └─BatchNorm2d: 3-122           [6, 512, 14, 14]          [6, 512, 14, 14]          1,024\n",
              "│    │    └─ReLU: 3-123                  [6, 512, 14, 14]          [6, 512, 14, 14]          --\n",
              "│    │    └─Conv2d: 3-124                [6, 512, 14, 14]          [6, 512, 7, 7]            2,359,296\n",
              "│    │    └─BatchNorm2d: 3-125           [6, 512, 7, 7]            [6, 512, 7, 7]            1,024\n",
              "│    │    └─ReLU: 3-126                  [6, 512, 7, 7]            [6, 512, 7, 7]            --\n",
              "│    │    └─Conv2d: 3-127                [6, 512, 7, 7]            [6, 2048, 7, 7]           1,048,576\n",
              "│    │    └─BatchNorm2d: 3-128           [6, 2048, 7, 7]           [6, 2048, 7, 7]           4,096\n",
              "│    │    └─Sequential: 3-129            [6, 1024, 14, 14]         [6, 2048, 7, 7]           2,101,248\n",
              "│    │    └─ReLU: 3-130                  [6, 2048, 7, 7]           [6, 2048, 7, 7]           --\n",
              "│    └─Bottleneck: 2-15                  [6, 2048, 7, 7]           [6, 2048, 7, 7]           --\n",
              "│    │    └─Conv2d: 3-131                [6, 2048, 7, 7]           [6, 512, 7, 7]            1,048,576\n",
              "│    │    └─BatchNorm2d: 3-132           [6, 512, 7, 7]            [6, 512, 7, 7]            1,024\n",
              "│    │    └─ReLU: 3-133                  [6, 512, 7, 7]            [6, 512, 7, 7]            --\n",
              "│    │    └─Conv2d: 3-134                [6, 512, 7, 7]            [6, 512, 7, 7]            2,359,296\n",
              "│    │    └─BatchNorm2d: 3-135           [6, 512, 7, 7]            [6, 512, 7, 7]            1,024\n",
              "│    │    └─ReLU: 3-136                  [6, 512, 7, 7]            [6, 512, 7, 7]            --\n",
              "│    │    └─Conv2d: 3-137                [6, 512, 7, 7]            [6, 2048, 7, 7]           1,048,576\n",
              "│    │    └─BatchNorm2d: 3-138           [6, 2048, 7, 7]           [6, 2048, 7, 7]           4,096\n",
              "│    │    └─ReLU: 3-139                  [6, 2048, 7, 7]           [6, 2048, 7, 7]           --\n",
              "│    └─Bottleneck: 2-16                  [6, 2048, 7, 7]           [6, 2048, 7, 7]           --\n",
              "│    │    └─Conv2d: 3-140                [6, 2048, 7, 7]           [6, 512, 7, 7]            1,048,576\n",
              "│    │    └─BatchNorm2d: 3-141           [6, 512, 7, 7]            [6, 512, 7, 7]            1,024\n",
              "│    │    └─ReLU: 3-142                  [6, 512, 7, 7]            [6, 512, 7, 7]            --\n",
              "│    │    └─Conv2d: 3-143                [6, 512, 7, 7]            [6, 512, 7, 7]            2,359,296\n",
              "│    │    └─BatchNorm2d: 3-144           [6, 512, 7, 7]            [6, 512, 7, 7]            1,024\n",
              "│    │    └─ReLU: 3-145                  [6, 512, 7, 7]            [6, 512, 7, 7]            --\n",
              "│    │    └─Conv2d: 3-146                [6, 512, 7, 7]            [6, 2048, 7, 7]           1,048,576\n",
              "│    │    └─BatchNorm2d: 3-147           [6, 2048, 7, 7]           [6, 2048, 7, 7]           4,096\n",
              "│    │    └─ReLU: 3-148                  [6, 2048, 7, 7]           [6, 2048, 7, 7]           --\n",
              "├─AdaptiveAvgPool2d: 1-9                 [6, 2048, 7, 7]           [6, 2048, 1, 1]           --\n",
              "├─Linear: 1-10                           [6, 2048]                 [6, 1000]                 2,049,000\n",
              "===================================================================================================================\n",
              "Total params: 25,557,032\n",
              "Trainable params: 25,557,032\n",
              "Non-trainable params: 0\n",
              "Total mult-adds (Units.GIGABYTES): 24.54\n",
              "===================================================================================================================\n",
              "Input size (MB): 3.61\n",
              "Forward/backward pass size (MB): 1066.99\n",
              "Params size (MB): 102.23\n",
              "Estimated Total Size (MB): 1172.83\n",
              "==================================================================================================================="
            ]
          },
          "metadata": {},
          "execution_count": 74
        }
      ],
      "source": [
        "resnet_model = resnet50(weights=ResNet50_Weights.DEFAULT)\n",
        "summary(resnet_model,\n",
        "        input_data=imgs,\n",
        "        col_names=['input_size',\n",
        "                   'output_size',\n",
        "                   'num_params'])\n"
      ]
    },
    {
      "cell_type": "code",
      "execution_count": null,
      "id": "9e53e23b",
      "metadata": {
        "lines_to_next_cell": 0,
        "id": "9e53e23b",
        "colab": {
          "base_uri": "https://localhost:8080/"
        },
        "outputId": "00ffff6f-0ab2-4a04-d054-9549e2c869dc"
      },
      "outputs": [
        {
          "output_type": "execute_result",
          "data": {
            "text/plain": [
              "ResNet(\n",
              "  (conv1): Conv2d(3, 64, kernel_size=(7, 7), stride=(2, 2), padding=(3, 3), bias=False)\n",
              "  (bn1): BatchNorm2d(64, eps=1e-05, momentum=0.1, affine=True, track_running_stats=True)\n",
              "  (relu): ReLU(inplace=True)\n",
              "  (maxpool): MaxPool2d(kernel_size=3, stride=2, padding=1, dilation=1, ceil_mode=False)\n",
              "  (layer1): Sequential(\n",
              "    (0): Bottleneck(\n",
              "      (conv1): Conv2d(64, 64, kernel_size=(1, 1), stride=(1, 1), bias=False)\n",
              "      (bn1): BatchNorm2d(64, eps=1e-05, momentum=0.1, affine=True, track_running_stats=True)\n",
              "      (conv2): Conv2d(64, 64, kernel_size=(3, 3), stride=(1, 1), padding=(1, 1), bias=False)\n",
              "      (bn2): BatchNorm2d(64, eps=1e-05, momentum=0.1, affine=True, track_running_stats=True)\n",
              "      (conv3): Conv2d(64, 256, kernel_size=(1, 1), stride=(1, 1), bias=False)\n",
              "      (bn3): BatchNorm2d(256, eps=1e-05, momentum=0.1, affine=True, track_running_stats=True)\n",
              "      (relu): ReLU(inplace=True)\n",
              "      (downsample): Sequential(\n",
              "        (0): Conv2d(64, 256, kernel_size=(1, 1), stride=(1, 1), bias=False)\n",
              "        (1): BatchNorm2d(256, eps=1e-05, momentum=0.1, affine=True, track_running_stats=True)\n",
              "      )\n",
              "    )\n",
              "    (1): Bottleneck(\n",
              "      (conv1): Conv2d(256, 64, kernel_size=(1, 1), stride=(1, 1), bias=False)\n",
              "      (bn1): BatchNorm2d(64, eps=1e-05, momentum=0.1, affine=True, track_running_stats=True)\n",
              "      (conv2): Conv2d(64, 64, kernel_size=(3, 3), stride=(1, 1), padding=(1, 1), bias=False)\n",
              "      (bn2): BatchNorm2d(64, eps=1e-05, momentum=0.1, affine=True, track_running_stats=True)\n",
              "      (conv3): Conv2d(64, 256, kernel_size=(1, 1), stride=(1, 1), bias=False)\n",
              "      (bn3): BatchNorm2d(256, eps=1e-05, momentum=0.1, affine=True, track_running_stats=True)\n",
              "      (relu): ReLU(inplace=True)\n",
              "    )\n",
              "    (2): Bottleneck(\n",
              "      (conv1): Conv2d(256, 64, kernel_size=(1, 1), stride=(1, 1), bias=False)\n",
              "      (bn1): BatchNorm2d(64, eps=1e-05, momentum=0.1, affine=True, track_running_stats=True)\n",
              "      (conv2): Conv2d(64, 64, kernel_size=(3, 3), stride=(1, 1), padding=(1, 1), bias=False)\n",
              "      (bn2): BatchNorm2d(64, eps=1e-05, momentum=0.1, affine=True, track_running_stats=True)\n",
              "      (conv3): Conv2d(64, 256, kernel_size=(1, 1), stride=(1, 1), bias=False)\n",
              "      (bn3): BatchNorm2d(256, eps=1e-05, momentum=0.1, affine=True, track_running_stats=True)\n",
              "      (relu): ReLU(inplace=True)\n",
              "    )\n",
              "  )\n",
              "  (layer2): Sequential(\n",
              "    (0): Bottleneck(\n",
              "      (conv1): Conv2d(256, 128, kernel_size=(1, 1), stride=(1, 1), bias=False)\n",
              "      (bn1): BatchNorm2d(128, eps=1e-05, momentum=0.1, affine=True, track_running_stats=True)\n",
              "      (conv2): Conv2d(128, 128, kernel_size=(3, 3), stride=(2, 2), padding=(1, 1), bias=False)\n",
              "      (bn2): BatchNorm2d(128, eps=1e-05, momentum=0.1, affine=True, track_running_stats=True)\n",
              "      (conv3): Conv2d(128, 512, kernel_size=(1, 1), stride=(1, 1), bias=False)\n",
              "      (bn3): BatchNorm2d(512, eps=1e-05, momentum=0.1, affine=True, track_running_stats=True)\n",
              "      (relu): ReLU(inplace=True)\n",
              "      (downsample): Sequential(\n",
              "        (0): Conv2d(256, 512, kernel_size=(1, 1), stride=(2, 2), bias=False)\n",
              "        (1): BatchNorm2d(512, eps=1e-05, momentum=0.1, affine=True, track_running_stats=True)\n",
              "      )\n",
              "    )\n",
              "    (1): Bottleneck(\n",
              "      (conv1): Conv2d(512, 128, kernel_size=(1, 1), stride=(1, 1), bias=False)\n",
              "      (bn1): BatchNorm2d(128, eps=1e-05, momentum=0.1, affine=True, track_running_stats=True)\n",
              "      (conv2): Conv2d(128, 128, kernel_size=(3, 3), stride=(1, 1), padding=(1, 1), bias=False)\n",
              "      (bn2): BatchNorm2d(128, eps=1e-05, momentum=0.1, affine=True, track_running_stats=True)\n",
              "      (conv3): Conv2d(128, 512, kernel_size=(1, 1), stride=(1, 1), bias=False)\n",
              "      (bn3): BatchNorm2d(512, eps=1e-05, momentum=0.1, affine=True, track_running_stats=True)\n",
              "      (relu): ReLU(inplace=True)\n",
              "    )\n",
              "    (2): Bottleneck(\n",
              "      (conv1): Conv2d(512, 128, kernel_size=(1, 1), stride=(1, 1), bias=False)\n",
              "      (bn1): BatchNorm2d(128, eps=1e-05, momentum=0.1, affine=True, track_running_stats=True)\n",
              "      (conv2): Conv2d(128, 128, kernel_size=(3, 3), stride=(1, 1), padding=(1, 1), bias=False)\n",
              "      (bn2): BatchNorm2d(128, eps=1e-05, momentum=0.1, affine=True, track_running_stats=True)\n",
              "      (conv3): Conv2d(128, 512, kernel_size=(1, 1), stride=(1, 1), bias=False)\n",
              "      (bn3): BatchNorm2d(512, eps=1e-05, momentum=0.1, affine=True, track_running_stats=True)\n",
              "      (relu): ReLU(inplace=True)\n",
              "    )\n",
              "    (3): Bottleneck(\n",
              "      (conv1): Conv2d(512, 128, kernel_size=(1, 1), stride=(1, 1), bias=False)\n",
              "      (bn1): BatchNorm2d(128, eps=1e-05, momentum=0.1, affine=True, track_running_stats=True)\n",
              "      (conv2): Conv2d(128, 128, kernel_size=(3, 3), stride=(1, 1), padding=(1, 1), bias=False)\n",
              "      (bn2): BatchNorm2d(128, eps=1e-05, momentum=0.1, affine=True, track_running_stats=True)\n",
              "      (conv3): Conv2d(128, 512, kernel_size=(1, 1), stride=(1, 1), bias=False)\n",
              "      (bn3): BatchNorm2d(512, eps=1e-05, momentum=0.1, affine=True, track_running_stats=True)\n",
              "      (relu): ReLU(inplace=True)\n",
              "    )\n",
              "  )\n",
              "  (layer3): Sequential(\n",
              "    (0): Bottleneck(\n",
              "      (conv1): Conv2d(512, 256, kernel_size=(1, 1), stride=(1, 1), bias=False)\n",
              "      (bn1): BatchNorm2d(256, eps=1e-05, momentum=0.1, affine=True, track_running_stats=True)\n",
              "      (conv2): Conv2d(256, 256, kernel_size=(3, 3), stride=(2, 2), padding=(1, 1), bias=False)\n",
              "      (bn2): BatchNorm2d(256, eps=1e-05, momentum=0.1, affine=True, track_running_stats=True)\n",
              "      (conv3): Conv2d(256, 1024, kernel_size=(1, 1), stride=(1, 1), bias=False)\n",
              "      (bn3): BatchNorm2d(1024, eps=1e-05, momentum=0.1, affine=True, track_running_stats=True)\n",
              "      (relu): ReLU(inplace=True)\n",
              "      (downsample): Sequential(\n",
              "        (0): Conv2d(512, 1024, kernel_size=(1, 1), stride=(2, 2), bias=False)\n",
              "        (1): BatchNorm2d(1024, eps=1e-05, momentum=0.1, affine=True, track_running_stats=True)\n",
              "      )\n",
              "    )\n",
              "    (1): Bottleneck(\n",
              "      (conv1): Conv2d(1024, 256, kernel_size=(1, 1), stride=(1, 1), bias=False)\n",
              "      (bn1): BatchNorm2d(256, eps=1e-05, momentum=0.1, affine=True, track_running_stats=True)\n",
              "      (conv2): Conv2d(256, 256, kernel_size=(3, 3), stride=(1, 1), padding=(1, 1), bias=False)\n",
              "      (bn2): BatchNorm2d(256, eps=1e-05, momentum=0.1, affine=True, track_running_stats=True)\n",
              "      (conv3): Conv2d(256, 1024, kernel_size=(1, 1), stride=(1, 1), bias=False)\n",
              "      (bn3): BatchNorm2d(1024, eps=1e-05, momentum=0.1, affine=True, track_running_stats=True)\n",
              "      (relu): ReLU(inplace=True)\n",
              "    )\n",
              "    (2): Bottleneck(\n",
              "      (conv1): Conv2d(1024, 256, kernel_size=(1, 1), stride=(1, 1), bias=False)\n",
              "      (bn1): BatchNorm2d(256, eps=1e-05, momentum=0.1, affine=True, track_running_stats=True)\n",
              "      (conv2): Conv2d(256, 256, kernel_size=(3, 3), stride=(1, 1), padding=(1, 1), bias=False)\n",
              "      (bn2): BatchNorm2d(256, eps=1e-05, momentum=0.1, affine=True, track_running_stats=True)\n",
              "      (conv3): Conv2d(256, 1024, kernel_size=(1, 1), stride=(1, 1), bias=False)\n",
              "      (bn3): BatchNorm2d(1024, eps=1e-05, momentum=0.1, affine=True, track_running_stats=True)\n",
              "      (relu): ReLU(inplace=True)\n",
              "    )\n",
              "    (3): Bottleneck(\n",
              "      (conv1): Conv2d(1024, 256, kernel_size=(1, 1), stride=(1, 1), bias=False)\n",
              "      (bn1): BatchNorm2d(256, eps=1e-05, momentum=0.1, affine=True, track_running_stats=True)\n",
              "      (conv2): Conv2d(256, 256, kernel_size=(3, 3), stride=(1, 1), padding=(1, 1), bias=False)\n",
              "      (bn2): BatchNorm2d(256, eps=1e-05, momentum=0.1, affine=True, track_running_stats=True)\n",
              "      (conv3): Conv2d(256, 1024, kernel_size=(1, 1), stride=(1, 1), bias=False)\n",
              "      (bn3): BatchNorm2d(1024, eps=1e-05, momentum=0.1, affine=True, track_running_stats=True)\n",
              "      (relu): ReLU(inplace=True)\n",
              "    )\n",
              "    (4): Bottleneck(\n",
              "      (conv1): Conv2d(1024, 256, kernel_size=(1, 1), stride=(1, 1), bias=False)\n",
              "      (bn1): BatchNorm2d(256, eps=1e-05, momentum=0.1, affine=True, track_running_stats=True)\n",
              "      (conv2): Conv2d(256, 256, kernel_size=(3, 3), stride=(1, 1), padding=(1, 1), bias=False)\n",
              "      (bn2): BatchNorm2d(256, eps=1e-05, momentum=0.1, affine=True, track_running_stats=True)\n",
              "      (conv3): Conv2d(256, 1024, kernel_size=(1, 1), stride=(1, 1), bias=False)\n",
              "      (bn3): BatchNorm2d(1024, eps=1e-05, momentum=0.1, affine=True, track_running_stats=True)\n",
              "      (relu): ReLU(inplace=True)\n",
              "    )\n",
              "    (5): Bottleneck(\n",
              "      (conv1): Conv2d(1024, 256, kernel_size=(1, 1), stride=(1, 1), bias=False)\n",
              "      (bn1): BatchNorm2d(256, eps=1e-05, momentum=0.1, affine=True, track_running_stats=True)\n",
              "      (conv2): Conv2d(256, 256, kernel_size=(3, 3), stride=(1, 1), padding=(1, 1), bias=False)\n",
              "      (bn2): BatchNorm2d(256, eps=1e-05, momentum=0.1, affine=True, track_running_stats=True)\n",
              "      (conv3): Conv2d(256, 1024, kernel_size=(1, 1), stride=(1, 1), bias=False)\n",
              "      (bn3): BatchNorm2d(1024, eps=1e-05, momentum=0.1, affine=True, track_running_stats=True)\n",
              "      (relu): ReLU(inplace=True)\n",
              "    )\n",
              "  )\n",
              "  (layer4): Sequential(\n",
              "    (0): Bottleneck(\n",
              "      (conv1): Conv2d(1024, 512, kernel_size=(1, 1), stride=(1, 1), bias=False)\n",
              "      (bn1): BatchNorm2d(512, eps=1e-05, momentum=0.1, affine=True, track_running_stats=True)\n",
              "      (conv2): Conv2d(512, 512, kernel_size=(3, 3), stride=(2, 2), padding=(1, 1), bias=False)\n",
              "      (bn2): BatchNorm2d(512, eps=1e-05, momentum=0.1, affine=True, track_running_stats=True)\n",
              "      (conv3): Conv2d(512, 2048, kernel_size=(1, 1), stride=(1, 1), bias=False)\n",
              "      (bn3): BatchNorm2d(2048, eps=1e-05, momentum=0.1, affine=True, track_running_stats=True)\n",
              "      (relu): ReLU(inplace=True)\n",
              "      (downsample): Sequential(\n",
              "        (0): Conv2d(1024, 2048, kernel_size=(1, 1), stride=(2, 2), bias=False)\n",
              "        (1): BatchNorm2d(2048, eps=1e-05, momentum=0.1, affine=True, track_running_stats=True)\n",
              "      )\n",
              "    )\n",
              "    (1): Bottleneck(\n",
              "      (conv1): Conv2d(2048, 512, kernel_size=(1, 1), stride=(1, 1), bias=False)\n",
              "      (bn1): BatchNorm2d(512, eps=1e-05, momentum=0.1, affine=True, track_running_stats=True)\n",
              "      (conv2): Conv2d(512, 512, kernel_size=(3, 3), stride=(1, 1), padding=(1, 1), bias=False)\n",
              "      (bn2): BatchNorm2d(512, eps=1e-05, momentum=0.1, affine=True, track_running_stats=True)\n",
              "      (conv3): Conv2d(512, 2048, kernel_size=(1, 1), stride=(1, 1), bias=False)\n",
              "      (bn3): BatchNorm2d(2048, eps=1e-05, momentum=0.1, affine=True, track_running_stats=True)\n",
              "      (relu): ReLU(inplace=True)\n",
              "    )\n",
              "    (2): Bottleneck(\n",
              "      (conv1): Conv2d(2048, 512, kernel_size=(1, 1), stride=(1, 1), bias=False)\n",
              "      (bn1): BatchNorm2d(512, eps=1e-05, momentum=0.1, affine=True, track_running_stats=True)\n",
              "      (conv2): Conv2d(512, 512, kernel_size=(3, 3), stride=(1, 1), padding=(1, 1), bias=False)\n",
              "      (bn2): BatchNorm2d(512, eps=1e-05, momentum=0.1, affine=True, track_running_stats=True)\n",
              "      (conv3): Conv2d(512, 2048, kernel_size=(1, 1), stride=(1, 1), bias=False)\n",
              "      (bn3): BatchNorm2d(2048, eps=1e-05, momentum=0.1, affine=True, track_running_stats=True)\n",
              "      (relu): ReLU(inplace=True)\n",
              "    )\n",
              "  )\n",
              "  (avgpool): AdaptiveAvgPool2d(output_size=(1, 1))\n",
              "  (fc): Linear(in_features=2048, out_features=1000, bias=True)\n",
              ")"
            ]
          },
          "metadata": {},
          "execution_count": 75
        }
      ],
      "source": [
        "resnet_model.eval()"
      ]
    },
    {
      "cell_type": "code",
      "execution_count": null,
      "id": "0890e08a",
      "metadata": {
        "id": "0890e08a"
      },
      "outputs": [],
      "source": [
        "img_preds = resnet_model(imgs)\n"
      ]
    },
    {
      "cell_type": "code",
      "execution_count": null,
      "id": "60ec5152",
      "metadata": {
        "id": "60ec5152"
      },
      "outputs": [],
      "source": [
        "img_probs = np.exp(np.asarray(img_preds.detach()))\n",
        "img_probs /= img_probs.sum(1)[:,None]\n"
      ]
    },
    {
      "cell_type": "code",
      "source": [
        "import urllib.request, json\n",
        "url = \"https://s3.amazonaws.com/deep-learning-models/image-models/imagenet_class_index.json\"   # imagenet download\n",
        "urllib.request.urlretrieve(url, \"imagenet_class_index.json\")\n",
        "\n",
        "with open(\"imagenet_class_index.json\") as f:\n",
        "    labs = json.load(f)\n"
      ],
      "metadata": {
        "id": "cfUywFMuWuFh"
      },
      "id": "cfUywFMuWuFh",
      "execution_count": null,
      "outputs": []
    },
    {
      "cell_type": "code",
      "execution_count": null,
      "id": "9408bbd3",
      "metadata": {
        "id": "9408bbd3"
      },
      "outputs": [],
      "source": [
        "labs = json.load(open('imagenet_class_index.json'))\n",
        "class_labels = pd.DataFrame([(int(k), v[1]) for k, v in\n",
        "                           labs.items()],\n",
        "                           columns=['idx', 'label'])\n",
        "class_labels = class_labels.set_index('idx')\n",
        "class_labels = class_labels.sort_index()\n"
      ]
    },
    {
      "cell_type": "code",
      "execution_count": null,
      "id": "5369faef",
      "metadata": {
        "lines_to_next_cell": 2,
        "id": "5369faef",
        "colab": {
          "base_uri": "https://localhost:8080/"
        },
        "outputId": "82182e82-894f-4dbd-9497-7f0a48b351b2"
      },
      "outputs": [
        {
          "output_type": "stream",
          "name": "stdout",
          "text": [
            "Image: book_images/Cape_Weaver.jpg\n",
            "      label      prob\n",
            "0   jacamar  0.297499\n",
            "1     macaw  0.068107\n",
            "2  lorikeet  0.051104\n",
            "Image: book_images/Flamingo.jpg\n",
            "            label      prob\n",
            "0        flamingo  0.609514\n",
            "1       spoonbill  0.013586\n",
            "2  American_egret  0.002132\n",
            "Image: book_images/Hawk_Fountain.jpg\n",
            "            label      prob\n",
            "0            kite  0.184681\n",
            "1           robin  0.084022\n",
            "2  great_grey_owl  0.061274\n",
            "Image: book_images/Hawk_cropped.jpg\n",
            "            label      prob\n",
            "0            kite  0.453834\n",
            "1  great_grey_owl  0.015914\n",
            "2             jay  0.012210\n",
            "Image: book_images/Lhasa_Apso.jpg\n",
            "             label      prob\n",
            "0            Lhasa  0.260316\n",
            "1         Shih-Tzu  0.097196\n",
            "2  Tibetan_terrier  0.032820\n",
            "Image: book_images/Sleeping_Cat.jpg\n",
            "         label      prob\n",
            "0  Persian_cat  0.163069\n",
            "1        tabby  0.074143\n",
            "2    tiger_cat  0.042578\n"
          ]
        }
      ],
      "source": [
        "for i, imgfile in enumerate(imgfiles):\n",
        "    img_df = class_labels.copy()\n",
        "    img_df['prob'] = img_probs[i]\n",
        "    img_df = img_df.sort_values(by='prob', ascending=False)[:3]\n",
        "    print(f'Image: {imgfile}')\n",
        "    print(img_df.reset_index().drop(columns=['idx']))\n"
      ]
    },
    {
      "cell_type": "code",
      "execution_count": null,
      "id": "f585e5d2",
      "metadata": {
        "lines_to_next_cell": 2,
        "id": "f585e5d2"
      },
      "outputs": [],
      "source": [
        "del(cifar_test,\n",
        "    cifar_train,\n",
        "    cifar_dm,\n",
        "    cifar_module,\n",
        "    cifar_logger,\n",
        "    cifar_optimizer,\n",
        "    cifar_trainer)"
      ]
    },
    {
      "cell_type": "code",
      "execution_count": null,
      "id": "5190e35f-7038-43d1-b275-ea9c7273fc2d",
      "metadata": {
        "id": "5190e35f-7038-43d1-b275-ea9c7273fc2d"
      },
      "outputs": [],
      "source": []
    }
  ],
  "metadata": {
    "jupytext": {
      "cell_metadata_filter": "-all",
      "main_language": "python",
      "notebook_metadata_filter": "-all"
    },
    "kernelspec": {
      "display_name": "Python 3",
      "name": "python3"
    },
    "language_info": {
      "codemirror_mode": {
        "name": "ipython",
        "version": 3
      },
      "file_extension": ".py",
      "mimetype": "text/x-python",
      "name": "python",
      "nbconvert_exporter": "python",
      "pygments_lexer": "ipython3",
      "version": "3.12.4"
    },
    "colab": {
      "provenance": [],
      "machine_shape": "hm",
      "gpuType": "T4",
      "include_colab_link": true
    },
    "accelerator": "GPU"
  },
  "nbformat": 4,
  "nbformat_minor": 5
}