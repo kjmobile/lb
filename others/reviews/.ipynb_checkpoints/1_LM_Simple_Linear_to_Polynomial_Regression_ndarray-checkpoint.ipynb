{
 "cells": [
  {
   "cell_type": "markdown",
   "metadata": {},
   "source": [
    "# Simple Linear to Polynomial Regression (NumPy ndarray )\n",
    "This notebook implements linear and polynomial regression using NumPy arrays."
   ]
  },
  {
   "cell_type": "markdown",
   "metadata": {},
   "source": [
    "## Data Prep"
   ]
  },
  {
   "cell_type": "code",
   "execution_count": null,
   "metadata": {},
   "outputs": [],
   "source": [
    "import pandas as pd\n",
    "import numpy as np\n",
    "import matplotlib.pyplot as plt\n",
    "from sklearn.model_selection import train_test_split\n",
    "from sklearn import linear_model"
   ]
  },
  {
   "cell_type": "code",
   "execution_count": null,
   "metadata": {},
   "outputs": [],
   "source": [
    "# Load data\n",
    "fish_df = pd.read_csv('https://raw.githubusercontent.com/kjmobile/data/refs/heads/main/ml/fish_l.csv')\n",
    "fish_df.head()"
   ]
  },
  {
   "cell_type": "code",
   "execution_count": null,
   "metadata": {},
   "outputs": [],
   "source": [
    "# Convert to NumPy array\n",
    "fish = fish_df[[\"Length\", \"Weight\"]].to_numpy()\n",
    "print(\"Data shape:\", fish.shape)\n",
    "print(\"\\nFirst 5 rows:\")\n",
    "print(fish[:5])"
   ]
  },
  {
   "cell_type": "markdown",
   "metadata": {},
   "source": [
    "### Why reshape(-1, 1)?\n",
    "\n",
    "scikit-learn expects 2D arrays for features (X), even if there's only one feature.\n",
    "- `fish[:, 0]` creates a 1D array: `[25.4, 26.3, 26.5, ...]`\n",
    "- `fish[:, 0].reshape(-1, 1)` creates a 2D array: `[[25.4], [26.3], [26.5], ...]`"
   ]
  },
  {
   "cell_type": "code",
   "execution_count": null,
   "metadata": {},
   "outputs": [],
   "source": [
    "# Train-test split (NumPy version)\n",
    "train_X, test_X, train_y, test_y = train_test_split(\n",
    "    fish[:, 0].reshape(-1, 1),  # Length as 2D array\n",
    "    fish[:, 1],                  # Weight as 1D array\n",
    "    test_size=0.25, \n",
    "    random_state=0\n",
    ")\n",
    "\n",
    "print(f\"Train X shape: {train_X.shape}\")\n",
    "print(f\"Train y shape: {train_y.shape}\")\n",
    "print(f\"Test X shape: {test_X.shape}\")\n",
    "print(f\"Test y shape: {test_y.shape}\")"
   ]
  },
  {
   "cell_type": "markdown",
   "metadata": {},
   "source": [
    "## Simple Linear Regression\n",
    "\n",
    "Model equation: $Weight = \\beta_1 \\times Length + \\beta_0$"
   ]
  },
  {
   "cell_type": "code",
   "execution_count": null,
   "metadata": {},
   "outputs": [],
   "source": [
    "# Train model\n",
    "m1 = linear_model.LinearRegression()\n",
    "m1.fit(train_X, train_y)"
   ]
  },
  {
   "cell_type": "code",
   "execution_count": null,
   "metadata": {},
   "outputs": [],
   "source": [
    "# Check coefficients\n",
    "print(f\"Coefficient (β1): {m1.coef_[0]:.2f}\")\n",
    "print(f\"Intercept (β0): {m1.intercept_:.2f}\")\n",
    "print(f\"\\nModel Equation: Weight = {m1.coef_[0]:.2f} × Length + {m1.intercept_:.2f}\")"
   ]
  },
  {
   "cell_type": "markdown",
   "metadata": {},
   "source": [
    "### Evaluate Model Performance: m1"
   ]
  },
  {
   "cell_type": "code",
   "execution_count": null,
   "metadata": {},
   "outputs": [],
   "source": [
    "# Evaluate model with R² score\n",
    "train_r2 = m1.score(train_X, train_y)\n",
    "test_r2 = m1.score(test_X, test_y)\n",
    "\n",
    "print(f\"Train R²: {train_r2:.4f}\")\n",
    "print(f\"Test R²: {test_r2:.4f}\")"
   ]
  },
  {
   "cell_type": "code",
   "execution_count": null,
   "metadata": {},
   "outputs": [],
   "source": [
    "# Prediction\n",
    "length_60_pred = m1.predict([[60]])[0]\n",
    "print(f\"Predicted weight for 60 inch fish: {length_60_pred:.2f} lbs\")"
   ]
  },
  {
   "cell_type": "code",
   "execution_count": null,
   "metadata": {},
   "outputs": [],
   "source": [
    "# Visualization\n",
    "plt.figure(figsize=(10, 6))\n",
    "plt.scatter(train_X[:, 0], train_y, edgecolor='w', alpha=0.7)\n",
    "plt.plot([8.4, 60], m1.predict([[8.4], [60]]), ls='--', color='green', linewidth=2, label='Regression Line')\n",
    "plt.scatter(60, m1.predict([[60]]), color='r', marker=\"o\", s=200, label='60 inch prediction', zorder=5)\n",
    "plt.xlabel('Length (inch)')\n",
    "plt.ylabel('Weight (lbs)')\n",
    "plt.title('Simple Linear Regression')\n",
    "plt.legend()\n",
    "plt.grid(True, alpha=0.3)\n",
    "plt.show()"
   ]
  },
  {
   "cell_type": "markdown",
   "metadata": {},
   "source": [
    "## Polynomial Regression\n",
    "\n",
    "Model equation: $Weight = \\beta_2 \\times Length^2 + \\beta_1 \\times Length + \\beta_0$"
   ]
  },
  {
   "cell_type": "code",
   "execution_count": null,
   "metadata": {},
   "outputs": [],
   "source": [
    "# Add polynomial features (NumPy version)\n",
    "train_poly = np.column_stack([train_X ** 2, train_X])\n",
    "test_poly = np.column_stack([test_X ** 2, test_X])\n",
    "\n",
    "print(\"Train poly shape:\", train_poly.shape)\n",
    "print(\"\\nFirst 5 rows:\")\n",
    "print(train_poly[:5])"
   ]
  },
  {
   "cell_type": "markdown",
   "metadata": {},
   "source": [
    "### Understanding np.column_stack\n",
    "\n",
    "`np.column_stack` combines arrays as columns:\n",
    "- Input: `train_X = [[25.4], [26.3]]` and `train_X**2 = [[645.16], [691.69]]`\n",
    "- Output: `[[645.16, 25.4], [691.69, 26.3]]`"
   ]
  },
  {
   "cell_type": "code",
   "execution_count": null,
   "metadata": {},
   "outputs": [],
   "source": [
    "# Train model\n",
    "m2 = linear_model.LinearRegression()\n",
    "m2.fit(train_poly, train_y)"
   ]
  },
  {
   "cell_type": "code",
   "execution_count": null,
   "metadata": {},
   "outputs": [],
   "source": [
    "# Check coefficients\n",
    "print(f\"Coefficient for Length² (β2): {m2.coef_[0]:.2f}\")\n",
    "print(f\"Coefficient for Length (β1): {m2.coef_[1]:.2f}\")\n",
    "print(f\"Intercept (β0): {m2.intercept_:.2f}\")\n",
    "print(f\"\\nModel Equation: Weight = {m2.coef_[0]:.2f} × Length² + {m2.coef_[1]:.2f} × Length + {m2.intercept_:.2f}\")"
   ]
  },
  {
   "cell_type": "markdown",
   "metadata": {},
   "source": [
    "### Evaluate Model Performance: m2"
   ]
  },
  {
   "cell_type": "code",
   "execution_count": null,
   "metadata": {},
   "outputs": [],
   "source": [
    "# Evaluate model with R² score\n",
    "train_r2_poly = m2.score(train_poly, train_y)\n",
    "test_r2_poly = m2.score(test_poly, test_y)\n",
    "\n",
    "print(f\"Train R²: {train_r2_poly:.4f}\")\n",
    "print(f\"Test R²: {test_r2_poly:.4f}\")\n",
    "\n",
    "print(\"\\n=== Model Comparison ===\")\n",
    "print(f\"Linear Regression Test R²: {test_r2:.4f}\")\n",
    "print(f\"Polynomial Regression Test R²: {test_r2_poly:.4f}\")\n",
    "print(f\"Improvement: {(test_r2_poly - test_r2):.4f}\")"
   ]
  },
  {
   "cell_type": "code",
   "execution_count": null,
   "metadata": {},
   "outputs": [],
   "source": [
    "# Prediction\n",
    "length_60_pred_poly = m2.predict([[60**2, 60]])[0]\n",
    "print(f\"Predicted weight for 60 inch fish (polynomial): {length_60_pred_poly:.2f} lbs\")\n",
    "print(f\"Predicted weight for 60 inch fish (linear): {length_60_pred:.2f} lbs\")\n",
    "print(f\"Difference: {abs(length_60_pred_poly - length_60_pred):.2f} lbs\")"
   ]
  },
  {
   "cell_type": "code",
   "execution_count": null,
   "metadata": {},
   "outputs": [],
   "source": [
    "# Visualization\n",
    "plt.figure(figsize=(10, 6))\n",
    "plt.scatter(train_X[:, 0], train_y, alpha=0.7)\n",
    "\n",
    "# Draw polynomial regression line\n",
    "point = np.arange(8.4, 60, 0.1)\n",
    "predictions = m2.coef_[0] * point**2 + m2.coef_[1] * point + m2.intercept_\n",
    "plt.plot(point, predictions, color='blue', linewidth=2, label='Polynomial Regression')\n",
    "\n",
    "plt.scatter(60, m2.predict([[60**2, 60]]), color='r', marker=\"s\", s=200, label='60 inch prediction', zorder=5)\n",
    "plt.xlabel('Length (inch)')\n",
    "plt.ylabel('Weight (lbs)')\n",
    "plt.title('Polynomial Regression')\n",
    "plt.legend()\n",
    "plt.grid(True, alpha=0.3)\n",
    "plt.show()"
   ]
  },
  {
   "cell_type": "markdown",
   "metadata": {},
   "source": [
    "## Compare Both Models"
   ]
  },
  {
   "cell_type": "code",
   "execution_count": null,
   "metadata": {},
   "outputs": [],
   "source": [
    "# Side-by-side comparison\n",
    "fig, axes = plt.subplots(1, 2, figsize=(15, 6))\n",
    "\n",
    "# Linear Regression\n",
    "axes[0].scatter(train_X[:, 0], train_y, edgecolor='w', alpha=0.7)\n",
    "axes[0].plot([8.4, 60], m1.predict([[8.4], [60]]), ls='--', color='green', linewidth=2)\n",
    "axes[0].scatter(60, m1.predict([[60]]), color='r', marker=\"o\", s=200, zorder=5)\n",
    "axes[0].set_xlabel('Length (inch)')\n",
    "axes[0].set_ylabel('Weight (lbs)')\n",
    "axes[0].set_title(f'Linear Regression (R² = {test_r2:.4f})')\n",
    "axes[0].grid(True, alpha=0.3)\n",
    "\n",
    "# Polynomial Regression\n",
    "axes[1].scatter(train_X[:, 0], train_y, alpha=0.7)\n",
    "point = np.arange(8.4, 60, 0.1)\n",
    "predictions = m2.coef_[0] * point**2 + m2.coef_[1] * point + m2.intercept_\n",
    "axes[1].plot(point, predictions, color='blue', linewidth=2)\n",
    "axes[1].scatter(60, m2.predict([[60**2, 60]]), color='r', marker=\"s\", s=200, zorder=5)\n",
    "axes[1].set_xlabel('Length (inch)')\n",
    "axes[1].set_ylabel('Weight (lbs)')\n",
    "axes[1].set_title(f'Polynomial Regression (R² = {test_r2_poly:.4f})')\n",
    "axes[1].grid(True, alpha=0.3)\n",
    "plt.tight_layout()\n",
    "plt.show()"
   ]
  },
  {
   "cell_type": "code",
   "execution_count": null,
   "metadata": {},
   "outputs": [],
   "source": []
  },
  {
   "cell_type": "code",
   "execution_count": null,
   "metadata": {},
   "outputs": [],
   "source": []
  }
 ],
 "metadata": {
  "kernelspec": {
   "display_name": "Python 3 (ipykernel)",
   "language": "python",
   "name": "python3"
  },
  "language_info": {
   "codemirror_mode": {
    "name": "ipython",
    "version": 3
   },
   "file_extension": ".py",
   "mimetype": "text/x-python",
   "name": "python",
   "nbconvert_exporter": "python",
   "pygments_lexer": "ipython3",
   "version": "3.12.3"
  }
 },
 "nbformat": 4,
 "nbformat_minor": 4
}
