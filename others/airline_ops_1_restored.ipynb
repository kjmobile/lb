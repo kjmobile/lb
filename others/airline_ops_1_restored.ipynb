{
 "cells": [
  {
   "cell_type": "markdown",
   "id": "1faa8716",
   "metadata": {},
   "source": [
    "# Flight Delay Analysis (Intro Assignment)\n",
    "#\n",
    "This notebook connects to the airline_db using pymysql, loads the flights_delay table,\n",
    "and performs two basic analyses:\n",
    "1. Show the first few rows of the data\n",
    "2. Calculate and print the average delay_minutes\n"
   ]
  },
  {
   "cell_type": "code",
   "execution_count": null,
   "id": "f4b88061",
   "metadata": {},
   "outputs": [],
   "source": [
    "import pymysql\n",
    "import pandas as pd\n",
    "\n",
    "# Connect to airline_db\n",
    "connection = pymysql.connect(\n",
    "    host='database-klee.cbgcswckszgl.us-east-1.rds.amazonaws.com',\n",
    "    user='erau',\n",
    "    password='1212',\n",
    "    database='airline_db',\n",
    "    charset='utf8mb4',\n",
    "    cursorclass=pymysql.cursors.DictCursor\n",
    ")\n",
    "\n",
    "print(\"Connected to database!\")\n",
    "\n",
    "# Load flights_delay table into pandas DataFrame\n",
    "cursor = connection.cursor()\n",
    "cursor.execute(\"SELECT * FROM flights_delay;\")\n",
    "rows = cursor.fetchall()\n",
    "df_delay = pd.DataFrame(rows)\n",
    "\n",
    "# Close connection\n",
    "connection.close()\n"
   ]
  },
  {
   "cell_type": "code",
   "execution_count": null,
   "id": "4492f667",
   "metadata": {},
   "outputs": [],
   "source": [
    "# Show the first few rows\n",
    "print(df_delay.head())\n"
   ]
  },
  {
   "cell_type": "code",
   "execution_count": null,
   "id": "65b4647c",
   "metadata": {},
   "outputs": [],
   "source": [
    "# Calculate and print the average delay_minutes\n",
    "average_delay = df_delay['delay_minutes'].mean()\n",
    "print(\"Average delay (minutes):\", average_delay)"
   ]
  }
 ],
 "metadata": {},
 "nbformat": 4,
 "nbformat_minor": 5
}
