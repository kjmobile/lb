{
 "cells": [
  {
   "cell_type": "markdown",
   "metadata": {},
   "source": [
    "# Understanding Logistic Regression\n",
    "\n",
    "## Goal: Predict Flight Cancellations\n",
    "\n",
    "In this notebook, we use logistic regression to predict whether a flight will be cancelled."
   ]
  },
  {
   "cell_type": "markdown",
   "metadata": {},
   "source": [
    "## 1. Load and Explore Data"
   ]
  },
  {
   "cell_type": "code",
   "execution_count": 20,
   "metadata": {},
   "outputs": [
    {
     "name": "stdout",
     "output_type": "stream",
     "text": [
      "Data shape: (50000, 31)\n",
      "\n",
      "Cancellation rate:\n",
      "CANCELLED\n",
      "0    0.98456\n",
      "1    0.01544\n",
      "Name: proportion, dtype: float64\n"
     ]
    }
   ],
   "source": [
    "import pandas as pd\n",
    "import numpy as np\n",
    "from sklearn.model_selection import train_test_split\n",
    "from sklearn.linear_model import LogisticRegression\n",
    "from sklearn.metrics import accuracy_score, confusion_matrix, classification_report\n",
    "import matplotlib.pyplot as plt\n",
    "import seaborn as sns\n",
    "\n",
    "# Load data\n",
    "url = \"https://raw.githubusercontent.com/kjmobile/data/main/ml/flights_50k.csv\"\n",
    "df = pd.read_csv(url)\n",
    "\n",
    "print(f\"Data shape: {df.shape}\")\n",
    "print(f\"\\nCancellation rate:\")\n",
    "print(df['CANCELLED'].value_counts(normalize=True))"
   ]
  },
  {
   "cell_type": "markdown",
   "metadata": {},
   "source": [
    "## 2. Prepare Data\n",
    "\n",
    "Select simple features for logistic regression.\n",
    "\n",
    "**Important Notes:**\n",
    "- We exclude `DEPARTURE_DELAY` to avoid **data leakage** (we can't know delays before the flight)\n",
    "- Cancelled flights have missing `DEPARTURE_DELAY` values (they never departed)\n",
    "- This is an **imbalanced dataset** (~1.5% cancellations)"
   ]
  },
  {
   "cell_type": "code",
   "execution_count": 37,
   "metadata": {},
   "outputs": [
    {
     "data": {
      "text/html": [
       "<div>\n",
       "<style scoped>\n",
       "    .dataframe tbody tr th:only-of-type {\n",
       "        vertical-align: middle;\n",
       "    }\n",
       "\n",
       "    .dataframe tbody tr th {\n",
       "        vertical-align: top;\n",
       "    }\n",
       "\n",
       "    .dataframe thead th {\n",
       "        text-align: right;\n",
       "    }\n",
       "</style>\n",
       "<table border=\"1\" class=\"dataframe\">\n",
       "  <thead>\n",
       "    <tr style=\"text-align: right;\">\n",
       "      <th></th>\n",
       "      <th>YEAR</th>\n",
       "      <th>MONTH</th>\n",
       "      <th>DAY</th>\n",
       "      <th>DAY_OF_WEEK</th>\n",
       "      <th>AIRLINE</th>\n",
       "      <th>FLIGHT_NUMBER</th>\n",
       "      <th>TAIL_NUMBER</th>\n",
       "      <th>ORIGIN_AIRPORT</th>\n",
       "      <th>DESTINATION_AIRPORT</th>\n",
       "      <th>SCHEDULED_DEPARTURE</th>\n",
       "      <th>...</th>\n",
       "      <th>ARRIVAL_TIME</th>\n",
       "      <th>ARRIVAL_DELAY</th>\n",
       "      <th>DIVERTED</th>\n",
       "      <th>CANCELLED</th>\n",
       "      <th>CANCELLATION_REASON</th>\n",
       "      <th>AIR_SYSTEM_DELAY</th>\n",
       "      <th>SECURITY_DELAY</th>\n",
       "      <th>AIRLINE_DELAY</th>\n",
       "      <th>LATE_AIRCRAFT_DELAY</th>\n",
       "      <th>WEATHER_DELAY</th>\n",
       "    </tr>\n",
       "  </thead>\n",
       "  <tbody>\n",
       "    <tr>\n",
       "      <th>0</th>\n",
       "      <td>2015</td>\n",
       "      <td>10</td>\n",
       "      <td>29</td>\n",
       "      <td>4</td>\n",
       "      <td>EV</td>\n",
       "      <td>2851</td>\n",
       "      <td>N667GB</td>\n",
       "      <td>12951</td>\n",
       "      <td>11298</td>\n",
       "      <td>1040</td>\n",
       "      <td>...</td>\n",
       "      <td>1205.0</td>\n",
       "      <td>-8.0</td>\n",
       "      <td>0</td>\n",
       "      <td>0</td>\n",
       "      <td>NaN</td>\n",
       "      <td>NaN</td>\n",
       "      <td>NaN</td>\n",
       "      <td>NaN</td>\n",
       "      <td>NaN</td>\n",
       "      <td>NaN</td>\n",
       "    </tr>\n",
       "    <tr>\n",
       "      <th>1</th>\n",
       "      <td>2015</td>\n",
       "      <td>8</td>\n",
       "      <td>17</td>\n",
       "      <td>1</td>\n",
       "      <td>UA</td>\n",
       "      <td>1949</td>\n",
       "      <td>N36280</td>\n",
       "      <td>SEA</td>\n",
       "      <td>ORD</td>\n",
       "      <td>42</td>\n",
       "      <td>...</td>\n",
       "      <td>732.0</td>\n",
       "      <td>52.0</td>\n",
       "      <td>0</td>\n",
       "      <td>0</td>\n",
       "      <td>NaN</td>\n",
       "      <td>0.0</td>\n",
       "      <td>0.0</td>\n",
       "      <td>5.0</td>\n",
       "      <td>47.0</td>\n",
       "      <td>0.0</td>\n",
       "    </tr>\n",
       "  </tbody>\n",
       "</table>\n",
       "<p>2 rows × 31 columns</p>\n",
       "</div>"
      ],
      "text/plain": [
       "   YEAR  MONTH  DAY  DAY_OF_WEEK AIRLINE  FLIGHT_NUMBER TAIL_NUMBER  \\\n",
       "0  2015     10   29            4      EV           2851      N667GB   \n",
       "1  2015      8   17            1      UA           1949      N36280   \n",
       "\n",
       "  ORIGIN_AIRPORT DESTINATION_AIRPORT  SCHEDULED_DEPARTURE  ...  ARRIVAL_TIME  \\\n",
       "0          12951               11298                 1040  ...        1205.0   \n",
       "1            SEA                 ORD                   42  ...         732.0   \n",
       "\n",
       "   ARRIVAL_DELAY  DIVERTED  CANCELLED  CANCELLATION_REASON  AIR_SYSTEM_DELAY  \\\n",
       "0           -8.0         0          0                  NaN               NaN   \n",
       "1           52.0         0          0                  NaN               0.0   \n",
       "\n",
       "   SECURITY_DELAY  AIRLINE_DELAY  LATE_AIRCRAFT_DELAY  WEATHER_DELAY  \n",
       "0             NaN            NaN                  NaN            NaN  \n",
       "1             0.0            5.0                 47.0            0.0  \n",
       "\n",
       "[2 rows x 31 columns]"
      ]
     },
     "execution_count": 37,
     "metadata": {},
     "output_type": "execute_result"
    }
   ],
   "source": [
    "df.head(2)"
   ]
  },
  {
   "cell_type": "code",
   "execution_count": 36,
   "metadata": {},
   "outputs": [
    {
     "data": {
      "text/plain": [
       "Index(['YEAR', 'MONTH', 'DAY', 'DAY_OF_WEEK', 'AIRLINE', 'FLIGHT_NUMBER',\n",
       "       'TAIL_NUMBER', 'ORIGIN_AIRPORT', 'DESTINATION_AIRPORT',\n",
       "       'SCHEDULED_DEPARTURE', 'DEPARTURE_TIME', 'DEPARTURE_DELAY', 'TAXI_OUT',\n",
       "       'WHEELS_OFF', 'SCHEDULED_TIME', 'ELAPSED_TIME', 'AIR_TIME', 'DISTANCE',\n",
       "       'WHEELS_ON', 'TAXI_IN', 'SCHEDULED_ARRIVAL', 'ARRIVAL_TIME',\n",
       "       'ARRIVAL_DELAY', 'DIVERTED', 'CANCELLED', 'CANCELLATION_REASON',\n",
       "       'AIR_SYSTEM_DELAY', 'SECURITY_DELAY', 'AIRLINE_DELAY',\n",
       "       'LATE_AIRCRAFT_DELAY', 'WEATHER_DELAY'],\n",
       "      dtype='object')"
      ]
     },
     "execution_count": 36,
     "metadata": {},
     "output_type": "execute_result"
    }
   ],
   "source": [
    "df.columns"
   ]
  },
  {
   "cell_type": "code",
   "execution_count": 38,
   "metadata": {},
   "outputs": [
    {
     "name": "stdout",
     "output_type": "stream",
     "text": [
      "Clean data shape: (50000, 13)\n",
      "Cancellations: 772 (1.54%)\n"
     ]
    },
    {
     "data": {
      "text/html": [
       "<div>\n",
       "<style scoped>\n",
       "    .dataframe tbody tr th:only-of-type {\n",
       "        vertical-align: middle;\n",
       "    }\n",
       "\n",
       "    .dataframe tbody tr th {\n",
       "        vertical-align: top;\n",
       "    }\n",
       "\n",
       "    .dataframe thead th {\n",
       "        text-align: right;\n",
       "    }\n",
       "</style>\n",
       "<table border=\"1\" class=\"dataframe\">\n",
       "  <thead>\n",
       "    <tr style=\"text-align: right;\">\n",
       "      <th></th>\n",
       "      <th>MONTH</th>\n",
       "      <th>DAY</th>\n",
       "      <th>DAY_OF_WEEK</th>\n",
       "      <th>AIRLINE</th>\n",
       "      <th>DISTANCE</th>\n",
       "      <th>ORIGIN_AIRPORT</th>\n",
       "      <th>DESTINATION_AIRPORT</th>\n",
       "      <th>SCHEDULED_DEPARTURE</th>\n",
       "      <th>CANCELLED</th>\n",
       "      <th>AIRLINE_CODE</th>\n",
       "      <th>ORIGIN_CODE</th>\n",
       "      <th>DEST_CODE</th>\n",
       "      <th>DEPARTURE_HOUR</th>\n",
       "    </tr>\n",
       "  </thead>\n",
       "  <tbody>\n",
       "    <tr>\n",
       "      <th>0</th>\n",
       "      <td>10</td>\n",
       "      <td>29</td>\n",
       "      <td>4</td>\n",
       "      <td>EV</td>\n",
       "      <td>351</td>\n",
       "      <td>12951</td>\n",
       "      <td>11298</td>\n",
       "      <td>1040</td>\n",
       "      <td>0</td>\n",
       "      <td>4</td>\n",
       "      <td>124</td>\n",
       "      <td>60</td>\n",
       "      <td>10</td>\n",
       "    </tr>\n",
       "    <tr>\n",
       "      <th>1</th>\n",
       "      <td>8</td>\n",
       "      <td>17</td>\n",
       "      <td>1</td>\n",
       "      <td>UA</td>\n",
       "      <td>1721</td>\n",
       "      <td>SEA</td>\n",
       "      <td>ORD</td>\n",
       "      <td>42</td>\n",
       "      <td>0</td>\n",
       "      <td>10</td>\n",
       "      <td>502</td>\n",
       "      <td>454</td>\n",
       "      <td>0</td>\n",
       "    </tr>\n",
       "    <tr>\n",
       "      <th>2</th>\n",
       "      <td>11</td>\n",
       "      <td>12</td>\n",
       "      <td>4</td>\n",
       "      <td>OO</td>\n",
       "      <td>599</td>\n",
       "      <td>SLC</td>\n",
       "      <td>SFO</td>\n",
       "      <td>835</td>\n",
       "      <td>0</td>\n",
       "      <td>9</td>\n",
       "      <td>511</td>\n",
       "      <td>504</td>\n",
       "      <td>8</td>\n",
       "    </tr>\n",
       "    <tr>\n",
       "      <th>3</th>\n",
       "      <td>4</td>\n",
       "      <td>30</td>\n",
       "      <td>4</td>\n",
       "      <td>EV</td>\n",
       "      <td>74</td>\n",
       "      <td>LAN</td>\n",
       "      <td>DTW</td>\n",
       "      <td>1340</td>\n",
       "      <td>0</td>\n",
       "      <td>4</td>\n",
       "      <td>399</td>\n",
       "      <td>323</td>\n",
       "      <td>13</td>\n",
       "    </tr>\n",
       "    <tr>\n",
       "      <th>4</th>\n",
       "      <td>9</td>\n",
       "      <td>10</td>\n",
       "      <td>4</td>\n",
       "      <td>B6</td>\n",
       "      <td>2446</td>\n",
       "      <td>JFK</td>\n",
       "      <td>SAN</td>\n",
       "      <td>1659</td>\n",
       "      <td>0</td>\n",
       "      <td>2</td>\n",
       "      <td>393</td>\n",
       "      <td>494</td>\n",
       "      <td>16</td>\n",
       "    </tr>\n",
       "  </tbody>\n",
       "</table>\n",
       "</div>"
      ],
      "text/plain": [
       "   MONTH  DAY  DAY_OF_WEEK AIRLINE  DISTANCE ORIGIN_AIRPORT  \\\n",
       "0     10   29            4      EV       351          12951   \n",
       "1      8   17            1      UA      1721            SEA   \n",
       "2     11   12            4      OO       599            SLC   \n",
       "3      4   30            4      EV        74            LAN   \n",
       "4      9   10            4      B6      2446            JFK   \n",
       "\n",
       "  DESTINATION_AIRPORT  SCHEDULED_DEPARTURE  CANCELLED  AIRLINE_CODE  \\\n",
       "0               11298                 1040          0             4   \n",
       "1                 ORD                   42          0            10   \n",
       "2                 SFO                  835          0             9   \n",
       "3                 DTW                 1340          0             4   \n",
       "4                 SAN                 1659          0             2   \n",
       "\n",
       "   ORIGIN_CODE  DEST_CODE  DEPARTURE_HOUR  \n",
       "0          124         60              10  \n",
       "1          502        454               0  \n",
       "2          511        504               8  \n",
       "3          399        323              13  \n",
       "4          393        494              16  "
      ]
     },
     "execution_count": 38,
     "metadata": {},
     "output_type": "execute_result"
    }
   ],
   "source": [
    "# Select relevant columns (excluding DEPARTURE_DELAY to avoid data leakage)\n",
    "columns_to_use = ['MONTH', 'DAY', 'DAY_OF_WEEK', 'AIRLINE', 'DISTANCE', \n",
    "                  'ORIGIN_AIRPORT', 'DESTINATION_AIRPORT', 'SCHEDULED_DEPARTURE', 'CANCELLED']\n",
    "\n",
    "\n",
    "df_clean = df[columns_to_use].copy()\n",
    "\n",
    "# Remove missing values\n",
    "df_clean = df_clean.dropna()\n",
    "\n",
    "# Encode AIRLINE as numeric\n",
    "df_clean['AIRLINE_CODE'] = pd.Categorical(df_clean['AIRLINE']).codes\n",
    "df_clean['ORIGIN_CODE'] = pd.Categorical(df_clean['ORIGIN_AIRPORT']).codes\n",
    "df_clean['DEST_CODE'] = pd.Categorical(df_clean['DESTINATION_AIRPORT']).codes\n",
    "df_clean['DEPARTURE_HOUR'] = df_clean['SCHEDULED_DEPARTURE'] // 100\n",
    "\n",
    "print(f\"Clean data shape: {df_clean.shape}\")\n",
    "print(f\"Cancellations: {df_clean['CANCELLED'].sum()} ({df_clean['CANCELLED'].mean():.2%})\")\n",
    "df_clean.head()"
   ]
  },
  {
   "cell_type": "markdown",
   "metadata": {},
   "source": [
    "## 3. Separate Features (X) and Target (y)"
   ]
  },
  {
   "cell_type": "code",
   "execution_count": 43,
   "metadata": {},
   "outputs": [
    {
     "name": "stdout",
     "output_type": "stream",
     "text": [
      "0        0\n",
      "1        0\n",
      "2        0\n",
      "3        0\n",
      "4        0\n",
      "        ..\n",
      "49995    0\n",
      "49996    0\n",
      "49997    0\n",
      "49998    0\n",
      "49999    0\n",
      "Name: CANCELLED, Length: 50000, dtype: int64\n"
     ]
    },
    {
     "data": {
      "text/html": [
       "<div>\n",
       "<style scoped>\n",
       "    .dataframe tbody tr th:only-of-type {\n",
       "        vertical-align: middle;\n",
       "    }\n",
       "\n",
       "    .dataframe tbody tr th {\n",
       "        vertical-align: top;\n",
       "    }\n",
       "\n",
       "    .dataframe thead th {\n",
       "        text-align: right;\n",
       "    }\n",
       "</style>\n",
       "<table border=\"1\" class=\"dataframe\">\n",
       "  <thead>\n",
       "    <tr style=\"text-align: right;\">\n",
       "      <th></th>\n",
       "      <th>MONTH</th>\n",
       "      <th>DAY_OF_WEEK</th>\n",
       "      <th>AIRLINE_CODE</th>\n",
       "      <th>DISTANCE</th>\n",
       "      <th>ORIGIN_CODE</th>\n",
       "      <th>DEST_CODE</th>\n",
       "      <th>DEPARTURE_HOUR</th>\n",
       "    </tr>\n",
       "  </thead>\n",
       "  <tbody>\n",
       "    <tr>\n",
       "      <th>0</th>\n",
       "      <td>10</td>\n",
       "      <td>4</td>\n",
       "      <td>4</td>\n",
       "      <td>351</td>\n",
       "      <td>124</td>\n",
       "      <td>60</td>\n",
       "      <td>10</td>\n",
       "    </tr>\n",
       "    <tr>\n",
       "      <th>1</th>\n",
       "      <td>8</td>\n",
       "      <td>1</td>\n",
       "      <td>10</td>\n",
       "      <td>1721</td>\n",
       "      <td>502</td>\n",
       "      <td>454</td>\n",
       "      <td>0</td>\n",
       "    </tr>\n",
       "  </tbody>\n",
       "</table>\n",
       "</div>"
      ],
      "text/plain": [
       "   MONTH  DAY_OF_WEEK  AIRLINE_CODE  DISTANCE  ORIGIN_CODE  DEST_CODE  \\\n",
       "0     10            4             4       351          124         60   \n",
       "1      8            1            10      1721          502        454   \n",
       "\n",
       "   DEPARTURE_HOUR  \n",
       "0              10  \n",
       "1               0  "
      ]
     },
     "execution_count": 43,
     "metadata": {},
     "output_type": "execute_result"
    }
   ],
   "source": [
    "# Select features (no DEPARTURE_DELAY - we can't know this before the flight)\n",
    "features = ['MONTH', 'DAY_OF_WEEK', 'AIRLINE_CODE', 'DISTANCE', 'ORIGIN_CODE', 'DEST_CODE', 'DEPARTURE_HOUR']\n",
    "X = df_clean[features]\n",
    "y = df_clean['CANCELLED']\n",
    "\n",
    "print(y)\n",
    "X.head(2)"
   ]
  },
  {
   "cell_type": "markdown",
   "metadata": {},
   "source": [
    "## 4. Split Train/Test Data"
   ]
  },
  {
   "cell_type": "code",
   "execution_count": 45,
   "metadata": {},
   "outputs": [
    {
     "name": "stdout",
     "output_type": "stream",
     "text": [
      "Training data: (40000, 7)\n",
      "Test data: (10000, 7)\n"
     ]
    }
   ],
   "source": [
    "# 80% train, 20% test\n",
    "X_train, X_test, y_train, y_test = train_test_split(\n",
    "    X, y, test_size=0.2, random_state=42, stratify=y)\n",
    "\n",
    "print(f\"Training data: {X_train.shape}\")\n",
    "print(f\"Test data: {X_test.shape}\")"
   ]
  },
  {
   "cell_type": "markdown",
   "metadata": {},
   "source": [
    "## 5. Train Logistic Regression Model\n",
    "\n",
    "Logistic regression is an algorithm for binary classification (0 or 1).\n",
    "\n",
    "We use `class_weight='balanced'` to handle the imbalanced dataset by giving more weight to the minority class (cancellations)."
   ]
  },
  {
   "cell_type": "code",
   "execution_count": 46,
   "metadata": {},
   "outputs": [
    {
     "name": "stdout",
     "output_type": "stream",
     "text": [
      "Model training complete!\n"
     ]
    }
   ],
   "source": [
    "# Create and train model with balanced class weights\n",
    "model = LogisticRegression(max_iter=1000, random_state=42, class_weight='balanced')\n",
    "model.fit(X_train, y_train)\n",
    "\n",
    "print(\"Model training complete!\")"
   ]
  },
  {
   "cell_type": "markdown",
   "metadata": {},
   "source": [
    "## 6. Predict and Evaluate"
   ]
  },
  {
   "cell_type": "code",
   "execution_count": 47,
   "metadata": {},
   "outputs": [
    {
     "name": "stdout",
     "output_type": "stream",
     "text": [
      "Accuracy: 0.5852\n",
      "\n",
      "Classification Report:\n",
      "               precision    recall  f1-score   support\n",
      "\n",
      "Not Cancelled       0.99      0.58      0.74      9846\n",
      "    Cancelled       0.02      0.64      0.05       154\n",
      "\n",
      "     accuracy                           0.59     10000\n",
      "    macro avg       0.51      0.61      0.39     10000\n",
      " weighted avg       0.98      0.59      0.72     10000\n",
      "\n"
     ]
    }
   ],
   "source": [
    "# Make predictions\n",
    "y_pred = model.predict(X_test)\n",
    "\n",
    "# Accuracy\n",
    "accuracy = accuracy_score(y_test, y_pred)\n",
    "print(f\"Accuracy: {accuracy:.4f}\")\n",
    "\n",
    "# Classification report\n",
    "print(\"\\nClassification Report:\")\n",
    "print(classification_report(y_test, y_pred, target_names=['Not Cancelled', 'Cancelled']))"
   ]
  },
  {
   "cell_type": "markdown",
   "metadata": {},
   "source": [
    "## 7. Visualize Confusion Matrix"
   ]
  },
  {
   "cell_type": "code",
   "execution_count": 48,
   "metadata": {},
   "outputs": [
    {
     "data": {
      "image/png": "[encoded data removed]",
      "text/plain": [
       "<Figure size 500x300 with 2 Axes>"
      ]
     },
     "metadata": {},
     "output_type": "display_data"
    }
   ],
   "source": [
    "# Confusion Matrix\n",
    "cm = confusion_matrix(y_test, y_pred)\n",
    "\n",
    "plt.figure(figsize=(5, 3))\n",
    "sns.heatmap(cm, annot=True, fmt='d', cmap='Blues', \n",
    "            xticklabels=['Not Cancelled', 'Cancelled'],\n",
    "            yticklabels=['Not Cancelled', 'Cancelled'])\n",
    "plt.ylabel('Actual')\n",
    "plt.xlabel('Predicted')\n",
    "plt.title('Confusion Matrix')\n",
    "plt.show()"
   ]
  },
  {
   "cell_type": "markdown",
   "metadata": {},
   "source": [
    "## 8. Check Feature Importance\n",
    "\n",
    "Examine coefficients to see which features are important for predicting cancellations."
   ]
  },
  {
   "cell_type": "code",
   "execution_count": 49,
   "metadata": {},
   "outputs": [
    {
     "name": "stdout",
     "output_type": "stream",
     "text": [
      "          Feature  Coefficient\n",
      "6  DEPARTURE_HOUR     0.020057\n",
      "5       DEST_CODE     0.001058\n",
      "4     ORIGIN_CODE     0.000375\n",
      "3        DISTANCE    -0.000457\n",
      "2    AIRLINE_CODE    -0.007187\n",
      "1     DAY_OF_WEEK    -0.097205\n",
      "0           MONTH    -0.109564\n"
     ]
    },
    {
     "data": {
      "image/png": "[encoded data removed]",
      "text/plain": [
       "<Figure size 1000x300 with 1 Axes>"
      ]
     },
     "metadata": {},
     "output_type": "display_data"
    }
   ],
   "source": [
    "# Feature coefficients\n",
    "coefficients = pd.DataFrame({\n",
    "    'Feature': features,\n",
    "    'Coefficient': model.coef_[0]\n",
    "})\n",
    "coefficients = coefficients.sort_values('Coefficient', ascending=False)\n",
    "\n",
    "print(coefficients)\n",
    "\n",
    "# Visualize\n",
    "plt.figure(figsize=(10,3))\n",
    "plt.barh(coefficients['Feature'], coefficients['Coefficient'])\n",
    "plt.xlabel('Coefficient')\n",
    "plt.title('Logistic Regression Feature Coefficients')\n",
    "plt.axvline(x=0, color='red', linestyle='--', linewidth=1)\n",
    "plt.tight_layout()\n",
    "plt.show()"
   ]
  },
  {
   "cell_type": "markdown",
   "metadata": {},
   "source": [
    "## 9. Probability Predictions\n",
    "\n",
    "Logistic regression can predict probabilities, not just 0 or 1."
   ]
  },
  {
   "cell_type": "code",
   "execution_count": 50,
   "metadata": {},
   "outputs": [
    {
     "data": {
      "text/html": [
       "<div>\n",
       "<style scoped>\n",
       "    .dataframe tbody tr th:only-of-type {\n",
       "        vertical-align: middle;\n",
       "    }\n",
       "\n",
       "    .dataframe tbody tr th {\n",
       "        vertical-align: top;\n",
       "    }\n",
       "\n",
       "    .dataframe thead th {\n",
       "        text-align: right;\n",
       "    }\n",
       "</style>\n",
       "<table border=\"1\" class=\"dataframe\">\n",
       "  <thead>\n",
       "    <tr style=\"text-align: right;\">\n",
       "      <th></th>\n",
       "      <th>Prob_Not_Cancelled</th>\n",
       "      <th>Prob_Cancelled</th>\n",
       "      <th>Predicted</th>\n",
       "      <th>Actual</th>\n",
       "    </tr>\n",
       "  </thead>\n",
       "  <tbody>\n",
       "    <tr>\n",
       "      <th>0</th>\n",
       "      <td>0.620760</td>\n",
       "      <td>0.379240</td>\n",
       "      <td>0</td>\n",
       "      <td>0</td>\n",
       "    </tr>\n",
       "    <tr>\n",
       "      <th>1</th>\n",
       "      <td>0.516090</td>\n",
       "      <td>0.483910</td>\n",
       "      <td>0</td>\n",
       "      <td>0</td>\n",
       "    </tr>\n",
       "    <tr>\n",
       "      <th>2</th>\n",
       "      <td>0.576555</td>\n",
       "      <td>0.423445</td>\n",
       "      <td>0</td>\n",
       "      <td>0</td>\n",
       "    </tr>\n",
       "    <tr>\n",
       "      <th>3</th>\n",
       "      <td>0.330328</td>\n",
       "      <td>0.669672</td>\n",
       "      <td>1</td>\n",
       "      <td>0</td>\n",
       "    </tr>\n",
       "    <tr>\n",
       "      <th>4</th>\n",
       "      <td>0.502023</td>\n",
       "      <td>0.497977</td>\n",
       "      <td>0</td>\n",
       "      <td>0</td>\n",
       "    </tr>\n",
       "    <tr>\n",
       "      <th>5</th>\n",
       "      <td>0.275635</td>\n",
       "      <td>0.724365</td>\n",
       "      <td>1</td>\n",
       "      <td>1</td>\n",
       "    </tr>\n",
       "    <tr>\n",
       "      <th>6</th>\n",
       "      <td>0.512843</td>\n",
       "      <td>0.487157</td>\n",
       "      <td>0</td>\n",
       "      <td>0</td>\n",
       "    </tr>\n",
       "    <tr>\n",
       "      <th>7</th>\n",
       "      <td>0.556924</td>\n",
       "      <td>0.443076</td>\n",
       "      <td>0</td>\n",
       "      <td>0</td>\n",
       "    </tr>\n",
       "    <tr>\n",
       "      <th>8</th>\n",
       "      <td>0.447598</td>\n",
       "      <td>0.552402</td>\n",
       "      <td>1</td>\n",
       "      <td>0</td>\n",
       "    </tr>\n",
       "    <tr>\n",
       "      <th>9</th>\n",
       "      <td>0.630279</td>\n",
       "      <td>0.369721</td>\n",
       "      <td>0</td>\n",
       "      <td>0</td>\n",
       "    </tr>\n",
       "  </tbody>\n",
       "</table>\n",
       "</div>"
      ],
      "text/plain": [
       "   Prob_Not_Cancelled  Prob_Cancelled  Predicted  Actual\n",
       "0            0.620760        0.379240          0       0\n",
       "1            0.516090        0.483910          0       0\n",
       "2            0.576555        0.423445          0       0\n",
       "3            0.330328        0.669672          1       0\n",
       "4            0.502023        0.497977          0       0\n",
       "5            0.275635        0.724365          1       1\n",
       "6            0.512843        0.487157          0       0\n",
       "7            0.556924        0.443076          0       0\n",
       "8            0.447598        0.552402          1       0\n",
       "9            0.630279        0.369721          0       0"
      ]
     },
     "execution_count": 50,
     "metadata": {},
     "output_type": "execute_result"
    }
   ],
   "source": [
    "# Predict probabilities (first 10 samples)\n",
    "y_prob = model.predict_proba(X_test)[:10]\n",
    "\n",
    "prob_df = pd.DataFrame({\n",
    "    'Prob_Not_Cancelled': y_prob[:, 0],\n",
    "    'Prob_Cancelled': y_prob[:, 1],\n",
    "    'Predicted': y_pred[:10],\n",
    "    'Actual': y_test.values[:10]\n",
    "})\n",
    "\n",
    "prob_df"
   ]
  },
  {
   "cell_type": "markdown",
   "metadata": {},
   "source": [
    "## 10. Predict New Data Example"
   ]
  },
  {
   "cell_type": "code",
   "execution_count": 52,
   "metadata": {},
   "outputs": [
    {
     "name": "stdout",
     "output_type": "stream",
     "text": [
      "Prediction: Not Cancelled\n",
      "Probability of cancellation: 15.63%\n",
      "Probability of not cancelling: 84.37%\n"
     ]
    }
   ],
   "source": [
    "# New flight data (example)\n",
    "new_flight = pd.DataFrame({\n",
    "    'MONTH': [12],  # December\n",
    "    'DAY_OF_WEEK': [1],  # Monday\n",
    "    'AIRLINE_CODE': [5],\n",
    "    'DISTANCE': [2500],  # Long distance flight\n",
    "    'ORIGIN_CODE': [10],  # Example origin airport code\n",
    "    'DEST_CODE': [25],  # Example destination airport code\n",
    "    'DEPARTURE_HOUR': [14]  # 2 PM\n",
    "})\n",
    "\n",
    "# Predict\n",
    "prediction = model.predict(new_flight)[0]\n",
    "probability = model.predict_proba(new_flight)[0]\n",
    "\n",
    "print(f\"Prediction: {'Cancelled' if prediction == 1 else 'Not Cancelled'}\")\n",
    "print(f\"Probability of cancellation: {probability[1]:.2%}\")\n",
    "print(f\"Probability of not cancelling: {probability[0]:.2%}\")"
   ]
  },
  {
   "cell_type": "markdown",
   "metadata": {},
   "source": [
    "## Summary\n",
    "\n",
    "### Key Concepts of Logistic Regression:\n",
    "1. **Binary Classification**: 0 or 1 (cancelled/not cancelled)\n",
    "2. **Probability Prediction**: Provides probability for each class\n",
    "3. **Linear Model**: Predictions based on linear combination of features\n",
    "4. **Interpretable**: Can understand feature impact through coefficients\n",
    "\n",
    "### Main Steps:\n",
    "1. Data preparation (handle missing values, encoding)\n",
    "2. Separate features and target\n",
    "3. Train/test split\n",
    "4. Model training (`fit`)\n",
    "5. Prediction and evaluation (`predict`, `predict_proba`)"
   ]
  }
 ],
 "metadata": {
  "kernelspec": {
   "display_name": "Python 3 (ipykernel)",
   "language": "python",
   "name": "python3"
  },
  "language_info": {
   "codemirror_mode": {
    "name": "ipython",
    "version": 3
   },
   "file_extension": ".py",
   "mimetype": "text/x-python",
   "name": "python",
   "nbconvert_exporter": "python",
   "pygments_lexer": "ipython3",
   "version": "3.12.3"
  }
 },
 "nbformat": 4,
 "nbformat_minor": 4
}
