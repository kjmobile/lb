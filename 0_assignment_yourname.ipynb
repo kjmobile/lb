{
 "cells": [
  {
   "cell_type": "markdown",
   "id": "db300ae0",
   "metadata": {
    "colab_type": "text",
    "id": "view-in-github"
   },
   "source": [
    "<a href=\"https://colab.research.google.com/github/kjmobile/lb/blob/main/0_assignment_yourname.ipynb\" target=\"_parent\"><img src=\"https://colab.research.google.com/assets/colab-badge.svg\" alt=\"Open In Colab\"/></a>"
   ]
  },
  {
   "cell_type": "markdown",
   "id": "83d578e2",
   "metadata": {
    "id": "83d578e2"
   },
   "source": [
    "# Assignment: Multiple Regression for Flight Delay Prediction (Final Version)\n",
    "## Objective\n",
    "The goal is to build a multiple regression model to predict flight arrival delays using two independent variables: departure delay and weather. We will learn how to use the formula feature in `statsmodels` to explicitly set a baseline for a categorical variable ('Weather').\n",
    "#\n",
    "### Steps:\n",
    "1.  **Connect to Database & Engineer Variables:** Write an SQL query to calculate `departure_delay` and retrieve `weather_condition` data.\n",
    "2.  **Data Cleaning:** Remove null values and extreme outliers to improve model stability.\n",
    "3.  **Build the Multiple Regression Model:** Create the model using `departure_delay` and `weather_condition` as independent variables, setting 'Clear' as the baseline for weather.\n",
    "4.  **Analyze the Results:** Check the model's statistical significance and the impact of each variable on arrival delay.\n",
    "5.  **Visualize the Results:** Use `seaborn` to visually analyze the model's performance and the effect of weather.\n"
   ]
  },
  {
   "cell_type": "code",
   "execution_count": 1,
   "id": "XungI2QWgopD",
   "metadata": {
    "colab": {
     "base_uri": "https://localhost:8080/"
    },
    "id": "XungI2QWgopD",
    "outputId": "19c22f39-6a47-4c05-dca7-60562dd5dad5"
   },
   "outputs": [
    {
     "name": "stdout",
     "output_type": "stream",
     "text": [
      "Collecting pymysql\n",
      "  Downloading pymysql-1.1.2-py3-none-any.whl.metadata (4.3 kB)\n",
      "Downloading pymysql-1.1.2-py3-none-any.whl (45 kB)\n",
      "Installing collected packages: pymysql\n",
      "Successfully installed pymysql-1.1.2\n"
     ]
    }
   ],
   "source": [
    "!pip install pymysql"
   ]
  },
  {
   "cell_type": "code",
   "execution_count": 47,
   "id": "543ebc52",
   "metadata": {
    "id": "543ebc52"
   },
   "outputs": [],
   "source": [
    "# Step 0: Import necessary libraries\n",
    "import pymysql\n",
    "import pandas as pd\n",
    "import statsmodels.formula.api as smf\n",
    "import seaborn as sns\n",
    "import matplotlib.pyplot as plt\n",
    "import warnings\n",
    "warnings.filterwarnings('ignore')  # Hide warning messages for cleaner output\n"
   ]
  },
  {
   "cell_type": "markdown",
   "id": "e01aa61d",
   "metadata": {
    "id": "e01aa61d"
   },
   "source": [
    "## Step 1: Connect to DB and Load Data\n",
    "We connect to the database and load data from the flights_delay table which contains all the engineered features we need.\n"
   ]
  },
  {
   "cell_type": "code",
   "execution_count": 48,
   "id": "c8ee6f8a",
   "metadata": {
    "id": "c8ee6f8a"
   },
   "outputs": [],
   "source": [
    "# Create a direct connection to the database\n",
    "conn = pymysql.connect(\n",
    "    host='database-klee.cbgcswckszgl.us-east-1.rds.amazonaws.com',\n",
    "    user='erau',\n",
    "    password='1212',\n",
    "    database='airline_db',\n",
    "    charset='utf8mb4'\n",
    ")\n",
    "\n",
    "# Query data from the flights_delay table\n",
    "query = \"\"\"\n",
    "SELECT\n",
    "    flight_id,\n",
    "    departure_delay_mins,\n",
    "    delay_minutes AS arrival_delay_mins,\n",
    "    weather_condition,\n",
    "    day_of_week,\n",
    "    aircraft_type,\n",
    "    airline_code\n",
    "FROM\n",
    "    flights_delay\n",
    "WHERE\n",
    "    departure_delay_mins IS NOT NULL\n",
    "    AND delay_minutes IS NOT NULL\n",
    "    AND weather_condition IS NOT NULL;\n",
    "\"\"\"\n",
    "\n",
    "# Execute the query and load data into a DataFrame\n",
    "df = pd.read_sql_query(query, conn)\n",
    "\n",
    "# Close the database connection\n",
    "conn.close()"
   ]
  },
  {
   "cell_type": "code",
   "execution_count": 49,
   "id": "28158924-6ec5-47a3-a011-8bf20a8dc5dc",
   "metadata": {
    "id": "28158924-6ec5-47a3-a011-8bf20a8dc5dc",
    "outputId": "7a01e857-f9a4-4995-ca1e-531f36b32753"
   },
   "outputs": [
    {
     "data": {
      "text/html": [
       "<div>\n",
       "<style scoped>\n",
       "    .dataframe tbody tr th:only-of-type {\n",
       "        vertical-align: middle;\n",
       "    }\n",
       "\n",
       "    .dataframe tbody tr th {\n",
       "        vertical-align: top;\n",
       "    }\n",
       "\n",
       "    .dataframe thead th {\n",
       "        text-align: right;\n",
       "    }\n",
       "</style>\n",
       "<table border=\"1\" class=\"dataframe\">\n",
       "  <thead>\n",
       "    <tr style=\"text-align: right;\">\n",
       "      <th></th>\n",
       "      <th>flight_id</th>\n",
       "      <th>departure_delay_mins</th>\n",
       "      <th>arrival_delay_mins</th>\n",
       "      <th>weather_condition</th>\n",
       "      <th>day_of_week</th>\n",
       "      <th>aircraft_type</th>\n",
       "      <th>airline_code</th>\n",
       "    </tr>\n",
       "  </thead>\n",
       "  <tbody>\n",
       "    <tr>\n",
       "      <th>0</th>\n",
       "      <td>1</td>\n",
       "      <td>6</td>\n",
       "      <td>22</td>\n",
       "      <td>Clear</td>\n",
       "      <td>Saturday</td>\n",
       "      <td>A330-300</td>\n",
       "      <td>DL</td>\n",
       "    </tr>\n",
       "    <tr>\n",
       "      <th>1</th>\n",
       "      <td>2</td>\n",
       "      <td>20</td>\n",
       "      <td>62</td>\n",
       "      <td>Snow</td>\n",
       "      <td>Sunday</td>\n",
       "      <td>A330-300</td>\n",
       "      <td>OZ</td>\n",
       "    </tr>\n",
       "    <tr>\n",
       "      <th>2</th>\n",
       "      <td>3</td>\n",
       "      <td>12</td>\n",
       "      <td>28</td>\n",
       "      <td>Rain</td>\n",
       "      <td>Monday</td>\n",
       "      <td>A350-900</td>\n",
       "      <td>EK</td>\n",
       "    </tr>\n",
       "    <tr>\n",
       "      <th>3</th>\n",
       "      <td>4</td>\n",
       "      <td>8</td>\n",
       "      <td>15</td>\n",
       "      <td>Cloudy</td>\n",
       "      <td>Monday</td>\n",
       "      <td>A350-900</td>\n",
       "      <td>NH</td>\n",
       "    </tr>\n",
       "    <tr>\n",
       "      <th>4</th>\n",
       "      <td>5</td>\n",
       "      <td>15</td>\n",
       "      <td>27</td>\n",
       "      <td>Clear</td>\n",
       "      <td>Monday</td>\n",
       "      <td>B787-9</td>\n",
       "      <td>OZ</td>\n",
       "    </tr>\n",
       "  </tbody>\n",
       "</table>\n",
       "</div>"
      ],
      "text/plain": [
       "   flight_id  departure_delay_mins  arrival_delay_mins weather_condition  \\\n",
       "0          1                     6                  22             Clear   \n",
       "1          2                    20                  62              Snow   \n",
       "2          3                    12                  28              Rain   \n",
       "3          4                     8                  15            Cloudy   \n",
       "4          5                    15                  27             Clear   \n",
       "\n",
       "  day_of_week aircraft_type airline_code  \n",
       "0    Saturday      A330-300           DL  \n",
       "1      Sunday      A330-300           OZ  \n",
       "2      Monday      A350-900           EK  \n",
       "3      Monday      A350-900           NH  \n",
       "4      Monday        B787-9           OZ  "
      ]
     },
     "execution_count": 49,
     "metadata": {},
     "output_type": "execute_result"
    }
   ],
   "source": [
    "df.head()"
   ]
  },
  {
   "cell_type": "markdown",
   "id": "8f16e4d5",
   "metadata": {
    "id": "8f16e4d5"
   },
   "source": [
    "## Step 2: Data Cleaning and Preparation\n",
    "We clean the data by removing any missing values and filtering out extreme outliers, which could negatively impact the model's predictive power.\n"
   ]
  },
  {
   "cell_type": "code",
   "execution_count": 50,
   "id": "fbdd3124",
   "metadata": {
    "id": "fbdd3124",
    "outputId": "1e0e26c4-513f-4d8b-ed67-13a713cc3019"
   },
   "outputs": [
    {
     "name": "stdout",
     "output_type": "stream",
     "text": [
      "Missing values per column:\n",
      "flight_id               0\n",
      "departure_delay_mins    0\n",
      "arrival_delay_mins      0\n",
      "weather_condition       0\n",
      "day_of_week             0\n",
      "aircraft_type           0\n",
      "airline_code            0\n",
      "dtype: int64\n"
     ]
    },
    {
     "data": {
      "text/html": [
       "<div>\n",
       "<style scoped>\n",
       "    .dataframe tbody tr th:only-of-type {\n",
       "        vertical-align: middle;\n",
       "    }\n",
       "\n",
       "    .dataframe tbody tr th {\n",
       "        vertical-align: top;\n",
       "    }\n",
       "\n",
       "    .dataframe thead th {\n",
       "        text-align: right;\n",
       "    }\n",
       "</style>\n",
       "<table border=\"1\" class=\"dataframe\">\n",
       "  <thead>\n",
       "    <tr style=\"text-align: right;\">\n",
       "      <th></th>\n",
       "      <th>flight_id</th>\n",
       "      <th>departure_delay_mins</th>\n",
       "      <th>arrival_delay_mins</th>\n",
       "      <th>weather_condition</th>\n",
       "      <th>day_of_week</th>\n",
       "      <th>aircraft_type</th>\n",
       "      <th>airline_code</th>\n",
       "    </tr>\n",
       "  </thead>\n",
       "  <tbody>\n",
       "    <tr>\n",
       "      <th>0</th>\n",
       "      <td>1</td>\n",
       "      <td>6</td>\n",
       "      <td>22</td>\n",
       "      <td>Clear</td>\n",
       "      <td>Saturday</td>\n",
       "      <td>A330-300</td>\n",
       "      <td>DL</td>\n",
       "    </tr>\n",
       "    <tr>\n",
       "      <th>1</th>\n",
       "      <td>2</td>\n",
       "      <td>20</td>\n",
       "      <td>62</td>\n",
       "      <td>Snow</td>\n",
       "      <td>Sunday</td>\n",
       "      <td>A330-300</td>\n",
       "      <td>OZ</td>\n",
       "    </tr>\n",
       "    <tr>\n",
       "      <th>2</th>\n",
       "      <td>3</td>\n",
       "      <td>12</td>\n",
       "      <td>28</td>\n",
       "      <td>Rain</td>\n",
       "      <td>Monday</td>\n",
       "      <td>A350-900</td>\n",
       "      <td>EK</td>\n",
       "    </tr>\n",
       "    <tr>\n",
       "      <th>3</th>\n",
       "      <td>4</td>\n",
       "      <td>8</td>\n",
       "      <td>15</td>\n",
       "      <td>Cloudy</td>\n",
       "      <td>Monday</td>\n",
       "      <td>A350-900</td>\n",
       "      <td>NH</td>\n",
       "    </tr>\n",
       "    <tr>\n",
       "      <th>4</th>\n",
       "      <td>5</td>\n",
       "      <td>15</td>\n",
       "      <td>27</td>\n",
       "      <td>Clear</td>\n",
       "      <td>Monday</td>\n",
       "      <td>B787-9</td>\n",
       "      <td>OZ</td>\n",
       "    </tr>\n",
       "    <tr>\n",
       "      <th>...</th>\n",
       "      <td>...</td>\n",
       "      <td>...</td>\n",
       "      <td>...</td>\n",
       "      <td>...</td>\n",
       "      <td>...</td>\n",
       "      <td>...</td>\n",
       "      <td>...</td>\n",
       "    </tr>\n",
       "    <tr>\n",
       "      <th>495</th>\n",
       "      <td>496</td>\n",
       "      <td>4</td>\n",
       "      <td>1</td>\n",
       "      <td>Clear</td>\n",
       "      <td>Thursday</td>\n",
       "      <td>B787-9</td>\n",
       "      <td>LH</td>\n",
       "    </tr>\n",
       "    <tr>\n",
       "      <th>496</th>\n",
       "      <td>497</td>\n",
       "      <td>0</td>\n",
       "      <td>0</td>\n",
       "      <td>Cloudy</td>\n",
       "      <td>Friday</td>\n",
       "      <td>B787-9</td>\n",
       "      <td>SQ</td>\n",
       "    </tr>\n",
       "    <tr>\n",
       "      <th>497</th>\n",
       "      <td>498</td>\n",
       "      <td>9</td>\n",
       "      <td>15</td>\n",
       "      <td>Clear</td>\n",
       "      <td>Tuesday</td>\n",
       "      <td>A380-800</td>\n",
       "      <td>OZ</td>\n",
       "    </tr>\n",
       "    <tr>\n",
       "      <th>498</th>\n",
       "      <td>499</td>\n",
       "      <td>29</td>\n",
       "      <td>60</td>\n",
       "      <td>Thunderstorm</td>\n",
       "      <td>Wednesday</td>\n",
       "      <td>B737-MAX</td>\n",
       "      <td>JL</td>\n",
       "    </tr>\n",
       "    <tr>\n",
       "      <th>499</th>\n",
       "      <td>500</td>\n",
       "      <td>28</td>\n",
       "      <td>62</td>\n",
       "      <td>Thunderstorm</td>\n",
       "      <td>Sunday</td>\n",
       "      <td>A321-200</td>\n",
       "      <td>EK</td>\n",
       "    </tr>\n",
       "  </tbody>\n",
       "</table>\n",
       "<p>500 rows × 7 columns</p>\n",
       "</div>"
      ],
      "text/plain": [
       "     flight_id  departure_delay_mins  arrival_delay_mins weather_condition  \\\n",
       "0            1                     6                  22             Clear   \n",
       "1            2                    20                  62              Snow   \n",
       "2            3                    12                  28              Rain   \n",
       "3            4                     8                  15            Cloudy   \n",
       "4            5                    15                  27             Clear   \n",
       "..         ...                   ...                 ...               ...   \n",
       "495        496                     4                   1             Clear   \n",
       "496        497                     0                   0            Cloudy   \n",
       "497        498                     9                  15             Clear   \n",
       "498        499                    29                  60      Thunderstorm   \n",
       "499        500                    28                  62      Thunderstorm   \n",
       "\n",
       "    day_of_week aircraft_type airline_code  \n",
       "0      Saturday      A330-300           DL  \n",
       "1        Sunday      A330-300           OZ  \n",
       "2        Monday      A350-900           EK  \n",
       "3        Monday      A350-900           NH  \n",
       "4        Monday        B787-9           OZ  \n",
       "..          ...           ...          ...  \n",
       "495    Thursday        B787-9           LH  \n",
       "496      Friday        B787-9           SQ  \n",
       "497     Tuesday      A380-800           OZ  \n",
       "498   Wednesday      B737-MAX           JL  \n",
       "499      Sunday      A321-200           EK  \n",
       "\n",
       "[500 rows x 7 columns]"
      ]
     },
     "execution_count": 50,
     "metadata": {},
     "output_type": "execute_result"
    }
   ],
   "source": [
    "# Check for missing values before cleaning\n",
    "print(\"Missing values per column:\")\n",
    "print(df.isnull().sum())\n",
    "\n",
    "# Only drop rows with missing values in critical columns\n",
    "df_cleaned = df.dropna(subset=['departure_delay_mins', 'arrival_delay_mins', 'weather_condition'])\n",
    "\n",
    "# Use cleaned dataset for further analysis\n",
    "df_cleaned"
   ]
  },
  {
   "cell_type": "markdown",
   "id": "cd92ca37",
   "metadata": {
    "id": "cd92ca37"
   },
   "source": [
    "## Step 3: Build the Multiple Regression Model\n",
    "Build the multiple regression model using `smf.ols`.\n",
    "\n",
    "dv: arrival_delay_mins ivs: departure_delay_mins,weather_condition\n",
    "\n",
    "Inside the formula, Use the syntax `C(weather_condition, Treatment(reference='Clear'))` to explicitly set 'Clear' as the baseline category for weather.\n"
   ]
  },
  {
   "cell_type": "code",
   "execution_count": 10,
   "id": "9eb33d83",
   "metadata": {
    "id": "9eb33d83"
   },
   "outputs": [],
   "source": [
    "# Q1 - Build the model using 'Clear' as the reference category (note the capital C)\n",
    "\n"
   ]
  },
  {
   "cell_type": "markdown",
   "id": "a13a95d6",
   "metadata": {
    "id": "a13a95d6"
   },
   "source": [
    "## Step 4: Review and Interpret the Results\n",
    "The model summary will show the coefficient for `departure_delay_mins` as well as the additional impact of other weather conditions compared to 'Clear' weather.\n"
   ]
  },
  {
   "cell_type": "code",
   "execution_count": 7,
   "id": "9e4d684e",
   "metadata": {
    "id": "9e4d684e"
   },
   "outputs": [],
   "source": [
    "# Q2 - Print the regression results summary\n",
    "\n",
    "\n"
   ]
  },
  {
   "cell_type": "markdown",
   "id": "9ec38977",
   "metadata": {
    "id": "9ec38977"
   },
   "source": [
    "## Step 5: Visualize the Results\n",
    "We analyze the model with two visualizations:\n",
    "1.  A scatter plot comparing the actual and predicted values to check the overall predictive power of the model.\n",
    "2.  A bar chart comparing the average arrival delay for each weather condition.\n"
   ]
  },
  {
   "cell_type": "code",
   "execution_count": null,
   "id": "a1784f2c-1c1f-40b4-81da-f308b658e32e",
   "metadata": {
    "id": "a1784f2c-1c1f-40b4-81da-f308b658e32e",
    "outputId": "70d3f821-0900-40d8-d9e3-38f98dc42282"
   },
   "outputs": [],
   "source": [
    "# 1. Visualize the overall model fit (Actual vs. Predicted)\n",
    "df_cleaned['predicted_delay'] = results.fittedvalues\n",
    "\n",
    "plt.figure(figsize=(10, 6))\n",
    "sns.scatterplot(x='predicted_delay', y='arrival_delay_mins', data=df_cleaned)\n",
    "plt.plot([df_cleaned['arrival_delay_mins'].min(), df_cleaned['arrival_delay_mins'].max()],\n",
    "         [df_cleaned['arrival_delay_mins'].min(), df_cleaned['arrival_delay_mins'].max()],'r--', lw=2)\n"
   ]
  },
  {
   "cell_type": "code",
   "execution_count": 44,
   "id": "e20df399-7453-4518-aed0-098c162f6450",
   "metadata": {
    "id": "e20df399-7453-4518-aed0-098c162f6450",
    "outputId": "a2da8be9-9a04-4dd8-a1c0-489569f7cee8"
   },
   "outputs": [
    {
     "data": {
      "text/plain": [
       "Text(0, 0.5, 'Average Arrival Delay (minutes)')"
      ]
     },
     "execution_count": 44,
     "metadata": {},
     "output_type": "execute_result"
    },
    {
     "data": {
      "image/png": "[encoded data removed]",
      "text/plain": [
       "<Figure size 1000x300 with 1 Axes>"
      ]
     },
     "metadata": {},
     "output_type": "display_data"
    }
   ],
   "source": [
    "# 2. Visualize the effect of weather condition on arrival delay\n",
    "plt.figure(figsize=(10, 3))\n",
    "weather_means = df_cleaned.groupby('weather_condition')['arrival_delay_mins'].mean().sort_values()\n",
    "sns.barplot(x=weather_means.index, y=weather_means.values)\n",
    "plt.title('Average Arrival Delay by Weather Condition')\n",
    "plt.xlabel('Weather Condition')\n",
    "plt.ylabel('Average Arrival Delay (minutes)')\n"
   ]
  },
  {
   "cell_type": "code",
   "execution_count": 45,
   "id": "f66f5d1c",
   "metadata": {
    "id": "f66f5d1c",
    "outputId": "f456bf0a-e35b-4199-b6cd-1f3b23aa05a3"
   },
   "outputs": [
    {
     "data": {
      "text/html": [
       "<div>\n",
       "<style scoped>\n",
       "    .dataframe tbody tr th:only-of-type {\n",
       "        vertical-align: middle;\n",
       "    }\n",
       "\n",
       "    .dataframe tbody tr th {\n",
       "        vertical-align: top;\n",
       "    }\n",
       "\n",
       "    .dataframe thead th {\n",
       "        text-align: right;\n",
       "    }\n",
       "</style>\n",
       "<table border=\"1\" class=\"dataframe\">\n",
       "  <thead>\n",
       "    <tr style=\"text-align: right;\">\n",
       "      <th></th>\n",
       "      <th>count</th>\n",
       "      <th>mean</th>\n",
       "      <th>std</th>\n",
       "      <th>min</th>\n",
       "      <th>25%</th>\n",
       "      <th>50%</th>\n",
       "      <th>75%</th>\n",
       "      <th>max</th>\n",
       "    </tr>\n",
       "    <tr>\n",
       "      <th>weather_condition</th>\n",
       "      <th></th>\n",
       "      <th></th>\n",
       "      <th></th>\n",
       "      <th></th>\n",
       "      <th></th>\n",
       "      <th></th>\n",
       "      <th></th>\n",
       "      <th></th>\n",
       "    </tr>\n",
       "  </thead>\n",
       "  <tbody>\n",
       "    <tr>\n",
       "      <th>Clear</th>\n",
       "      <td>223.0</td>\n",
       "      <td>21.695067</td>\n",
       "      <td>23.563912</td>\n",
       "      <td>0.0</td>\n",
       "      <td>4.5</td>\n",
       "      <td>16.0</td>\n",
       "      <td>30.50</td>\n",
       "      <td>133.0</td>\n",
       "    </tr>\n",
       "    <tr>\n",
       "      <th>Cloudy</th>\n",
       "      <td>123.0</td>\n",
       "      <td>27.894309</td>\n",
       "      <td>21.812094</td>\n",
       "      <td>0.0</td>\n",
       "      <td>12.5</td>\n",
       "      <td>25.0</td>\n",
       "      <td>37.00</td>\n",
       "      <td>99.0</td>\n",
       "    </tr>\n",
       "    <tr>\n",
       "      <th>Fog</th>\n",
       "      <td>43.0</td>\n",
       "      <td>56.604651</td>\n",
       "      <td>23.216517</td>\n",
       "      <td>11.0</td>\n",
       "      <td>41.5</td>\n",
       "      <td>55.0</td>\n",
       "      <td>71.00</td>\n",
       "      <td>112.0</td>\n",
       "    </tr>\n",
       "    <tr>\n",
       "      <th>Rain</th>\n",
       "      <td>71.0</td>\n",
       "      <td>33.957746</td>\n",
       "      <td>17.072481</td>\n",
       "      <td>0.0</td>\n",
       "      <td>22.5</td>\n",
       "      <td>32.0</td>\n",
       "      <td>44.00</td>\n",
       "      <td>79.0</td>\n",
       "    </tr>\n",
       "    <tr>\n",
       "      <th>Snow</th>\n",
       "      <td>28.0</td>\n",
       "      <td>62.964286</td>\n",
       "      <td>12.200432</td>\n",
       "      <td>40.0</td>\n",
       "      <td>52.0</td>\n",
       "      <td>62.0</td>\n",
       "      <td>72.25</td>\n",
       "      <td>90.0</td>\n",
       "    </tr>\n",
       "    <tr>\n",
       "      <th>Thunderstorm</th>\n",
       "      <td>12.0</td>\n",
       "      <td>78.833333</td>\n",
       "      <td>24.964824</td>\n",
       "      <td>51.0</td>\n",
       "      <td>58.5</td>\n",
       "      <td>73.0</td>\n",
       "      <td>99.00</td>\n",
       "      <td>115.0</td>\n",
       "    </tr>\n",
       "  </tbody>\n",
       "</table>\n",
       "</div>"
      ],
      "text/plain": [
       "                   count       mean        std   min   25%   50%    75%    max\n",
       "weather_condition                                                             \n",
       "Clear              223.0  21.695067  23.563912   0.0   4.5  16.0  30.50  133.0\n",
       "Cloudy             123.0  27.894309  21.812094   0.0  12.5  25.0  37.00   99.0\n",
       "Fog                 43.0  56.604651  23.216517  11.0  41.5  55.0  71.00  112.0\n",
       "Rain                71.0  33.957746  17.072481   0.0  22.5  32.0  44.00   79.0\n",
       "Snow                28.0  62.964286  12.200432  40.0  52.0  62.0  72.25   90.0\n",
       "Thunderstorm        12.0  78.833333  24.964824  51.0  58.5  73.0  99.00  115.0"
      ]
     },
     "execution_count": 45,
     "metadata": {},
     "output_type": "execute_result"
    }
   ],
   "source": [
    "# Print summary statistics by weather condition\n",
    "df_cleaned.groupby('weather_condition')['arrival_delay_mins'].describe()"
   ]
  },
  {
   "cell_type": "code",
   "execution_count": null,
   "id": "52518a6d-d87f-4727-a125-7587cdd8ceb2",
   "metadata": {
    "id": "52518a6d-d87f-4727-a125-7587cdd8ceb2"
   },
   "outputs": [],
   "source": []
  }
 ],
 "metadata": {
  "colab": {
   "include_colab_link": true,
   "provenance": [],
   "toc_visible": true
  },
  "kernelspec": {
   "display_name": "Python 3 (ipykernel)",
   "language": "python",
   "name": "python3"
  },
  "language_info": {
   "codemirror_mode": {
    "name": "ipython",
    "version": 3
   },
   "file_extension": ".py",
   "mimetype": "text/x-python",
   "name": "python",
   "nbconvert_exporter": "python",
   "pygments_lexer": "ipython3",
   "version": "3.12.3"
  }
 },
 "nbformat": 4,
 "nbformat_minor": 5
}
