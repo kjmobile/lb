{
  "cells": [
    {
      "cell_type": "markdown",
      "metadata": {
        "id": "view-in-github",
        "colab_type": "text"
      },
      "source": [
        "<a href=\"https://colab.research.google.com/github/kjmobile/lb/blob/main/14_Neural_Network_3_Q.ipynb\" target=\"_parent\"><img src=\"https://colab.research.google.com/assets/colab-badge.svg\" alt=\"Open In Colab\"/></a>"
      ]
    },
    {
      "cell_type": "markdown",
      "metadata": {
        "id": "pqxnslml3tu6"
      },
      "source": [
        "# Neural Net 3 - common techniques in neural net modeling  \n",
        "- validation loss, drop out, save and load model, and call back"
      ]
    },
    {
      "cell_type": "code",
      "execution_count": null,
      "metadata": {
        "id": "M54mUYlhwnex"
      },
      "outputs": [],
      "source": [
        "import tensorflow as tf\n",
        "from tensorflow import keras\n",
        "from sklearn.model_selection import train_test_split\n",
        "import matplotlib.pyplot as plt\n",
        "import numpy as np\n",
        "\n",
        "tf.keras.utils.set_random_seed(42)\n",
        "tf.config.experimental.enable_op_determinism()"
      ]
    },
    {
      "cell_type": "markdown",
      "metadata": {
        "id": "XGP-X65EmJBg"
      },
      "source": [
        "## Loss curve"
      ]
    },
    {
      "cell_type": "code",
      "execution_count": null,
      "metadata": {
        "id": "hZsGl9udlqZk"
      },
      "outputs": [],
      "source": [
        "#Import dataset, normalize the train set, and set aside validtaion set\n",
        "from tensorflow import keras\n",
        "from sklearn.model_selection import train_test_split\n",
        "\n",
        "(train_input, train_target), (test_input, test_target) = \\\n",
        "    keras.datasets.fashion_mnist.load_data()\n",
        "\n",
        "train_scaled = train_input / 255.0\n",
        "\n",
        "train_scaled, val_scaled, train_target, val_target = train_test_split(\n",
        "    train_scaled, train_target, test_size=0.2, random_state=42)"
      ]
    },
    {
      "cell_type": "code",
      "execution_count": null,
      "metadata": {
        "id": "iogH7o0Ll6uL"
      },
      "outputs": [],
      "source": [
        "# In this example, we create a simple function that consolidates the model design process, we've used in previous examples.\n",
        "# if block indicats that if, and only if, a_layer is passesed as an argument, we add the layer before the output layer.\n",
        "def model_fn(a_layer=None):\n",
        "    model = keras.Sequential()\n",
        "    model.add(keras.layers.Flatten(input_shape=(28, 28)))\n",
        "    model.add(keras.layers.Dense(100, activation='relu'))\n",
        "    if a_layer:\n",
        "        model.add(a_layer)\n",
        "    model.add(keras.layers.Dense(10, activation='softmax'))\n",
        "    return model"
      ]
    },
    {
      "cell_type": "code",
      "execution_count": null,
      "metadata": {
        "colab": {
          "base_uri": "https://localhost:8080/"
        },
        "id": "5Eh6hM4DNdzu",
        "outputId": "e346acc8-1bfc-4c99-adea-fd4081a95f6a"
      },
      "outputs": [
        {
          "output_type": "stream",
          "name": "stdout",
          "text": [
            "Model: \"sequential_70\"\n",
            "_________________________________________________________________\n",
            " Layer (type)                Output Shape              Param #   \n",
            "=================================================================\n",
            " flatten_70 (Flatten)        (None, 784)               0         \n",
            "                                                                 \n",
            " dense_140 (Dense)           (None, 100)               78500     \n",
            "                                                                 \n",
            " dense_141 (Dense)           (None, 10)                1010      \n",
            "                                                                 \n",
            "=================================================================\n",
            "Total params: 79510 (310.59 KB)\n",
            "Trainable params: 79510 (310.59 KB)\n",
            "Non-trainable params: 0 (0.00 Byte)\n",
            "_________________________________________________________________\n"
          ]
        }
      ],
      "source": [
        "model = model_fn()\n",
        "\n",
        "model.summary()"
      ]
    },
    {
      "cell_type": "code",
      "execution_count": null,
      "metadata": {
        "id": "P-UK21N_mCM0",
        "colab": {
          "base_uri": "https://localhost:8080/"
        },
        "outputId": "95fc1ce0-5fca-4c87-d999-dfa6794ded84"
      },
      "outputs": [
        {
          "output_type": "stream",
          "name": "stdout",
          "text": [
            "Epoch 1/5\n",
            "1500/1500 [==============================] - 5s 3ms/step - loss: 0.5311 - accuracy: 0.8112\n",
            "Epoch 2/5\n",
            "1500/1500 [==============================] - 4s 3ms/step - loss: 0.3908 - accuracy: 0.8588\n",
            "Epoch 3/5\n",
            "1500/1500 [==============================] - 4s 3ms/step - loss: 0.3542 - accuracy: 0.8710\n",
            "Epoch 4/5\n",
            "1500/1500 [==============================] - 5s 3ms/step - loss: 0.3304 - accuracy: 0.8809\n",
            "Epoch 5/5\n",
            "1500/1500 [==============================] - 5s 3ms/step - loss: 0.3145 - accuracy: 0.8871\n"
          ]
        },
        {
          "output_type": "execute_result",
          "data": {
            "text/plain": [
              "<keras.src.callbacks.History at 0x7e7538eb3100>"
            ]
          },
          "metadata": {},
          "execution_count": 344
        }
      ],
      "source": [
        "\n",
        "model.compile(loss='sparse_categorical_crossentropy', metrics='accuracy')\n",
        "model.fit(train_scaled, train_target, epochs=5, verbose=1)\n",
        "\n",
        "#In addition to the model fitting sequences, model.fit() also returns an History object as <keras.src.callbacks.History at 0x7e7540258160>"
      ]
    },
    {
      "cell_type": "code",
      "source": [
        "# save the returned object as history\n",
        "history = model.fit(train_scaled, train_target, epochs=5, verbose=0)\n",
        "# vervbose =0 suppresses printing the training process"
      ],
      "metadata": {
        "id": "rmJQ_zoH2ct_"
      },
      "execution_count": null,
      "outputs": []
    },
    {
      "cell_type": "code",
      "source": [
        "# # we can find the loss and accuracy history in the form of a dictionary\n",
        "history.history"
      ],
      "metadata": {
        "colab": {
          "base_uri": "https://localhost:8080/"
        },
        "id": "Vwo-oAgO4QKQ",
        "outputId": "6d804fef-1b71-42f9-cc3b-0973b81a2ddf"
      },
      "execution_count": null,
      "outputs": [
        {
          "output_type": "execute_result",
          "data": {
            "text/plain": [
              "{'loss': [0.30325162410736084,\n",
              "  0.29291102290153503,\n",
              "  0.2844351828098297,\n",
              "  0.2763077914714813,\n",
              "  0.2693380117416382],\n",
              " 'accuracy': [0.8918333053588867,\n",
              "  0.8944791555404663,\n",
              "  0.8990416526794434,\n",
              "  0.9019374847412109,\n",
              "  0.9042083621025085]}"
            ]
          },
          "metadata": {},
          "execution_count": 346
        }
      ]
    },
    {
      "cell_type": "code",
      "execution_count": null,
      "metadata": {
        "colab": {
          "base_uri": "https://localhost:8080/",
          "height": 466
        },
        "id": "uz_TCdfPmG6e",
        "outputId": "646f6dc8-dd27-4d23-bda5-05cc7059a758"
      },
      "outputs": [
        {
          "output_type": "execute_result",
          "data": {
            "text/plain": [
              "Text(0, 0.5, 'loss')"
            ]
          },
          "metadata": {},
          "execution_count": 347
        },
        {
          "output_type": "display_data",
          "data": {
            "text/plain": [
              "<Figure size 640x480 with 1 Axes>"
            ],
            "image/png": "[encoded data removed]"
          },
          "metadata": {}
        }
      ],
      "source": [
        "# plot loss history : note that the nerual net optimizes for 'loss'  not 'accuracy'\n",
        "import matplotlib.pyplot as plt\n",
        "\n",
        "plt.plot(history.history['loss'])\n",
        "plt.xlabel('epoch')\n",
        "plt.ylabel('loss')"
      ]
    },
    {
      "cell_type": "code",
      "execution_count": null,
      "metadata": {
        "colab": {
          "base_uri": "https://localhost:8080/",
          "height": 449
        },
        "id": "CpmK9lXQcBe9",
        "outputId": "84c29f15-1aa5-464a-e12e-0d8dc4fb1d01"
      },
      "outputs": [
        {
          "output_type": "display_data",
          "data": {
            "text/plain": [
              "<Figure size 640x480 with 1 Axes>"
            ],
            "image/png": "[encoded data removed]"
          },
          "metadata": {}
        }
      ],
      "source": [
        "#plot epoch history\n",
        "plt.plot(history.history['accuracy'])\n",
        "plt.xlabel('epoch')\n",
        "plt.ylabel('accuracy')\n",
        "plt.show()"
      ]
    },
    {
      "cell_type": "code",
      "execution_count": null,
      "metadata": {
        "id": "5cJlWITXqJWr"
      },
      "outputs": [],
      "source": [
        "# increase the epochs to 20\n",
        "model_1 = model_fn()\n",
        "model_1.compile(loss='sparse_categorical_crossentropy', metrics='accuracy')\n",
        "history_1 = model_1.fit(train_scaled, train_target, epochs=20, verbose=0)"
      ]
    },
    {
      "cell_type": "code",
      "execution_count": null,
      "metadata": {
        "colab": {
          "base_uri": "https://localhost:8080/",
          "height": 451
        },
        "id": "YT87Fjo2qKPC",
        "outputId": "c88bf5a5-7e85-4abd-cb6f-394a52b7b43a"
      },
      "outputs": [
        {
          "output_type": "display_data",
          "data": {
            "text/plain": [
              "<Figure size 640x480 with 1 Axes>"
            ],
            "image/png": "[encoded data removed]"
          },
          "metadata": {}
        }
      ],
      "source": [
        "plt.plot(history_1.history['loss'])\n",
        "plt.xlabel('epoch')\n",
        "plt.ylabel('loss')\n",
        "plt.show()"
      ]
    },
    {
      "cell_type": "markdown",
      "metadata": {
        "id": "bGqf6ceRr3zO"
      },
      "source": [
        "## validation loss"
      ]
    },
    {
      "cell_type": "code",
      "execution_count": null,
      "metadata": {
        "id": "4_iHvMxwu2D2",
        "colab": {
          "base_uri": "https://localhost:8080/"
        },
        "outputId": "da385c9d-4dcc-4ca3-d55e-af81dcc5c91d"
      },
      "outputs": [
        {
          "output_type": "stream",
          "name": "stdout",
          "text": [
            "Epoch 1/20\n",
            "1500/1500 [==============================] - 7s 4ms/step - loss: 0.5350 - accuracy: 0.8104 - val_loss: 0.4376 - val_accuracy: 0.8449\n",
            "Epoch 2/20\n",
            "1500/1500 [==============================] - 4s 3ms/step - loss: 0.3941 - accuracy: 0.8579 - val_loss: 0.4394 - val_accuracy: 0.8438\n",
            "Epoch 3/20\n",
            "1500/1500 [==============================] - 5s 3ms/step - loss: 0.3561 - accuracy: 0.8728 - val_loss: 0.3660 - val_accuracy: 0.8677\n",
            "Epoch 4/20\n",
            "1500/1500 [==============================] - 5s 3ms/step - loss: 0.3334 - accuracy: 0.8822 - val_loss: 0.3624 - val_accuracy: 0.8716\n",
            "Epoch 5/20\n",
            "1500/1500 [==============================] - 5s 3ms/step - loss: 0.3176 - accuracy: 0.8850 - val_loss: 0.3566 - val_accuracy: 0.8742\n",
            "Epoch 6/20\n",
            "1500/1500 [==============================] - 5s 4ms/step - loss: 0.3078 - accuracy: 0.8921 - val_loss: 0.3757 - val_accuracy: 0.8744\n",
            "Epoch 7/20\n",
            "1500/1500 [==============================] - 5s 3ms/step - loss: 0.2971 - accuracy: 0.8923 - val_loss: 0.3644 - val_accuracy: 0.8693\n",
            "Epoch 8/20\n",
            "1500/1500 [==============================] - 5s 3ms/step - loss: 0.2908 - accuracy: 0.8972 - val_loss: 0.3555 - val_accuracy: 0.8806\n",
            "Epoch 9/20\n",
            "1500/1500 [==============================] - 5s 3ms/step - loss: 0.2795 - accuracy: 0.9017 - val_loss: 0.3558 - val_accuracy: 0.8817\n",
            "Epoch 10/20\n",
            "1500/1500 [==============================] - 5s 3ms/step - loss: 0.2750 - accuracy: 0.9031 - val_loss: 0.3626 - val_accuracy: 0.8843\n",
            "Epoch 11/20\n",
            "1500/1500 [==============================] - 6s 4ms/step - loss: 0.2663 - accuracy: 0.9062 - val_loss: 0.3596 - val_accuracy: 0.8824\n",
            "Epoch 12/20\n",
            "1500/1500 [==============================] - 5s 3ms/step - loss: 0.2611 - accuracy: 0.9076 - val_loss: 0.4037 - val_accuracy: 0.8716\n",
            "Epoch 13/20\n",
            "1500/1500 [==============================] - 5s 3ms/step - loss: 0.2580 - accuracy: 0.9106 - val_loss: 0.3795 - val_accuracy: 0.8835\n",
            "Epoch 14/20\n",
            "1500/1500 [==============================] - 5s 3ms/step - loss: 0.2513 - accuracy: 0.9131 - val_loss: 0.4039 - val_accuracy: 0.8732\n",
            "Epoch 15/20\n",
            "1500/1500 [==============================] - 4s 3ms/step - loss: 0.2468 - accuracy: 0.9128 - val_loss: 0.3872 - val_accuracy: 0.8810\n",
            "Epoch 16/20\n",
            "1500/1500 [==============================] - 5s 3ms/step - loss: 0.2417 - accuracy: 0.9156 - val_loss: 0.3929 - val_accuracy: 0.8822\n",
            "Epoch 17/20\n",
            "1500/1500 [==============================] - 5s 3ms/step - loss: 0.2368 - accuracy: 0.9183 - val_loss: 0.4312 - val_accuracy: 0.8842\n",
            "Epoch 18/20\n",
            "1500/1500 [==============================] - 5s 3ms/step - loss: 0.2325 - accuracy: 0.9188 - val_loss: 0.4120 - val_accuracy: 0.8778\n",
            "Epoch 19/20\n",
            "1500/1500 [==============================] - 6s 4ms/step - loss: 0.2323 - accuracy: 0.9217 - val_loss: 0.4306 - val_accuracy: 0.8781\n",
            "Epoch 20/20\n",
            "1500/1500 [==============================] - 4s 3ms/step - loss: 0.2275 - accuracy: 0.9210 - val_loss: 0.4168 - val_accuracy: 0.8815\n"
          ]
        }
      ],
      "source": [
        "model_2 = model_fn()\n",
        "model_2.compile(loss='sparse_categorical_crossentropy', metrics='accuracy')\n",
        "\n",
        "history_2 = model_2.fit(train_scaled, train_target, epochs=20, verbose=1,\n",
        "                        validation_data=(val_scaled, val_target))\n",
        "# To compute the validation score, validation_data parameter is added in fit() function ."
      ]
    },
    {
      "cell_type": "code",
      "execution_count": null,
      "metadata": {
        "colab": {
          "base_uri": "https://localhost:8080/"
        },
        "id": "nJ5RGEmLu5KI",
        "outputId": "2add25ce-ffd4-4ae3-814e-e6b59e321bae"
      },
      "outputs": [
        {
          "output_type": "stream",
          "name": "stdout",
          "text": [
            "dict_keys(['loss', 'accuracy', 'val_loss', 'val_accuracy'])\n"
          ]
        }
      ],
      "source": [
        "print(history_2.history.keys())"
      ]
    },
    {
      "cell_type": "markdown",
      "source": [],
      "metadata": {
        "id": "RAhLDhDYFdVg"
      }
    },
    {
      "cell_type": "code",
      "source": [
        "min(history_2.history['val_loss'])"
      ],
      "metadata": {
        "colab": {
          "base_uri": "https://localhost:8080/"
        },
        "id": "LY1TwtnAFD9O",
        "outputId": "938e7c13-61db-4a3b-e664-5719c566a9c7"
      },
      "execution_count": null,
      "outputs": [
        {
          "output_type": "execute_result",
          "data": {
            "text/plain": [
              "0.35546398162841797"
            ]
          },
          "metadata": {},
          "execution_count": 353
        }
      ]
    },
    {
      "cell_type": "code",
      "execution_count": null,
      "metadata": {
        "colab": {
          "base_uri": "https://localhost:8080/",
          "height": 454
        },
        "id": "zcpm7CpXu5vC",
        "outputId": "7151f8e8-7320-440c-b598-07851e29cf74"
      },
      "outputs": [
        {
          "output_type": "display_data",
          "data": {
            "text/plain": [
              "<Figure size 640x480 with 1 Axes>"
            ],
            "image/png": "[encoded data removed]"
          },
          "metadata": {}
        }
      ],
      "source": [
        "plt.plot(history_2.history['loss'])\n",
        "plt.plot(history_2.history['val_loss'])\n",
        "plt.xlabel('epoch')\n",
        "plt.ylabel('loss')\n",
        "plt.legend(['train loss ', 'val loss'])\n",
        "plt.show()\n",
        "\n",
        "# while train loss continue to decrease, the validation loss stop decreasing after 0.35 level, leading to an over fitting.\n",
        "# As one of the ways to prevent the overfit, we may change the default optimizer(RMSprop) to Adam optimizer, which uses adaptive learning rate"
      ]
    },
    {
      "cell_type": "code",
      "execution_count": null,
      "metadata": {
        "id": "qC8gDwo3qcJv"
      },
      "outputs": [],
      "source": [
        "# let's compile the same model but replacing the default optimizer(RMSprop) with 'adam'\n",
        "model_3 = model_fn()\n",
        "model_3.compile(optimizer='adam', loss='sparse_categorical_crossentropy',\n",
        "              metrics='accuracy')\n",
        "\n",
        "history_3 = model_3.fit(train_scaled, train_target, epochs=20, verbose=0,\n",
        "                    validation_data=(val_scaled, val_target))\n",
        "# Now, the val_loss goes down  (lower than the model_2)"
      ]
    },
    {
      "cell_type": "code",
      "source": [
        "min(history_3.history['val_loss'])"
      ],
      "metadata": {
        "colab": {
          "base_uri": "https://localhost:8080/"
        },
        "id": "NrSEgUEvErgq",
        "outputId": "afa5b802-c990-47f8-f709-a082d28c66c6"
      },
      "execution_count": null,
      "outputs": [
        {
          "output_type": "execute_result",
          "data": {
            "text/plain": [
              "0.3167676031589508"
            ]
          },
          "metadata": {},
          "execution_count": 356
        }
      ]
    },
    {
      "cell_type": "code",
      "execution_count": null,
      "metadata": {
        "colab": {
          "base_uri": "https://localhost:8080/",
          "height": 449
        },
        "id": "k8wWnyFzsLKb",
        "outputId": "5499fa05-770a-44aa-d6bb-d97318a94bd3"
      },
      "outputs": [
        {
          "output_type": "display_data",
          "data": {
            "text/plain": [
              "<Figure size 640x480 with 1 Axes>"
            ],
            "image/png": "[encoded data removed]"
          },
          "metadata": {}
        }
      ],
      "source": [
        "plt.plot(history_3.history['loss'])\n",
        "plt.plot(history_3.history['val_loss'])\n",
        "plt.xlabel('epoch')\n",
        "plt.ylabel('loss')\n",
        "plt.legend(['train', 'val'])\n",
        "plt.show()"
      ]
    },
    {
      "cell_type": "markdown",
      "metadata": {
        "id": "F-dFY8lrYXm3"
      },
      "source": [
        "## Dropout (J. Hinton 2017)\n",
        "- One of the regularization techniques that work well in neural net\n",
        "- By randomly dropping neurons, dropout forces the model to become more robust, as it cannot rely on the presence of any specific neuron\n",
        "- By randomly dropping neurons, each training step uses a different subset of neurons, akin to training a different model (aka, ensemble effect)"
      ]
    },
    {
      "cell_type": "code",
      "execution_count": null,
      "metadata": {
        "colab": {
          "base_uri": "https://localhost:8080/"
        },
        "id": "AppFtFKgsk--",
        "outputId": "d18a011a-e947-4743-ef2d-804c0c55188f"
      },
      "outputs": [
        {
          "output_type": "stream",
          "name": "stdout",
          "text": [
            "Model: \"sequential_74\"\n",
            "_________________________________________________________________\n",
            " Layer (type)                Output Shape              Param #   \n",
            "=================================================================\n",
            " flatten_74 (Flatten)        (None, 784)               0         \n",
            "                                                                 \n",
            " dense_148 (Dense)           (None, 100)               78500     \n",
            "                                                                 \n",
            " dropout_48 (Dropout)        (None, 100)               0         \n",
            "                                                                 \n",
            " dense_149 (Dense)           (None, 10)                1010      \n",
            "                                                                 \n",
            "=================================================================\n",
            "Total params: 79510 (310.59 KB)\n",
            "Trainable params: 79510 (310.59 KB)\n",
            "Non-trainable params: 0 (0.00 Byte)\n",
            "_________________________________________________________________\n"
          ]
        }
      ],
      "source": [
        "# Now we add anothe layer (a dropout layer) to the prevous model\n",
        "# The default is 0.5 (i.e., randomly dropping out 50% of the nodes)\n",
        "model_4 = model_fn(keras.layers.Dropout(0.3))\n",
        "model_4.summary()"
      ]
    },
    {
      "cell_type": "code",
      "execution_count": null,
      "metadata": {
        "id": "_TSe7oM9v1lW",
        "colab": {
          "base_uri": "https://localhost:8080/"
        },
        "outputId": "ee4a27cb-48cf-474d-fa93-8d361609b332"
      },
      "outputs": [
        {
          "output_type": "stream",
          "name": "stdout",
          "text": [
            "Epoch 1/20\n",
            "1500/1500 [==============================] - 6s 4ms/step - loss: 0.5896 - accuracy: 0.7922 - val_loss: 0.4265 - val_accuracy: 0.8468\n",
            "Epoch 2/20\n",
            "1500/1500 [==============================] - 5s 3ms/step - loss: 0.4385 - accuracy: 0.8424 - val_loss: 0.3762 - val_accuracy: 0.8623\n",
            "Epoch 3/20\n",
            "1500/1500 [==============================] - 5s 3ms/step - loss: 0.4022 - accuracy: 0.8539 - val_loss: 0.3665 - val_accuracy: 0.8654\n",
            "Epoch 4/20\n",
            "1500/1500 [==============================] - 5s 4ms/step - loss: 0.3793 - accuracy: 0.8622 - val_loss: 0.3533 - val_accuracy: 0.8718\n",
            "Epoch 5/20\n",
            "1500/1500 [==============================] - 5s 3ms/step - loss: 0.3634 - accuracy: 0.8664 - val_loss: 0.3402 - val_accuracy: 0.8747\n",
            "Epoch 6/20\n",
            "1500/1500 [==============================] - 6s 4ms/step - loss: 0.3507 - accuracy: 0.8699 - val_loss: 0.3316 - val_accuracy: 0.8793\n",
            "Epoch 7/20\n",
            "1500/1500 [==============================] - 5s 3ms/step - loss: 0.3427 - accuracy: 0.8737 - val_loss: 0.3337 - val_accuracy: 0.8772\n",
            "Epoch 8/20\n",
            "1500/1500 [==============================] - 5s 3ms/step - loss: 0.3346 - accuracy: 0.8760 - val_loss: 0.3285 - val_accuracy: 0.8787\n",
            "Epoch 9/20\n",
            "1500/1500 [==============================] - 5s 4ms/step - loss: 0.3240 - accuracy: 0.8786 - val_loss: 0.3375 - val_accuracy: 0.8770\n",
            "Epoch 10/20\n",
            "1500/1500 [==============================] - 5s 3ms/step - loss: 0.3175 - accuracy: 0.8820 - val_loss: 0.3275 - val_accuracy: 0.8820\n",
            "Epoch 11/20\n",
            "1500/1500 [==============================] - 5s 4ms/step - loss: 0.3107 - accuracy: 0.8844 - val_loss: 0.3230 - val_accuracy: 0.8839\n",
            "Epoch 12/20\n",
            "1500/1500 [==============================] - 5s 3ms/step - loss: 0.3046 - accuracy: 0.8862 - val_loss: 0.3304 - val_accuracy: 0.8798\n",
            "Epoch 13/20\n",
            "1500/1500 [==============================] - 6s 4ms/step - loss: 0.3006 - accuracy: 0.8869 - val_loss: 0.3305 - val_accuracy: 0.8810\n",
            "Epoch 14/20\n",
            "1500/1500 [==============================] - 5s 3ms/step - loss: 0.2952 - accuracy: 0.8887 - val_loss: 0.3366 - val_accuracy: 0.8798\n",
            "Epoch 15/20\n",
            "1500/1500 [==============================] - 5s 3ms/step - loss: 0.2923 - accuracy: 0.8905 - val_loss: 0.3198 - val_accuracy: 0.8849\n",
            "Epoch 16/20\n",
            "1500/1500 [==============================] - 5s 4ms/step - loss: 0.2850 - accuracy: 0.8927 - val_loss: 0.3246 - val_accuracy: 0.8860\n",
            "Epoch 17/20\n",
            "1500/1500 [==============================] - 5s 3ms/step - loss: 0.2847 - accuracy: 0.8927 - val_loss: 0.3300 - val_accuracy: 0.8860\n",
            "Epoch 18/20\n",
            "1500/1500 [==============================] - 6s 4ms/step - loss: 0.2814 - accuracy: 0.8934 - val_loss: 0.3236 - val_accuracy: 0.8842\n",
            "Epoch 19/20\n",
            "1500/1500 [==============================] - 5s 3ms/step - loss: 0.2779 - accuracy: 0.8955 - val_loss: 0.3179 - val_accuracy: 0.8873\n",
            "Epoch 20/20\n",
            "1500/1500 [==============================] - 6s 4ms/step - loss: 0.2714 - accuracy: 0.8972 - val_loss: 0.3187 - val_accuracy: 0.8898\n"
          ]
        }
      ],
      "source": [
        "#\n",
        "model_4.compile(optimizer='adam', loss='sparse_categorical_crossentropy', metrics='accuracy')\n",
        "\n",
        "history_4 = model_4.fit(train_scaled, train_target, epochs=20, verbose=1,\n",
        "                    validation_data=(val_scaled, val_target))"
      ]
    },
    {
      "cell_type": "code",
      "source": [
        "min(history_4.history['val_loss'])"
      ],
      "metadata": {
        "colab": {
          "base_uri": "https://localhost:8080/"
        },
        "id": "oti8iNGUKYKo",
        "outputId": "8037f3ff-b632-4c0a-c760-c610734e5e2d"
      },
      "execution_count": null,
      "outputs": [
        {
          "output_type": "execute_result",
          "data": {
            "text/plain": [
              "0.31786370277404785"
            ]
          },
          "metadata": {},
          "execution_count": 360
        }
      ]
    },
    {
      "cell_type": "code",
      "source": [
        "np.argmin(history_4.history['val_loss'])"
      ],
      "metadata": {
        "colab": {
          "base_uri": "https://localhost:8080/"
        },
        "id": "_O-fHcYNGG4U",
        "outputId": "4c3d7df0-7641-4e88-c51e-2fca8c5bfb16"
      },
      "execution_count": null,
      "outputs": [
        {
          "output_type": "execute_result",
          "data": {
            "text/plain": [
              "18"
            ]
          },
          "metadata": {},
          "execution_count": 361
        }
      ]
    },
    {
      "cell_type": "code",
      "execution_count": null,
      "metadata": {
        "colab": {
          "base_uri": "https://localhost:8080/",
          "height": 449
        },
        "id": "Rj_syB_iv30l",
        "outputId": "18e0700e-88c9-48cb-f758-2395586117f9"
      },
      "outputs": [
        {
          "output_type": "display_data",
          "data": {
            "text/plain": [
              "<Figure size 640x480 with 1 Axes>"
            ],
            "image/png": "[encoded data removed]"
          },
          "metadata": {}
        }
      ],
      "source": [
        "plt.plot(history_4.history['loss'])\n",
        "plt.plot(history_4.history['val_loss'])\n",
        "plt.xlabel('epoch')\n",
        "plt.ylabel('loss')\n",
        "plt.legend(['train', 'val'])\n",
        "plt.show()\n",
        "# Now the val_loss continues to go down to 0.317(lower than Model_3's 0.318), overfit has been substantially decreased.\n",
        "# The model perfomance was at its best at 18th epoch"
      ]
    },
    {
      "cell_type": "markdown",
      "metadata": {
        "id": "hQi91PCQorHr"
      },
      "source": [
        "## Saving and loading the fitted model"
      ]
    },
    {
      "cell_type": "code",
      "execution_count": null,
      "metadata": {
        "id": "npsYdX3rv6Oa"
      },
      "outputs": [],
      "source": [
        "# fix the epoch to 13 and rerun the model\n",
        "model_5 = model_fn(keras.layers.Dropout(0.3))\n",
        "model_5.compile(optimizer='adam', loss='sparse_categorical_crossentropy',\n",
        "              metrics='accuracy')\n",
        "\n",
        "history_5 = model_5.fit(train_scaled, train_target, epochs=18, verbose=0,\n",
        "                    validation_data=(val_scaled, val_target))"
      ]
    },
    {
      "cell_type": "code",
      "source": [
        "model_5.evaluate(val_scaled, val_target)"
      ],
      "metadata": {
        "colab": {
          "base_uri": "https://localhost:8080/"
        },
        "id": "OcByWFVCE2wk",
        "outputId": "0df160d5-3891-4593-cfe2-917cb22875a3"
      },
      "execution_count": null,
      "outputs": [
        {
          "output_type": "stream",
          "name": "stdout",
          "text": [
            "375/375 [==============================] - 1s 2ms/step - loss: 0.3204 - accuracy: 0.8800\n"
          ]
        },
        {
          "output_type": "execute_result",
          "data": {
            "text/plain": [
              "[0.32040876150131226, 0.8799999952316284]"
            ]
          },
          "metadata": {},
          "execution_count": 364
        }
      ]
    },
    {
      "cell_type": "code",
      "execution_count": null,
      "metadata": {
        "id": "hWVYzt0Y2FPm"
      },
      "outputs": [],
      "source": [
        "model_5.save_weights('model_5_weights.h5') # h5 is an extension for HDF5 format(Hierarchical Data Format version 5; goog for saving large hierachical dataset)"
      ]
    },
    {
      "cell_type": "code",
      "execution_count": null,
      "metadata": {
        "id": "NissHzcq3xbN"
      },
      "outputs": [],
      "source": [
        "model_5.save('model_5_whole.h5')"
      ]
    },
    {
      "cell_type": "code",
      "execution_count": null,
      "metadata": {
        "id": "2vljkGGu3AUl",
        "scrolled": true
      },
      "outputs": [],
      "source": [
        "#!ls -al *.h5  # a linux command to : 'list (ls) all, detailed(-al) everthing (*) witht the extention .h5')"
      ]
    },
    {
      "cell_type": "code",
      "execution_count": null,
      "metadata": {
        "id": "7-t6gC5Z3GCM"
      },
      "outputs": [],
      "source": [
        "# Loading the saved model_5 as a new model_6\n",
        "model_6 = model_fn(keras.layers.Dropout(0.3))\n",
        "model_6.load_weights('model_5_weights.h5')\n"
      ]
    },
    {
      "cell_type": "code",
      "source": [
        "#alternatively we can simply load the model as a new model_7\n",
        "model_7 =keras.models.load_model('model_5_whole.h5')"
      ],
      "metadata": {
        "id": "34ZC0te8au3G"
      },
      "execution_count": null,
      "outputs": []
    },
    {
      "cell_type": "code",
      "execution_count": null,
      "metadata": {
        "colab": {
          "base_uri": "https://localhost:8080/"
        },
        "id": "pHV9tBnzi8St",
        "outputId": "c23c51bc-594f-4a56-86d8-47f4fa37e5b9"
      },
      "outputs": [
        {
          "output_type": "stream",
          "name": "stdout",
          "text": [
            "375/375 [==============================] - 1s 1ms/step\n",
            "0.88\n"
          ]
        }
      ],
      "source": [
        "# model 6 and 7 shows the same accuracies\n",
        "# Note that in keras, predict() returns all probabilties for all 10 classes, unlike sklearn.\n",
        "# So we need to select index of the maximum predicted values out of these 10 per each sample.\n",
        "# axis =-1, let np.argmax select the max along the last dimension of the returned array\n",
        "# Those selected labels should be compared to target values to compute the mean(i.e., accuracies)\n",
        "import numpy as np\n",
        "\n",
        "val_labels = np.argmax(model_6.predict(val_scaled), axis=-1)\n",
        "print(np.mean(val_labels == val_target))"
      ]
    },
    {
      "cell_type": "code",
      "execution_count": null,
      "metadata": {
        "colab": {
          "base_uri": "https://localhost:8080/"
        },
        "outputId": "b542c18c-9cbc-476b-a990-31c129795a9e",
        "id": "YFsp9HkrbWVg"
      },
      "outputs": [
        {
          "output_type": "stream",
          "name": "stdout",
          "text": [
            "375/375 [==============================] - 1s 2ms/step\n",
            "0.88\n"
          ]
        }
      ],
      "source": [
        "val_labels = np.argmax(model_7.predict(val_scaled), axis=-1)\n",
        "print(np.mean(val_labels == val_target))"
      ]
    },
    {
      "cell_type": "code",
      "source": [
        "# When the entire model is saved and reloaded, we can get the accuracy by simply using evaluate() method\n",
        "model_7.evaluate(val_scaled, val_target)"
      ],
      "metadata": {
        "colab": {
          "base_uri": "https://localhost:8080/"
        },
        "id": "SHvmQYf2cSDR",
        "outputId": "3e2d42eb-ebb2-4295-bf76-209c201d311a"
      },
      "execution_count": null,
      "outputs": [
        {
          "output_type": "stream",
          "name": "stdout",
          "text": [
            "375/375 [==============================] - 1s 3ms/step - loss: 0.3204 - accuracy: 0.8800\n"
          ]
        },
        {
          "output_type": "execute_result",
          "data": {
            "text/plain": [
              "[0.32040876150131226, 0.8799999952316284]"
            ]
          },
          "metadata": {},
          "execution_count": 372
        }
      ]
    },
    {
      "cell_type": "code",
      "execution_count": null,
      "metadata": {
        "id": "sRM3Vpki4QyH"
      },
      "outputs": [],
      "source": [
        "# However evaluate() function will not work for model_6 since it only contains the wieghts and did not compiled the model itself.\n",
        "# model_6.evaluate(val_scaled, val_target)"
      ]
    },
    {
      "cell_type": "markdown",
      "metadata": {
        "id": "4NTCF3YD3EyA"
      },
      "source": [
        "## Call back\n",
        "- In the above approach, we run the model_4 first finding out the epoch 13 was the best, and then we run the model_5 with the epochs = 13 parameter.\n",
        "- We can do this without runing the model twice by using a parameter, callbacks =  ."
      ]
    },
    {
      "cell_type": "code",
      "execution_count": null,
      "metadata": {
        "colab": {
          "base_uri": "https://localhost:8080/"
        },
        "id": "L2lKN_934VB4",
        "outputId": "e9d3d429-bcb4-4c6d-949d-a5c3dcabdb1a"
      },
      "outputs": [
        {
          "output_type": "stream",
          "name": "stdout",
          "text": [
            "Epoch 1/20\n",
            "1500/1500 [==============================] - 8s 5ms/step - loss: 0.5929 - accuracy: 0.7917 - val_loss: 0.4298 - val_accuracy: 0.8438\n",
            "Epoch 2/20\n",
            "1500/1500 [==============================] - 5s 3ms/step - loss: 0.4376 - accuracy: 0.8419 - val_loss: 0.3788 - val_accuracy: 0.8634\n",
            "Epoch 3/20\n",
            "1500/1500 [==============================] - 6s 4ms/step - loss: 0.4024 - accuracy: 0.8536 - val_loss: 0.3735 - val_accuracy: 0.8626\n",
            "Epoch 4/20\n",
            "1500/1500 [==============================] - 5s 3ms/step - loss: 0.3830 - accuracy: 0.8607 - val_loss: 0.3505 - val_accuracy: 0.8723\n",
            "Epoch 5/20\n",
            "1500/1500 [==============================] - 6s 4ms/step - loss: 0.3624 - accuracy: 0.8653 - val_loss: 0.3472 - val_accuracy: 0.8703\n",
            "Epoch 6/20\n",
            "1500/1500 [==============================] - 5s 3ms/step - loss: 0.3519 - accuracy: 0.8696 - val_loss: 0.3369 - val_accuracy: 0.8767\n",
            "Epoch 7/20\n",
            "1500/1500 [==============================] - 5s 4ms/step - loss: 0.3424 - accuracy: 0.8722 - val_loss: 0.3484 - val_accuracy: 0.8712\n",
            "Epoch 8/20\n",
            "1500/1500 [==============================] - 6s 4ms/step - loss: 0.3307 - accuracy: 0.8762 - val_loss: 0.3324 - val_accuracy: 0.8794\n",
            "Epoch 9/20\n",
            "1500/1500 [==============================] - 5s 3ms/step - loss: 0.3260 - accuracy: 0.8777 - val_loss: 0.3310 - val_accuracy: 0.8800\n",
            "Epoch 10/20\n",
            "1500/1500 [==============================] - 5s 4ms/step - loss: 0.3170 - accuracy: 0.8810 - val_loss: 0.3357 - val_accuracy: 0.8775\n",
            "Epoch 11/20\n",
            "1500/1500 [==============================] - 5s 3ms/step - loss: 0.3134 - accuracy: 0.8827 - val_loss: 0.3226 - val_accuracy: 0.8827\n",
            "Epoch 12/20\n",
            "1500/1500 [==============================] - 6s 4ms/step - loss: 0.3051 - accuracy: 0.8851 - val_loss: 0.3224 - val_accuracy: 0.8813\n",
            "Epoch 13/20\n",
            "1500/1500 [==============================] - 5s 3ms/step - loss: 0.2977 - accuracy: 0.8883 - val_loss: 0.3232 - val_accuracy: 0.8833\n",
            "Epoch 14/20\n",
            "1500/1500 [==============================] - 5s 3ms/step - loss: 0.2953 - accuracy: 0.8881 - val_loss: 0.3197 - val_accuracy: 0.8852\n",
            "Epoch 15/20\n",
            "1500/1500 [==============================] - 5s 4ms/step - loss: 0.2952 - accuracy: 0.8900 - val_loss: 0.3172 - val_accuracy: 0.8848\n",
            "Epoch 16/20\n",
            "1500/1500 [==============================] - 5s 3ms/step - loss: 0.2893 - accuracy: 0.8921 - val_loss: 0.3234 - val_accuracy: 0.8821\n",
            "Epoch 17/20\n",
            "1500/1500 [==============================] - 5s 4ms/step - loss: 0.2859 - accuracy: 0.8931 - val_loss: 0.3371 - val_accuracy: 0.8824\n",
            "Epoch 18/20\n",
            "1500/1500 [==============================] - 5s 3ms/step - loss: 0.2819 - accuracy: 0.8942 - val_loss: 0.3105 - val_accuracy: 0.8842\n",
            "Epoch 19/20\n",
            "1500/1500 [==============================] - 5s 3ms/step - loss: 0.2762 - accuracy: 0.8966 - val_loss: 0.3166 - val_accuracy: 0.8875\n",
            "Epoch 20/20\n",
            "1500/1500 [==============================] - 5s 4ms/step - loss: 0.2743 - accuracy: 0.8957 - val_loss: 0.3169 - val_accuracy: 0.8866\n"
          ]
        },
        {
          "output_type": "execute_result",
          "data": {
            "text/plain": [
              "<keras.src.callbacks.History at 0x7e75c5982170>"
            ]
          },
          "metadata": {},
          "execution_count": 334
        }
      ],
      "source": [
        "model_8 = model_fn(keras.layers.Dropout(0.3))\n",
        "model_8.compile(optimizer='adam', loss='sparse_categorical_crossentropy',metrics='accuracy')\n",
        "\n",
        "checkpoint_cb = keras.callbacks.ModelCheckpoint('best-model.h5',monitor ='val_loss', save_best_only=True)# 'val_loss' is the default for monitor\n",
        "\n",
        "model_8.fit(train_scaled, train_target, epochs=20, verbose=1,\n",
        "          validation_data=(val_scaled, val_target),\n",
        "          callbacks=[checkpoint_cb])\n",
        "# \"callbacks\" refer to the Functions that are automatically executed at specific points during the training process\n",
        "# checkpoint will be created only when the 'val_loss' is improved than the previous epochs\n",
        "# callbacks applied by passing checkpoint_cv wrapped in a list\n"
      ]
    },
    {
      "cell_type": "code",
      "execution_count": null,
      "metadata": {
        "colab": {
          "base_uri": "https://localhost:8080/"
        },
        "id": "qYISeH6U5oh9",
        "outputId": "ab9cb881-cc28-4d43-d7ba-8172233b5ac7"
      },
      "outputs": [
        {
          "output_type": "stream",
          "name": "stdout",
          "text": [
            "375/375 [==============================] - 1s 2ms/step - loss: 0.3105 - accuracy: 0.8842\n"
          ]
        },
        {
          "output_type": "execute_result",
          "data": {
            "text/plain": [
              "[0.3104974627494812, 0.8842499852180481]"
            ]
          },
          "metadata": {},
          "execution_count": 335
        }
      ],
      "source": [
        "#best-model is saved from the above; now load the best model and evaluate.\n",
        "model_9 = keras.models.load_model('best-model.h5')\n",
        "model_9.evaluate(val_scaled, val_target)"
      ]
    },
    {
      "cell_type": "markdown",
      "source": [
        "### Early Stopping"
      ],
      "metadata": {
        "id": "oScRnVVC3RLv"
      }
    },
    {
      "cell_type": "markdown",
      "source": [
        "- Above, we noted that the best-model was found AFTER completing all 20 epoches\n",
        "- We can reduce it by adding EarlyStopping that specifies a pacience level for when there is no improvement\n",
        "- Early stopping can be considered one of regularization methods as it prevents over fitting too.\n"
      ],
      "metadata": {
        "id": "D3jEt51m23he"
      }
    },
    {
      "cell_type": "code",
      "execution_count": null,
      "metadata": {
        "id": "HLLlkR0s5Nd8",
        "colab": {
          "base_uri": "https://localhost:8080/"
        },
        "outputId": "87381972-425f-4071-885c-7fe480ed5829"
      },
      "outputs": [
        {
          "output_type": "stream",
          "name": "stdout",
          "text": [
            "Epoch 1/20\n",
            "1500/1500 [==============================] - 6s 4ms/step - loss: 0.5885 - accuracy: 0.7926 - val_loss: 0.4271 - val_accuracy: 0.8431\n",
            "Epoch 2/20\n",
            "1500/1500 [==============================] - 5s 3ms/step - loss: 0.4375 - accuracy: 0.8422 - val_loss: 0.3776 - val_accuracy: 0.8654\n",
            "Epoch 3/20\n",
            "1500/1500 [==============================] - 5s 3ms/step - loss: 0.4026 - accuracy: 0.8540 - val_loss: 0.3693 - val_accuracy: 0.8655\n",
            "Epoch 4/20\n",
            "1500/1500 [==============================] - 5s 4ms/step - loss: 0.3819 - accuracy: 0.8606 - val_loss: 0.3487 - val_accuracy: 0.8744\n",
            "Epoch 5/20\n",
            "1500/1500 [==============================] - 5s 3ms/step - loss: 0.3670 - accuracy: 0.8659 - val_loss: 0.3480 - val_accuracy: 0.8738\n",
            "Epoch 6/20\n",
            "1500/1500 [==============================] - 6s 4ms/step - loss: 0.3504 - accuracy: 0.8716 - val_loss: 0.3341 - val_accuracy: 0.8788\n",
            "Epoch 7/20\n",
            "1500/1500 [==============================] - 5s 3ms/step - loss: 0.3435 - accuracy: 0.8750 - val_loss: 0.3339 - val_accuracy: 0.8777\n",
            "Epoch 8/20\n",
            "1500/1500 [==============================] - 5s 4ms/step - loss: 0.3362 - accuracy: 0.8759 - val_loss: 0.3340 - val_accuracy: 0.8796\n",
            "Epoch 9/20\n",
            "1500/1500 [==============================] - 5s 3ms/step - loss: 0.3256 - accuracy: 0.8801 - val_loss: 0.3367 - val_accuracy: 0.8807\n"
          ]
        }
      ],
      "source": [
        "model_10 = model_fn(keras.layers.Dropout(0.3))\n",
        "model_10.compile(optimizer='adam', loss='sparse_categorical_crossentropy',\n",
        "              metrics='accuracy')\n",
        "\n",
        "checkpoint_cb_es = keras.callbacks.ModelCheckpoint('best-model-es.h5', save_best_only=True)\n",
        "early_stopping_cb = keras.callbacks.EarlyStopping(patience=2, restore_best_weights=True)\n",
        "\n",
        "history_10 = model_10.fit(train_scaled, train_target, epochs=20, verbose=1,\n",
        "                    validation_data=(val_scaled, val_target),\n",
        "                    callbacks=[checkpoint_cb_es, early_stopping_cb])\n",
        "\n",
        "# In this case,restore_best_weights does not have be set to True because checkpoint_cb is also saving the best model."
      ]
    },
    {
      "cell_type": "code",
      "execution_count": null,
      "metadata": {
        "colab": {
          "base_uri": "https://localhost:8080/"
        },
        "id": "b6TazMcDxqXD",
        "outputId": "08f6e06d-5c0e-49bd-d26f-4c190ab234ee"
      },
      "outputs": [
        {
          "output_type": "stream",
          "name": "stdout",
          "text": [
            "8\n"
          ]
        }
      ],
      "source": [
        "print(early_stopping_cb.stopped_epoch)"
      ]
    },
    {
      "cell_type": "code",
      "execution_count": null,
      "metadata": {
        "colab": {
          "base_uri": "https://localhost:8080/",
          "height": 453
        },
        "id": "QrUNYGPB6Kq7",
        "outputId": "78ccff2f-d479-4f5a-b025-39f3eb8a6077"
      },
      "outputs": [
        {
          "output_type": "display_data",
          "data": {
            "text/plain": [
              "<Figure size 640x480 with 1 Axes>"
            ],
            "image/png": "[encoded data removed]"
          },
          "metadata": {}
        }
      ],
      "source": [
        "plt.plot(history_10.history['loss'])\n",
        "plt.plot(history_10.history['val_loss'])\n",
        "plt.xlabel('epoch')\n",
        "plt.ylabel('loss')\n",
        "plt.legend(['train', 'val'])\n",
        "plt.show()"
      ]
    },
    {
      "cell_type": "code",
      "execution_count": null,
      "metadata": {
        "colab": {
          "base_uri": "https://localhost:8080/"
        },
        "id": "H-7y1qlg5yqO",
        "outputId": "9b47bf70-0c0f-47bd-d88e-1b9213203040"
      },
      "outputs": [
        {
          "output_type": "stream",
          "name": "stdout",
          "text": [
            "375/375 [==============================] - 1s 2ms/step - loss: 0.3339 - accuracy: 0.8777\n"
          ]
        },
        {
          "output_type": "execute_result",
          "data": {
            "text/plain": [
              "[0.33389222621917725, 0.8776666522026062]"
            ]
          },
          "metadata": {},
          "execution_count": 339
        }
      ],
      "source": [
        "model_10.evaluate(val_scaled, val_target)"
      ]
    },
    {
      "cell_type": "code",
      "source": [],
      "metadata": {
        "id": "u68OS_2VklFH"
      },
      "execution_count": null,
      "outputs": []
    }
  ],
  "metadata": {
    "accelerator": "GPU",
    "colab": {
      "provenance": [],
      "include_colab_link": true
    },
    "kernelspec": {
      "display_name": "default:Python",
      "language": "python",
      "name": "conda-env-default-py"
    },
    "language_info": {
      "codemirror_mode": {
        "name": "ipython",
        "version": 3
      },
      "file_extension": ".py",
      "mimetype": "text/x-python",
      "name": "python",
      "nbconvert_exporter": "python",
      "pygments_lexer": "ipython3",
      "version": "3.9.10"
    }
  },
  "nbformat": 4,
  "nbformat_minor": 0
}