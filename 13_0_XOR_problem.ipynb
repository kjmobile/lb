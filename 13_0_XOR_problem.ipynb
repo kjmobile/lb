{
  "cells": [
    {
      "cell_type": "markdown",
      "metadata": {
        "id": "view-in-github",
        "colab_type": "text"
      },
      "source": [
        "<a href=\"https://colab.research.google.com/github/kjmobile/lb/blob/main/13_0_XOR_problem.ipynb\" target=\"_parent\"><img src=\"https://colab.research.google.com/assets/colab-badge.svg\" alt=\"Open In Colab\"/></a>"
      ]
    },
    {
      "cell_type": "markdown",
      "metadata": {
        "id": "BOFUvCujQwWK"
      },
      "source": [
        "### XOR problem and multi-layering"
      ]
    },
    {
      "cell_type": "code",
      "execution_count": null,
      "metadata": {
        "id": "0W5UtAcOQwWL"
      },
      "outputs": [],
      "source": [
        "import numpy as np\n",
        "\n",
        "# sample set of weights and biases\n",
        "w11 = np.array([-2, -2])\n",
        "w12 = np.array([2, 2])\n",
        "w2 = np.array([1, 1])\n",
        "b1 = 3\n",
        "b2 = -1\n",
        "b3 = -1\n",
        "\n",
        "\n",
        "# Perceptron with a simple activation function (in this case a binary step function)\n",
        "def MLP(x, w, b):\n",
        "    y = np.sum(w * x) + b\n",
        "    if y <= 0:\n",
        "        return 0\n",
        "    else:\n",
        "        return 1\n",
        "\n",
        "# NAND gate\n",
        "def NAND(x1,x2):\n",
        "    return MLP(np.array([x1, x2]), w11, b1)\n",
        "\n",
        "# OR gate\n",
        "def OR(x1,x2):\n",
        "    return MLP(np.array([x1, x2]), w12, b2)\n",
        "\n",
        "# AND gate\n",
        "def AND(x1,x2):\n",
        "    return MLP(np.array([x1, x2]), w2, b3)\n",
        "\n",
        "# XOR gate\n",
        "def XOR(x1,x2):\n",
        "    return AND(NAND(x1, x2),OR(x1,x2))\n",
        "\n",
        "\n",
        "# Inputs (x1, x2) vs. Outputs\n",
        "for x in [(0, 0), (1, 0), (0, 1), (1, 1)]:\n",
        "    y = XOR(x[0], x[1])\n",
        "    print(\"Input value: \" + str(x) + \" Output value: \" + str(y))"
      ]
    }
  ],
  "metadata": {
    "colab": {
      "provenance": [],
      "toc_visible": true,
      "include_colab_link": true
    },
    "kernelspec": {
      "display_name": "Python 3 (ipykernel)",
      "language": "python",
      "name": "python3"
    },
    "language_info": {
      "codemirror_mode": {
        "name": "ipython",
        "version": 3
      },
      "file_extension": ".py",
      "mimetype": "text/x-python",
      "name": "python",
      "nbconvert_exporter": "python",
      "pygments_lexer": "ipython3",
      "version": "3.9.7"
    }
  },
  "nbformat": 4,
  "nbformat_minor": 0
}