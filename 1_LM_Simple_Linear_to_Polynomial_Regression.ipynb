{
  "cells": [
    {
      "cell_type": "markdown",
      "metadata": {
        "id": "view-in-github",
        "colab_type": "text"
      },
      "source": [
        "<a href=\"https://colab.research.google.com/github/kjmobile/lb/blob/main/1_LM_Simple_Linear_to_Polynomial_Regression.ipynb\" target=\"_parent\"><img src=\"https://colab.research.google.com/assets/colab-badge.svg\" alt=\"Open In Colab\"/></a>"
      ]
    },
    {
      "cell_type": "markdown",
      "metadata": {
        "id": "XjTc5n2flYUu"
      },
      "source": [
        "# Simple Linear to Polynomial Regression"
      ]
    },
    {
      "cell_type": "markdown",
      "metadata": {
        "id": "fZwhQU2l8tI6"
      },
      "source": [
        "## Data Prep"
      ]
    },
    {
      "cell_type": "code",
      "execution_count": null,
      "metadata": {
        "id": "3kjaTfOqEVwY"
      },
      "outputs": [],
      "source": [
        "import pandas as pd\n",
        "import numpy as np\n",
        "!pip install pymysql"
      ]
    },
    {
      "cell_type": "code",
      "source": [
        "# import data from mySQL database  using the following info host: kaylee-db.cbgcswckszgl.us-east-1.rds.amazonaws.com, id cob, password 1212, db='data', port 3306\n",
        "\n",
        "import pymysql.cursors\n",
        "\n",
        "# Connect to the database\n",
        "connection = pymysql.connect(host='kaylee-db.cbgcswckszgl.us-east-1.rds.amazonaws.com',\n",
        "                             user='',\n",
        "                             password='',\n",
        "                             db='data',\n",
        "                             cursorclass=pymysql.cursors.DictCursor)\n",
        "\n",
        "try:\n",
        "    # Create a cursor object\n",
        "    with connection.cursor() as cursor:\n",
        "        # Execute the SQL query to fetch all data from the 'data' table\n",
        "        cursor.execute(\"SELECT * FROM data.fish\")\n",
        "\n",
        "        # Fetch all the results\n",
        "        results = cursor.fetchall()\n",
        "\n",
        "        # Convert the results to a Pandas DataFrame\n",
        "        fish_df = pd.DataFrame(results)\n",
        "\n",
        "finally:\n",
        "    # Close the connection\n",
        "    connection.close()\n",
        "\n",
        "# Print the DataFrame\n",
        "print(fish_df)\n"
      ],
      "metadata": {
        "id": "W6ELIIRzZzEl"
      },
      "execution_count": null,
      "outputs": []
    },
    {
      "cell_type": "code",
      "source": [
        "fish_df.head(2)"
      ],
      "metadata": {
        "id": "z2bzz08Xt1oM"
      },
      "execution_count": null,
      "outputs": []
    },
    {
      "cell_type": "code",
      "execution_count": null,
      "metadata": {
        "id": "8qmTS1RzKRKT"
      },
      "outputs": [],
      "source": [
        "# Convert the DataFrame to a NumPy array:\n",
        "# Select only length and weight columns for conducting a simple linear regression\n",
        "\n",
        "fish = fish_df[[\"length\",\"weight\"]].to_numpy()\n",
        "print(fish)"
      ]
    },
    {
      "cell_type": "code",
      "execution_count": null,
      "metadata": {
        "id": "cRKkoWoZ9J0m"
      },
      "outputs": [],
      "source": [
        "#train-test split: Use the weight column as target,y  length as X (X should be reshaped into 2D arrays)\n",
        "from sklearn.model_selection import train_test_split\n",
        "train_X, test_X, train_y, test_y = train_test_split(fish[:,0].reshape(-1,1), fish[:,1], random_state=0)"
      ]
    },
    {
      "cell_type": "code",
      "source": [
        "train_X.shape"
      ],
      "metadata": {
        "id": "yQMz3R3e9mwF"
      },
      "execution_count": null,
      "outputs": []
    },
    {
      "cell_type": "code",
      "source": [
        "test_X.shape"
      ],
      "metadata": {
        "id": "eilH8B2b9-8K"
      },
      "execution_count": null,
      "outputs": []
    },
    {
      "cell_type": "code",
      "source": [
        "train_y.shape"
      ],
      "metadata": {
        "id": "ZS3i1nrqCXkM"
      },
      "execution_count": null,
      "outputs": []
    },
    {
      "cell_type": "markdown",
      "source": [
        "## Fit model - simple linear regression"
      ],
      "metadata": {
        "id": "LKOIZMw31tFY"
      }
    },
    {
      "cell_type": "code",
      "source": [
        "from sklearn import linear_model\n",
        "m1 = linear_model.LinearRegression()\n",
        "m1.fit(train_X, train_y)"
      ],
      "metadata": {
        "id": "d72LrzBN17L8"
      },
      "execution_count": null,
      "outputs": []
    },
    {
      "cell_type": "code",
      "source": [
        "# beta coefficient for weight\n",
        "m1.coef_"
      ],
      "metadata": {
        "id": "RHsZziyH2q6S"
      },
      "execution_count": null,
      "outputs": []
    },
    {
      "cell_type": "code",
      "source": [
        "# intercept\n",
        "m1.intercept_"
      ],
      "metadata": {
        "id": "qUOC8jtP2xt9"
      },
      "execution_count": null,
      "outputs": []
    },
    {
      "cell_type": "markdown",
      "source": [
        "###Evalute Model Performance: m1"
      ],
      "metadata": {
        "id": "RVXIbkTreGO0"
      }
    },
    {
      "cell_type": "code",
      "source": [
        "# Evaluate R^2 of the the model on the train vs. test set\n",
        "print(\"Train set score:\",  m1.score(train_X, train_y))\n",
        "print(\"Test set score:\", m1.score(test_X, test_y))"
      ],
      "metadata": {
        "id": "1V82MEUh214w"
      },
      "execution_count": null,
      "outputs": []
    },
    {
      "cell_type": "code",
      "source": [],
      "metadata": {
        "id": "klbBSBfbBiwB"
      },
      "execution_count": null,
      "outputs": []
    },
    {
      "cell_type": "code",
      "source": [
        "m1.predict([[60,]])"
      ],
      "metadata": {
        "id": "KbT-ynhmBaq4"
      },
      "execution_count": null,
      "outputs": []
    },
    {
      "cell_type": "code",
      "source": [
        "m1.predict([[15,],\n",
        "           [50,]])"
      ],
      "metadata": {
        "id": "YhF5KWyU5-Im"
      },
      "execution_count": null,
      "outputs": []
    },
    {
      "cell_type": "markdown",
      "source": [
        "### Plot Test set results: Simple Linear\n"
      ],
      "metadata": {
        "id": "ogWAd9eJcqqi"
      }
    },
    {
      "cell_type": "code",
      "source": [
        "# Plot the regression line on test set (length vs. weight predicted)\n",
        "plt.scatter(test_X[:,0], test_y)\n",
        "plt.plot([8.4,60],m1.predict([[8.4,],[60,]]))\n",
        "plt.scatter(60,m1.predict([[60,]]), color='r', marker=\"d\", s=200)\n",
        "\n",
        "plt.xlabel('length')\n",
        "plt.ylabel('weight')"
      ],
      "metadata": {
        "id": "sGWjpdvF7Ix9"
      },
      "execution_count": null,
      "outputs": []
    },
    {
      "cell_type": "markdown",
      "metadata": {
        "id": "y5uMFE_8V1tx"
      },
      "source": [
        "## Preprocessing - Featur engineering (creating polinomial terms)"
      ]
    },
    {
      "cell_type": "code",
      "source": [],
      "metadata": {
        "id": "eKa_AaJT16Qg"
      },
      "execution_count": null,
      "outputs": []
    },
    {
      "cell_type": "code",
      "execution_count": null,
      "metadata": {
        "id": "EclugdXmSs-L"
      },
      "outputs": [],
      "source": [
        "train_poly = np.column_stack([train_X **2, train_X])\n",
        "test_poly=np.column_stack([test_X**2, test_X])"
      ]
    },
    {
      "cell_type": "markdown",
      "source": [
        "##Fit model - polynomial regression"
      ],
      "metadata": {
        "id": "wftStZDRcfBI"
      }
    },
    {
      "cell_type": "code",
      "source": [
        "m2 = linear_model.LinearRegression()\n",
        "m2.fit(train_poly, train_y)\n"
      ],
      "metadata": {
        "id": "xl0Hqp3rKiG4"
      },
      "execution_count": null,
      "outputs": []
    },
    {
      "cell_type": "code",
      "source": [
        "print(m2.coef_)\n",
        "print(m2.intercept_)"
      ],
      "metadata": {
        "id": "XcTTkh_vMQp8"
      },
      "execution_count": null,
      "outputs": []
    },
    {
      "cell_type": "markdown",
      "source": [
        "### Evaluate Model Performance: m2"
      ],
      "metadata": {
        "id": "lvzX95lQd8HQ"
      }
    },
    {
      "cell_type": "code",
      "source": [
        "# m2, which added quadratic term of length, turns out to exhibit a superior R^2\n",
        "print(m2.score(train_poly, train_y))\n",
        "print(m2.score(test_poly, test_y))"
      ],
      "metadata": {
        "id": "hKFCtZAkK-Ve"
      },
      "execution_count": null,
      "outputs": []
    },
    {
      "cell_type": "markdown",
      "source": [
        "### Plot Test set results : polynomial"
      ],
      "metadata": {
        "id": "lYlG2LbzdYCD"
      }
    },
    {
      "cell_type": "code",
      "source": [
        "# Plot the regression line on test set (length vs. weight predicted)\n",
        "plt.scatter(train_X, train_y)\n",
        "point=np.arange(8.4, 60)\n",
        "plt.plot(point,0.99*point**2 + -20.29*point+100.7 )\n",
        "plt.scatter(60,m2.predict([[60**2,60]]), color='r', marker=\"d\", s=200)"
      ],
      "metadata": {
        "id": "rR8Pp8zlLHqV"
      },
      "execution_count": null,
      "outputs": []
    },
    {
      "cell_type": "code",
      "source": [
        "# The weight for a fish with the length of 60 inch is now predicted to be 2459 lbs.\n",
        "m2.predict([[60**2, 60]])"
      ],
      "metadata": {
        "id": "vK5xCX9ENWN6"
      },
      "execution_count": null,
      "outputs": []
    },
    {
      "cell_type": "markdown",
      "source": [
        "\n",
        "\n",
        "> Check the R^2 for both train and test set\n",
        "\n",
        "\n",
        "\n"
      ],
      "metadata": {
        "id": "0p4K99bXNulU"
      }
    },
    {
      "cell_type": "code",
      "source": [],
      "metadata": {
        "id": "_NZeanw5OAgf"
      },
      "execution_count": null,
      "outputs": []
    }
  ],
  "metadata": {
    "colab": {
      "provenance": [],
      "toc_visible": true,
      "include_colab_link": true
    },
    "kernelspec": {
      "display_name": "default:Python",
      "language": "python",
      "name": "conda-env-default-py"
    },
    "language_info": {
      "codemirror_mode": {
        "name": "ipython",
        "version": 3
      },
      "file_extension": ".py",
      "mimetype": "text/x-python",
      "name": "python",
      "nbconvert_exporter": "python",
      "pygments_lexer": "ipython3",
      "version": "3.9.10"
    }
  },
  "nbformat": 4,
  "nbformat_minor": 0
}