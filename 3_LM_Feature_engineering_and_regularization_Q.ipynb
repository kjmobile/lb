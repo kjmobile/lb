{
  "cells": [
    {
      "cell_type": "markdown",
      "metadata": {
        "id": "view-in-github",
        "colab_type": "text"
      },
      "source": [
        "<a href=\"https://colab.research.google.com/github/kjmobile/lb/blob/main/3_LM_Feature_engineering_and_regularization_Q.ipynb\" target=\"_parent\"><img src=\"https://colab.research.google.com/assets/colab-badge.svg\" alt=\"Open In Colab\"/></a>"
      ]
    },
    {
      "cell_type": "markdown",
      "metadata": {
        "id": "XjTc5n2flYUu"
      },
      "source": [
        "# Feature Engineering and Regularization"
      ]
    },
    {
      "cell_type": "markdown",
      "metadata": {
        "id": "fZwhQU2l8tI6"
      },
      "source": [
        "## Data Prep"
      ]
    },
    {
      "cell_type": "code",
      "execution_count": 8,
      "metadata": {
        "id": "3kjaTfOqEVwY",
        "outputId": "72984e74-ef74-46f2-9806-ad4a454ad32c",
        "colab": {
          "base_uri": "https://localhost:8080/"
        }
      },
      "outputs": [
        {
          "output_type": "stream",
          "name": "stdout",
          "text": [
            "Requirement already satisfied: pymysql in /usr/local/lib/python3.10/dist-packages (1.1.0)\n"
          ]
        }
      ],
      "source": [
        "import pandas as pd\n",
        "import numpy as np\n",
        "!pip install pymysql"
      ]
    },
    {
      "cell_type": "code",
      "execution_count": 9,
      "metadata": {
        "id": "W6ELIIRzZzEl",
        "outputId": "d5fbdb3c-84bf-4e89-ed9f-6f3655c12b9d",
        "colab": {
          "base_uri": "https://localhost:8080/"
        }
      },
      "outputs": [
        {
          "output_type": "stream",
          "name": "stdout",
          "text": [
            "    length  height  width  weight\n",
            "0      8.4    2.11   1.41     5.9\n",
            "1     13.7    3.53   2.00    32.0\n",
            "2     15.0    3.82   2.43    40.0\n",
            "3     16.2    4.59   2.63    51.5\n",
            "4     17.4    4.59   2.94    70.0\n",
            "5     18.0    5.22   3.32   100.0\n",
            "6     18.7    5.20   3.12    78.0\n",
            "7     19.0    5.64   3.05    80.0\n",
            "8     19.6    5.14   3.04    85.0\n",
            "9     20.0    5.08   2.77    85.0\n",
            "10    21.0    5.69   3.56   110.0\n",
            "11    21.0    5.92   3.31   115.0\n",
            "12    21.0    5.69   3.67   125.0\n",
            "13    21.3    6.38   3.53   130.0\n",
            "14    22.0    6.11   3.41   120.0\n",
            "15    22.0    5.64   3.52   120.0\n",
            "16    22.0    6.11   3.52   130.0\n",
            "17    22.0    5.88   3.52   135.0\n",
            "18    22.0    5.52   4.00   110.0\n",
            "19    22.5    5.86   3.62   130.0\n",
            "20    22.5    6.79   3.62   150.0\n",
            "21    22.7    5.95   3.63   145.0\n",
            "22    23.0    5.22   3.63   150.0\n",
            "23    23.5    6.28   3.72   170.0\n",
            "24    24.0    7.29   3.72   225.0\n",
            "25    24.0    6.38   3.82   145.0\n",
            "26    24.6    6.73   4.17   188.0\n",
            "27    25.0    6.44   3.68   180.0\n",
            "28    25.6    6.56   4.24   197.0\n",
            "29    26.5    7.17   4.14   218.0\n",
            "30    27.3    8.32   5.14   300.0\n",
            "31    27.5    7.17   4.34   260.0\n",
            "32    27.5    7.05   4.34   265.0\n",
            "33    27.5    7.28   4.57   250.0\n",
            "34    28.0    7.82   4.20   250.0\n",
            "35    28.7    7.59   4.64   300.0\n",
            "36    30.0    7.62   4.77   320.0\n",
            "37    32.8   10.03   6.02   514.0\n",
            "38    34.5   10.26   6.39   556.0\n",
            "39    35.0   11.49   7.80   840.0\n",
            "40    36.5   10.88   6.86   685.0\n",
            "41    36.0   10.61   6.74   700.0\n",
            "42    37.0   10.84   6.26   700.0\n",
            "43    37.0   10.57   6.37   690.0\n",
            "44    39.0   11.14   7.49   900.0\n",
            "45    39.0   11.14   6.00   650.0\n",
            "46    39.0   12.43   7.35   820.0\n",
            "47    40.0   11.93   7.11   850.0\n",
            "48    40.0   11.73   7.22   900.0\n",
            "49    40.0   12.38   7.46  1015.0\n",
            "50    40.0   11.14   6.63   820.0\n",
            "51    42.0   12.80   6.87  1100.0\n",
            "52    43.0   11.93   7.28  1000.0\n",
            "53    43.0   12.51   7.42  1100.0\n",
            "54    43.5   12.60   8.14  1000.0\n",
            "55    44.0   12.49   7.60  1000.0\n"
          ]
        }
      ],
      "source": [
        "# import data from mySQL database  using the following info host: kaylee-db.cbgcswckszgl.us-east-1.rds.amazonaws.com, id cob, password 1212, db='data', port 3306\n",
        "\n",
        "import pymysql.cursors\n",
        "\n",
        "# Connect to the database\n",
        "connection = pymysql.connect(host='kaylee-db.cbgcswckszgl.us-east-1.rds.amazonaws.com',\n",
        "                             user='',\n",
        "                             password='',\n",
        "                             db='data',\n",
        "                             cursorclass=pymysql.cursors.DictCursor)\n",
        "\n",
        "try:\n",
        "    # Create a cursor object\n",
        "    with connection.cursor() as cursor:\n",
        "        # Execute the SQL query to fetch all data from the 'data' table\n",
        "        cursor.execute(\"SELECT * FROM data.fish\")\n",
        "\n",
        "        # Fetch all the results\n",
        "        results = cursor.fetchall()\n",
        "\n",
        "        # Convert the results to a Pandas DataFrame\n",
        "        fish_df = pd.DataFrame(results)\n",
        "\n",
        "finally:\n",
        "    # Close the connection\n",
        "    connection.close()\n",
        "\n",
        "# Print the DataFrame\n",
        "print(fish_df)\n"
      ]
    },
    {
      "cell_type": "code",
      "execution_count": 10,
      "metadata": {
        "id": "8qmTS1RzKRKT",
        "outputId": "efc6775b-f15b-45ee-9d4f-9dc6f802ca37",
        "colab": {
          "base_uri": "https://localhost:8080/"
        }
      },
      "outputs": [
        {
          "output_type": "stream",
          "name": "stdout",
          "text": [
            "[[   8.4     2.11    1.41    5.9 ]\n",
            " [  13.7     3.53    2.     32.  ]\n",
            " [  15.      3.82    2.43   40.  ]\n",
            " [  16.2     4.59    2.63   51.5 ]\n",
            " [  17.4     4.59    2.94   70.  ]\n",
            " [  18.      5.22    3.32  100.  ]\n",
            " [  18.7     5.2     3.12   78.  ]\n",
            " [  19.      5.64    3.05   80.  ]\n",
            " [  19.6     5.14    3.04   85.  ]\n",
            " [  20.      5.08    2.77   85.  ]\n",
            " [  21.      5.69    3.56  110.  ]\n",
            " [  21.      5.92    3.31  115.  ]\n",
            " [  21.      5.69    3.67  125.  ]\n",
            " [  21.3     6.38    3.53  130.  ]\n",
            " [  22.      6.11    3.41  120.  ]\n",
            " [  22.      5.64    3.52  120.  ]\n",
            " [  22.      6.11    3.52  130.  ]\n",
            " [  22.      5.88    3.52  135.  ]\n",
            " [  22.      5.52    4.    110.  ]\n",
            " [  22.5     5.86    3.62  130.  ]\n",
            " [  22.5     6.79    3.62  150.  ]\n",
            " [  22.7     5.95    3.63  145.  ]\n",
            " [  23.      5.22    3.63  150.  ]\n",
            " [  23.5     6.28    3.72  170.  ]\n",
            " [  24.      7.29    3.72  225.  ]\n",
            " [  24.      6.38    3.82  145.  ]\n",
            " [  24.6     6.73    4.17  188.  ]\n",
            " [  25.      6.44    3.68  180.  ]\n",
            " [  25.6     6.56    4.24  197.  ]\n",
            " [  26.5     7.17    4.14  218.  ]\n",
            " [  27.3     8.32    5.14  300.  ]\n",
            " [  27.5     7.17    4.34  260.  ]\n",
            " [  27.5     7.05    4.34  265.  ]\n",
            " [  27.5     7.28    4.57  250.  ]\n",
            " [  28.      7.82    4.2   250.  ]\n",
            " [  28.7     7.59    4.64  300.  ]\n",
            " [  30.      7.62    4.77  320.  ]\n",
            " [  32.8    10.03    6.02  514.  ]\n",
            " [  34.5    10.26    6.39  556.  ]\n",
            " [  35.     11.49    7.8   840.  ]\n",
            " [  36.5    10.88    6.86  685.  ]\n",
            " [  36.     10.61    6.74  700.  ]\n",
            " [  37.     10.84    6.26  700.  ]\n",
            " [  37.     10.57    6.37  690.  ]\n",
            " [  39.     11.14    7.49  900.  ]\n",
            " [  39.     11.14    6.    650.  ]\n",
            " [  39.     12.43    7.35  820.  ]\n",
            " [  40.     11.93    7.11  850.  ]\n",
            " [  40.     11.73    7.22  900.  ]\n",
            " [  40.     12.38    7.46 1015.  ]\n",
            " [  40.     11.14    6.63  820.  ]\n",
            " [  42.     12.8     6.87 1100.  ]\n",
            " [  43.     11.93    7.28 1000.  ]\n",
            " [  43.     12.51    7.42 1100.  ]\n",
            " [  43.5    12.6     8.14 1000.  ]\n",
            " [  44.     12.49    7.6  1000.  ]]\n"
          ]
        }
      ],
      "source": [
        "fish = fish_df.to_numpy()\n",
        "print(fish)"
      ]
    },
    {
      "cell_type": "code",
      "execution_count": 11,
      "metadata": {
        "id": "cRKkoWoZ9J0m"
      },
      "outputs": [],
      "source": [
        "from sklearn.model_selection import train_test_split\n",
        "\n",
        "train_X, test_X, train_y, test_y = train_test_split(fish[:,:-1], fish[:,-1], random_state=42)"
      ]
    },
    {
      "cell_type": "code",
      "execution_count": 12,
      "metadata": {
        "id": "3fVyzDPWcm_W",
        "outputId": "eb003290-157e-4077-d1dd-900c2f8c9725",
        "colab": {
          "base_uri": "https://localhost:8080/"
        }
      },
      "outputs": [
        {
          "output_type": "execute_result",
          "data": {
            "text/plain": [
              "(14,)"
            ]
          },
          "metadata": {},
          "execution_count": 12
        }
      ],
      "source": [
        "test_y.shape"
      ]
    },
    {
      "cell_type": "markdown",
      "metadata": {
        "id": "y5uMFE_8V1tx"
      },
      "source": [
        "## Preprocessing - Feature engineering"
      ]
    },
    {
      "cell_type": "code",
      "execution_count": 13,
      "metadata": {
        "id": "EclugdXmSs-L"
      },
      "outputs": [],
      "source": [
        "from sklearn.preprocessing import PolynomialFeatures"
      ]
    },
    {
      "cell_type": "markdown",
      "metadata": {
        "id": "C3vM8Xq8ddop"
      },
      "source": []
    },
    {
      "cell_type": "code",
      "execution_count": 14,
      "metadata": {
        "id": "__kE6eJdNZfm"
      },
      "outputs": [],
      "source": [
        "poly = PolynomialFeatures(include_bias=False)\n",
        "\n",
        "poly.fit(train_X)\n",
        "train_poly = poly.transform(train_X)"
      ]
    },
    {
      "cell_type": "code",
      "execution_count": 15,
      "metadata": {
        "id": "2a_lmkKle4kF",
        "outputId": "54036bf6-1e87-4337-c680-af02b5f56792",
        "colab": {
          "base_uri": "https://localhost:8080/"
        }
      },
      "outputs": [
        {
          "output_type": "stream",
          "name": "stdout",
          "text": [
            "(42, 9)\n"
          ]
        }
      ],
      "source": [
        "print(train_poly.shape)"
      ]
    },
    {
      "cell_type": "code",
      "execution_count": 16,
      "metadata": {
        "id": "KXES3XEYj4E2",
        "outputId": "567a19b2-43a2-4b74-b1bb-296f33a156c7",
        "colab": {
          "base_uri": "https://localhost:8080/"
        }
      },
      "outputs": [
        {
          "output_type": "execute_result",
          "data": {
            "text/plain": [
              "array([[ 19.6   ,   5.14  ,   3.04  , 384.16  , 100.744 ,  59.584 ,\n",
              "         26.4196,  15.6256,   9.2416],\n",
              "       [ 22.    ,   5.88  ,   3.52  , 484.    , 129.36  ,  77.44  ,\n",
              "         34.5744,  20.6976,  12.3904]])"
            ]
          },
          "metadata": {},
          "execution_count": 16
        }
      ],
      "source": [
        "train_poly[:2]"
      ]
    },
    {
      "cell_type": "code",
      "execution_count": 17,
      "metadata": {
        "id": "X6GUwfXTfKbl",
        "outputId": "9e63b34f-78cf-4263-823e-14c6b3eb8209",
        "colab": {
          "base_uri": "https://localhost:8080/"
        }
      },
      "outputs": [
        {
          "output_type": "execute_result",
          "data": {
            "text/plain": [
              "array(['x0', 'x1', 'x2', 'x0^2', 'x0 x1', 'x0 x2', 'x1^2', 'x1 x2',\n",
              "       'x2^2'], dtype=object)"
            ]
          },
          "metadata": {},
          "execution_count": 17
        }
      ],
      "source": [
        "poly.get_feature_names_out()"
      ]
    },
    {
      "cell_type": "code",
      "execution_count": 18,
      "metadata": {
        "id": "DJMPxe2mgbOo"
      },
      "outputs": [],
      "source": [
        "#Now, transform the test set using the same poly class used for train set.\n",
        "test_poly = poly.transform(test_X)\n"
      ]
    },
    {
      "cell_type": "code",
      "execution_count": 19,
      "metadata": {
        "id": "Lr4ulTbZn0tz",
        "outputId": "5e25b76c-0f38-48bb-8b68-26123e3a87b5",
        "colab": {
          "base_uri": "https://localhost:8080/"
        }
      },
      "outputs": [
        {
          "output_type": "execute_result",
          "data": {
            "text/plain": [
              "array([[  8.4   ,   2.11  ,   1.41  ,  70.56  ,  17.724 ,  11.844 ,\n",
              "          4.4521,   2.9751,   1.9881],\n",
              "       [ 18.    ,   5.22  ,   3.32  , 324.    ,  93.96  ,  59.76  ,\n",
              "         27.2484,  17.3304,  11.0224]])"
            ]
          },
          "metadata": {},
          "execution_count": 19
        }
      ],
      "source": [
        "test_poly[:2]"
      ]
    },
    {
      "cell_type": "code",
      "execution_count": 20,
      "metadata": {
        "id": "pJyk0gXMpwdA",
        "outputId": "9ed0a46f-24dd-471d-d108-f47083dd56eb",
        "colab": {
          "base_uri": "https://localhost:8080/"
        }
      },
      "outputs": [
        {
          "output_type": "execute_result",
          "data": {
            "text/plain": [
              "array([[   8.4   ,    2.11  ,    1.41  ,   70.56  ,   17.724 ,   11.844 ,\n",
              "           4.4521,    2.9751,    1.9881],\n",
              "       [  18.    ,    5.22  ,    3.32  ,  324.    ,   93.96  ,   59.76  ,\n",
              "          27.2484,   17.3304,   11.0224],\n",
              "       [  27.5   ,    7.28  ,    4.57  ,  756.25  ,  200.2   ,  125.675 ,\n",
              "          52.9984,   33.2696,   20.8849],\n",
              "       [  21.3   ,    6.38  ,    3.53  ,  453.69  ,  135.894 ,   75.189 ,\n",
              "          40.7044,   22.5214,   12.4609],\n",
              "       [  22.5   ,    5.86  ,    3.62  ,  506.25  ,  131.85  ,   81.45  ,\n",
              "          34.3396,   21.2132,   13.1044],\n",
              "       [  40.    ,   11.14  ,    6.63  , 1600.    ,  445.6   ,  265.2   ,\n",
              "         124.0996,   73.8582,   43.9569],\n",
              "       [  30.    ,    7.62  ,    4.77  ,  900.    ,  228.6   ,  143.1   ,\n",
              "          58.0644,   36.3474,   22.7529],\n",
              "       [  24.6   ,    6.73  ,    4.17  ,  605.16  ,  165.558 ,  102.582 ,\n",
              "          45.2929,   28.0641,   17.3889],\n",
              "       [  39.    ,   11.14  ,    7.49  , 1521.    ,  434.46  ,  292.11  ,\n",
              "         124.0996,   83.4386,   56.1001],\n",
              "       [  21.    ,    5.69  ,    3.67  ,  441.    ,  119.49  ,   77.07  ,\n",
              "          32.3761,   20.8823,   13.4689],\n",
              "       [  43.5   ,   12.6   ,    8.14  , 1892.25  ,  548.1   ,  354.09  ,\n",
              "         158.76  ,  102.564 ,   66.2596],\n",
              "       [  16.2   ,    4.59  ,    2.63  ,  262.44  ,   74.358 ,   42.606 ,\n",
              "          21.0681,   12.0717,    6.9169],\n",
              "       [  28.    ,    7.82  ,    4.2   ,  784.    ,  218.96  ,  117.6   ,\n",
              "          61.1524,   32.844 ,   17.64  ],\n",
              "       [  27.3   ,    8.32  ,    5.14  ,  745.29  ,  227.136 ,  140.322 ,\n",
              "          69.2224,   42.7648,   26.4196]])"
            ]
          },
          "metadata": {},
          "execution_count": 20
        }
      ],
      "source": [
        "np.set_printoptions(suppress=True)\n",
        "test_poly"
      ]
    },
    {
      "cell_type": "markdown",
      "metadata": {
        "id": "PdDAslHzNk3H"
      },
      "source": [
        "## Train Multple Regression"
      ]
    },
    {
      "cell_type": "code",
      "execution_count": 21,
      "metadata": {
        "id": "E9ygy-8WOvIP",
        "outputId": "17e41c9e-b6f0-4cfc-b2dd-e565fa84413f",
        "colab": {
          "base_uri": "https://localhost:8080/"
        }
      },
      "outputs": [
        {
          "output_type": "stream",
          "name": "stdout",
          "text": [
            "0.9903183436982125\n"
          ]
        }
      ],
      "source": [
        "from sklearn.linear_model import LinearRegression\n",
        "\n",
        "m0 = LinearRegression()\n",
        "m0.fit(train_poly, train_y)\n",
        "print(m0.score(train_poly, train_y))"
      ]
    },
    {
      "cell_type": "code",
      "execution_count": 22,
      "metadata": {
        "id": "GKKyfFcAd7zm",
        "outputId": "abd2bd47-b055-4832-bca1-188cd8b86b0b",
        "colab": {
          "base_uri": "https://localhost:8080/"
        }
      },
      "outputs": [
        {
          "output_type": "stream",
          "name": "stdout",
          "text": [
            "0.9714559911594111\n"
          ]
        }
      ],
      "source": [
        "print(m0.score(test_poly, test_y))\n"
      ]
    },
    {
      "cell_type": "markdown",
      "source": [
        "## But, what if we increase the degree from default 2 to 5 in PolynomialFeatures() method?"
      ],
      "metadata": {
        "id": "BnepO6I2E1fW"
      }
    },
    {
      "cell_type": "code",
      "source": [
        "poly_5 = PolynomialFeatures(degree = 5, include_bias=False)\n",
        "\n",
        "poly_5.fit(train_X)\n",
        "train_poly_5 = poly_5.transform(train_X)\n",
        "test_poly_5 = poly_5.transform(test_X)"
      ],
      "metadata": {
        "id": "__VzhQM6FDi_"
      },
      "execution_count": 23,
      "outputs": []
    },
    {
      "cell_type": "code",
      "source": [
        "train_y"
      ],
      "metadata": {
        "id": "GLwzNARuGDfN",
        "outputId": "4e0d1894-4ff8-4610-91dc-f8d8fb8e12f6",
        "colab": {
          "base_uri": "https://localhost:8080/"
        }
      },
      "execution_count": 24,
      "outputs": [
        {
          "output_type": "execute_result",
          "data": {
            "text/plain": [
              "array([  85.,  135.,   78.,   70.,  700.,  180.,  850.,  820., 1000.,\n",
              "        120.,   85.,  130.,  225.,  260., 1100.,  900.,  145.,  115.,\n",
              "        265., 1015.,  514.,  218.,  685.,   32.,  145.,   40.,  690.,\n",
              "        840.,  300.,  170.,  650.,  110.,  150.,  110., 1000.,  150.,\n",
              "         80.,  700.,  120.,  197., 1100.,  556.])"
            ]
          },
          "metadata": {},
          "execution_count": 24
        }
      ]
    },
    {
      "cell_type": "code",
      "source": [
        "m1=LinearRegression()\n",
        "m1.fit(train_poly_5, train_y)\n"
      ],
      "metadata": {
        "id": "csOSNIflFkoZ",
        "outputId": "c4b061da-f89b-4383-ceef-cb9cf42c12b9",
        "colab": {
          "base_uri": "https://localhost:8080/",
          "height": 75
        }
      },
      "execution_count": 30,
      "outputs": [
        {
          "output_type": "execute_result",
          "data": {
            "text/plain": [
              "LinearRegression()"
            ],
            "text/html": [
              "<style>#sk-container-id-2 {color: black;background-color: white;}#sk-container-id-2 pre{padding: 0;}#sk-container-id-2 div.sk-toggleable {background-color: white;}#sk-container-id-2 label.sk-toggleable__label {cursor: pointer;display: block;width: 100%;margin-bottom: 0;padding: 0.3em;box-sizing: border-box;text-align: center;}#sk-container-id-2 label.sk-toggleable__label-arrow:before {content: \"▸\";float: left;margin-right: 0.25em;color: #696969;}#sk-container-id-2 label.sk-toggleable__label-arrow:hover:before {color: black;}#sk-container-id-2 div.sk-estimator:hover label.sk-toggleable__label-arrow:before {color: black;}#sk-container-id-2 div.sk-toggleable__content {max-height: 0;max-width: 0;overflow: hidden;text-align: left;background-color: #f0f8ff;}#sk-container-id-2 div.sk-toggleable__content pre {margin: 0.2em;color: black;border-radius: 0.25em;background-color: #f0f8ff;}#sk-container-id-2 input.sk-toggleable__control:checked~div.sk-toggleable__content {max-height: 200px;max-width: 100%;overflow: auto;}#sk-container-id-2 input.sk-toggleable__control:checked~label.sk-toggleable__label-arrow:before {content: \"▾\";}#sk-container-id-2 div.sk-estimator input.sk-toggleable__control:checked~label.sk-toggleable__label {background-color: #d4ebff;}#sk-container-id-2 div.sk-label input.sk-toggleable__control:checked~label.sk-toggleable__label {background-color: #d4ebff;}#sk-container-id-2 input.sk-hidden--visually {border: 0;clip: rect(1px 1px 1px 1px);clip: rect(1px, 1px, 1px, 1px);height: 1px;margin: -1px;overflow: hidden;padding: 0;position: absolute;width: 1px;}#sk-container-id-2 div.sk-estimator {font-family: monospace;background-color: #f0f8ff;border: 1px dotted black;border-radius: 0.25em;box-sizing: border-box;margin-bottom: 0.5em;}#sk-container-id-2 div.sk-estimator:hover {background-color: #d4ebff;}#sk-container-id-2 div.sk-parallel-item::after {content: \"\";width: 100%;border-bottom: 1px solid gray;flex-grow: 1;}#sk-container-id-2 div.sk-label:hover label.sk-toggleable__label {background-color: #d4ebff;}#sk-container-id-2 div.sk-serial::before {content: \"\";position: absolute;border-left: 1px solid gray;box-sizing: border-box;top: 0;bottom: 0;left: 50%;z-index: 0;}#sk-container-id-2 div.sk-serial {display: flex;flex-direction: column;align-items: center;background-color: white;padding-right: 0.2em;padding-left: 0.2em;position: relative;}#sk-container-id-2 div.sk-item {position: relative;z-index: 1;}#sk-container-id-2 div.sk-parallel {display: flex;align-items: stretch;justify-content: center;background-color: white;position: relative;}#sk-container-id-2 div.sk-item::before, #sk-container-id-2 div.sk-parallel-item::before {content: \"\";position: absolute;border-left: 1px solid gray;box-sizing: border-box;top: 0;bottom: 0;left: 50%;z-index: -1;}#sk-container-id-2 div.sk-parallel-item {display: flex;flex-direction: column;z-index: 1;position: relative;background-color: white;}#sk-container-id-2 div.sk-parallel-item:first-child::after {align-self: flex-end;width: 50%;}#sk-container-id-2 div.sk-parallel-item:last-child::after {align-self: flex-start;width: 50%;}#sk-container-id-2 div.sk-parallel-item:only-child::after {width: 0;}#sk-container-id-2 div.sk-dashed-wrapped {border: 1px dashed gray;margin: 0 0.4em 0.5em 0.4em;box-sizing: border-box;padding-bottom: 0.4em;background-color: white;}#sk-container-id-2 div.sk-label label {font-family: monospace;font-weight: bold;display: inline-block;line-height: 1.2em;}#sk-container-id-2 div.sk-label-container {text-align: center;}#sk-container-id-2 div.sk-container {/* jupyter's `normalize.less` sets `[hidden] { display: none; }` but bootstrap.min.css set `[hidden] { display: none !important; }` so we also need the `!important` here to be able to override the default hidden behavior on the sphinx rendered scikit-learn.org. See: https://github.com/scikit-learn/scikit-learn/issues/21755 */display: inline-block !important;position: relative;}#sk-container-id-2 div.sk-text-repr-fallback {display: none;}</style><div id=\"sk-container-id-2\" class=\"sk-top-container\"><div class=\"sk-text-repr-fallback\"><pre>LinearRegression()</pre><b>In a Jupyter environment, please rerun this cell to show the HTML representation or trust the notebook. <br />On GitHub, the HTML representation is unable to render, please try loading this page with nbviewer.org.</b></div><div class=\"sk-container\" hidden><div class=\"sk-item\"><div class=\"sk-estimator sk-toggleable\"><input class=\"sk-toggleable__control sk-hidden--visually\" id=\"sk-estimator-id-2\" type=\"checkbox\" checked><label for=\"sk-estimator-id-2\" class=\"sk-toggleable__label sk-toggleable__label-arrow\">LinearRegression</label><div class=\"sk-toggleable__content\"><pre>LinearRegression()</pre></div></div></div></div></div>"
            ]
          },
          "metadata": {},
          "execution_count": 30
        }
      ]
    },
    {
      "cell_type": "code",
      "source": [
        "print(m1.score(train_poly_5, train_y))\n",
        "print(m1.score(test_poly_5, test_y))\n",
        "# R-squared, -144.5 ? ; Something is wrong because the model seriously \"overfitted\" with train set.\n",
        "# In this case, test_poly_5 set has only 14 records but have 55 (5 degree combination out of 3 variables) columns\n",
        "# Here R^2 becomes negative; due to overfitting, the predictions differ significantly from the actual values."
      ],
      "metadata": {
        "id": "ozxWzNAGGYFF",
        "outputId": "7861b9ab-e6bc-4761-9a6b-1a424bc57f2d",
        "colab": {
          "base_uri": "https://localhost:8080/"
        }
      },
      "execution_count": 31,
      "outputs": [
        {
          "output_type": "stream",
          "name": "stdout",
          "text": [
            "0.9999999999996433\n",
            "-144.40579436844948\n"
          ]
        }
      ]
    },
    {
      "cell_type": "code",
      "source": [
        "test_poly_5[0,:].shape"
      ],
      "metadata": {
        "id": "7S4ZIqUPGfdl",
        "outputId": "e6806eed-1378-4b66-991f-907e8eb5eb51",
        "colab": {
          "base_uri": "https://localhost:8080/"
        }
      },
      "execution_count": 32,
      "outputs": [
        {
          "output_type": "execute_result",
          "data": {
            "text/plain": [
              "(55,)"
            ]
          },
          "metadata": {},
          "execution_count": 32
        }
      ]
    },
    {
      "cell_type": "markdown",
      "metadata": {
        "id": "FK_x0kGzqkn-"
      },
      "source": [
        "\n",
        "#### Here $R^2$ becomes negative because $SS_{res}$ > $SS_{tot}$ due to overfitting\n",
        "\n",
        "$$ \\large R^2 = 1 - \\frac{SS_{\\text{res}}}{SS_{\\text{tot}}} $$\n",
        "\n",
        "\n",
        "\n",
        "\n",
        "\n",
        "\n"
      ]
    },
    {
      "cell_type": "markdown",
      "source": [
        "Overfitting occurs when the model fits with too much data.\n",
        "This can be resolved by using regularization term to generalize the model.\n",
        "Regularization can be done by adding a penalty to the weight parameters.\n",
        "L1 and L2 regularizations are the two forms of regularizations.\n",
        "\n",
        "A larger $\\lambda$ increases the strength of the regularization."
      ],
      "metadata": {
        "id": "lQ4IEIM833zS"
      }
    },
    {
      "cell_type": "markdown",
      "source": [
        "$$\\text {Lasso Regression- L1 Norm} : Min(Loss Function + \\lambda||w||_1)$$  \n",
        "$$\\text {Ridge Regression- L2 Norm} : Min(Loss Function + \\lambda||w||_2^2)$$"
      ],
      "metadata": {
        "id": "xKQHbowE4JDh"
      }
    },
    {
      "cell_type": "markdown",
      "metadata": {
        "id": "K2YMPSelQBpO"
      },
      "source": [
        "# Regularization"
      ]
    },
    {
      "cell_type": "markdown",
      "source": [
        "# Before applying regularization, standardization is necessary because regularization is scale sensitive"
      ],
      "metadata": {
        "id": "ik7rnZVfrTRr"
      }
    },
    {
      "cell_type": "markdown",
      "source": [
        "Standardization is a preprocessing technique used to scale the features of data so that they have a mean of 0 and a standard deviation of 1. It is represented as follows for each feature:\n",
        "\n",
        "\n",
        "$$\\large z=\\frac{(x-\\mu)}{\\sigma}$$\n",
        "\n",
        "    where:  z: standardized value,  x: original value,  μ: mean, σ: standard deviation.\n",
        "\n",
        "Machine Learning Algorithms perform better when the data is standardized, it ensures that all features contribute equally to the analysis."
      ],
      "metadata": {
        "id": "XpCsO49X6WY-"
      }
    },
    {
      "cell_type": "code",
      "execution_count": 33,
      "metadata": {
        "id": "hCC7wKy3QQrE"
      },
      "outputs": [],
      "source": [
        "from sklearn.preprocessing import StandardScaler\n",
        "\n",
        "ss = StandardScaler()\n",
        "ss.fit(train_poly_5)\n",
        "\n",
        "train_scaled = ss.transform(train_poly_5)\n",
        "test_scaled = ss.transform(test_poly_5)"
      ]
    },
    {
      "cell_type": "markdown",
      "metadata": {
        "id": "jUph9pH_KA9_"
      },
      "source": [
        "## Lasso : L1 regularization"
      ]
    },
    {
      "cell_type": "code",
      "execution_count": 34,
      "metadata": {
        "id": "Ymu-jmekh0IK",
        "outputId": "e32a6bc9-33ce-4eea-806e-5ec76c619ecb",
        "colab": {
          "base_uri": "https://localhost:8080/"
        }
      },
      "outputs": [
        {
          "output_type": "stream",
          "name": "stdout",
          "text": [
            "0.989789897208096\n"
          ]
        }
      ],
      "source": [
        "from sklearn.linear_model import Lasso\n",
        "\n",
        "lasso = Lasso()\n",
        "lasso.fit(train_scaled, train_y)\n",
        "print(lasso.score(train_scaled, train_y))"
      ]
    },
    {
      "cell_type": "code",
      "source": [
        "lasso?"
      ],
      "metadata": {
        "id": "_0Uy1yzPcnAI"
      },
      "execution_count": 35,
      "outputs": []
    },
    {
      "cell_type": "code",
      "execution_count": 36,
      "metadata": {
        "id": "t3jO37UMh2iI",
        "outputId": "83d8fe5b-cfd9-4fe0-8d9d-db2171a04570",
        "colab": {
          "base_uri": "https://localhost:8080/"
        }
      },
      "outputs": [
        {
          "output_type": "stream",
          "name": "stdout",
          "text": [
            "0.9800593698421883\n"
          ]
        }
      ],
      "source": [
        "print(lasso.score(test_scaled, test_y))"
      ]
    },
    {
      "cell_type": "markdown",
      "source": [
        "## Hyperparameter Choice\n",
        "   The $\\lambda$ value is implimented as 'alpha' parameter in sklearn; default=1.0"
      ],
      "metadata": {
        "id": "e9lquOyxLOst"
      }
    },
    {
      "cell_type": "code",
      "execution_count": 37,
      "metadata": {
        "id": "wXd3_Kq6hlbM",
        "outputId": "403db583-b691-43fa-bcee-7c024f3089bc",
        "colab": {
          "base_uri": "https://localhost:8080/"
        }
      },
      "outputs": [
        {
          "output_type": "stream",
          "name": "stderr",
          "text": [
            "/usr/local/lib/python3.10/dist-packages/sklearn/linear_model/_coordinate_descent.py:631: ConvergenceWarning: Objective did not converge. You might want to increase the number of iterations, check the scale of the features or consider increasing regularisation. Duality gap: 2.336e+04, tolerance: 5.183e+02\n",
            "  model = cd_fast.enet_coordinate_descent(\n",
            "/usr/local/lib/python3.10/dist-packages/sklearn/linear_model/_coordinate_descent.py:631: ConvergenceWarning: Objective did not converge. You might want to increase the number of iterations, check the scale of the features or consider increasing regularisation. Duality gap: 2.025e+04, tolerance: 5.183e+02\n",
            "  model = cd_fast.enet_coordinate_descent(\n",
            "/usr/local/lib/python3.10/dist-packages/sklearn/linear_model/_coordinate_descent.py:631: ConvergenceWarning: Objective did not converge. You might want to increase the number of iterations, check the scale of the features or consider increasing regularisation. Duality gap: 8.062e+02, tolerance: 5.183e+02\n",
            "  model = cd_fast.enet_coordinate_descent(\n"
          ]
        }
      ],
      "source": [
        "import matplotlib.pyplot as plt\n",
        "\n",
        "\n",
        "train_score_l = []\n",
        "test_score_l = []\n",
        "\n",
        "alpha_list = [0.001, 0.01, 0.1, 1, 10, 100]\n",
        "for alpha in alpha_list:\n",
        "    # lasso model\n",
        "    lasso = Lasso(alpha=alpha)\n",
        "    # train lasso model\n",
        "    lasso.fit(train_scaled, train_y)\n",
        "    # Save R-squares from train and test\n",
        "    train_score_l.append(lasso.score(train_scaled, train_y))\n",
        "    test_score_l.append(lasso.score(test_scaled, test_y))"
      ]
    },
    {
      "cell_type": "code",
      "source": [
        "test_score_l"
      ],
      "metadata": {
        "id": "0n69zSkXJnEG",
        "outputId": "0d50bf3b-9dfe-4c29-db69-07a9b9ba04fe",
        "colab": {
          "base_uri": "https://localhost:8080/"
        }
      },
      "execution_count": 39,
      "outputs": [
        {
          "output_type": "execute_result",
          "data": {
            "text/plain": [
              "[0.9836870822242811,\n",
              " 0.9836730006301534,\n",
              " 0.9819405116249363,\n",
              " 0.9800593698421883,\n",
              " 0.9824470598706695,\n",
              " 0.9089071866576974]"
            ]
          },
          "metadata": {},
          "execution_count": 39
        }
      ]
    },
    {
      "cell_type": "code",
      "execution_count": null,
      "metadata": {
        "id": "7rkH8Dvzh9UI",
        "outputId": "4f336989-5388-49e5-e384-b7a135b585e1",
        "colab": {
          "base_uri": "https://localhost:8080/"
        }
      },
      "outputs": [
        {
          "output_type": "display_data",
          "data": {
            "text/plain": [
              "<Figure size 640x480 with 1 Axes>"
            ],
            "image/png": "[encoded data removed]"
          },
          "metadata": {}
        }
      ],
      "source": [
        "plt.plot(np.log10(alpha_list), train_score_l)\n",
        "plt.plot(np.log10(alpha_list), test_score_l, color='red')\n",
        "plt.vlines(x=1, ymin=0.92, ymax=0.995, ls=':', color='red')\n",
        "plt.xlabel('alpha')\n",
        "plt.ylabel('R^2')\n",
        "plt.show()"
      ]
    },
    {
      "cell_type": "code",
      "execution_count": 40,
      "metadata": {
        "id": "t4uFD9Flh_Dw",
        "outputId": "2ce603ef-55cb-46f7-c3c5-7bdcec384ee5",
        "colab": {
          "base_uri": "https://localhost:8080/"
        }
      },
      "outputs": [
        {
          "output_type": "stream",
          "name": "stdout",
          "text": [
            "0.9888067471131867\n",
            "0.9824470598706695\n"
          ]
        }
      ],
      "source": [
        "lasso = Lasso(alpha=10)\n",
        "lasso.fit(train_scaled, train_y)\n",
        "\n",
        "print(lasso.score(train_scaled, train_y))\n",
        "print(lasso.score(test_scaled, test_y))"
      ]
    },
    {
      "cell_type": "code",
      "source": [
        "# 40 out of 55 coefficients are reduced to 0.\n",
        "print(len(lasso.coef_))\n",
        "print(np.sum(lasso.coef_==0))\n",
        "\n",
        "# Although 55 features were fed into the model, the ridge model only used 15 of them.\n",
        "# Due to this characteristic,the ridge (or lasso) model can also be used for feature selection purposes."
      ],
      "metadata": {
        "id": "YdLVwY11qJM1",
        "outputId": "b2494577-925f-475c-979d-5fb06d3e3c45",
        "colab": {
          "base_uri": "https://localhost:8080/"
        }
      },
      "execution_count": 41,
      "outputs": [
        {
          "output_type": "stream",
          "name": "stdout",
          "text": [
            "55\n",
            "40\n"
          ]
        }
      ]
    },
    {
      "cell_type": "code",
      "source": [
        "# Show the name of the coefficients that is greater than 0 in the lass model\n",
        "\n",
        "lasso_coef = pd.Series(lasso.coef_, poly_5.get_feature_names_out())\n",
        "lasso_coef[lasso_coef != 0]\n"
      ],
      "metadata": {
        "id": "D3iuLzdtemFb",
        "outputId": "63061097-1695-4f19-b7b0-4f326d29b24c",
        "colab": {
          "base_uri": "https://localhost:8080/"
        }
      },
      "execution_count": 42,
      "outputs": [
        {
          "output_type": "execute_result",
          "data": {
            "text/plain": [
              "x0^2        12.148525\n",
              "x0 x1       55.448564\n",
              "x0 x2       42.231008\n",
              "x2^2        13.705962\n",
              "x0^2 x1     43.218595\n",
              "x0^2 x2      5.703378\n",
              "x0 x1^2     47.462545\n",
              "x0 x1 x2     7.423094\n",
              "x0 x2^2     11.858234\n",
              "x1 x2^2     13.530382\n",
              "x2^3        21.221114\n",
              "x0 x1^3     18.669930\n",
              "x1^4        15.810418\n",
              "x0 x1^4     18.146723\n",
              "x1^5        15.512730\n",
              "dtype: float64"
            ]
          },
          "metadata": {},
          "execution_count": 42
        }
      ]
    },
    {
      "cell_type": "markdown",
      "metadata": {
        "id": "qyLI7JQsJ7RQ"
      },
      "source": [
        "## Ridge : L2 regularization"
      ]
    },
    {
      "cell_type": "code",
      "execution_count": null,
      "metadata": {
        "id": "LdNuDNQGQipv",
        "outputId": "8666c8f2-c4c4-4e41-d95d-8d702295fcae",
        "colab": {
          "base_uri": "https://localhost:8080/"
        }
      },
      "outputs": [
        {
          "output_type": "stream",
          "name": "stdout",
          "text": [
            "0.9896101671037343\n"
          ]
        }
      ],
      "source": [
        "from sklearn.linear_model import Ridge\n",
        "\n",
        "ridge = Ridge()\n",
        "ridge.fit(train_scaled, train_y)\n",
        "print(ridge.score(train_scaled, train_y))"
      ]
    },
    {
      "cell_type": "code",
      "source": [
        "ridge?"
      ],
      "metadata": {
        "id": "06WiRjTfMWoj"
      },
      "execution_count": null,
      "outputs": []
    },
    {
      "cell_type": "code",
      "execution_count": null,
      "metadata": {
        "id": "p5mXLecwhdnF",
        "outputId": "eb66cd25-e74d-46a4-ce26-6c778ebe5010",
        "colab": {
          "base_uri": "https://localhost:8080/"
        }
      },
      "outputs": [
        {
          "output_type": "stream",
          "name": "stdout",
          "text": [
            "0.9790693977615387\n"
          ]
        }
      ],
      "source": [
        "print(ridge.score(test_scaled, test_y))"
      ]
    },
    {
      "cell_type": "code",
      "source": [
        "train_score_r = []\n",
        "test_score_r = []"
      ],
      "metadata": {
        "id": "K-TSddFBKJRI"
      },
      "execution_count": null,
      "outputs": []
    },
    {
      "cell_type": "code",
      "execution_count": null,
      "metadata": {
        "id": "9MvIvQOrhfqC"
      },
      "outputs": [],
      "source": [
        "alpha_list = [0.001, 0.01, 0.1, 1, 10, 100]\n",
        "# Increase the alpha value in increments of 10 times from 0.001 to 100\n",
        "# while training the Ridge regression model.\n",
        "\n",
        "for alpha in alpha_list:\n",
        "    # ridge model\n",
        "    ridge = Ridge(alpha=alpha)\n",
        "    # train ridge model\n",
        "    ridge.fit(train_scaled, train_y)\n",
        "    # Save R squares\n",
        "    train_score_r.append(ridge.score(train_scaled, train_y))\n",
        "    test_score_r.append(ridge.score(test_scaled, test_y))"
      ]
    },
    {
      "cell_type": "code",
      "execution_count": null,
      "metadata": {
        "id": "95DjrJxlhiow",
        "outputId": "51cdc32e-8393-4a28-99f8-427847125528",
        "colab": {
          "base_uri": "https://localhost:8080/"
        }
      },
      "outputs": [
        {
          "output_type": "display_data",
          "data": {
            "text/plain": [
              "<Figure size 640x480 with 1 Axes>"
            ],
            "image/png": "[encoded data removed]"
          },
          "metadata": {}
        }
      ],
      "source": [
        "plt.plot(np.log10(alpha_list), train_score_r)\n",
        "plt.plot(np.log10(alpha_list), test_score_r)\n",
        "#plt.vlines(x=-1, ymin=0.955, ymax=0.999, ls=':', color='r')\n",
        "plt.xlabel('$alpha$')\n",
        "plt.ylabel('$R^2$')\n",
        "plt.show()"
      ]
    },
    {
      "cell_type": "code",
      "execution_count": null,
      "metadata": {
        "id": "5S5vhi-vhjzT",
        "colab": {
          "base_uri": "https://localhost:8080/"
        },
        "outputId": "d7a02ca6-e366-41da-9243-534940eac5b9"
      },
      "outputs": [
        {
          "output_type": "stream",
          "name": "stdout",
          "text": [
            "0.9896101671037343\n",
            "0.9790693977615387\n"
          ]
        }
      ],
      "source": [
        "ridge = Ridge()\n",
        "ridge.fit(train_scaled, train_y)\n",
        "\n",
        "print(ridge.score(train_scaled, train_y))\n",
        "print(ridge.score(test_scaled, test_y))"
      ]
    },
    {
      "cell_type": "code",
      "source": [
        "# fix the code in the cell above to optimize ridge regression by modifying hypterparameter alpha here.\n",
        "\n",
        "\n",
        "\n",
        "\n",
        "\n"
      ],
      "metadata": {
        "id": "aXJhqiY4qL4L"
      },
      "execution_count": null,
      "outputs": []
    }
  ],
  "metadata": {
    "colab": {
      "provenance": [],
      "toc_visible": true,
      "collapsed_sections": [
        "fZwhQU2l8tI6",
        "y5uMFE_8V1tx",
        "PdDAslHzNk3H",
        "BnepO6I2E1fW",
        "ik7rnZVfrTRr",
        "jUph9pH_KA9_",
        "e9lquOyxLOst",
        "qyLI7JQsJ7RQ"
      ],
      "include_colab_link": true
    },
    "kernelspec": {
      "display_name": "Python 3 (ipykernel)",
      "language": "python",
      "name": "python3"
    },
    "language_info": {
      "codemirror_mode": {
        "name": "ipython",
        "version": 3
      },
      "file_extension": ".py",
      "mimetype": "text/x-python",
      "name": "python",
      "nbconvert_exporter": "python",
      "pygments_lexer": "ipython3",
      "version": "3.10.9"
    }
  },
  "nbformat": 4,
  "nbformat_minor": 0
}