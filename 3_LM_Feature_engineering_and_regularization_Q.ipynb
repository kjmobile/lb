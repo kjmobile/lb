{
 "cells": [
  {
   "cell_type": "markdown",
   "metadata": {
    "colab_type": "text",
    "id": "view-in-github"
   },
   "source": [
    "<a href=\"https://colab.research.google.com/github/kjmobile/lb/blob/main/3_LM_Feature_engineering_and_regularization_Q.ipynb\" target=\"_parent\"><img src=\"https://colab.research.google.com/assets/colab-badge.svg\" alt=\"Open In Colab\"/></a>"
   ]
  },
  {
   "cell_type": "markdown",
   "metadata": {
    "id": "XjTc5n2flYUu"
   },
   "source": [
    "# Feature Engineering and Regularization"
   ]
  },
  {
   "cell_type": "markdown",
   "metadata": {
    "id": "fZwhQU2l8tI6"
   },
   "source": [
    "## Data Prep"
   ]
  },
  {
   "cell_type": "code",
   "execution_count": 275,
   "metadata": {
    "colab": {
     "base_uri": "https://localhost:8080/"
    },
    "id": "3kjaTfOqEVwY",
    "outputId": "72984e74-ef74-46f2-9806-ad4a454ad32c"
   },
   "outputs": [],
   "source": [
    "import pandas as pd\n",
    "import numpy as np\n",
    "import pymysql.cursors"
   ]
  },
  {
   "cell_type": "code",
   "execution_count": 442,
   "metadata": {
    "colab": {
     "base_uri": "https://localhost:8080/"
    },
    "id": "W6ELIIRzZzEl",
    "outputId": "d5fbdb3c-84bf-4e89-ed9f-6f3655c12b9d"
   },
   "outputs": [
    {
     "name": "stdout",
     "output_type": "stream",
     "text": [
      "    Weight  Length   Height   Width\n",
      "0        5     8.4   2.1120  1.4080\n",
      "1       32    13.7   3.5280  1.9992\n",
      "2       40    15.0   3.8240  2.4320\n",
      "3       51    16.2   4.5924  2.6316\n",
      "4       70    17.4   4.5880  2.9415\n",
      "5      100    18.0   5.2224  3.3216\n",
      "6       78    18.7   5.1992  3.1234\n",
      "7       80    19.0   5.6358  3.0502\n",
      "8       85    19.6   5.1376  3.0368\n",
      "9       85    20.0   5.0820  2.7720\n",
      "10     110    21.0   5.6925  3.5550\n",
      "11     115    21.0   5.9175  3.3075\n",
      "12     125    21.0   5.6925  3.6675\n",
      "13     130    21.3   6.3840  3.5340\n",
      "14     120    22.0   6.1100  3.4075\n",
      "15     120    22.0   5.6400  3.5250\n",
      "16     130    22.0   6.1100  3.5250\n",
      "17     135    22.0   5.8750  3.5250\n",
      "18     110    22.0   5.5225  3.9950\n",
      "19     130    22.5   5.8560  3.6240\n",
      "20     150    22.5   6.7920  3.6240\n",
      "21     145    22.7   5.9532  3.6300\n",
      "22     150    23.0   5.2185  3.6260\n",
      "23     170    23.5   6.2750  3.7250\n",
      "24     225    24.0   7.2930  3.7230\n",
      "25     145    24.0   6.3750  3.8250\n",
      "26     188    24.6   6.7334  4.1658\n",
      "27     180    25.0   6.4395  3.6835\n",
      "28     197    25.6   6.5610  4.2390\n",
      "29     218    26.5   7.1680  4.1440\n",
      "30     300    27.3   8.3230  5.1373\n",
      "31     260    27.5   7.1672  4.3350\n",
      "32     265    27.5   7.0516  4.3350\n",
      "33     250    27.5   7.2828  4.5662\n",
      "34     250    28.0   7.8204  4.2042\n",
      "35     300    28.7   7.5852  4.6354\n",
      "36     320    30.0   7.6156  4.7716\n",
      "37     514    32.8  10.0300  6.0180\n",
      "38     556    34.5  10.2565  6.3875\n",
      "39     840    35.0  11.4884  7.7957\n",
      "40     685    36.5  10.8810  6.8640\n",
      "41     700    36.0  10.6091  6.7408\n",
      "42     700    37.0  10.8350  6.2646\n",
      "43     690    37.0  10.5717  6.3666\n",
      "44     900    39.0  11.1366  7.4934\n",
      "45     650    39.0  11.1366  6.0030\n",
      "46     820    39.0  12.4313  7.3514\n",
      "47     850    40.0  11.9286  7.1064\n",
      "48     900    40.0  11.7300  7.2250\n",
      "49    1015    40.0  12.3808  7.4624\n",
      "50     820    40.0  11.1350  6.6300\n",
      "51    1100    42.0  12.8002  6.8684\n",
      "52    1000    43.0  11.9328  7.2772\n",
      "53    1100    43.0  12.5125  7.4165\n",
      "54    1000    43.5  12.6040  8.1420\n",
      "55    1000    44.0  12.4888  7.5958\n"
     ]
    }
   ],
   "source": [
    "import pymysql.cursors\n",
    "# Connect to the database\n",
    "connection = pymysql.connect(host='kaylee-db.cbgcswckszgl.us-east-1.rds.amazonaws.com',\n",
    "                             user='cob',\n",
    "                             password='1212',\n",
    "                             db='data',\n",
    "                             cursorclass=pymysql.cursors.DictCursor)\n",
    "\n",
    "try:\n",
    "    # Create a cursor object\n",
    "    with connection.cursor() as cursor:\n",
    "        # Execute the SQL query to fetch all data from the 'data' table\n",
    "        cursor.execute(\"SELECT * FROM data.fish\")\n",
    "\n",
    "        # Fetch all the results\n",
    "        results = cursor.fetchall()\n",
    "\n",
    "        # Convert the results to a Pandas DataFrame\n",
    "        fish_data = pd.DataFrame(results)\n",
    "        fish_data = fish_data[fish_data['Species']=='Perch'] \n",
    "        fish_df=fish_data.iloc[:,[1,2,4,5]].reset_index(drop=True)\n",
    "\n",
    "finally:\n",
    "    # Close the connection\n",
    "    connection.close()\n",
    "\n",
    "# Print the DataFrame\n",
    "print(fish_df)\n"
   ]
  },
  {
   "cell_type": "code",
   "execution_count": 452,
   "metadata": {
    "colab": {
     "base_uri": "https://localhost:8080/"
    },
    "id": "8qmTS1RzKRKT",
    "outputId": "efc6775b-f15b-45ee-9d4f-9dc6f802ca37"
   },
   "outputs": [
    {
     "data": {
      "text/plain": [
       "array([[ 5.    ,  8.4   ,  2.112 ,  1.408 ],\n",
       "       [32.    , 13.7   ,  3.528 ,  1.9992],\n",
       "       [40.    , 15.    ,  3.824 ,  2.432 ],\n",
       "       [51.    , 16.2   ,  4.5924,  2.6316],\n",
       "       [70.    , 17.4   ,  4.588 ,  2.9415]])"
      ]
     },
     "execution_count": 452,
     "metadata": {},
     "output_type": "execute_result"
    }
   ],
   "source": [
    "fish = fish_df.to_numpy()\n",
    "fish[:5,:]"
   ]
  },
  {
   "cell_type": "code",
   "execution_count": 460,
   "metadata": {
    "id": "cRKkoWoZ9J0m"
   },
   "outputs": [],
   "source": [
    "# We will use weight as target y,  and  length, Height, Width as X.\n",
    "from sklearn.model_selection import train_test_split\n",
    "train_X, test_X, train_y, test_y = train_test_split(fish[:,1:], fish[:,0], random_state=42)"
   ]
  },
  {
   "cell_type": "code",
   "execution_count": 456,
   "metadata": {},
   "outputs": [
    {
     "data": {
      "text/plain": [
       "(42, 3)"
      ]
     },
     "execution_count": 456,
     "metadata": {},
     "output_type": "execute_result"
    }
   ],
   "source": [
    "train_X.shape"
   ]
  },
  {
   "cell_type": "code",
   "execution_count": 458,
   "metadata": {},
   "outputs": [
    {
     "data": {
      "text/plain": [
       "array([  85.,  135.,   78.,   70.,  700.,  180.,  850.,  820., 1000.,\n",
       "        120.,   85.,  130.,  225.,  260., 1100.,  900.,  145.,  115.,\n",
       "        265., 1015.,  514.,  218.,  685.,   32.,  145.,   40.,  690.,\n",
       "        840.,  300.,  170.,  650.,  110.,  150.,  110., 1000.,  150.,\n",
       "         80.,  700.,  120.,  197., 1100.,  556.])"
      ]
     },
     "execution_count": 458,
     "metadata": {},
     "output_type": "execute_result"
    }
   ],
   "source": [
    "train_y"
   ]
  },
  {
   "cell_type": "markdown",
   "metadata": {
    "id": "y5uMFE_8V1tx"
   },
   "source": [
    "## Preprocessing - Feature engineering"
   ]
  },
  {
   "cell_type": "code",
   "execution_count": 462,
   "metadata": {
    "id": "EclugdXmSs-L"
   },
   "outputs": [],
   "source": [
    "from sklearn.preprocessing import PolynomialFeatures"
   ]
  },
  {
   "cell_type": "code",
   "execution_count": 464,
   "metadata": {
    "id": "__kE6eJdNZfm"
   },
   "outputs": [],
   "source": [
    "poly = PolynomialFeatures(degree = 2, include_bias=False) # degree=2 is default\n",
    "\n",
    "poly.fit(train_X)\n",
    "train_poly = poly.transform(train_X)"
   ]
  },
  {
   "cell_type": "code",
   "execution_count": 466,
   "metadata": {
    "colab": {
     "base_uri": "https://localhost:8080/"
    },
    "id": "2a_lmkKle4kF",
    "outputId": "54036bf6-1e87-4337-c680-af02b5f56792"
   },
   "outputs": [
    {
     "name": "stdout",
     "output_type": "stream",
     "text": [
      "(42, 9)\n"
     ]
    }
   ],
   "source": [
    "print(train_poly.shape)"
   ]
  },
  {
   "cell_type": "code",
   "execution_count": 468,
   "metadata": {
    "colab": {
     "base_uri": "https://localhost:8080/"
    },
    "id": "KXES3XEYj4E2",
    "outputId": "567a19b2-43a2-4b74-b1bb-296f33a156c7"
   },
   "outputs": [
    {
     "data": {
      "text/plain": [
       "array([[  19.6       ,    5.1376    ,    3.0368    ,  384.16      ,\n",
       "         100.69696   ,   59.52128   ,   26.39493376,   15.60186368,\n",
       "           9.22215424],\n",
       "       [  22.        ,    5.875     ,    3.525     ,  484.        ,\n",
       "         129.25      ,   77.55      ,   34.515625  ,   20.709375  ,\n",
       "          12.425625  ],\n",
       "       [  18.7       ,    5.1992    ,    3.1234    ,  349.69      ,\n",
       "          97.22504   ,   58.40758   ,   27.03168064,   16.23918128,\n",
       "           9.75562756],\n",
       "       [  17.4       ,    4.588     ,    2.9415    ,  302.76      ,\n",
       "          79.8312    ,   51.1821    ,   21.049744  ,   13.495602  ,\n",
       "           8.65242225],\n",
       "       [  36.        ,   10.6091    ,    6.7408    , 1296.        ,\n",
       "         381.9276    ,  242.6688    ,  112.55300281,   71.51382128,\n",
       "          45.43838464]])"
      ]
     },
     "execution_count": 468,
     "metadata": {},
     "output_type": "execute_result"
    }
   ],
   "source": [
    "train_poly[:5]"
   ]
  },
  {
   "cell_type": "code",
   "execution_count": 470,
   "metadata": {},
   "outputs": [
    {
     "data": {
      "text/plain": [
       "array([[  19.6       ,    5.1376    ,    3.0368    ,  384.16      ,\n",
       "         100.69696   ,   59.52128   ,   26.39493376,   15.60186368,\n",
       "           9.22215424],\n",
       "       [  22.        ,    5.875     ,    3.525     ,  484.        ,\n",
       "         129.25      ,   77.55      ,   34.515625  ,   20.709375  ,\n",
       "          12.425625  ],\n",
       "       [  18.7       ,    5.1992    ,    3.1234    ,  349.69      ,\n",
       "          97.22504   ,   58.40758   ,   27.03168064,   16.23918128,\n",
       "           9.75562756],\n",
       "       [  17.4       ,    4.588     ,    2.9415    ,  302.76      ,\n",
       "          79.8312    ,   51.1821    ,   21.049744  ,   13.495602  ,\n",
       "           8.65242225],\n",
       "       [  36.        ,   10.6091    ,    6.7408    , 1296.        ,\n",
       "         381.9276    ,  242.6688    ,  112.55300281,   71.51382128,\n",
       "          45.43838464]])"
      ]
     },
     "execution_count": 470,
     "metadata": {},
     "output_type": "execute_result"
    }
   ],
   "source": [
    "np.set_printoptions(suppress=True) # suppress scientific notation\n",
    "train_poly[:5]"
   ]
  },
  {
   "cell_type": "code",
   "execution_count": 472,
   "metadata": {},
   "outputs": [
    {
     "data": {
      "text/plain": [
       "array(['x0', 'x1', 'x2', 'x0^2', 'x0 x1', 'x0 x2', 'x1^2', 'x1 x2',\n",
       "       'x2^2'], dtype=object)"
      ]
     },
     "execution_count": 472,
     "metadata": {},
     "output_type": "execute_result"
    }
   ],
   "source": [
    "poly.get_feature_names_out()"
   ]
  },
  {
   "cell_type": "code",
   "execution_count": 482,
   "metadata": {
    "id": "DJMPxe2mgbOo"
   },
   "outputs": [],
   "source": [
    "#Now, transform the test set using the same poly class used for train set.\n",
    "test_poly = poly.transform(test_X)"
   ]
  },
  {
   "cell_type": "code",
   "execution_count": 484,
   "metadata": {
    "colab": {
     "base_uri": "https://localhost:8080/"
    },
    "id": "Lr4ulTbZn0tz",
    "outputId": "5e25b76c-0f38-48bb-8b68-26123e3a87b5"
   },
   "outputs": [
    {
     "data": {
      "text/plain": [
       "array([[  8.4       ,   2.112     ,   1.408     ,  70.56      ,\n",
       "         17.7408    ,  11.8272    ,   4.460544  ,   2.973696  ,\n",
       "          1.982464  ],\n",
       "       [ 18.        ,   5.2224    ,   3.3216    , 324.        ,\n",
       "         94.0032    ,  59.7888    ,  27.27346176,  17.34672384,\n",
       "         11.03302656]])"
      ]
     },
     "execution_count": 484,
     "metadata": {},
     "output_type": "execute_result"
    }
   ],
   "source": [
    "test_poly[:2]"
   ]
  },
  {
   "cell_type": "markdown",
   "metadata": {
    "id": "PdDAslHzNk3H"
   },
   "source": [
    "## Train Multple Regression"
   ]
  },
  {
   "cell_type": "code",
   "execution_count": 486,
   "metadata": {
    "colab": {
     "base_uri": "https://localhost:8080/"
    },
    "id": "E9ygy-8WOvIP",
    "outputId": "17e41c9e-b6f0-4cfc-b2dd-e565fa84413f"
   },
   "outputs": [
    {
     "name": "stdout",
     "output_type": "stream",
     "text": [
      "0.9903557670312702\n"
     ]
    }
   ],
   "source": [
    "from sklearn.linear_model import LinearRegression\n",
    "\n",
    "m0 = LinearRegression()\n",
    "m0.fit(train_poly, train_y)\n",
    "print(m0.score(train_poly, train_y))"
   ]
  },
  {
   "cell_type": "code",
   "execution_count": 488,
   "metadata": {
    "colab": {
     "base_uri": "https://localhost:8080/"
    },
    "id": "GKKyfFcAd7zm",
    "outputId": "abd2bd47-b055-4832-bca1-188cd8b86b0b"
   },
   "outputs": [
    {
     "name": "stdout",
     "output_type": "stream",
     "text": [
      "0.971233586496846\n"
     ]
    }
   ],
   "source": [
    "print(m0.score(test_poly, test_y))\n"
   ]
  },
  {
   "cell_type": "markdown",
   "metadata": {
    "id": "BnepO6I2E1fW"
   },
   "source": [
    "## The result was greate! \n",
    "## But what if we increase the degree from default 2 to 5 in PolynomialFeatures() method?"
   ]
  },
  {
   "cell_type": "code",
   "execution_count": 493,
   "metadata": {
    "id": "__VzhQM6FDi_"
   },
   "outputs": [],
   "source": [
    "poly_5 = PolynomialFeatures(degree = 5, include_bias=False)\n",
    "\n",
    "poly_5.fit(train_X)\n",
    "train_poly_5 = poly_5.transform(train_X)\n",
    "test_poly_5 = poly_5.transform(test_X)"
   ]
  },
  {
   "cell_type": "code",
   "execution_count": 497,
   "metadata": {
    "colab": {
     "base_uri": "https://localhost:8080/",
     "height": 75
    },
    "id": "csOSNIflFkoZ",
    "outputId": "c4b061da-f89b-4383-ceef-cb9cf42c12b9"
   },
   "outputs": [
    {
     "data": {
      "text/html": [
       "<style>#sk-container-id-4 {\n",
       "  /* Definition of color scheme common for light and dark mode */\n",
       "  --sklearn-color-text: black;\n",
       "  --sklearn-color-line: gray;\n",
       "  /* Definition of color scheme for unfitted estimators */\n",
       "  --sklearn-color-unfitted-level-0: #fff5e6;\n",
       "  --sklearn-color-unfitted-level-1: #f6e4d2;\n",
       "  --sklearn-color-unfitted-level-2: #ffe0b3;\n",
       "  --sklearn-color-unfitted-level-3: chocolate;\n",
       "  /* Definition of color scheme for fitted estimators */\n",
       "  --sklearn-color-fitted-level-0: #f0f8ff;\n",
       "  --sklearn-color-fitted-level-1: #d4ebff;\n",
       "  --sklearn-color-fitted-level-2: #b3dbfd;\n",
       "  --sklearn-color-fitted-level-3: cornflowerblue;\n",
       "\n",
       "  /* Specific color for light theme */\n",
       "  --sklearn-color-text-on-default-background: var(--sg-text-color, var(--theme-code-foreground, var(--jp-content-font-color1, black)));\n",
       "  --sklearn-color-background: var(--sg-background-color, var(--theme-background, var(--jp-layout-color0, white)));\n",
       "  --sklearn-color-border-box: var(--sg-text-color, var(--theme-code-foreground, var(--jp-content-font-color1, black)));\n",
       "  --sklearn-color-icon: #696969;\n",
       "\n",
       "  @media (prefers-color-scheme: dark) {\n",
       "    /* Redefinition of color scheme for dark theme */\n",
       "    --sklearn-color-text-on-default-background: var(--sg-text-color, var(--theme-code-foreground, var(--jp-content-font-color1, white)));\n",
       "    --sklearn-color-background: var(--sg-background-color, var(--theme-background, var(--jp-layout-color0, #111)));\n",
       "    --sklearn-color-border-box: var(--sg-text-color, var(--theme-code-foreground, var(--jp-content-font-color1, white)));\n",
       "    --sklearn-color-icon: #878787;\n",
       "  }\n",
       "}\n",
       "\n",
       "#sk-container-id-4 {\n",
       "  color: var(--sklearn-color-text);\n",
       "}\n",
       "\n",
       "#sk-container-id-4 pre {\n",
       "  padding: 0;\n",
       "}\n",
       "\n",
       "#sk-container-id-4 input.sk-hidden--visually {\n",
       "  border: 0;\n",
       "  clip: rect(1px 1px 1px 1px);\n",
       "  clip: rect(1px, 1px, 1px, 1px);\n",
       "  height: 1px;\n",
       "  margin: -1px;\n",
       "  overflow: hidden;\n",
       "  padding: 0;\n",
       "  position: absolute;\n",
       "  width: 1px;\n",
       "}\n",
       "\n",
       "#sk-container-id-4 div.sk-dashed-wrapped {\n",
       "  border: 1px dashed var(--sklearn-color-line);\n",
       "  margin: 0 0.4em 0.5em 0.4em;\n",
       "  box-sizing: border-box;\n",
       "  padding-bottom: 0.4em;\n",
       "  background-color: var(--sklearn-color-background);\n",
       "}\n",
       "\n",
       "#sk-container-id-4 div.sk-container {\n",
       "  /* jupyter's `normalize.less` sets `[hidden] { display: none; }`\n",
       "     but bootstrap.min.css set `[hidden] { display: none !important; }`\n",
       "     so we also need the `!important` here to be able to override the\n",
       "     default hidden behavior on the sphinx rendered scikit-learn.org.\n",
       "     See: https://github.com/scikit-learn/scikit-learn/issues/21755 */\n",
       "  display: inline-block !important;\n",
       "  position: relative;\n",
       "}\n",
       "\n",
       "#sk-container-id-4 div.sk-text-repr-fallback {\n",
       "  display: none;\n",
       "}\n",
       "\n",
       "div.sk-parallel-item,\n",
       "div.sk-serial,\n",
       "div.sk-item {\n",
       "  /* draw centered vertical line to link estimators */\n",
       "  background-image: linear-gradient(var(--sklearn-color-text-on-default-background), var(--sklearn-color-text-on-default-background));\n",
       "  background-size: 2px 100%;\n",
       "  background-repeat: no-repeat;\n",
       "  background-position: center center;\n",
       "}\n",
       "\n",
       "/* Parallel-specific style estimator block */\n",
       "\n",
       "#sk-container-id-4 div.sk-parallel-item::after {\n",
       "  content: \"\";\n",
       "  width: 100%;\n",
       "  border-bottom: 2px solid var(--sklearn-color-text-on-default-background);\n",
       "  flex-grow: 1;\n",
       "}\n",
       "\n",
       "#sk-container-id-4 div.sk-parallel {\n",
       "  display: flex;\n",
       "  align-items: stretch;\n",
       "  justify-content: center;\n",
       "  background-color: var(--sklearn-color-background);\n",
       "  position: relative;\n",
       "}\n",
       "\n",
       "#sk-container-id-4 div.sk-parallel-item {\n",
       "  display: flex;\n",
       "  flex-direction: column;\n",
       "}\n",
       "\n",
       "#sk-container-id-4 div.sk-parallel-item:first-child::after {\n",
       "  align-self: flex-end;\n",
       "  width: 50%;\n",
       "}\n",
       "\n",
       "#sk-container-id-4 div.sk-parallel-item:last-child::after {\n",
       "  align-self: flex-start;\n",
       "  width: 50%;\n",
       "}\n",
       "\n",
       "#sk-container-id-4 div.sk-parallel-item:only-child::after {\n",
       "  width: 0;\n",
       "}\n",
       "\n",
       "/* Serial-specific style estimator block */\n",
       "\n",
       "#sk-container-id-4 div.sk-serial {\n",
       "  display: flex;\n",
       "  flex-direction: column;\n",
       "  align-items: center;\n",
       "  background-color: var(--sklearn-color-background);\n",
       "  padding-right: 1em;\n",
       "  padding-left: 1em;\n",
       "}\n",
       "\n",
       "\n",
       "/* Toggleable style: style used for estimator/Pipeline/ColumnTransformer box that is\n",
       "clickable and can be expanded/collapsed.\n",
       "- Pipeline and ColumnTransformer use this feature and define the default style\n",
       "- Estimators will overwrite some part of the style using the `sk-estimator` class\n",
       "*/\n",
       "\n",
       "/* Pipeline and ColumnTransformer style (default) */\n",
       "\n",
       "#sk-container-id-4 div.sk-toggleable {\n",
       "  /* Default theme specific background. It is overwritten whether we have a\n",
       "  specific estimator or a Pipeline/ColumnTransformer */\n",
       "  background-color: var(--sklearn-color-background);\n",
       "}\n",
       "\n",
       "/* Toggleable label */\n",
       "#sk-container-id-4 label.sk-toggleable__label {\n",
       "  cursor: pointer;\n",
       "  display: block;\n",
       "  width: 100%;\n",
       "  margin-bottom: 0;\n",
       "  padding: 0.5em;\n",
       "  box-sizing: border-box;\n",
       "  text-align: center;\n",
       "}\n",
       "\n",
       "#sk-container-id-4 label.sk-toggleable__label-arrow:before {\n",
       "  /* Arrow on the left of the label */\n",
       "  content: \"▸\";\n",
       "  float: left;\n",
       "  margin-right: 0.25em;\n",
       "  color: var(--sklearn-color-icon);\n",
       "}\n",
       "\n",
       "#sk-container-id-4 label.sk-toggleable__label-arrow:hover:before {\n",
       "  color: var(--sklearn-color-text);\n",
       "}\n",
       "\n",
       "/* Toggleable content - dropdown */\n",
       "\n",
       "#sk-container-id-4 div.sk-toggleable__content {\n",
       "  max-height: 0;\n",
       "  max-width: 0;\n",
       "  overflow: hidden;\n",
       "  text-align: left;\n",
       "  /* unfitted */\n",
       "  background-color: var(--sklearn-color-unfitted-level-0);\n",
       "}\n",
       "\n",
       "#sk-container-id-4 div.sk-toggleable__content.fitted {\n",
       "  /* fitted */\n",
       "  background-color: var(--sklearn-color-fitted-level-0);\n",
       "}\n",
       "\n",
       "#sk-container-id-4 div.sk-toggleable__content pre {\n",
       "  margin: 0.2em;\n",
       "  border-radius: 0.25em;\n",
       "  color: var(--sklearn-color-text);\n",
       "  /* unfitted */\n",
       "  background-color: var(--sklearn-color-unfitted-level-0);\n",
       "}\n",
       "\n",
       "#sk-container-id-4 div.sk-toggleable__content.fitted pre {\n",
       "  /* unfitted */\n",
       "  background-color: var(--sklearn-color-fitted-level-0);\n",
       "}\n",
       "\n",
       "#sk-container-id-4 input.sk-toggleable__control:checked~div.sk-toggleable__content {\n",
       "  /* Expand drop-down */\n",
       "  max-height: 200px;\n",
       "  max-width: 100%;\n",
       "  overflow: auto;\n",
       "}\n",
       "\n",
       "#sk-container-id-4 input.sk-toggleable__control:checked~label.sk-toggleable__label-arrow:before {\n",
       "  content: \"▾\";\n",
       "}\n",
       "\n",
       "/* Pipeline/ColumnTransformer-specific style */\n",
       "\n",
       "#sk-container-id-4 div.sk-label input.sk-toggleable__control:checked~label.sk-toggleable__label {\n",
       "  color: var(--sklearn-color-text);\n",
       "  background-color: var(--sklearn-color-unfitted-level-2);\n",
       "}\n",
       "\n",
       "#sk-container-id-4 div.sk-label.fitted input.sk-toggleable__control:checked~label.sk-toggleable__label {\n",
       "  background-color: var(--sklearn-color-fitted-level-2);\n",
       "}\n",
       "\n",
       "/* Estimator-specific style */\n",
       "\n",
       "/* Colorize estimator box */\n",
       "#sk-container-id-4 div.sk-estimator input.sk-toggleable__control:checked~label.sk-toggleable__label {\n",
       "  /* unfitted */\n",
       "  background-color: var(--sklearn-color-unfitted-level-2);\n",
       "}\n",
       "\n",
       "#sk-container-id-4 div.sk-estimator.fitted input.sk-toggleable__control:checked~label.sk-toggleable__label {\n",
       "  /* fitted */\n",
       "  background-color: var(--sklearn-color-fitted-level-2);\n",
       "}\n",
       "\n",
       "#sk-container-id-4 div.sk-label label.sk-toggleable__label,\n",
       "#sk-container-id-4 div.sk-label label {\n",
       "  /* The background is the default theme color */\n",
       "  color: var(--sklearn-color-text-on-default-background);\n",
       "}\n",
       "\n",
       "/* On hover, darken the color of the background */\n",
       "#sk-container-id-4 div.sk-label:hover label.sk-toggleable__label {\n",
       "  color: var(--sklearn-color-text);\n",
       "  background-color: var(--sklearn-color-unfitted-level-2);\n",
       "}\n",
       "\n",
       "/* Label box, darken color on hover, fitted */\n",
       "#sk-container-id-4 div.sk-label.fitted:hover label.sk-toggleable__label.fitted {\n",
       "  color: var(--sklearn-color-text);\n",
       "  background-color: var(--sklearn-color-fitted-level-2);\n",
       "}\n",
       "\n",
       "/* Estimator label */\n",
       "\n",
       "#sk-container-id-4 div.sk-label label {\n",
       "  font-family: monospace;\n",
       "  font-weight: bold;\n",
       "  display: inline-block;\n",
       "  line-height: 1.2em;\n",
       "}\n",
       "\n",
       "#sk-container-id-4 div.sk-label-container {\n",
       "  text-align: center;\n",
       "}\n",
       "\n",
       "/* Estimator-specific */\n",
       "#sk-container-id-4 div.sk-estimator {\n",
       "  font-family: monospace;\n",
       "  border: 1px dotted var(--sklearn-color-border-box);\n",
       "  border-radius: 0.25em;\n",
       "  box-sizing: border-box;\n",
       "  margin-bottom: 0.5em;\n",
       "  /* unfitted */\n",
       "  background-color: var(--sklearn-color-unfitted-level-0);\n",
       "}\n",
       "\n",
       "#sk-container-id-4 div.sk-estimator.fitted {\n",
       "  /* fitted */\n",
       "  background-color: var(--sklearn-color-fitted-level-0);\n",
       "}\n",
       "\n",
       "/* on hover */\n",
       "#sk-container-id-4 div.sk-estimator:hover {\n",
       "  /* unfitted */\n",
       "  background-color: var(--sklearn-color-unfitted-level-2);\n",
       "}\n",
       "\n",
       "#sk-container-id-4 div.sk-estimator.fitted:hover {\n",
       "  /* fitted */\n",
       "  background-color: var(--sklearn-color-fitted-level-2);\n",
       "}\n",
       "\n",
       "/* Specification for estimator info (e.g. \"i\" and \"?\") */\n",
       "\n",
       "/* Common style for \"i\" and \"?\" */\n",
       "\n",
       ".sk-estimator-doc-link,\n",
       "a:link.sk-estimator-doc-link,\n",
       "a:visited.sk-estimator-doc-link {\n",
       "  float: right;\n",
       "  font-size: smaller;\n",
       "  line-height: 1em;\n",
       "  font-family: monospace;\n",
       "  background-color: var(--sklearn-color-background);\n",
       "  border-radius: 1em;\n",
       "  height: 1em;\n",
       "  width: 1em;\n",
       "  text-decoration: none !important;\n",
       "  margin-left: 1ex;\n",
       "  /* unfitted */\n",
       "  border: var(--sklearn-color-unfitted-level-1) 1pt solid;\n",
       "  color: var(--sklearn-color-unfitted-level-1);\n",
       "}\n",
       "\n",
       ".sk-estimator-doc-link.fitted,\n",
       "a:link.sk-estimator-doc-link.fitted,\n",
       "a:visited.sk-estimator-doc-link.fitted {\n",
       "  /* fitted */\n",
       "  border: var(--sklearn-color-fitted-level-1) 1pt solid;\n",
       "  color: var(--sklearn-color-fitted-level-1);\n",
       "}\n",
       "\n",
       "/* On hover */\n",
       "div.sk-estimator:hover .sk-estimator-doc-link:hover,\n",
       ".sk-estimator-doc-link:hover,\n",
       "div.sk-label-container:hover .sk-estimator-doc-link:hover,\n",
       ".sk-estimator-doc-link:hover {\n",
       "  /* unfitted */\n",
       "  background-color: var(--sklearn-color-unfitted-level-3);\n",
       "  color: var(--sklearn-color-background);\n",
       "  text-decoration: none;\n",
       "}\n",
       "\n",
       "div.sk-estimator.fitted:hover .sk-estimator-doc-link.fitted:hover,\n",
       ".sk-estimator-doc-link.fitted:hover,\n",
       "div.sk-label-container:hover .sk-estimator-doc-link.fitted:hover,\n",
       ".sk-estimator-doc-link.fitted:hover {\n",
       "  /* fitted */\n",
       "  background-color: var(--sklearn-color-fitted-level-3);\n",
       "  color: var(--sklearn-color-background);\n",
       "  text-decoration: none;\n",
       "}\n",
       "\n",
       "/* Span, style for the box shown on hovering the info icon */\n",
       ".sk-estimator-doc-link span {\n",
       "  display: none;\n",
       "  z-index: 9999;\n",
       "  position: relative;\n",
       "  font-weight: normal;\n",
       "  right: .2ex;\n",
       "  padding: .5ex;\n",
       "  margin: .5ex;\n",
       "  width: min-content;\n",
       "  min-width: 20ex;\n",
       "  max-width: 50ex;\n",
       "  color: var(--sklearn-color-text);\n",
       "  box-shadow: 2pt 2pt 4pt #999;\n",
       "  /* unfitted */\n",
       "  background: var(--sklearn-color-unfitted-level-0);\n",
       "  border: .5pt solid var(--sklearn-color-unfitted-level-3);\n",
       "}\n",
       "\n",
       ".sk-estimator-doc-link.fitted span {\n",
       "  /* fitted */\n",
       "  background: var(--sklearn-color-fitted-level-0);\n",
       "  border: var(--sklearn-color-fitted-level-3);\n",
       "}\n",
       "\n",
       ".sk-estimator-doc-link:hover span {\n",
       "  display: block;\n",
       "}\n",
       "\n",
       "/* \"?\"-specific style due to the `<a>` HTML tag */\n",
       "\n",
       "#sk-container-id-4 a.estimator_doc_link {\n",
       "  float: right;\n",
       "  font-size: 1rem;\n",
       "  line-height: 1em;\n",
       "  font-family: monospace;\n",
       "  background-color: var(--sklearn-color-background);\n",
       "  border-radius: 1rem;\n",
       "  height: 1rem;\n",
       "  width: 1rem;\n",
       "  text-decoration: none;\n",
       "  /* unfitted */\n",
       "  color: var(--sklearn-color-unfitted-level-1);\n",
       "  border: var(--sklearn-color-unfitted-level-1) 1pt solid;\n",
       "}\n",
       "\n",
       "#sk-container-id-4 a.estimator_doc_link.fitted {\n",
       "  /* fitted */\n",
       "  border: var(--sklearn-color-fitted-level-1) 1pt solid;\n",
       "  color: var(--sklearn-color-fitted-level-1);\n",
       "}\n",
       "\n",
       "/* On hover */\n",
       "#sk-container-id-4 a.estimator_doc_link:hover {\n",
       "  /* unfitted */\n",
       "  background-color: var(--sklearn-color-unfitted-level-3);\n",
       "  color: var(--sklearn-color-background);\n",
       "  text-decoration: none;\n",
       "}\n",
       "\n",
       "#sk-container-id-4 a.estimator_doc_link.fitted:hover {\n",
       "  /* fitted */\n",
       "  background-color: var(--sklearn-color-fitted-level-3);\n",
       "}\n",
       "</style><div id=\"sk-container-id-4\" class=\"sk-top-container\"><div class=\"sk-text-repr-fallback\"><pre>LinearRegression()</pre><b>In a Jupyter environment, please rerun this cell to show the HTML representation or trust the notebook. <br />On GitHub, the HTML representation is unable to render, please try loading this page with nbviewer.org.</b></div><div class=\"sk-container\" hidden><div class=\"sk-item\"><div class=\"sk-estimator fitted sk-toggleable\"><input class=\"sk-toggleable__control sk-hidden--visually\" id=\"sk-estimator-id-4\" type=\"checkbox\" checked><label for=\"sk-estimator-id-4\" class=\"sk-toggleable__label fitted sk-toggleable__label-arrow fitted\">&nbsp;&nbsp;LinearRegression<a class=\"sk-estimator-doc-link fitted\" rel=\"noreferrer\" target=\"_blank\" href=\"https://scikit-learn.org/1.4/modules/generated/sklearn.linear_model.LinearRegression.html\">?<span>Documentation for LinearRegression</span></a><span class=\"sk-estimator-doc-link fitted\">i<span>Fitted</span></span></label><div class=\"sk-toggleable__content fitted\"><pre>LinearRegression()</pre></div> </div></div></div></div>"
      ],
      "text/plain": [
       "LinearRegression()"
      ]
     },
     "execution_count": 497,
     "metadata": {},
     "output_type": "execute_result"
    }
   ],
   "source": [
    "m1=LinearRegression()\n",
    "m1.fit(train_poly_5, train_y)\n"
   ]
  },
  {
   "cell_type": "code",
   "execution_count": 505,
   "metadata": {},
   "outputs": [
    {
     "data": {
      "text/plain": [
       "(14, 55)"
      ]
     },
     "execution_count": 505,
     "metadata": {},
     "output_type": "execute_result"
    }
   ],
   "source": [
    "test_poly_5.shape"
   ]
  },
  {
   "cell_type": "code",
   "execution_count": null,
   "metadata": {
    "colab": {
     "base_uri": "https://localhost:8080/"
    },
    "id": "ozxWzNAGGYFF",
    "outputId": "7861b9ab-e6bc-4761-9a6b-1a424bc57f2d"
   },
   "outputs": [],
   "source": [
    "print(m1.score(train_poly_5, train_y))\n",
    "print(m1.score(test_poly_5, test_y))\n",
    "# R-squared, -120.8 ? ; Something is wrong as the model seriously \"overfitted\" with train set."
   ]
  },
  {
   "cell_type": "markdown",
   "metadata": {
    "colab": {
     "base_uri": "https://localhost:8080/"
    },
    "id": "ozxWzNAGGYFF",
    "outputId": "7861b9ab-e6bc-4761-9a6b-1a424bc57f2d"
   },
   "source": [
    "In this case, test_poly_5 set has only 14 records but have 55 (5 degree combination out of 3 variables) columns  \n",
    "Here $R^2$ becomes negative; due to overfitting, the predictions differ significantly from the actual values.\n",
    "\n",
    "Increasing the number of features makes linear models very powerful, allowing them to almost perfectly fit the training set.  \n",
    "__However__, such models are often **overfitted** to the training set, resulting in __poor performance__ on the test set."
   ]
  },
  {
   "cell_type": "markdown",
   "metadata": {
    "id": "FK_x0kGzqkn-"
   },
   "source": [
    "\n",
    "#### Here $R^2$ becomes negative because $RSS$ > $TSS$ due to overfitting\n",
    "\n",
    "$$ \\large R^2 = 1 - \\frac{RSS}{TSS} $$\n",
    "\n",
    "\n",
    "\n",
    "\n",
    "\n",
    "\n"
   ]
  },
  {
   "cell_type": "markdown",
   "metadata": {},
   "source": [
    "---"
   ]
  },
  {
   "cell_type": "markdown",
   "metadata": {
    "id": "K2YMPSelQBpO"
   },
   "source": [
    "# Regularization \n",
    "Regularization **prevents learning models from excessively learning the training set**. \n",
    "It ensures the model does not overfit the training set."
   ]
  },
  {
   "cell_type": "markdown",
   "metadata": {
    "id": "lQ4IEIM833zS"
   },
   "source": [
    "Regularization can be done by adding a penalty to the weight parameters.  L1 and L2 regularizations are the two foundational forms of regularizations.\n",
    "\n",
    "A larger **$\\lambda$ (a regularization coefficient)** increases the strength of the regularization."
   ]
  },
  {
   "cell_type": "markdown",
   "metadata": {
    "id": "xKQHbowE4JDh"
   },
   "source": [
    "$$\\text {Lasso Regression- L1 Norm} : Min(Loss Function + \\lambda||w||_1)$$  \n",
    "$$\\text {Ridge Regression- L2 Norm} : Min(Loss Function + \\lambda||w||_2^2)$$"
   ]
  },
  {
   "cell_type": "markdown",
   "metadata": {
    "id": "ik7rnZVfrTRr"
   },
   "source": [
    "Before applying regularization, **standardization** is necessary because regularization is scale sensitive"
   ]
  },
  {
   "cell_type": "markdown",
   "metadata": {
    "id": "XpCsO49X6WY-"
   },
   "source": [
    "**Standardization** is a preprocessing technique used to scale the features of data so that they have a mean of 0 and a standard deviation of 1. It is represented as follows for each feature:\n",
    "\n",
    "\n",
    "$\\large z=\\frac{(x-\\mu)}{\\sigma}$\n",
    "\n",
    "where:  z: standardized value,  x: original value,  μ: mean, σ: standard deviation.\n",
    "\n",
    "Machine Learning Algorithms perform better when the data is standardized, it ensures that all features contribute equally to the analysis."
   ]
  },
  {
   "cell_type": "code",
   "execution_count": 574,
   "metadata": {
    "id": "hCC7wKy3QQrE"
   },
   "outputs": [],
   "source": [
    "from sklearn.preprocessing import StandardScaler\n",
    "\n",
    "ss = StandardScaler()\n",
    "ss.fit(train_poly_5)\n",
    "\n",
    "train_scaled = ss.transform(train_poly_5)\n",
    "test_scaled = ss.transform(test_poly_5)"
   ]
  },
  {
   "cell_type": "markdown",
   "metadata": {
    "id": "jUph9pH_KA9_"
   },
   "source": [
    "## Lasso : L1 regularization"
   ]
  },
  {
   "cell_type": "code",
   "execution_count": 576,
   "metadata": {
    "colab": {
     "base_uri": "https://localhost:8080/"
    },
    "id": "Ymu-jmekh0IK",
    "outputId": "e32a6bc9-33ce-4eea-806e-5ec76c619ecb"
   },
   "outputs": [
    {
     "name": "stdout",
     "output_type": "stream",
     "text": [
      "0.9898014198970121\n"
     ]
    }
   ],
   "source": [
    "from sklearn.linear_model import Lasso\n",
    "\n",
    "lasso = Lasso()\n",
    "lasso.fit(train_scaled, train_y)\n",
    "print(lasso.score(train_scaled, train_y))"
   ]
  },
  {
   "cell_type": "code",
   "execution_count": 578,
   "metadata": {
    "colab": {
     "base_uri": "https://localhost:8080/"
    },
    "id": "t3jO37UMh2iI",
    "outputId": "83d8fe5b-cfd9-4fe0-8d9d-db2171a04570"
   },
   "outputs": [
    {
     "name": "stdout",
     "output_type": "stream",
     "text": [
      "0.9799223797712691\n"
     ]
    }
   ],
   "source": [
    "print(lasso.score(test_scaled, test_y))"
   ]
  },
  {
   "cell_type": "markdown",
   "metadata": {
    "id": "e9lquOyxLOst"
   },
   "source": [
    "## Hyperparameter Choice\n",
    "   The $\\lambda$ value is implimented as 'alpha' parameter in sklearn; default=1.0"
   ]
  },
  {
   "cell_type": "code",
   "execution_count": 641,
   "metadata": {
    "colab": {
     "base_uri": "https://localhost:8080/"
    },
    "id": "wXd3_Kq6hlbM",
    "outputId": "403db583-b691-43fa-bcee-7c024f3089bc"
   },
   "outputs": [],
   "source": [
    "train_score_l = []\n",
    "test_score_l = []\n",
    "\n",
    "alpha_list = [0.001, 0.01, 0.1, 1, 10,100]\n",
    "for alpha in alpha_list:\n",
    "    # lasso model\n",
    "    lasso = Lasso(alpha=alpha, max_iter=10000, tol=0.01)\n",
    "    # train lasso model\n",
    "    lasso.fit(train_scaled, train_y)\n",
    "    # Save R-squares from train and test\n",
    "    train_score_l.append(lasso.score(train_scaled, train_y))\n",
    "    test_score_l.append(lasso.score(test_scaled, test_y))"
   ]
  },
  {
   "cell_type": "code",
   "execution_count": 643,
   "metadata": {
    "colab": {
     "base_uri": "https://localhost:8080/"
    },
    "id": "0n69zSkXJnEG",
    "outputId": "0d50bf3b-9dfe-4c29-db69-07a9b9ba04fe"
   },
   "outputs": [
    {
     "data": {
      "text/plain": [
       "[0.9790427820412497,\n",
       " 0.9790554196800662,\n",
       " 0.9792175362912703,\n",
       " 0.9792514953844161,\n",
       " 0.9813943756822983,\n",
       " 0.9119868203940146]"
      ]
     },
     "execution_count": 643,
     "metadata": {},
     "output_type": "execute_result"
    }
   ],
   "source": [
    "test_score_l"
   ]
  },
  {
   "cell_type": "code",
   "execution_count": 645,
   "metadata": {
    "colab": {
     "base_uri": "https://localhost:8080/"
    },
    "id": "7rkH8Dvzh9UI",
    "outputId": "4f336989-5388-49e5-e384-b7a135b585e1"
   },
   "outputs": [
    {
     "data": {
      "image/png": "[encoded data removed]",
      "text/plain": [
       "<Figure size 640x480 with 1 Axes>"
      ]
     },
     "metadata": {},
     "output_type": "display_data"
    }
   ],
   "source": [
    "import matplotlib.pyplot as plt\n",
    "\n",
    "plt.plot(np.log10(alpha_list), train_score_l, label='Train R2 Score')\n",
    "plt.plot(np.log10(alpha_list), test_score_l, color='red', label ='Test R2 Score')\n",
    "plt.vlines(x=1, ymin=0.92, ymax=0.995, ls=':', color='k')\n",
    "plt.xlabel('alpha')\n",
    "plt.ylabel('$R^2$', rotation=0)\n",
    "plt.legend()\n",
    "plt.show()"
   ]
  },
  {
   "cell_type": "code",
   "execution_count": 647,
   "metadata": {
    "colab": {
     "base_uri": "https://localhost:8080/"
    },
    "id": "t4uFD9Flh_Dw",
    "outputId": "2ce603ef-55cb-46f7-c3c5-7bdcec384ee5"
   },
   "outputs": [
    {
     "name": "stdout",
     "output_type": "stream",
     "text": [
      "0.9888208857886491\n",
      "0.9823131604750254\n"
     ]
    }
   ],
   "source": [
    "lasso = Lasso(alpha=10)\n",
    "lasso.fit(train_scaled, train_y)\n",
    "\n",
    "print(lasso.score(train_scaled, train_y))\n",
    "print(lasso.score(test_scaled, test_y))"
   ]
  },
  {
   "cell_type": "code",
   "execution_count": 670,
   "metadata": {
    "colab": {
     "base_uri": "https://localhost:8080/"
    },
    "id": "YdLVwY11qJM1",
    "outputId": "b2494577-925f-475c-979d-5fb06d3e3c45"
   },
   "outputs": [
    {
     "name": "stdout",
     "output_type": "stream",
     "text": [
      "55\n",
      "40\n"
     ]
    }
   ],
   "source": [
    "# 40 out of 55 coefficients are reduced to 0.\n",
    "print(len(lasso.coef_))\n",
    "print(np.sum(lasso.coef_==0))\n",
    "\n",
    "# Although 55 features were fed into the model, the ridge model only used 15 of them.\n",
    "# Due to this characteristic,the ridge (or lasso) model can also be used for feature selection purposes."
   ]
  },
  {
   "cell_type": "code",
   "execution_count": 651,
   "metadata": {
    "colab": {
     "base_uri": "https://localhost:8080/"
    },
    "id": "D3iuLzdtemFb",
    "outputId": "63061097-1695-4f19-b7b0-4f326d29b24c"
   },
   "outputs": [
    {
     "data": {
      "text/plain": [
       "x0^2        13.110363\n",
       "x0 x1       55.122669\n",
       "x0 x2       41.489946\n",
       "x2^2        13.983084\n",
       "x0^2 x1     43.439234\n",
       "x0^2 x2      4.649283\n",
       "x0 x1^2     48.515000\n",
       "x0 x1 x2     6.266688\n",
       "x0 x2^2     11.802070\n",
       "x1 x2^2     13.352113\n",
       "x2^3        22.117367\n",
       "x0 x1^3     19.186726\n",
       "x1^4        15.539549\n",
       "x0 x1^4     18.554022\n",
       "x1^5        14.990327\n",
       "dtype: float64"
      ]
     },
     "execution_count": 651,
     "metadata": {},
     "output_type": "execute_result"
    }
   ],
   "source": [
    "# Show the name of the coefficients that is greater than 0 in the lass model\n",
    "\n",
    "lasso_coef = pd.Series(lasso.coef_, poly_5.get_feature_names_out())\n",
    "lasso_coef[lasso_coef != 0]\n"
   ]
  },
  {
   "cell_type": "markdown",
   "metadata": {
    "id": "qyLI7JQsJ7RQ"
   },
   "source": [
    "## Ridge : L2 regularization"
   ]
  },
  {
   "cell_type": "code",
   "execution_count": 654,
   "metadata": {
    "colab": {
     "base_uri": "https://localhost:8080/"
    },
    "id": "LdNuDNQGQipv",
    "outputId": "8666c8f2-c4c4-4e41-d95d-8d702295fcae"
   },
   "outputs": [
    {
     "name": "stdout",
     "output_type": "stream",
     "text": [
      "0.9896217956447125\n"
     ]
    }
   ],
   "source": [
    "from sklearn.linear_model import Ridge\n",
    "\n",
    "ridge = Ridge()\n",
    "ridge.fit(train_scaled, train_y)\n",
    "print(ridge.score(train_scaled, train_y))"
   ]
  },
  {
   "cell_type": "code",
   "execution_count": 656,
   "metadata": {
    "colab": {
     "base_uri": "https://localhost:8080/"
    },
    "id": "p5mXLecwhdnF",
    "outputId": "eb66cd25-e74d-46a4-ce26-6c778ebe5010"
   },
   "outputs": [
    {
     "name": "stdout",
     "output_type": "stream",
     "text": [
      "0.9789379349339004\n"
     ]
    }
   ],
   "source": [
    "print(ridge.score(test_scaled, test_y))"
   ]
  },
  {
   "cell_type": "code",
   "execution_count": 658,
   "metadata": {
    "id": "K-TSddFBKJRI"
   },
   "outputs": [],
   "source": [
    "train_score_r = []\n",
    "test_score_r = []"
   ]
  },
  {
   "cell_type": "code",
   "execution_count": 660,
   "metadata": {
    "id": "9MvIvQOrhfqC"
   },
   "outputs": [],
   "source": [
    "alpha_list = [0.001, 0.01, 0.1, 1, 10, 100]\n",
    "# Increase the alpha value in increments of 10 times from 0.001 to 100\n",
    "# while training the Ridge regression model.\n",
    "\n",
    "for alpha in alpha_list:\n",
    "    # ridge model\n",
    "    ridge = Ridge(alpha=alpha)\n",
    "    # train ridge model\n",
    "    ridge.fit(train_scaled, train_y)\n",
    "    # Save R squares\n",
    "    train_score_r.append(ridge.score(train_scaled, train_y))\n",
    "    test_score_r.append(ridge.score(test_scaled, test_y))"
   ]
  },
  {
   "cell_type": "code",
   "execution_count": 662,
   "metadata": {
    "colab": {
     "base_uri": "https://localhost:8080/"
    },
    "id": "95DjrJxlhiow",
    "outputId": "51cdc32e-8393-4a28-99f8-427847125528",
    "scrolled": true
   },
   "outputs": [
    {
     "data": {
      "image/png": "[encoded data removed]",
      "text/plain": [
       "<Figure size 640x480 with 1 Axes>"
      ]
     },
     "metadata": {},
     "output_type": "display_data"
    }
   ],
   "source": [
    "plt.plot(np.log10(alpha_list), train_score_r, label='train R2')\n",
    "plt.plot(np.log10(alpha_list), test_score_r, label='test R2')\n",
    "#plt.vlines(x=-1, ymin=0.955, ymax=0.999, ls=':', color='r')\n",
    "plt.legend()\n",
    "plt.xlabel('$alpha$')\n",
    "plt.ylabel('$R^2$')\n",
    "plt.show()"
   ]
  },
  {
   "cell_type": "code",
   "execution_count": 672,
   "metadata": {
    "colab": {
     "base_uri": "https://localhost:8080/"
    },
    "id": "5S5vhi-vhjzT",
    "outputId": "d7a02ca6-e366-41da-9243-534940eac5b9"
   },
   "outputs": [
    {
     "name": "stdout",
     "output_type": "stream",
     "text": [
      "0.9896217956447125\n",
      "0.9789379349339004\n"
     ]
    }
   ],
   "source": [
    "ridge = Ridge() # by default alpha is? \n",
    "ridge.fit(train_scaled, train_y)\n",
    "\n",
    "print(ridge.score(train_scaled, train_y))\n",
    "print(ridge.score(test_scaled, test_y))"
   ]
  },
  {
   "cell_type": "code",
   "execution_count": 682,
   "metadata": {},
   "outputs": [
    {
     "name": "stdout",
     "output_type": "stream",
     "text": [
      "55\n",
      "0\n"
     ]
    }
   ],
   "source": [
    "# In ridge regression, ALL 55 features are included in the model  \n",
    "print(len(ridge.coef_))\n",
    "print(np.sum(ridge.coef_==0))"
   ]
  },
  {
   "cell_type": "code",
   "execution_count": 684,
   "metadata": {},
   "outputs": [
    {
     "data": {
      "text/plain": [
       "x0              18.802353\n",
       "x1               9.989146\n",
       "x2               9.660654\n",
       "x0^2            17.307003\n",
       "x0 x1           14.436297\n",
       "x0 x2           12.677411\n",
       "x1^2            12.351807\n",
       "x1 x2           10.865590\n",
       "x2^2            12.566973\n",
       "x0^3            12.948448\n",
       "x0^2 x1         12.691650\n",
       "x0^2 x2          9.086074\n",
       "x0 x1^2         12.506633\n",
       "x0 x1 x2         8.997034\n",
       "x0 x2^2          8.365488\n",
       "x1^3            12.225530\n",
       "x1^2 x2          8.970053\n",
       "x1 x2^2          8.836186\n",
       "x2^3            11.701930\n",
       "x0^4             7.488312\n",
       "x0^3 x1          9.001974\n",
       "x0^3 x2          3.332938\n",
       "x0^2 x1^2       10.295104\n",
       "x0^2 x1 x2       4.588422\n",
       "x0^2 x2^2        1.561994\n",
       "x0 x1^3         11.240462\n",
       "x0 x1^2 x2       5.636374\n",
       "x0 x1 x2^2       2.944294\n",
       "x0 x2^3          3.158887\n",
       "x1^4            11.738948\n",
       "x1^3 x2          6.378097\n",
       "x1^2 x2^2        4.157411\n",
       "x1 x2^3          5.055902\n",
       "x2^4             8.939710\n",
       "x0^5             1.912543\n",
       "x0^4 x1          4.846755\n",
       "x0^4 x2         -2.940859\n",
       "x0^3 x1^2        7.430713\n",
       "x0^3 x1 x2      -0.521071\n",
       "x0^3 x2^2       -5.946724\n",
       "x0^2 x1^3        9.546858\n",
       "x0^2 x1^2 x2     1.558117\n",
       "x0^2 x1 x2^2    -3.691836\n",
       "x0^2 x2^3       -6.144630\n",
       "x0 x1^4         11.096721\n",
       "x0 x1^3 x2       3.203078\n",
       "x0 x1^2 x2^2    -1.736183\n",
       "x0 x1 x2^3      -3.661304\n",
       "x0 x2^4         -2.604693\n",
       "x1^5            12.003829\n",
       "x1^4 x2          4.340966\n",
       "x1^3 x2^2       -0.151026\n",
       "x1^2 x2^3       -1.418257\n",
       "x1 x2^4          0.484045\n",
       "x2^5             5.397438\n",
       "dtype: float64"
      ]
     },
     "execution_count": 684,
     "metadata": {},
     "output_type": "execute_result"
    }
   ],
   "source": [
    "# Show the name of the coefficients that is greater than 0 in the lass model\n",
    "\n",
    "ridge_coef = pd.Series(ridge.coef_, poly_5.get_feature_names_out())\n",
    "ridge_coef[ridge_coef != 0]\n"
   ]
  },
  {
   "cell_type": "code",
   "execution_count": 689,
   "metadata": {
    "id": "aXJhqiY4qL4L"
   },
   "outputs": [
    {
     "name": "stdout",
     "output_type": "stream",
     "text": [
      "0.9918120087949347\n",
      "0.9796844420578374\n"
     ]
    }
   ],
   "source": [
    "# fix the code in the cell above to optimize ridge regression by modifying hypterparameter alpha here.\n",
    "\n",
    "ridge = Ridge(alpha =0.01)\n",
    "ridge.fit(train_scaled, train_y)\n",
    "\n",
    "print(ridge.score(train_scaled, train_y))\n",
    "print(ridge.score(test_scaled, test_y))"
   ]
  },
  {
   "cell_type": "code",
   "execution_count": null,
   "metadata": {},
   "outputs": [],
   "source": []
  },
  {
   "cell_type": "code",
   "execution_count": null,
   "metadata": {},
   "outputs": [],
   "source": []
  }
 ],
 "metadata": {
  "colab": {
   "collapsed_sections": [
    "fZwhQU2l8tI6",
    "y5uMFE_8V1tx",
    "PdDAslHzNk3H",
    "BnepO6I2E1fW",
    "ik7rnZVfrTRr",
    "jUph9pH_KA9_",
    "e9lquOyxLOst",
    "qyLI7JQsJ7RQ"
   ],
   "include_colab_link": true,
   "provenance": [],
   "toc_visible": true
  },
  "kernelspec": {
   "display_name": "Python 3 (ipykernel)",
   "language": "python",
   "name": "python3"
  },
  "language_info": {
   "codemirror_mode": {
    "name": "ipython",
    "version": 3
   },
   "file_extension": ".py",
   "mimetype": "text/x-python",
   "name": "python",
   "nbconvert_exporter": "python",
   "pygments_lexer": "ipython3",
   "version": "3.12.4"
  }
 },
 "nbformat": 4,
 "nbformat_minor": 4
}
