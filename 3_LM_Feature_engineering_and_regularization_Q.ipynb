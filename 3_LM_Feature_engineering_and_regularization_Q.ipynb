{
  "cells": [
    {
      "cell_type": "markdown",
      "metadata": {
        "id": "view-in-github",
        "colab_type": "text"
      },
      "source": [
        "<a href=\"https://colab.research.google.com/github/kjmobile/lb/blob/main/3_LM_Feature_engineering_and_regularization_Q.ipynb\" target=\"_parent\"><img src=\"https://colab.research.google.com/assets/colab-badge.svg\" alt=\"Open In Colab\"/></a>"
      ]
    },
    {
      "cell_type": "markdown",
      "metadata": {
        "id": "XjTc5n2flYUu"
      },
      "source": [
        "# Feature Engineering and Regularization"
      ]
    },
    {
      "cell_type": "markdown",
      "metadata": {
        "id": "fZwhQU2l8tI6"
      },
      "source": [
        "## Data Prep"
      ]
    },
    {
      "cell_type": "code",
      "execution_count": null,
      "metadata": {
        "id": "3kjaTfOqEVwY"
      },
      "outputs": [],
      "source": [
        "import pandas as pd\n",
        "import numpy as np\n",
        "!pip install pymysql"
      ]
    },
    {
      "cell_type": "code",
      "execution_count": null,
      "metadata": {
        "id": "W6ELIIRzZzEl"
      },
      "outputs": [],
      "source": [
        "# import data from mySQL database  using the following info host: kaylee-db.cbgcswckszgl.us-east-1.rds.amazonaws.com, id cob, password 1212, db='data', port 3306\n",
        "\n",
        "import pymysql.cursors\n",
        "\n",
        "# Connect to the database\n",
        "connection = pymysql.connect(host='kaylee-db.cbgcswckszgl.us-east-1.rds.amazonaws.com',\n",
        "                             user='',\n",
        "                             password='',\n",
        "                             db='data',\n",
        "                             cursorclass=pymysql.cursors.DictCursor)\n",
        "\n",
        "try:\n",
        "    # Create a cursor object\n",
        "    with connection.cursor() as cursor:\n",
        "        # Execute the SQL query to fetch all data from the 'data' table\n",
        "        cursor.execute(\"SELECT * FROM data.fish\")\n",
        "\n",
        "        # Fetch all the results\n",
        "        results = cursor.fetchall()\n",
        "\n",
        "        # Convert the results to a Pandas DataFrame\n",
        "        fish_df = pd.DataFrame(results)\n",
        "\n",
        "finally:\n",
        "    # Close the connection\n",
        "    connection.close()\n",
        "\n",
        "# Print the DataFrame\n",
        "print(fish_df)\n"
      ]
    },
    {
      "cell_type": "code",
      "execution_count": null,
      "metadata": {
        "id": "8qmTS1RzKRKT"
      },
      "outputs": [],
      "source": [
        "fish = fish_df.to_numpy()\n",
        "print(fish)"
      ]
    },
    {
      "cell_type": "code",
      "execution_count": null,
      "metadata": {
        "id": "cRKkoWoZ9J0m"
      },
      "outputs": [],
      "source": [
        "from sklearn.model_selection import train_test_split\n",
        "\n",
        "train_X, test_X, train_y, test_y = train_test_split(fish[:,:-1], fish[:,-1], random_state=42)"
      ]
    },
    {
      "cell_type": "code",
      "execution_count": null,
      "metadata": {
        "id": "3fVyzDPWcm_W"
      },
      "outputs": [],
      "source": [
        "test_y.shape"
      ]
    },
    {
      "cell_type": "markdown",
      "metadata": {
        "id": "y5uMFE_8V1tx"
      },
      "source": [
        "## Preprocessing - Feature engineering"
      ]
    },
    {
      "cell_type": "code",
      "execution_count": null,
      "metadata": {
        "id": "EclugdXmSs-L"
      },
      "outputs": [],
      "source": [
        "from sklearn.preprocessing import PolynomialFeatures"
      ]
    },
    {
      "cell_type": "markdown",
      "metadata": {
        "id": "C3vM8Xq8ddop"
      },
      "source": []
    },
    {
      "cell_type": "code",
      "execution_count": null,
      "metadata": {
        "id": "__kE6eJdNZfm"
      },
      "outputs": [],
      "source": [
        "poly = PolynomialFeatures(include_bias=False)\n",
        "\n",
        "poly.fit(train_X)\n",
        "train_poly = poly.transform(train_X)"
      ]
    },
    {
      "cell_type": "code",
      "execution_count": null,
      "metadata": {
        "id": "2a_lmkKle4kF"
      },
      "outputs": [],
      "source": [
        "print(train_poly.shape)"
      ]
    },
    {
      "cell_type": "code",
      "execution_count": null,
      "metadata": {
        "id": "KXES3XEYj4E2"
      },
      "outputs": [],
      "source": [
        "train_poly[:2]"
      ]
    },
    {
      "cell_type": "code",
      "execution_count": null,
      "metadata": {
        "id": "X6GUwfXTfKbl"
      },
      "outputs": [],
      "source": [
        "poly.get_feature_names_out()"
      ]
    },
    {
      "cell_type": "code",
      "execution_count": null,
      "metadata": {
        "id": "DJMPxe2mgbOo"
      },
      "outputs": [],
      "source": [
        "#Now, transform the test set using the same poly class used for train set.\n",
        "test_poly = poly.transform(test_X)\n"
      ]
    },
    {
      "cell_type": "code",
      "execution_count": null,
      "metadata": {
        "id": "Lr4ulTbZn0tz"
      },
      "outputs": [],
      "source": [
        "test_poly[:2]"
      ]
    },
    {
      "cell_type": "code",
      "execution_count": null,
      "metadata": {
        "id": "pJyk0gXMpwdA"
      },
      "outputs": [],
      "source": [
        "np.set_printoptions(suppress=True)\n",
        "test_poly"
      ]
    },
    {
      "cell_type": "markdown",
      "metadata": {
        "id": "PdDAslHzNk3H"
      },
      "source": [
        "## Train Multple Regression"
      ]
    },
    {
      "cell_type": "code",
      "execution_count": null,
      "metadata": {
        "id": "E9ygy-8WOvIP"
      },
      "outputs": [],
      "source": [
        "from sklearn.linear_model import LinearRegression\n",
        "\n",
        "m0 = LinearRegression()\n",
        "m0.fit(train_poly, train_y)\n",
        "print(m0.score(train_poly, train_y))"
      ]
    },
    {
      "cell_type": "code",
      "execution_count": null,
      "metadata": {
        "id": "GKKyfFcAd7zm"
      },
      "outputs": [],
      "source": [
        "print(m0.score(test_poly, test_y))\n"
      ]
    },
    {
      "cell_type": "markdown",
      "source": [
        "## But, what if we increase the degree from default 2 to 5 in PolynomialFeatures() method?"
      ],
      "metadata": {
        "id": "BnepO6I2E1fW"
      }
    },
    {
      "cell_type": "code",
      "source": [
        "poly_5 = PolynomialFeatures(degree = 5, include_bias=False)\n",
        "\n",
        "poly_5.fit(train_X)\n",
        "train_poly_5 = poly_5.transform(train_X)\n",
        "test_poly_5 = poly_5.transform(test_X)"
      ],
      "metadata": {
        "id": "__VzhQM6FDi_"
      },
      "execution_count": null,
      "outputs": []
    },
    {
      "cell_type": "code",
      "source": [
        "train_y"
      ],
      "metadata": {
        "id": "GLwzNARuGDfN"
      },
      "execution_count": null,
      "outputs": []
    },
    {
      "cell_type": "code",
      "source": [
        "m1=LinearRegression()\n",
        "m1.fit(train_poly_5, train_y)\n"
      ],
      "metadata": {
        "id": "csOSNIflFkoZ"
      },
      "execution_count": null,
      "outputs": []
    },
    {
      "cell_type": "code",
      "source": [
        "print(m1.score(train_poly_5, train_y))\n",
        "print(m1.score(test_poly_5, test_y))\n",
        "# R-squared, -144.5 ? ; Something is wrong because the model seriously \"overfitted\" with train set.\n",
        "# In this case, test_poly_5 set has only 14 records but have 55 (5 degree combination out of 3 variables) columns\n",
        "# Here R^2 becomes negative; due to overfitting, the predictions differ significantly from the actual values."
      ],
      "metadata": {
        "id": "ozxWzNAGGYFF"
      },
      "execution_count": null,
      "outputs": []
    },
    {
      "cell_type": "code",
      "source": [
        "test_poly_5[0,:].shape"
      ],
      "metadata": {
        "id": "7S4ZIqUPGfdl"
      },
      "execution_count": null,
      "outputs": []
    },
    {
      "cell_type": "markdown",
      "metadata": {
        "id": "FK_x0kGzqkn-"
      },
      "source": [
        "\n",
        "#### Here $R^2$ becomes negative because $SS_{res}$ > $SS_{tot}$ due to overfitting\n",
        "\n",
        "$$ \\large R^2 = 1 - \\frac{SS_{\\text{res}}}{SS_{\\text{tot}}} $$\n",
        "\n",
        "\n",
        "\n",
        "\n",
        "\n",
        "\n"
      ]
    },
    {
      "cell_type": "markdown",
      "source": [
        "Overfitting occurs when the model fits with too much data.\n",
        "This can be resolved by using regularization term to generalize the model.\n",
        "Regularization can be done by adding a penalty to the weight parameters.\n",
        "L1 and L2 regularizations are the two forms of regularizations.\n",
        "\n",
        "A larger $\\lambda$ increases the strength of the regularization."
      ],
      "metadata": {
        "id": "lQ4IEIM833zS"
      }
    },
    {
      "cell_type": "markdown",
      "source": [
        "$$\\text {Lasso Regression- L1 Norm} : Min(Loss Function + \\lambda||w||_1)$$  \n",
        "$$\\text {Ridge Regression- L2 Norm} : Min(Loss Function + \\lambda||w||_2^2)$$"
      ],
      "metadata": {
        "id": "xKQHbowE4JDh"
      }
    },
    {
      "cell_type": "markdown",
      "metadata": {
        "id": "K2YMPSelQBpO"
      },
      "source": [
        "# Regularization"
      ]
    },
    {
      "cell_type": "markdown",
      "source": [
        "# Before applying regularization, standardization is necessary because regularization is scale sensitive"
      ],
      "metadata": {
        "id": "ik7rnZVfrTRr"
      }
    },
    {
      "cell_type": "markdown",
      "source": [
        "Standardization is a preprocessing technique used to scale the features of data so that they have a mean of 0 and a standard deviation of 1. It is represented as follows for each feature:\n",
        "\n",
        "\n",
        "$$\\large z=\\frac{(x-\\mu)}{\\sigma}$$\n",
        "\n",
        "    where:  z: standardized value,  x: original value,  μ: mean, σ: standard deviation.\n",
        "\n",
        "Machine Learning Algorithms perform better when the data is standardized, it ensures that all features contribute equally to the analysis."
      ],
      "metadata": {
        "id": "XpCsO49X6WY-"
      }
    },
    {
      "cell_type": "code",
      "execution_count": null,
      "metadata": {
        "id": "hCC7wKy3QQrE"
      },
      "outputs": [],
      "source": [
        "from sklearn.preprocessing import StandardScaler\n",
        "\n",
        "ss = StandardScaler()\n",
        "ss.fit(train_poly_5)\n",
        "\n",
        "train_scaled = ss.transform(train_poly_5)\n",
        "test_scaled = ss.transform(test_poly_5)"
      ]
    },
    {
      "cell_type": "code",
      "execution_count": null,
      "metadata": {
        "id": "ThTIuX5orrRo"
      },
      "outputs": [],
      "source": []
    },
    {
      "cell_type": "markdown",
      "metadata": {
        "id": "jUph9pH_KA9_"
      },
      "source": [
        "## Lasso : L1 regularization"
      ]
    },
    {
      "cell_type": "code",
      "execution_count": null,
      "metadata": {
        "id": "Ymu-jmekh0IK"
      },
      "outputs": [],
      "source": [
        "from sklearn.linear_model import Lasso\n",
        "\n",
        "lasso = Lasso()\n",
        "lasso.fit(train_scaled, train_y)\n",
        "print(lasso.score(train_scaled, train_y))"
      ]
    },
    {
      "cell_type": "code",
      "execution_count": null,
      "metadata": {
        "id": "t3jO37UMh2iI"
      },
      "outputs": [],
      "source": [
        "print(lasso.score(test_scaled, test_y))"
      ]
    },
    {
      "cell_type": "markdown",
      "source": [
        "## Hyperparameter Choice\n",
        "   The $\\lambda$ value is implimented as 'alpha' parameter in sklearn; default=1.0"
      ],
      "metadata": {
        "id": "e9lquOyxLOst"
      }
    },
    {
      "cell_type": "code",
      "execution_count": null,
      "metadata": {
        "id": "wXd3_Kq6hlbM"
      },
      "outputs": [],
      "source": [
        "import matplotlib.pyplot as plt\n",
        "\n",
        "\n",
        "train_score_l = []\n",
        "test_score_l = []\n",
        "\n",
        "alpha_list = [0.001, 0.01, 0.1, 1, 10, 100]\n",
        "for alpha in alpha_list:\n",
        "    # lasso model\n",
        "    lasso = Lasso(alpha=alpha)\n",
        "    # train lasso model\n",
        "    lasso.fit(train_scaled, train_y)\n",
        "    # Save R-squares from train and test\n",
        "    train_score_l.append(lasso.score(train_scaled, train_y))\n",
        "    test_score_l.append(lasso.score(test_scaled, test_y))"
      ]
    },
    {
      "cell_type": "code",
      "source": [
        "train_score_l"
      ],
      "metadata": {
        "id": "0n69zSkXJnEG"
      },
      "execution_count": null,
      "outputs": []
    },
    {
      "cell_type": "code",
      "execution_count": null,
      "metadata": {
        "id": "7rkH8Dvzh9UI"
      },
      "outputs": [],
      "source": [
        "plt.plot(np.log10(alpha_list), train_score_l)\n",
        "plt.plot(np.log10(alpha_list), test_score_l)\n",
        "#plt.vlines(x=1, ymin=0.92, ymax=0.995, ls=':', color='red')\n",
        "plt.xlabel('alpha')\n",
        "plt.ylabel('R^2')\n",
        "plt.show()"
      ]
    },
    {
      "cell_type": "code",
      "execution_count": null,
      "metadata": {
        "id": "t4uFD9Flh_Dw"
      },
      "outputs": [],
      "source": [
        "lasso = Lasso(alpha=10)\n",
        "lasso.fit(train_scaled, train_y)\n",
        "\n",
        "print(lasso.score(train_scaled, train_y))\n",
        "print(lasso.score(test_scaled, test_y))"
      ]
    },
    {
      "cell_type": "code",
      "source": [
        "# 40 out of 55 coefficients are reduced to 0.\n",
        "print(len(lasso.coef_))\n",
        "print(np.sum(lasso.coef_==0))\n",
        "\n",
        "# Although 55 features were fed into the model, the ridge model only used 15 of them.\n",
        "# Due to this characteristic,the ridge (or lasso) model can also be used for feature selection purposes."
      ],
      "metadata": {
        "id": "YdLVwY11qJM1"
      },
      "execution_count": null,
      "outputs": []
    },
    {
      "cell_type": "markdown",
      "metadata": {
        "id": "qyLI7JQsJ7RQ"
      },
      "source": [
        "## Ridge : L2 regularization"
      ]
    },
    {
      "cell_type": "code",
      "source": [
        "ridge?"
      ],
      "metadata": {
        "id": "06WiRjTfMWoj"
      },
      "execution_count": null,
      "outputs": []
    },
    {
      "cell_type": "code",
      "execution_count": null,
      "metadata": {
        "id": "LdNuDNQGQipv"
      },
      "outputs": [],
      "source": [
        "from sklearn.linear_model import Ridge\n",
        "\n",
        "ridge = Ridge()\n",
        "ridge.fit(train_scaled, train_y)\n",
        "print(ridge.score(train_scaled, train_y))"
      ]
    },
    {
      "cell_type": "code",
      "execution_count": null,
      "metadata": {
        "id": "p5mXLecwhdnF"
      },
      "outputs": [],
      "source": [
        "print(ridge.score(test_scaled, test_y))"
      ]
    },
    {
      "cell_type": "code",
      "source": [
        "train_score_r = []\n",
        "test_score_r = []"
      ],
      "metadata": {
        "id": "K-TSddFBKJRI"
      },
      "execution_count": null,
      "outputs": []
    },
    {
      "cell_type": "code",
      "execution_count": null,
      "metadata": {
        "id": "9MvIvQOrhfqC"
      },
      "outputs": [],
      "source": [
        "alpha_list = [0.001, 0.01, 0.1, 1, 10, 100]\n",
        "# Increase the alpha value in increments of 10 times from 0.001 to 100\n",
        "# while training the Ridge regression model.\n",
        "\n",
        "for alpha in alpha_list:\n",
        "    # ridge model\n",
        "    ridge = Ridge(alpha=alpha)\n",
        "    # train ridge model\n",
        "    ridge.fit(train_scaled, train_y)\n",
        "    # Save R squares\n",
        "    train_score_r.append(ridge.score(train_scaled, train_y))\n",
        "    test_score_r.append(ridge.score(test_scaled, test_y))"
      ]
    },
    {
      "cell_type": "code",
      "execution_count": null,
      "metadata": {
        "id": "95DjrJxlhiow"
      },
      "outputs": [],
      "source": [
        "plt.plot(np.log10(alpha_list), train_score_r)\n",
        "plt.plot(np.log10(alpha_list), test_score_r)\n",
        "#plt.vlines(x=-1, ymin=0.955, ymax=0.999, ls=':', color='r')\n",
        "plt.xlabel('$alpha$')\n",
        "plt.ylabel('$R^2$')\n",
        "plt.show()"
      ]
    },
    {
      "cell_type": "code",
      "execution_count": null,
      "metadata": {
        "id": "5S5vhi-vhjzT"
      },
      "outputs": [],
      "source": [
        "ridge = Ridge()\n",
        "ridge.fit(train_scaled, train_y)\n",
        "\n",
        "print(ridge.score(train_scaled, train_y))\n",
        "print(ridge.score(test_scaled, test_y))"
      ]
    },
    {
      "cell_type": "code",
      "source": [
        "# fix the code in the cell above to optimize ridge regression by modifying hypterparameter alpha here.\n",
        "\n",
        "\n",
        "\n",
        "\n",
        "\n"
      ],
      "metadata": {
        "id": "aXJhqiY4qL4L"
      },
      "execution_count": null,
      "outputs": []
    },
    {
      "cell_type": "code",
      "source": [],
      "metadata": {
        "id": "zS0rCibbQBbN"
      },
      "execution_count": null,
      "outputs": []
    }
  ],
  "metadata": {
    "colab": {
      "provenance": [],
      "toc_visible": true,
      "collapsed_sections": [
        "fZwhQU2l8tI6",
        "y5uMFE_8V1tx",
        "PdDAslHzNk3H",
        "BnepO6I2E1fW",
        "ik7rnZVfrTRr",
        "jUph9pH_KA9_",
        "e9lquOyxLOst",
        "qyLI7JQsJ7RQ"
      ],
      "include_colab_link": true
    },
    "kernelspec": {
      "display_name": "Python 3 (ipykernel)",
      "language": "python",
      "name": "python3"
    },
    "language_info": {
      "codemirror_mode": {
        "name": "ipython",
        "version": 3
      },
      "file_extension": ".py",
      "mimetype": "text/x-python",
      "name": "python",
      "nbconvert_exporter": "python",
      "pygments_lexer": "ipython3",
      "version": "3.10.9"
    }
  },
  "nbformat": 4,
  "nbformat_minor": 0
}