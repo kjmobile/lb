{
  "nbformat": 4,
  "nbformat_minor": 0,
  "metadata": {
    "colab": {
      "provenance": [],
      "toc_visible": true,
      "authorship_tag": "ABX9TyNBkRu1PSjSDucEE6cm5Za3",
      "include_colab_link": true
    },
    "kernelspec": {
      "name": "python3",
      "display_name": "Python 3"
    },
    "language_info": {
      "name": "python"
    }
  },
  "cells": [
    {
      "cell_type": "markdown",
      "metadata": {
        "id": "view-in-github",
        "colab_type": "text"
      },
      "source": [
        "<a href=\"https://colab.research.google.com/github/kjmobile/lb/blob/main/0_colab_intro_yours.ipynb\" target=\"_parent\"><img src=\"https://colab.research.google.com/assets/colab-badge.svg\" alt=\"Open In Colab\"/></a>"
      ]
    },
    {
      "cell_type": "markdown",
      "source": [
        "# I COLAB INTRO"
      ],
      "metadata": {
        "id": "Zn-LVWSZ7iQ4"
      }
    },
    {
      "cell_type": "markdown",
      "source": [
        "# 1. Connect Database to get the dataset"
      ],
      "metadata": {
        "id": "LwJp9_MhVqoa"
      }
    },
    {
      "cell_type": "code",
      "source": [
        "! pip install pymysql"
      ],
      "metadata": {
        "id": "AHn_839l3mVA"
      },
      "execution_count": null,
      "outputs": []
    },
    {
      "cell_type": "code",
      "source": [
        "! pip install IPython"
      ],
      "metadata": {
        "id": "1KIV_a-xd6hc"
      },
      "execution_count": null,
      "outputs": []
    },
    {
      "cell_type": "code",
      "execution_count": null,
      "metadata": {
        "id": "-NJGfrbt3DzO"
      },
      "outputs": [],
      "source": [
        "# import data from mySQL database  using the following info host: kaylee-db.cbgcswckszgl.us-east-1.rds.amazonaws.com, id cob, password 1212, db='data', port 3306\n",
        "\n",
        "import pymysql\n",
        "import pandas as pd\n",
        "from IPython.display import Image"
      ]
    },
    {
      "cell_type": "code",
      "source": [
        "connection=pymysql.connect(host=\"kaylee-db.cbgcswckszgl.us-east-1.rds.amazonaws.com\", user=\"cob\", passwd=\"1212\", db=\"data\")\n"
      ],
      "metadata": {
        "id": "0uycRKHy9_p9"
      },
      "execution_count": null,
      "outputs": []
    },
    {
      "cell_type": "code",
      "source": [
        "# prompt: show  databases available\n",
        "\n",
        "cursor = connection.cursor()\n",
        "cursor.execute(\"SHOW tables\")\n",
        "databases = cursor.fetchall()\n",
        "for database in databases:\n",
        "    print(database)\n"
      ],
      "metadata": {
        "id": "mLcbpnmGMJMr"
      },
      "execution_count": null,
      "outputs": []
    },
    {
      "cell_type": "code",
      "source": [
        "# prompt: select and import all records from Salary_Data table\n",
        "\n",
        "cursor.execute(\"SELECT * FROM Salary_Data\")\n",
        "salary_data = cursor.fetchall()\n",
        "salary_df = pd.DataFrame(salary_data)\n",
        "salary_df\n"
      ],
      "metadata": {
        "id": "Xk7H2DhYMUlT"
      },
      "execution_count": null,
      "outputs": []
    },
    {
      "cell_type": "code",
      "source": [],
      "metadata": {
        "id": "iSdLjqCPLHj-"
      },
      "execution_count": null,
      "outputs": []
    },
    {
      "cell_type": "code",
      "source": [
        "# prompt: show available dbs\n",
        "\n",
        "import pymysql.cursors\n",
        "\n",
        "# Connect to the database\n",
        "connection = pymysql.connect(host='kaylee-db.cbgcswckszgl.us-east-1.rds.amazonaws.com',\n",
        "                             user='cob',\n",
        "                             password='1212',\n",
        "                             charset='utf8mb4',\n",
        "                             cursorclass=pymysql.cursors.DictCursor)\n",
        "\n",
        "try:\n",
        "    # Create a cursor object\n",
        "    with connection.cursor() as cursor:\n",
        "        # Execute the query to show databases\n",
        "        cursor.execute(\"SHOW DATABASES\")\n",
        "\n",
        "        # Fetch all the results\n",
        "        databases = cursor.fetchall()\n",
        "\n",
        "        # Print the list of databases\n",
        "        print(\"Available databases:\")\n",
        "        for database in databases:\n",
        "            print(database['Database'])\n",
        "\n",
        "finally:\n",
        "    # Close the connection\n",
        "    connection.close()\n"
      ],
      "metadata": {
        "id": "kGtPulG-6zLi"
      },
      "execution_count": null,
      "outputs": []
    },
    {
      "cell_type": "code",
      "source": [
        "# prompt: see if data database is available\n",
        "\n",
        "# Connect to the database\n",
        "connection = pymysql.connect(host='kaylee-db.cbgcswckszgl.us-east-1.rds.amazonaws.com',\n",
        "                             user='cob',\n",
        "                             password='1212',\n",
        "                             database ='data',\n",
        "                             charset='utf8mb4',\n",
        "                             cursorclass=pymysql.cursors.DictCursor)\n",
        "\n"
      ],
      "metadata": {
        "id": "R9HY-dxi6-Ca"
      },
      "execution_count": null,
      "outputs": []
    },
    {
      "cell_type": "code",
      "source": [
        "\n",
        "try:\n",
        "    # Create a cursor object\n",
        "    with connection.cursor() as cursor:\n",
        "        # Execute the query to show databases\n",
        "        cursor.execute(\"SHOW DATABASES\")\n",
        "\n",
        "        # Fetch all the results\n",
        "        databases = cursor.fetchall()\n",
        "\n",
        "        # Check if the database 'data' is available\n",
        "        if any(database['Database'] == 'data' for database in databases):\n",
        "            print(\"Database 'data' is available.\")\n",
        "        else:\n",
        "            print(\"Database 'data' is not available.\")\n",
        "\n",
        "finally:\n",
        "    # Close the connection\n",
        "    connection.close()\n"
      ],
      "metadata": {
        "id": "nmRd9JAxQHXU"
      },
      "execution_count": null,
      "outputs": []
    },
    {
      "cell_type": "code",
      "source": [],
      "metadata": {
        "id": "Et0paR-f800x"
      },
      "execution_count": null,
      "outputs": []
    },
    {
      "cell_type": "code",
      "source": [
        "# prompt: fetch all records from the table condo_unit from Condo  database and save as a variable named units\n",
        "\n",
        "# Connect to the database (using the DictCursor)\n",
        "connection = pymysql.connect(host='kaylee-db.cbgcswckszgl.us-east-1.rds.amazonaws.com',\n",
        "                             user='cob',\n",
        "                             password='1212',\n",
        "                             db='data',\n",
        "                             charset='utf8mb4',\n",
        "                             cursorclass=pymysql.cursors.DictCursor)\n",
        "\n",
        "\n",
        "# prompt: show available tables\n",
        "\n",
        "try:\n",
        "    with connection.cursor() as cursor:\n",
        "        cursor.execute(\"SHOW TABLES\")\n",
        "        tables = cursor.fetchall()\n",
        "\n",
        "        # Print the list of tables\n",
        "        for table in tables:\n",
        "            print(table['Tables_in_data'])\n",
        "\n",
        "finally:\n",
        "    # Close the connection\n",
        "    connection.close()\n"
      ],
      "metadata": {
        "id": "4Zx6JAG_8G9X"
      },
      "execution_count": null,
      "outputs": []
    },
    {
      "cell_type": "code",
      "source": [
        "# Connect to the database\n",
        "connection = pymysql.connect(host='kaylee-db.cbgcswckszgl.us-east-1.rds.amazonaws.com',\n",
        "                             user='cob',\n",
        "                             password='1212',\n",
        "                             db='data',\n",
        "                             charset='utf8mb4',\n",
        "                             cursorclass=pymysql.cursors.DictCursor)\n",
        "\n",
        "try:\n",
        "    # Create a cursor object\n",
        "    with connection.cursor() as cursor:\n",
        "        # Execute the query to select all data from salary_data table\n",
        "        cursor.execute(\"SELECT * FROM Salary_Data\")\n",
        "\n",
        "        # Fetch all the results\n",
        "        results = cursor.fetchall()\n",
        "\n",
        "        # Convert the results to a pandas DataFrame\n",
        "        df = pd.DataFrame(results)\n",
        "\n",
        "\n",
        "finally:\n",
        "    # Close the connection\n",
        "    connection.close()\n",
        "\n",
        "# Print the DataFrame\n",
        "df\n"
      ],
      "metadata": {
        "id": "RGD_hj-wCgFa"
      },
      "execution_count": null,
      "outputs": []
    },
    {
      "cell_type": "markdown",
      "source": [
        "# 1. Conventional Approach of Reression"
      ],
      "metadata": {
        "id": "vNwDtsdUVpWN"
      }
    },
    {
      "cell_type": "markdown",
      "source": [
        "## 1.1 Check the Dataset"
      ],
      "metadata": {
        "id": "-xp4amQdV1YP"
      }
    },
    {
      "cell_type": "code",
      "source": [
        "df.head()"
      ],
      "metadata": {
        "id": "SS5aqcQaV7IY"
      },
      "execution_count": null,
      "outputs": []
    },
    {
      "source": [
        "from matplotlib import pyplot as plt\n",
        "df.plot(kind='scatter', x='YearsExperience', y='Salary', s=32, alpha=.8)\n",
        "plt.gca().spines[['top', 'right',]].set_visible(False)"
      ],
      "cell_type": "code",
      "metadata": {
        "id": "YonwqZ84GY5C"
      },
      "execution_count": null,
      "outputs": []
    },
    {
      "cell_type": "markdown",
      "source": [
        "## 1.2 Fitting the Model"
      ],
      "metadata": {
        "id": "pTh-RTP6W70Z"
      }
    },
    {
      "cell_type": "code",
      "source": [
        "# dataframe df: run linear regression using statmodels\n",
        "\n",
        "import statsmodels.formula.api as smf\n",
        "\n",
        "# Fit the linear regression model\n",
        "model = smf.ols(formula=\"Salary ~ YearsExperience\", data=df).fit()\n",
        "\n",
        "# Print the model summary\n",
        "print(model.summary())\n"
      ],
      "metadata": {
        "id": "3qglraWpHtgf"
      },
      "execution_count": null,
      "outputs": []
    },
    {
      "cell_type": "code",
      "source": [
        "'''\n",
        "APA report example:\n",
        "    A linear regression model was used to examine the relationship between years of experience and salary.\n",
        "    The model explained a significant portion of the variance in salary (R-squared = 0.957, p < .001).\n",
        "    There was a positive and statistically significant relationship between years of experience and salary (β = 9449.96, p < .001).\n",
        "    The Durbin-Watson statistic (1.648) suggested no significant autocorrelation in the residuals.\n",
        "    The normality of the residuals was confirmed by the Shapiro-Wilk test (p > .05).\n",
        "\n",
        "'''"
      ],
      "metadata": {
        "id": "fg7eBEV0JMhA"
      },
      "execution_count": null,
      "outputs": []
    },
    {
      "cell_type": "code",
      "source": [],
      "metadata": {
        "id": "zE-JdH8OWpDf"
      },
      "execution_count": null,
      "outputs": []
    },
    {
      "cell_type": "markdown",
      "source": [
        "#2. Machine Learning Approach"
      ],
      "metadata": {
        "id": "MjEylfe2J60v"
      }
    },
    {
      "cell_type": "markdown",
      "source": [
        "## 2.1 Check Dataset"
      ],
      "metadata": {
        "id": "sceN3E7pWZx8"
      }
    },
    {
      "cell_type": "code",
      "source": [
        "df.head()"
      ],
      "metadata": {
        "id": "kMnwpwAGXZ5I"
      },
      "execution_count": null,
      "outputs": []
    },
    {
      "cell_type": "markdown",
      "source": [
        "## 2.2 Preprocessing : Train-Test Split"
      ],
      "metadata": {
        "id": "Y2ERXlEuJyzt"
      }
    },
    {
      "cell_type": "code",
      "source": [
        "\n",
        "from sklearn.model_selection import train_test_split\n",
        "\n",
        "# Split the data into training and testing sets\n",
        "X_train, X_test, y_train, y_test = train_test_split(df[['YearsExperience']], df['Salary'], test_size=0.25, random_state=0)\n"
      ],
      "metadata": {
        "id": "eRTJ-OcIXnfw"
      },
      "execution_count": null,
      "outputs": []
    },
    {
      "cell_type": "markdown",
      "source": [
        "##2.3 Model Fitting: Using Train Set"
      ],
      "metadata": {
        "id": "qLub1GR1Y4CQ"
      }
    },
    {
      "cell_type": "code",
      "source": [
        "\n",
        "from sklearn.linear_model import LinearRegression\n",
        "\n",
        "# Create a linear regression model\n",
        "model = LinearRegression()\n",
        "\n",
        "# Fit the model to the training data\n",
        "model.fit(X_train, y_train)"
      ],
      "metadata": {
        "id": "BQ_joz4zMKCs"
      },
      "execution_count": null,
      "outputs": []
    },
    {
      "cell_type": "code",
      "source": [
        "# check model coeffs\n",
        "\n",
        "print(model.coef_.round(2))\n",
        "print(model.intercept_.round(2))"
      ],
      "metadata": {
        "id": "McHVl_BkSBP4"
      },
      "execution_count": null,
      "outputs": []
    },
    {
      "cell_type": "code",
      "source": [
        "model.coef_"
      ],
      "metadata": {
        "id": "A78ysTZQfJtk"
      },
      "execution_count": null,
      "outputs": []
    },
    {
      "cell_type": "code",
      "source": [
        "model.intercept_"
      ],
      "metadata": {
        "id": "9va1QpcefJtl"
      },
      "execution_count": null,
      "outputs": []
    },
    {
      "cell_type": "code",
      "source": [
        "pd.Series(model.coef_, index = X_train.columns)"
      ],
      "metadata": {
        "id": "KG-rjJ7PfJtl"
      },
      "execution_count": null,
      "outputs": []
    },
    {
      "cell_type": "code",
      "source": [
        "# specify model equation\n",
        "\n",
        "print(f\"Salary = 9869.5 * YearsExperience + 25792.2\")"
      ],
      "metadata": {
        "id": "-wydLrtkZFgG"
      },
      "execution_count": null,
      "outputs": []
    },
    {
      "cell_type": "markdown",
      "source": [
        "## 2.4 Make prediction : using Test set"
      ],
      "metadata": {
        "id": "jns4HMBFemu-"
      }
    },
    {
      "cell_type": "code",
      "source": [
        "# Make predictions using the model\n",
        "y_pred = model.predict(X_test)\n"
      ],
      "metadata": {
        "id": "AB42ntKwLOXt"
      },
      "execution_count": null,
      "outputs": []
    },
    {
      "cell_type": "code",
      "source": [
        "y_pred"
      ],
      "metadata": {
        "id": "rJFEyTRpMd0V"
      },
      "execution_count": null,
      "outputs": []
    },
    {
      "cell_type": "code",
      "source": [
        "# Plot the actual and predicted values\n",
        "plt.scatter(X_test, y_test, color='red', label='Actual')\n",
        "plt.plot(X_test, y_pred, color='blue', label='Predicted')\n",
        "plt.title('Actual vs. Predicted Salary')\n",
        "plt.xlabel('YearsExperience')\n",
        "plt.ylabel('Salary')\n",
        "plt.legend()\n",
        "\n"
      ],
      "metadata": {
        "id": "KDP4QD8nj6Dw"
      },
      "execution_count": null,
      "outputs": []
    },
    {
      "cell_type": "markdown",
      "source": [
        "## 2.5 Evaluate the Model : $R^2$ and $MSE$ mean squared error\n",
        "- MSE(or RMSE) is a 'relative metric' : used to compare with other models"
      ],
      "metadata": {
        "id": "x7FqR7Qqhx7u"
      }
    },
    {
      "cell_type": "code",
      "source": [
        "model.score(X_test, y_test)"
      ],
      "metadata": {
        "id": "upkVkiSYlB_h"
      },
      "execution_count": null,
      "outputs": []
    },
    {
      "cell_type": "code",
      "source": [
        "# evaluate the model\n",
        "\n",
        "from sklearn.metrics import mean_squared_error\n",
        "\n",
        "# Calculate the mean squared error\n",
        "mse = round(mean_squared_error(y_test, y_pred), 2)\n",
        "\n",
        "# Print the mean squared error\n",
        "print(\"Mean squared error:\", mse)\n"
      ],
      "metadata": {
        "id": "YnaTnIlwRDzn"
      },
      "execution_count": null,
      "outputs": []
    },
    {
      "cell_type": "markdown",
      "source": [
        "---\n",
        "---"
      ],
      "metadata": {
        "id": "XyJr6hhnUTV0"
      }
    },
    {
      "cell_type": "markdown",
      "source": [
        "##2.5 Check Some Equations"
      ],
      "metadata": {
        "id": "7fs54A0VUaxN"
      }
    },
    {
      "cell_type": "markdown",
      "source": [
        "### 2.5.1 **Coe-efficient of Determination**"
      ],
      "metadata": {
        "id": "qhq2PGtOlzje"
      }
    },
    {
      "cell_type": "markdown",
      "source": [
        "$$ R^2 = 1−\\frac{\\text{Residual Sum of Squares (RSS)}}{\\text{Total Sum of Square (TSS)}​} $$  "
      ],
      "metadata": {
        "id": "CdelQoiClzjj"
      }
    },
    {
      "cell_type": "code",
      "source": [],
      "metadata": {
        "id": "uof4iZBklzjl"
      },
      "execution_count": null,
      "outputs": []
    },
    {
      "cell_type": "markdown",
      "source": [
        "\n",
        "$$ \\text{R}^2 =1-\\frac{\\sum\\limits_{i=1}^{N}(y_i - \\hat{y}_i)^2}{\\sum\\limits_{i=1}^{N} (y_i - \\bar{y})^2}\\ $$  \n"
      ],
      "metadata": {
        "id": "HWMI1AdUlzjn"
      }
    },
    {
      "cell_type": "code",
      "source": [],
      "metadata": {
        "id": "TZHw-Rzolzjo"
      },
      "execution_count": null,
      "outputs": []
    },
    {
      "cell_type": "code",
      "source": [
        "Image(url=\"https://github.com/kjmobile/data/blob/main/img/R_sq.png?raw=true\", width=700)"
      ],
      "metadata": {
        "id": "dW1OZUTblzjp"
      },
      "execution_count": null,
      "outputs": []
    },
    {
      "cell_type": "markdown",
      "source": [
        "### 2.5.2 **Mean Squared Error (MSE)** :\n"
      ],
      "metadata": {
        "id": "5qIbWzebO83v"
      }
    },
    {
      "cell_type": "markdown",
      "source": [
        "\n",
        "$$\n",
        "\\text{MSE} = \\frac{1}{n} \\sum_{i=1}^{n} (y_i - \\hat{y}_i)^2\n",
        "$$\n"
      ],
      "metadata": {
        "id": "evgG6YUXljqt"
      }
    },
    {
      "cell_type": "markdown",
      "source": [
        "\n",
        "**note:**\n",
        "\n",
        "* $\\frac{1}{n}$: This is the normalization factor dividing by the number of observations.\n",
        "* $\\sum_{i=1}^{n}$: This is the summation symbol, indicating we sum over all observations from 1 to n.\n",
        "* $y_i$: This represents the actual value of the i-th observation.\n",
        "* $\\hat{y}_i$: This represents the predicted value of the i-th observation.\n",
        "* $^2$: This squares the difference between the actual and predicted values.\n",
        "\n"
      ],
      "metadata": {
        "id": "dgoPXTsLQjVf"
      }
    },
    {
      "cell_type": "code",
      "source": [
        "Image(\"https://raw.githubusercontent.com/kjmobile/data/main/img/MSE.png\",width=700)"
      ],
      "metadata": {
        "id": "eSi9EvcVgB19"
      },
      "execution_count": null,
      "outputs": []
    }
  ]
}