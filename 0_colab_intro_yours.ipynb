{
  "nbformat": 4,
  "nbformat_minor": 0,
  "metadata": {
    "colab": {
      "provenance": [],
      "toc_visible": true,
      "collapsed_sections": [
        "LwJp9_MhVqoa",
        "vNwDtsdUVpWN",
        "pTh-RTP6W70Z",
        "MjEylfe2J60v",
        "sceN3E7pWZx8",
        "Y2ERXlEuJyzt",
        "qLub1GR1Y4CQ",
        "jns4HMBFemu-",
        "x7FqR7Qqhx7u",
        "7fs54A0VUaxN",
        "qhq2PGtOlzje",
        "5qIbWzebO83v"
      ],
      "authorship_tag": "ABX9TyORGmVzTFvI7+IDTvH97U5u",
      "include_colab_link": true
    },
    "kernelspec": {
      "name": "python3",
      "display_name": "Python 3"
    },
    "language_info": {
      "name": "python"
    }
  },
  "cells": [
    {
      "cell_type": "markdown",
      "metadata": {
        "id": "view-in-github",
        "colab_type": "text"
      },
      "source": [
        "<a href=\"https://colab.research.google.com/github/kjmobile/lb/blob/main/0_colab_intro_yours.ipynb\" target=\"_parent\"><img src=\"https://colab.research.google.com/assets/colab-badge.svg\" alt=\"Open In Colab\"/></a>"
      ]
    },
    {
      "cell_type": "markdown",
      "source": [
        "# I COLAB INTRO"
      ],
      "metadata": {
        "id": "Zn-LVWSZ7iQ4"
      }
    },
    {
      "cell_type": "markdown",
      "source": [
        "# 0. Connect Database to get the dataset"
      ],
      "metadata": {
        "id": "LwJp9_MhVqoa"
      }
    },
    {
      "cell_type": "code",
      "source": [
        "! pip install pymysql"
      ],
      "metadata": {
        "id": "AHn_839l3mVA"
      },
      "execution_count": null,
      "outputs": []
    },
    {
      "cell_type": "code",
      "source": [
        "! pip install IPython"
      ],
      "metadata": {
        "id": "1KIV_a-xd6hc"
      },
      "execution_count": null,
      "outputs": []
    },
    {
      "cell_type": "code",
      "execution_count": null,
      "metadata": {
        "id": "-NJGfrbt3DzO"
      },
      "outputs": [],
      "source": [
        "# import data from mySQL database  using the following info host: kaylee-db.cbgcswckszgl.us-east-1.rds.amazonaws.com, id cob, password 1212, db='data', port 3306\n",
        "\n",
        "import pymysql\n",
        "import pandas as pd\n",
        "from IPython.display import Image"
      ]
    },
    {
      "cell_type": "code",
      "source": [],
      "metadata": {
        "id": "iSdLjqCPLHj-"
      },
      "execution_count": null,
      "outputs": []
    },
    {
      "cell_type": "code",
      "source": [
        "# prompt: show available dbs\n",
        "\n",
        "import pymysql.cursors\n",
        "\n",
        "# Connect to the database\n",
        "connection = pymysql.connect(host='kaylee-db.cbgcswckszgl.us-east-1.rds.amazonaws.com',\n",
        "                             user='cob',\n",
        "                             password='1212',\n",
        "                             charset='utf8mb4',\n",
        "                             cursorclass=pymysql.cursors.DictCursor)\n",
        "\n",
        "try:\n",
        "    # Create a cursor object\n",
        "    with connection.cursor() as cursor:\n",
        "        # Execute the query to show databases\n",
        "        cursor.execute(\"SHOW DATABASES\")\n",
        "\n",
        "        # Fetch all the results\n",
        "        databases = cursor.fetchall()\n",
        "\n",
        "        # Print the list of databases\n",
        "        print(\"Available databases:\")\n",
        "        for database in databases:\n",
        "            print(database['Database'])\n",
        "\n",
        "finally:\n",
        "    # Close the connection\n",
        "    connection.close()\n"
      ],
      "metadata": {
        "id": "kGtPulG-6zLi",
        "colab": {
          "base_uri": "https://localhost:8080/"
        },
        "outputId": "18477580-6b54-452d-de04-9bea1ff1b909"
      },
      "execution_count": null,
      "outputs": [
        {
          "output_type": "stream",
          "name": "stdout",
          "text": [
            "Available databases:\n",
            "data\n",
            "information_schema\n",
            "performance_schema\n"
          ]
        }
      ]
    },
    {
      "cell_type": "code",
      "source": [],
      "metadata": {
        "id": "Et0paR-f800x"
      },
      "execution_count": null,
      "outputs": []
    },
    {
      "cell_type": "code",
      "source": [
        "# Connect to the database namded 'data' (using the DictCursor) and show all tables\n",
        "connection = pymysql.connect(host='kaylee-db.cbgcswckszgl.us-east-1.rds.amazonaws.com',\n",
        "                             user='cob',\n",
        "                             password='1212',\n",
        "                             db='data',\n",
        "                             charset='utf8mb4',\n",
        "                             cursorclass=pymysql.cursors.DictCursor)\n",
        "\n",
        "\n",
        "# prompt: show available tables\n",
        "\n",
        "try:\n",
        "    with connection.cursor() as cursor:\n",
        "        cursor.execute(\"SHOW TABLES\")\n",
        "        tables = cursor.fetchall()\n",
        "\n",
        "        # Print the list of tables\n",
        "        for table in tables:\n",
        "            print(table['Tables_in_data'])\n",
        "\n",
        "finally:\n",
        "    # Close the connection\n",
        "    connection.close()\n"
      ],
      "metadata": {
        "id": "4Zx6JAG_8G9X",
        "colab": {
          "base_uri": "https://localhost:8080/"
        },
        "outputId": "cec5582f-7433-4f57-ca7e-d02d5fcf024b"
      },
      "execution_count": null,
      "outputs": [
        {
          "output_type": "stream",
          "name": "stdout",
          "text": [
            "Salary_Data\n",
            "airline_routes\n",
            "startups\n"
          ]
        }
      ]
    },
    {
      "cell_type": "code",
      "source": [
        "# Connect to the database namded 'data' and fetch all records from 'Salary_Data' table\n",
        "# Save the data as a dataframe df.\n",
        "\n",
        "connection = pymysql.connect(host='kaylee-db.cbgcswckszgl.us-east-1.rds.amazonaws.com',\n",
        "                             user='cob',\n",
        "                             password='1212',\n",
        "                             db='data',\n",
        "                             charset='utf8mb4',\n",
        "                             cursorclass=pymysql.cursors.DictCursor)\n",
        "\n",
        "try:\n",
        "    # Create a cursor object\n",
        "    with connection.cursor() as cursor:\n",
        "        # Execute the query to select all data from salary_data table\n",
        "        cursor.execute(\"SELECT * FROM Salary_Data\")\n",
        "\n",
        "        # Fetch all the results\n",
        "        results = cursor.fetchall()\n",
        "\n",
        "        # Convert the results to a pandas DataFrame\n",
        "        df = pd.DataFrame(results)\n",
        "\n",
        "\n",
        "finally:\n",
        "    # Close the connection\n",
        "    connection.close()\n",
        "\n",
        "# Print the DataFrame\n",
        "df\n"
      ],
      "metadata": {
        "id": "RGD_hj-wCgFa",
        "colab": {
          "base_uri": "https://localhost:8080/",
          "height": 990
        },
        "outputId": "9fc17c7d-d549-4011-b17c-1c0cfa47902f"
      },
      "execution_count": null,
      "outputs": [
        {
          "output_type": "execute_result",
          "data": {
            "text/plain": [
              "    YearsExperience    Salary\n",
              "0               1.1   39343.0\n",
              "1               1.3   46205.0\n",
              "2               1.5   37731.0\n",
              "3               2.0   43525.0\n",
              "4               2.2   39891.0\n",
              "5               2.9   56642.0\n",
              "6               3.0   60150.0\n",
              "7               3.2   54445.0\n",
              "8               3.2   64445.0\n",
              "9               3.7   57189.0\n",
              "10              3.9   63218.0\n",
              "11              4.0   55794.0\n",
              "12              4.0   56957.0\n",
              "13              4.1   57081.0\n",
              "14              4.5   61111.0\n",
              "15              4.9   67938.0\n",
              "16              5.1   66029.0\n",
              "17              5.3   83088.0\n",
              "18              5.9   81363.0\n",
              "19              6.0   93940.0\n",
              "20              6.8   91738.0\n",
              "21              7.1   98273.0\n",
              "22              7.9  101302.0\n",
              "23              8.2  113812.0\n",
              "24              8.7  109431.0\n",
              "25              9.0  105582.0\n",
              "26              9.5  116969.0\n",
              "27              9.6  112635.0\n",
              "28             10.3  122391.0\n",
              "29             10.5  121872.0"
            ],
            "text/html": [
              "\n",
              "  <div id=\"df-41d8cd8f-7dc7-48ed-bc6c-b0e5bb325c3a\" class=\"colab-df-container\">\n",
              "    <div>\n",
              "<style scoped>\n",
              "    .dataframe tbody tr th:only-of-type {\n",
              "        vertical-align: middle;\n",
              "    }\n",
              "\n",
              "    .dataframe tbody tr th {\n",
              "        vertical-align: top;\n",
              "    }\n",
              "\n",
              "    .dataframe thead th {\n",
              "        text-align: right;\n",
              "    }\n",
              "</style>\n",
              "<table border=\"1\" class=\"dataframe\">\n",
              "  <thead>\n",
              "    <tr style=\"text-align: right;\">\n",
              "      <th></th>\n",
              "      <th>YearsExperience</th>\n",
              "      <th>Salary</th>\n",
              "    </tr>\n",
              "  </thead>\n",
              "  <tbody>\n",
              "    <tr>\n",
              "      <th>0</th>\n",
              "      <td>1.1</td>\n",
              "      <td>39343.0</td>\n",
              "    </tr>\n",
              "    <tr>\n",
              "      <th>1</th>\n",
              "      <td>1.3</td>\n",
              "      <td>46205.0</td>\n",
              "    </tr>\n",
              "    <tr>\n",
              "      <th>2</th>\n",
              "      <td>1.5</td>\n",
              "      <td>37731.0</td>\n",
              "    </tr>\n",
              "    <tr>\n",
              "      <th>3</th>\n",
              "      <td>2.0</td>\n",
              "      <td>43525.0</td>\n",
              "    </tr>\n",
              "    <tr>\n",
              "      <th>4</th>\n",
              "      <td>2.2</td>\n",
              "      <td>39891.0</td>\n",
              "    </tr>\n",
              "    <tr>\n",
              "      <th>5</th>\n",
              "      <td>2.9</td>\n",
              "      <td>56642.0</td>\n",
              "    </tr>\n",
              "    <tr>\n",
              "      <th>6</th>\n",
              "      <td>3.0</td>\n",
              "      <td>60150.0</td>\n",
              "    </tr>\n",
              "    <tr>\n",
              "      <th>7</th>\n",
              "      <td>3.2</td>\n",
              "      <td>54445.0</td>\n",
              "    </tr>\n",
              "    <tr>\n",
              "      <th>8</th>\n",
              "      <td>3.2</td>\n",
              "      <td>64445.0</td>\n",
              "    </tr>\n",
              "    <tr>\n",
              "      <th>9</th>\n",
              "      <td>3.7</td>\n",
              "      <td>57189.0</td>\n",
              "    </tr>\n",
              "    <tr>\n",
              "      <th>10</th>\n",
              "      <td>3.9</td>\n",
              "      <td>63218.0</td>\n",
              "    </tr>\n",
              "    <tr>\n",
              "      <th>11</th>\n",
              "      <td>4.0</td>\n",
              "      <td>55794.0</td>\n",
              "    </tr>\n",
              "    <tr>\n",
              "      <th>12</th>\n",
              "      <td>4.0</td>\n",
              "      <td>56957.0</td>\n",
              "    </tr>\n",
              "    <tr>\n",
              "      <th>13</th>\n",
              "      <td>4.1</td>\n",
              "      <td>57081.0</td>\n",
              "    </tr>\n",
              "    <tr>\n",
              "      <th>14</th>\n",
              "      <td>4.5</td>\n",
              "      <td>61111.0</td>\n",
              "    </tr>\n",
              "    <tr>\n",
              "      <th>15</th>\n",
              "      <td>4.9</td>\n",
              "      <td>67938.0</td>\n",
              "    </tr>\n",
              "    <tr>\n",
              "      <th>16</th>\n",
              "      <td>5.1</td>\n",
              "      <td>66029.0</td>\n",
              "    </tr>\n",
              "    <tr>\n",
              "      <th>17</th>\n",
              "      <td>5.3</td>\n",
              "      <td>83088.0</td>\n",
              "    </tr>\n",
              "    <tr>\n",
              "      <th>18</th>\n",
              "      <td>5.9</td>\n",
              "      <td>81363.0</td>\n",
              "    </tr>\n",
              "    <tr>\n",
              "      <th>19</th>\n",
              "      <td>6.0</td>\n",
              "      <td>93940.0</td>\n",
              "    </tr>\n",
              "    <tr>\n",
              "      <th>20</th>\n",
              "      <td>6.8</td>\n",
              "      <td>91738.0</td>\n",
              "    </tr>\n",
              "    <tr>\n",
              "      <th>21</th>\n",
              "      <td>7.1</td>\n",
              "      <td>98273.0</td>\n",
              "    </tr>\n",
              "    <tr>\n",
              "      <th>22</th>\n",
              "      <td>7.9</td>\n",
              "      <td>101302.0</td>\n",
              "    </tr>\n",
              "    <tr>\n",
              "      <th>23</th>\n",
              "      <td>8.2</td>\n",
              "      <td>113812.0</td>\n",
              "    </tr>\n",
              "    <tr>\n",
              "      <th>24</th>\n",
              "      <td>8.7</td>\n",
              "      <td>109431.0</td>\n",
              "    </tr>\n",
              "    <tr>\n",
              "      <th>25</th>\n",
              "      <td>9.0</td>\n",
              "      <td>105582.0</td>\n",
              "    </tr>\n",
              "    <tr>\n",
              "      <th>26</th>\n",
              "      <td>9.5</td>\n",
              "      <td>116969.0</td>\n",
              "    </tr>\n",
              "    <tr>\n",
              "      <th>27</th>\n",
              "      <td>9.6</td>\n",
              "      <td>112635.0</td>\n",
              "    </tr>\n",
              "    <tr>\n",
              "      <th>28</th>\n",
              "      <td>10.3</td>\n",
              "      <td>122391.0</td>\n",
              "    </tr>\n",
              "    <tr>\n",
              "      <th>29</th>\n",
              "      <td>10.5</td>\n",
              "      <td>121872.0</td>\n",
              "    </tr>\n",
              "  </tbody>\n",
              "</table>\n",
              "</div>\n",
              "    <div class=\"colab-df-buttons\">\n",
              "\n",
              "  <div class=\"colab-df-container\">\n",
              "    <button class=\"colab-df-convert\" onclick=\"convertToInteractive('df-41d8cd8f-7dc7-48ed-bc6c-b0e5bb325c3a')\"\n",
              "            title=\"Convert this dataframe to an interactive table.\"\n",
              "            style=\"display:none;\">\n",
              "\n",
              "  <svg xmlns=\"http://www.w3.org/2000/svg\" height=\"24px\" viewBox=\"0 -960 960 960\">\n",
              "    <path d=\"M120-120v-720h720v720H120Zm60-500h600v-160H180v160Zm220 220h160v-160H400v160Zm0 220h160v-160H400v160ZM180-400h160v-160H180v160Zm440 0h160v-160H620v160ZM180-180h160v-160H180v160Zm440 0h160v-160H620v160Z\"/>\n",
              "  </svg>\n",
              "    </button>\n",
              "\n",
              "  <style>\n",
              "    .colab-df-container {\n",
              "      display:flex;\n",
              "      gap: 12px;\n",
              "    }\n",
              "\n",
              "    .colab-df-convert {\n",
              "      background-color: #E8F0FE;\n",
              "      border: none;\n",
              "      border-radius: 50%;\n",
              "      cursor: pointer;\n",
              "      display: none;\n",
              "      fill: #1967D2;\n",
              "      height: 32px;\n",
              "      padding: 0 0 0 0;\n",
              "      width: 32px;\n",
              "    }\n",
              "\n",
              "    .colab-df-convert:hover {\n",
              "      background-color: #E2EBFA;\n",
              "      box-shadow: 0px 1px 2px rgba(60, 64, 67, 0.3), 0px 1px 3px 1px rgba(60, 64, 67, 0.15);\n",
              "      fill: #174EA6;\n",
              "    }\n",
              "\n",
              "    .colab-df-buttons div {\n",
              "      margin-bottom: 4px;\n",
              "    }\n",
              "\n",
              "    [theme=dark] .colab-df-convert {\n",
              "      background-color: #3B4455;\n",
              "      fill: #D2E3FC;\n",
              "    }\n",
              "\n",
              "    [theme=dark] .colab-df-convert:hover {\n",
              "      background-color: #434B5C;\n",
              "      box-shadow: 0px 1px 3px 1px rgba(0, 0, 0, 0.15);\n",
              "      filter: drop-shadow(0px 1px 2px rgba(0, 0, 0, 0.3));\n",
              "      fill: #FFFFFF;\n",
              "    }\n",
              "  </style>\n",
              "\n",
              "    <script>\n",
              "      const buttonEl =\n",
              "        document.querySelector('#df-41d8cd8f-7dc7-48ed-bc6c-b0e5bb325c3a button.colab-df-convert');\n",
              "      buttonEl.style.display =\n",
              "        google.colab.kernel.accessAllowed ? 'block' : 'none';\n",
              "\n",
              "      async function convertToInteractive(key) {\n",
              "        const element = document.querySelector('#df-41d8cd8f-7dc7-48ed-bc6c-b0e5bb325c3a');\n",
              "        const dataTable =\n",
              "          await google.colab.kernel.invokeFunction('convertToInteractive',\n",
              "                                                    [key], {});\n",
              "        if (!dataTable) return;\n",
              "\n",
              "        const docLinkHtml = 'Like what you see? Visit the ' +\n",
              "          '<a target=\"_blank\" href=https://colab.research.google.com/notebooks/data_table.ipynb>data table notebook</a>'\n",
              "          + ' to learn more about interactive tables.';\n",
              "        element.innerHTML = '';\n",
              "        dataTable['output_type'] = 'display_data';\n",
              "        await google.colab.output.renderOutput(dataTable, element);\n",
              "        const docLink = document.createElement('div');\n",
              "        docLink.innerHTML = docLinkHtml;\n",
              "        element.appendChild(docLink);\n",
              "      }\n",
              "    </script>\n",
              "  </div>\n",
              "\n",
              "\n",
              "<div id=\"df-7eadc6f9-0fee-4e64-bdba-20e3454cb541\">\n",
              "  <button class=\"colab-df-quickchart\" onclick=\"quickchart('df-7eadc6f9-0fee-4e64-bdba-20e3454cb541')\"\n",
              "            title=\"Suggest charts\"\n",
              "            style=\"display:none;\">\n",
              "\n",
              "<svg xmlns=\"http://www.w3.org/2000/svg\" height=\"24px\"viewBox=\"0 0 24 24\"\n",
              "     width=\"24px\">\n",
              "    <g>\n",
              "        <path d=\"M19 3H5c-1.1 0-2 .9-2 2v14c0 1.1.9 2 2 2h14c1.1 0 2-.9 2-2V5c0-1.1-.9-2-2-2zM9 17H7v-7h2v7zm4 0h-2V7h2v10zm4 0h-2v-4h2v4z\"/>\n",
              "    </g>\n",
              "</svg>\n",
              "  </button>\n",
              "\n",
              "<style>\n",
              "  .colab-df-quickchart {\n",
              "      --bg-color: #E8F0FE;\n",
              "      --fill-color: #1967D2;\n",
              "      --hover-bg-color: #E2EBFA;\n",
              "      --hover-fill-color: #174EA6;\n",
              "      --disabled-fill-color: #AAA;\n",
              "      --disabled-bg-color: #DDD;\n",
              "  }\n",
              "\n",
              "  [theme=dark] .colab-df-quickchart {\n",
              "      --bg-color: #3B4455;\n",
              "      --fill-color: #D2E3FC;\n",
              "      --hover-bg-color: #434B5C;\n",
              "      --hover-fill-color: #FFFFFF;\n",
              "      --disabled-bg-color: #3B4455;\n",
              "      --disabled-fill-color: #666;\n",
              "  }\n",
              "\n",
              "  .colab-df-quickchart {\n",
              "    background-color: var(--bg-color);\n",
              "    border: none;\n",
              "    border-radius: 50%;\n",
              "    cursor: pointer;\n",
              "    display: none;\n",
              "    fill: var(--fill-color);\n",
              "    height: 32px;\n",
              "    padding: 0;\n",
              "    width: 32px;\n",
              "  }\n",
              "\n",
              "  .colab-df-quickchart:hover {\n",
              "    background-color: var(--hover-bg-color);\n",
              "    box-shadow: 0 1px 2px rgba(60, 64, 67, 0.3), 0 1px 3px 1px rgba(60, 64, 67, 0.15);\n",
              "    fill: var(--button-hover-fill-color);\n",
              "  }\n",
              "\n",
              "  .colab-df-quickchart-complete:disabled,\n",
              "  .colab-df-quickchart-complete:disabled:hover {\n",
              "    background-color: var(--disabled-bg-color);\n",
              "    fill: var(--disabled-fill-color);\n",
              "    box-shadow: none;\n",
              "  }\n",
              "\n",
              "  .colab-df-spinner {\n",
              "    border: 2px solid var(--fill-color);\n",
              "    border-color: transparent;\n",
              "    border-bottom-color: var(--fill-color);\n",
              "    animation:\n",
              "      spin 1s steps(1) infinite;\n",
              "  }\n",
              "\n",
              "  @keyframes spin {\n",
              "    0% {\n",
              "      border-color: transparent;\n",
              "      border-bottom-color: var(--fill-color);\n",
              "      border-left-color: var(--fill-color);\n",
              "    }\n",
              "    20% {\n",
              "      border-color: transparent;\n",
              "      border-left-color: var(--fill-color);\n",
              "      border-top-color: var(--fill-color);\n",
              "    }\n",
              "    30% {\n",
              "      border-color: transparent;\n",
              "      border-left-color: var(--fill-color);\n",
              "      border-top-color: var(--fill-color);\n",
              "      border-right-color: var(--fill-color);\n",
              "    }\n",
              "    40% {\n",
              "      border-color: transparent;\n",
              "      border-right-color: var(--fill-color);\n",
              "      border-top-color: var(--fill-color);\n",
              "    }\n",
              "    60% {\n",
              "      border-color: transparent;\n",
              "      border-right-color: var(--fill-color);\n",
              "    }\n",
              "    80% {\n",
              "      border-color: transparent;\n",
              "      border-right-color: var(--fill-color);\n",
              "      border-bottom-color: var(--fill-color);\n",
              "    }\n",
              "    90% {\n",
              "      border-color: transparent;\n",
              "      border-bottom-color: var(--fill-color);\n",
              "    }\n",
              "  }\n",
              "</style>\n",
              "\n",
              "  <script>\n",
              "    async function quickchart(key) {\n",
              "      const quickchartButtonEl =\n",
              "        document.querySelector('#' + key + ' button');\n",
              "      quickchartButtonEl.disabled = true;  // To prevent multiple clicks.\n",
              "      quickchartButtonEl.classList.add('colab-df-spinner');\n",
              "      try {\n",
              "        const charts = await google.colab.kernel.invokeFunction(\n",
              "            'suggestCharts', [key], {});\n",
              "      } catch (error) {\n",
              "        console.error('Error during call to suggestCharts:', error);\n",
              "      }\n",
              "      quickchartButtonEl.classList.remove('colab-df-spinner');\n",
              "      quickchartButtonEl.classList.add('colab-df-quickchart-complete');\n",
              "    }\n",
              "    (() => {\n",
              "      let quickchartButtonEl =\n",
              "        document.querySelector('#df-7eadc6f9-0fee-4e64-bdba-20e3454cb541 button');\n",
              "      quickchartButtonEl.style.display =\n",
              "        google.colab.kernel.accessAllowed ? 'block' : 'none';\n",
              "    })();\n",
              "  </script>\n",
              "</div>\n",
              "\n",
              "  <div id=\"id_81540515-1bd0-48ed-8dc9-d6d9fe6c2632\">\n",
              "    <style>\n",
              "      .colab-df-generate {\n",
              "        background-color: #E8F0FE;\n",
              "        border: none;\n",
              "        border-radius: 50%;\n",
              "        cursor: pointer;\n",
              "        display: none;\n",
              "        fill: #1967D2;\n",
              "        height: 32px;\n",
              "        padding: 0 0 0 0;\n",
              "        width: 32px;\n",
              "      }\n",
              "\n",
              "      .colab-df-generate:hover {\n",
              "        background-color: #E2EBFA;\n",
              "        box-shadow: 0px 1px 2px rgba(60, 64, 67, 0.3), 0px 1px 3px 1px rgba(60, 64, 67, 0.15);\n",
              "        fill: #174EA6;\n",
              "      }\n",
              "\n",
              "      [theme=dark] .colab-df-generate {\n",
              "        background-color: #3B4455;\n",
              "        fill: #D2E3FC;\n",
              "      }\n",
              "\n",
              "      [theme=dark] .colab-df-generate:hover {\n",
              "        background-color: #434B5C;\n",
              "        box-shadow: 0px 1px 3px 1px rgba(0, 0, 0, 0.15);\n",
              "        filter: drop-shadow(0px 1px 2px rgba(0, 0, 0, 0.3));\n",
              "        fill: #FFFFFF;\n",
              "      }\n",
              "    </style>\n",
              "    <button class=\"colab-df-generate\" onclick=\"generateWithVariable('df')\"\n",
              "            title=\"Generate code using this dataframe.\"\n",
              "            style=\"display:none;\">\n",
              "\n",
              "  <svg xmlns=\"http://www.w3.org/2000/svg\" height=\"24px\"viewBox=\"0 0 24 24\"\n",
              "       width=\"24px\">\n",
              "    <path d=\"M7,19H8.4L18.45,9,17,7.55,7,17.6ZM5,21V16.75L18.45,3.32a2,2,0,0,1,2.83,0l1.4,1.43a1.91,1.91,0,0,1,.58,1.4,1.91,1.91,0,0,1-.58,1.4L9.25,21ZM18.45,9,17,7.55Zm-12,3A5.31,5.31,0,0,0,4.9,8.1,5.31,5.31,0,0,0,1,6.5,5.31,5.31,0,0,0,4.9,4.9,5.31,5.31,0,0,0,6.5,1,5.31,5.31,0,0,0,8.1,4.9,5.31,5.31,0,0,0,12,6.5,5.46,5.46,0,0,0,6.5,12Z\"/>\n",
              "  </svg>\n",
              "    </button>\n",
              "    <script>\n",
              "      (() => {\n",
              "      const buttonEl =\n",
              "        document.querySelector('#id_81540515-1bd0-48ed-8dc9-d6d9fe6c2632 button.colab-df-generate');\n",
              "      buttonEl.style.display =\n",
              "        google.colab.kernel.accessAllowed ? 'block' : 'none';\n",
              "\n",
              "      buttonEl.onclick = () => {\n",
              "        google.colab.notebook.generateWithVariable('df');\n",
              "      }\n",
              "      })();\n",
              "    </script>\n",
              "  </div>\n",
              "\n",
              "    </div>\n",
              "  </div>\n"
            ]
          },
          "metadata": {},
          "execution_count": 18
        }
      ]
    },
    {
      "cell_type": "markdown",
      "source": [
        "# 1. Conventional Approach of Reression"
      ],
      "metadata": {
        "id": "vNwDtsdUVpWN"
      }
    },
    {
      "cell_type": "markdown",
      "source": [
        "## 1.1 Check the Dataset"
      ],
      "metadata": {
        "id": "-xp4amQdV1YP"
      }
    },
    {
      "cell_type": "code",
      "source": [
        "df.head()"
      ],
      "metadata": {
        "id": "SS5aqcQaV7IY"
      },
      "execution_count": null,
      "outputs": []
    },
    {
      "source": [
        "from matplotlib import pyplot as plt\n",
        "df.plot(kind='scatter', x='YearsExperience', y='Salary', s=32, alpha=.8)\n",
        "plt.gca().spines[['top', 'right',]].set_visible(False)"
      ],
      "cell_type": "code",
      "metadata": {
        "id": "YonwqZ84GY5C"
      },
      "execution_count": null,
      "outputs": []
    },
    {
      "cell_type": "markdown",
      "source": [
        "## 1.2 Fitting the Model"
      ],
      "metadata": {
        "id": "pTh-RTP6W70Z"
      }
    },
    {
      "cell_type": "code",
      "source": [
        "# dataframe df: run linear regression using statmodels\n",
        "\n",
        "import statsmodels.formula.api as smf\n",
        "\n",
        "# Fit the linear regression model\n",
        "model = smf.ols(formula=\"Salary ~ YearsExperience\", data=df).fit()\n",
        "\n",
        "# Print the model summary\n",
        "print(model.summary())\n"
      ],
      "metadata": {
        "id": "3qglraWpHtgf"
      },
      "execution_count": null,
      "outputs": []
    },
    {
      "cell_type": "code",
      "source": [
        "'''\n",
        "APA report example:\n",
        "    A linear regression model was used to examine the relationship between years of experience and salary.\n",
        "    The model explained a significant portion of the variance in salary (R-squared = 0.957, p < .001).\n",
        "    There was a positive and statistically significant relationship between years of experience and salary (β = 9449.96, p < .001).\n",
        "\n",
        "'''"
      ],
      "metadata": {
        "id": "fg7eBEV0JMhA"
      },
      "execution_count": null,
      "outputs": []
    },
    {
      "cell_type": "code",
      "source": [],
      "metadata": {
        "id": "zE-JdH8OWpDf"
      },
      "execution_count": null,
      "outputs": []
    },
    {
      "cell_type": "markdown",
      "source": [
        "#2. Machine Learning Approach"
      ],
      "metadata": {
        "id": "MjEylfe2J60v"
      }
    },
    {
      "cell_type": "markdown",
      "source": [
        "## 2.1 Check Dataset"
      ],
      "metadata": {
        "id": "sceN3E7pWZx8"
      }
    },
    {
      "cell_type": "code",
      "source": [
        "df.head()"
      ],
      "metadata": {
        "id": "kMnwpwAGXZ5I"
      },
      "execution_count": null,
      "outputs": []
    },
    {
      "cell_type": "markdown",
      "source": [
        "## 2.2 Preprocessing : Train-Test Split"
      ],
      "metadata": {
        "id": "Y2ERXlEuJyzt"
      }
    },
    {
      "cell_type": "code",
      "source": [
        "\n",
        "from sklearn.model_selection import train_test_split\n",
        "\n",
        "# Split the data into training and testing sets\n",
        "X_train, X_test, y_train, y_test = train_test_split(df[['YearsExperience']], df['Salary'], test_size=0.25, random_state=0)\n"
      ],
      "metadata": {
        "id": "eRTJ-OcIXnfw"
      },
      "execution_count": null,
      "outputs": []
    },
    {
      "cell_type": "markdown",
      "source": [
        "##2.3 Model Fitting: Using Train Set"
      ],
      "metadata": {
        "id": "qLub1GR1Y4CQ"
      }
    },
    {
      "cell_type": "code",
      "source": [
        "\n",
        "from sklearn.linear_model import LinearRegression\n",
        "\n",
        "# Create a linear regression model\n",
        "model = LinearRegression()\n",
        "\n",
        "# Fit the model to the training data\n",
        "model.fit(X_train, y_train)"
      ],
      "metadata": {
        "id": "BQ_joz4zMKCs"
      },
      "execution_count": null,
      "outputs": []
    },
    {
      "cell_type": "code",
      "source": [
        "# check model coeffs\n",
        "\n",
        "print(model.coef_.round(2))\n",
        "print(model.intercept_.round(2))"
      ],
      "metadata": {
        "id": "McHVl_BkSBP4"
      },
      "execution_count": null,
      "outputs": []
    },
    {
      "cell_type": "code",
      "source": [
        "model.coef_"
      ],
      "metadata": {
        "id": "A78ysTZQfJtk"
      },
      "execution_count": null,
      "outputs": []
    },
    {
      "cell_type": "code",
      "source": [
        "model.intercept_"
      ],
      "metadata": {
        "id": "9va1QpcefJtl"
      },
      "execution_count": null,
      "outputs": []
    },
    {
      "cell_type": "code",
      "source": [
        "pd.Series(model.coef_, index = X_train.columns)"
      ],
      "metadata": {
        "id": "KG-rjJ7PfJtl"
      },
      "execution_count": null,
      "outputs": []
    },
    {
      "cell_type": "code",
      "source": [
        "# specify model equation\n",
        "\n",
        "print(f\"Salary = 9869.5 * YearsExperience + 25792.2\")"
      ],
      "metadata": {
        "id": "-wydLrtkZFgG"
      },
      "execution_count": null,
      "outputs": []
    },
    {
      "cell_type": "markdown",
      "source": [
        "## 2.4 Make prediction : using Test set"
      ],
      "metadata": {
        "id": "jns4HMBFemu-"
      }
    },
    {
      "cell_type": "code",
      "source": [
        "# Make predictions using the model\n",
        "y_pred = model.predict(X_test)\n"
      ],
      "metadata": {
        "id": "AB42ntKwLOXt"
      },
      "execution_count": null,
      "outputs": []
    },
    {
      "cell_type": "code",
      "source": [
        "y_pred"
      ],
      "metadata": {
        "id": "rJFEyTRpMd0V"
      },
      "execution_count": null,
      "outputs": []
    },
    {
      "cell_type": "code",
      "source": [
        "# Plot the actual and predicted values\n",
        "plt.scatter(X_test, y_test, color='red', label='Actual')\n",
        "plt.plot(X_test, y_pred, color='blue', label='Predicted')\n",
        "plt.title('Actual vs. Predicted Salary')\n",
        "plt.xlabel('YearsExperience')\n",
        "plt.ylabel('Salary')\n",
        "plt.legend()\n",
        "\n"
      ],
      "metadata": {
        "id": "KDP4QD8nj6Dw"
      },
      "execution_count": null,
      "outputs": []
    },
    {
      "cell_type": "markdown",
      "source": [
        "## 2.5 Evaluate the Model : $R^2$ and $MSE$ mean squared error\n",
        "- MSE(or RMSE) is a 'relative metric' : used to compare with other models"
      ],
      "metadata": {
        "id": "x7FqR7Qqhx7u"
      }
    },
    {
      "cell_type": "code",
      "source": [
        "model.score(X_test, y_test)"
      ],
      "metadata": {
        "id": "upkVkiSYlB_h"
      },
      "execution_count": null,
      "outputs": []
    },
    {
      "cell_type": "code",
      "source": [
        "# evaluate the model\n",
        "\n",
        "from sklearn.metrics import mean_squared_error\n",
        "\n",
        "# Calculate the mean squared error\n",
        "mse = round(mean_squared_error(y_test, y_pred), 2)\n",
        "\n",
        "# Print the mean squared error\n",
        "print(\"Mean squared error:\", mse)\n"
      ],
      "metadata": {
        "id": "YnaTnIlwRDzn"
      },
      "execution_count": null,
      "outputs": []
    },
    {
      "cell_type": "markdown",
      "source": [
        "---\n",
        "---"
      ],
      "metadata": {
        "id": "XyJr6hhnUTV0"
      }
    },
    {
      "cell_type": "markdown",
      "source": [
        "##2.5 Check Some Equations"
      ],
      "metadata": {
        "id": "7fs54A0VUaxN"
      }
    },
    {
      "cell_type": "markdown",
      "source": [
        "### 2.5.1 **Coe-efficient of Determination**"
      ],
      "metadata": {
        "id": "qhq2PGtOlzje"
      }
    },
    {
      "cell_type": "markdown",
      "source": [
        "$$ R^2 = 1−\\frac{\\text{Residual Sum of Squares (RSS)}}{\\text{Total Sum of Square (TSS)}​} $$  "
      ],
      "metadata": {
        "id": "CdelQoiClzjj"
      }
    },
    {
      "cell_type": "code",
      "source": [],
      "metadata": {
        "id": "uof4iZBklzjl"
      },
      "execution_count": null,
      "outputs": []
    },
    {
      "cell_type": "markdown",
      "source": [
        "\n",
        "$$ \\text{R}^2 =1-\\frac{\\sum\\limits_{i=1}^{N}(y_i - \\hat{y}_i)^2}{\\sum\\limits_{i=1}^{N} (y_i - \\bar{y})^2}\\ $$  \n"
      ],
      "metadata": {
        "id": "HWMI1AdUlzjn"
      }
    },
    {
      "cell_type": "code",
      "source": [],
      "metadata": {
        "id": "TZHw-Rzolzjo"
      },
      "execution_count": null,
      "outputs": []
    },
    {
      "cell_type": "code",
      "source": [
        "Image(url=\"https://github.com/kjmobile/data/blob/main/img/R_sq.png?raw=true\", width=700)"
      ],
      "metadata": {
        "id": "dW1OZUTblzjp"
      },
      "execution_count": null,
      "outputs": []
    },
    {
      "cell_type": "markdown",
      "source": [
        "### 2.5.2 **Mean Squared Error (MSE)** :\n"
      ],
      "metadata": {
        "id": "5qIbWzebO83v"
      }
    },
    {
      "cell_type": "markdown",
      "source": [
        "\n",
        "$$\n",
        "\\text{MSE} = \\frac{1}{n} \\sum_{i=1}^{n} (y_i - \\hat{y}_i)^2\n",
        "$$\n"
      ],
      "metadata": {
        "id": "evgG6YUXljqt"
      }
    },
    {
      "cell_type": "markdown",
      "source": [
        "\n",
        "**note:**\n",
        "\n",
        "* $\\frac{1}{n}$: This is the normalization factor dividing by the number of observations.\n",
        "* $\\sum_{i=1}^{n}$: This is the summation symbol, indicating we sum over all observations from 1 to n.\n",
        "* $y_i$: This represents the actual value of the i-th observation.\n",
        "* $\\hat{y}_i$: This represents the predicted value of the i-th observation.\n",
        "* $^2$: This squares the difference between the actual and predicted values.\n",
        "\n"
      ],
      "metadata": {
        "id": "dgoPXTsLQjVf"
      }
    },
    {
      "cell_type": "code",
      "source": [
        "Image(\"https://raw.githubusercontent.com/kjmobile/data/main/img/MSE.png\",width=700)"
      ],
      "metadata": {
        "id": "eSi9EvcVgB19"
      },
      "execution_count": null,
      "outputs": []
    }
  ]
}