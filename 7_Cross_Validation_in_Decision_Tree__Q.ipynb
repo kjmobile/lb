{
  "cells": [
    {
      "cell_type": "markdown",
      "metadata": {
        "id": "view-in-github",
        "colab_type": "text"
      },
      "source": [
        "<a href=\"https://colab.research.google.com/github/kjmobile/lb/blob/main/7_Cross_Validation_in_Decision_Tree__Q.ipynb\" target=\"_parent\"><img src=\"https://colab.research.google.com/assets/colab-badge.svg\" alt=\"Open In Colab\"/></a>"
      ]
    },
    {
      "cell_type": "markdown",
      "metadata": {
        "id": "rOafwFRXG7fb"
      },
      "source": [
        "# Cross Validation and Grid Search"
      ]
    },
    {
      "cell_type": "markdown",
      "metadata": {
        "id": "dVNF7yZjyvoO"
      },
      "source": [
        "## Validation Set"
      ]
    },
    {
      "cell_type": "code",
      "execution_count": null,
      "metadata": {
        "id": "banlvMA6RfnM"
      },
      "outputs": [],
      "source": [
        "import pandas as pd\n",
        "wine = pd.read_csv('https://raw.githubusercontent.com/kjmobile/data/main/ml/wine_csv.csv')"
      ]
    },
    {
      "cell_type": "code",
      "execution_count": null,
      "metadata": {
        "id": "abR6QA7qRoKl"
      },
      "outputs": [],
      "source": [
        "data = wine[['alcohol', 'sugar', 'pH']].to_numpy()\n",
        "target = wine['class'].to_numpy()"
      ]
    },
    {
      "cell_type": "code",
      "execution_count": null,
      "metadata": {
        "id": "auLnVXyMRoeb"
      },
      "outputs": [],
      "source": [
        "from sklearn.model_selection import train_test_split\n",
        "train_input, test_input, train_target, test_target = train_test_split(\n",
        "    data, target, test_size=0.2, random_state=17)"
      ]
    },
    {
      "cell_type": "code",
      "execution_count": null,
      "metadata": {
        "id": "E-yV4cCXRqNK"
      },
      "outputs": [],
      "source": [
        "sub_input, val_input, sub_target, val_target = train_test_split(\n",
        "    train_input, train_target, test_size=0.2, random_state=17)"
      ]
    },
    {
      "cell_type": "code",
      "execution_count": null,
      "metadata": {
        "id": "k29hKbw4R7Ki"
      },
      "outputs": [],
      "source": [
        "print(sub_input.shape, val_input.shape)"
      ]
    },
    {
      "cell_type": "code",
      "execution_count": null,
      "metadata": {
        "id": "4VQz-UZ2SeLq"
      },
      "outputs": [],
      "source": [
        "from sklearn.tree import DecisionTreeClassifier\n",
        "\n",
        "dt = DecisionTreeClassifier(random_state=17)\n",
        "dt.fit(sub_input, sub_target)\n",
        "\n",
        "print(dt.score(sub_input, sub_target))\n",
        "print(dt.score(val_input, val_target))\n",
        "print(dt.score(test_input,test_target))\n",
        "\n",
        "# In Decision Tree, standard scaling is often not necessary because :\n",
        "# 1. The split point remains the same even after the scaling.\n",
        "# 2. It is robust to outliers"
      ]
    },
    {
      "cell_type": "code",
      "source": [
        "dt?"
      ],
      "metadata": {
        "id": "LWGDkVvdKp8w"
      },
      "execution_count": null,
      "outputs": []
    },
    {
      "cell_type": "markdown",
      "metadata": {
        "id": "Z4gRXnK6y2Pt"
      },
      "source": [
        "## Cross Validation"
      ]
    },
    {
      "cell_type": "code",
      "execution_count": null,
      "metadata": {
        "id": "_J3LId-vSmNH"
      },
      "outputs": [],
      "source": [
        "from sklearn.model_selection import cross_validate\n",
        "\n",
        "scores = cross_validate(dt, train_input, train_target)\n",
        "print(scores)\n",
        "#if you change the number of folds from default 5 to 10,\n",
        "#what would be the average accuracy change into?"
      ]
    },
    {
      "cell_type": "code",
      "source": [
        "cross_validate?"
      ],
      "metadata": {
        "id": "QANcBAHqMGzv"
      },
      "execution_count": null,
      "outputs": []
    },
    {
      "cell_type": "code",
      "execution_count": null,
      "metadata": {
        "id": "Yp3aagOoTHsO"
      },
      "outputs": [],
      "source": [
        "import numpy as np\n",
        "print(np.mean(scores['test_score']))\n"
      ]
    },
    {
      "cell_type": "code",
      "source": [],
      "metadata": {
        "id": "K2YvtpF6ue-Y"
      },
      "execution_count": null,
      "outputs": []
    },
    {
      "cell_type": "code",
      "execution_count": null,
      "metadata": {
        "id": "0tQyaG0576Vn"
      },
      "outputs": [],
      "source": [
        "from sklearn.model_selection import StratifiedKFold\n",
        "\n",
        "scores = cross_validate(dt, train_input, train_target, cv=StratifiedKFold())\n",
        "print(np.mean(scores['test_score']))"
      ]
    },
    {
      "cell_type": "code",
      "execution_count": null,
      "metadata": {
        "id": "1BmP_OTT_agM"
      },
      "outputs": [],
      "source": [
        "# when more complex specification is needed for cv parameter.\n",
        "splitter = StratifiedKFold(n_splits=10, shuffle=True, random_state=17)\n",
        "scores = cross_validate(dt, train_input, train_target, cv=splitter)\n",
        "print(np.mean(scores['test_score']))"
      ]
    },
    {
      "cell_type": "markdown",
      "metadata": {
        "id": "Q21W8RsqDsDV"
      },
      "source": [
        "## Tuning the Hyperparameter"
      ]
    },
    {
      "cell_type": "code",
      "execution_count": null,
      "metadata": {
        "id": "S8pqss8onjR5"
      },
      "outputs": [],
      "source": [
        "from sklearn.model_selection import GridSearchCV\n",
        "params = {'min_impurity_decrease': [0.0001, 0.0002, 0.0003, 0.0004, 0.0005]}"
      ]
    },
    {
      "cell_type": "code",
      "execution_count": null,
      "metadata": {
        "id": "79MymJqxTu0P"
      },
      "outputs": [],
      "source": [
        "gs = GridSearchCV(DecisionTreeClassifier(random_state=17), params, n_jobs=-1)\n",
        "\n",
        "# it will tain 25 models = 5 params x 5 folds(default)\n",
        "# n_jbs=-1 means to use all cores available in your computer."
      ]
    },
    {
      "cell_type": "code",
      "source": [
        "GridSearchCV?"
      ],
      "metadata": {
        "id": "oKPlOkxLuSVE"
      },
      "execution_count": null,
      "outputs": []
    },
    {
      "cell_type": "code",
      "execution_count": null,
      "metadata": {
        "id": "tKAlTabkU-Lz"
      },
      "outputs": [],
      "source": [
        "gs.fit(train_input, train_target)"
      ]
    },
    {
      "cell_type": "code",
      "execution_count": null,
      "metadata": {
        "id": "q6iX3vH-VeEb"
      },
      "outputs": [],
      "source": [
        "dt_gs = gs.best_estimator_\n",
        "print(dt_gs.score(train_input, train_target))\n",
        "\n",
        "# Once Scikit-learn's grid search has completed training,\n",
        "# it automatically retrains the model using the entire training set\n",
        "# with the parameter combination that yielded the highest validation score out of the 25 models.\n",
        "# This best-performing \"model\" is saved in the \"best_estimator_\" attribute of the grid search object.\n",
        "# You can use this model just as a regular decision tree."
      ]
    },
    {
      "cell_type": "code",
      "source": [],
      "metadata": {
        "id": "oqBC63t_D_u8"
      },
      "execution_count": null,
      "outputs": []
    },
    {
      "cell_type": "code",
      "execution_count": null,
      "metadata": {
        "id": "lIzod3BwVHq-"
      },
      "outputs": [],
      "source": [
        "print(gs.best_params_)"
      ]
    },
    {
      "cell_type": "code",
      "source": [
        "#  draw a plot of scores to verify the relative performance of the best params\n",
        "import matplotlib.pyplot as plt\n",
        "plt.figure(figsize=(10,2))\n",
        "plt.plot(params['min_impurity_decrease'], gs.cv_results_['mean_test_score'])"
      ],
      "metadata": {
        "id": "P2Gv0Cn7wIIb"
      },
      "execution_count": null,
      "outputs": []
    },
    {
      "cell_type": "code",
      "execution_count": null,
      "metadata": {
        "id": "0xfQswiui4Tr"
      },
      "outputs": [],
      "source": [
        "print(gs.cv_results_['mean_test_score'])"
      ]
    },
    {
      "cell_type": "code",
      "execution_count": null,
      "metadata": {
        "id": "Rwg2aSyEVO17"
      },
      "outputs": [],
      "source": [
        "best_index = np.argmax(gs.cv_results_['mean_test_score'])\n",
        "print(gs.cv_results_['params'][best_index])"
      ]
    },
    {
      "cell_type": "markdown",
      "source": [
        "### Adding more hyperparameter combinations"
      ],
      "metadata": {
        "id": "_4-hh1L85OSx"
      }
    },
    {
      "cell_type": "code",
      "execution_count": null,
      "metadata": {
        "id": "8jHxZ7XmVU11"
      },
      "outputs": [],
      "source": [
        "params_1 = {'min_impurity_decrease': np.arange(0.0001, 0.001, 0.0001), # 9 variations\n",
        "          'max_depth': range(5, 20, 1), # 15 variations\n",
        "          'min_samples_split': range(2, 100, 10) # 10 varitions\n",
        "          }\n",
        "          # total 1350 combinations of parameters created (=9 x 15 x 10)\n",
        "          # by defaults 5 folds cross validated\n",
        "          # hence, 6750 (=5 x 1350) models will be generated to be tested for cross validation"
      ]
    },
    {
      "cell_type": "code",
      "execution_count": null,
      "metadata": {
        "id": "KnP3GA6MVsVH"
      },
      "outputs": [],
      "source": [
        "gs_1 = GridSearchCV(DecisionTreeClassifier(random_state=17), params_1, n_jobs=-1)\n",
        "gs_1.fit(train_input, train_target)"
      ]
    },
    {
      "cell_type": "code",
      "execution_count": null,
      "metadata": {
        "id": "qi9-O_VGV0Ho"
      },
      "outputs": [],
      "source": [
        "print(gs_1.best_params_)"
      ]
    },
    {
      "cell_type": "code",
      "execution_count": null,
      "metadata": {
        "id": "ZnJjLATAV2Sq"
      },
      "outputs": [],
      "source": [
        "print(np.max(gs_1.cv_results_['mean_test_score']))"
      ]
    },
    {
      "cell_type": "code",
      "source": [
        "gs_1.cv_results_['mean_test_score'].shape"
      ],
      "metadata": {
        "id": "Lts82jDGFtCJ"
      },
      "execution_count": null,
      "outputs": []
    },
    {
      "cell_type": "markdown",
      "metadata": {
        "id": "d0k9DQTNlaD6"
      },
      "source": [
        "### Random Search\n",
        "\n",
        "  + Random Search tests a random subset of the parameter space, making it faster and more suitable for high-dimensional parameter space.\n",
        "  + Random Search is computationally less expensive but can uncover effective parameters in regions of the space that Grid Search might not identify too."
      ]
    },
    {
      "cell_type": "code",
      "execution_count": null,
      "metadata": {
        "id": "_T9KTEk1GBcY"
      },
      "outputs": [],
      "source": [
        "# To execute a random search, we need a random number generator (random number from a uniform distribution)\n",
        "# Uniform distribution: probability distribution in which all outcomes are equally likely to occur.\n",
        "from scipy.stats import uniform, randint\n",
        "rgen = randint(0, 10) # random integer (discrete)\n",
        "rgen.rvs(10)"
      ]
    },
    {
      "cell_type": "code",
      "execution_count": null,
      "metadata": {
        "id": "bGhshTn0IjkI"
      },
      "outputs": [],
      "source": [
        "ugen = uniform(0, 1) # random real number (continuous)\n",
        "ugen.rvs(10)"
      ]
    },
    {
      "cell_type": "code",
      "execution_count": null,
      "metadata": {
        "id": "irDX9e6WYTIH"
      },
      "outputs": [],
      "source": [
        "params_rs = {'min_impurity_decrease': uniform(0.0001, 0.001),\n",
        "          'max_depth': randint(20, 50),\n",
        "          'min_samples_split': randint(2, 25),\n",
        "          'min_samples_leaf': randint(1, 25),\n",
        "          }"
      ]
    },
    {
      "cell_type": "code",
      "execution_count": null,
      "metadata": {
        "id": "Wc4OIingWQCK"
      },
      "outputs": [],
      "source": [
        "from sklearn.model_selection import RandomizedSearchCV\n",
        "\n",
        "cv_rs = RandomizedSearchCV(DecisionTreeClassifier(random_state=17), params_rs,\n",
        "                        n_iter=100, n_jobs=-1, random_state=17)\n",
        "cv_rs.fit(train_input, train_target)"
      ]
    },
    {
      "cell_type": "code",
      "execution_count": null,
      "metadata": {
        "id": "p7IbsGH3ZSv-"
      },
      "outputs": [],
      "source": [
        "print(cv_rs.best_params_)"
      ]
    },
    {
      "cell_type": "code",
      "execution_count": null,
      "metadata": {
        "id": "dYI3HwMQbtnr"
      },
      "outputs": [],
      "source": [
        "print(np.max(cv_rs.cv_results_['mean_test_score']))"
      ]
    },
    {
      "cell_type": "code",
      "execution_count": null,
      "metadata": {
        "id": "3QV7yRpidByf"
      },
      "outputs": [],
      "source": [
        "dt_rs = cv_rs.best_estimator_\n",
        "\n",
        "print(dt_rs.score(test_input, test_target))"
      ]
    },
    {
      "cell_type": "code",
      "source": [],
      "metadata": {
        "id": "vYRCP70b7J1U"
      },
      "execution_count": null,
      "outputs": []
    },
    {
      "cell_type": "code",
      "source": [
        "tree.plot_tree?"
      ],
      "metadata": {
        "id": "2cd6nK-C7XR0"
      },
      "execution_count": null,
      "outputs": []
    },
    {
      "cell_type": "code",
      "source": [
        "# Draw dt_rs plot_tree\n",
        "\n",
        "from sklearn import tree\n",
        "import matplotlib.pyplot as plt\n",
        "\n",
        "fig = plt.figure(figsize=(25, 20))\n",
        "tree.plot_tree(dt_rs, fontsize=10, class_names=(['alcohol', 'sugar', 'pH']), filled=True)\n",
        "plt.show()\n"
      ],
      "metadata": {
        "id": "_z7RQ3zw6hhf"
      },
      "execution_count": null,
      "outputs": []
    },
    {
      "cell_type": "code",
      "source": [],
      "metadata": {
        "id": "IDMwTqefZD81"
      },
      "execution_count": null,
      "outputs": []
    }
  ],
  "metadata": {
    "colab": {
      "provenance": [],
      "collapsed_sections": [
        "dVNF7yZjyvoO",
        "Z4gRXnK6y2Pt",
        "Q21W8RsqDsDV",
        "_4-hh1L85OSx",
        "d0k9DQTNlaD6"
      ],
      "history_visible": true,
      "include_colab_link": true
    },
    "kernelspec": {
      "display_name": "Python 3 (ipykernel)",
      "language": "python",
      "name": "python3"
    },
    "language_info": {
      "codemirror_mode": {
        "name": "ipython",
        "version": 3
      },
      "file_extension": ".py",
      "mimetype": "text/x-python",
      "name": "python",
      "nbconvert_exporter": "python",
      "pygments_lexer": "ipython3",
      "version": "3.9.13"
    }
  },
  "nbformat": 4,
  "nbformat_minor": 0
}