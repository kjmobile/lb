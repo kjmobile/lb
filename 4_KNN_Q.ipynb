{
  "cells": [
    {
      "cell_type": "markdown",
      "metadata": {
        "id": "view-in-github",
        "colab_type": "text"
      },
      "source": [
        "<a href=\"https://colab.research.google.com/github/kjmobile/lb/blob/main/4_KNN_Q.ipynb\" target=\"_parent\"><img src=\"https://colab.research.google.com/assets/colab-badge.svg\" alt=\"Open In Colab\"/></a>"
      ]
    },
    {
      "cell_type": "markdown",
      "source": [
        "# Import Data"
      ],
      "metadata": {
        "id": "MnA1rtoqYKpF"
      }
    },
    {
      "cell_type": "code",
      "source": [
        "import pandas as pd\n",
        "import numpy as np\n",
        "!pip install pymysql"
      ],
      "metadata": {
        "colab": {
          "base_uri": "https://localhost:8080/"
        },
        "id": "5I9dhSW8qKgf",
        "outputId": "f06dc567-e053-4ec9-bcc8-1beaa21ddcac"
      },
      "execution_count": 277,
      "outputs": [
        {
          "output_type": "stream",
          "name": "stdout",
          "text": [
            "Requirement already satisfied: pymysql in /usr/local/lib/python3.10/dist-packages (1.1.0)\n"
          ]
        }
      ]
    },
    {
      "cell_type": "code",
      "source": [
        "# import data from mySQL database  using the following info host: kaylee-db.cbgcswckszgl.us-east-1.rds.amazonaws.com, id cob, password 1212, db='data', port 3306\n",
        "\n",
        "import pymysql.cursors\n",
        "\n",
        "# Connect to the database\n",
        "connection = pymysql.connect(host='kaylee-db.cbgcswckszgl.us-east-1.rds.amazonaws.com',\n",
        "                             user='cob',\n",
        "                             password='1212',\n",
        "                             db='data',\n",
        "                             cursorclass=pymysql.cursors.DictCursor)\n",
        "\n",
        "try:\n",
        "    # Create a cursor object\n",
        "    with connection.cursor() as cursor:\n",
        "        # Execute the SQL query to fetch all data from the 'data' table\n",
        "        cursor.execute(\"SELECT * FROM data.fish_k\")\n",
        "\n",
        "        # Fetch all the results\n",
        "        results = cursor.fetchall()\n",
        "\n",
        "        # Convert the results to a Pandas DataFrame\n",
        "        fish_k = pd.DataFrame(results)\n",
        "\n",
        "finally:\n",
        "    # Close the connection\n",
        "    connection.close()\n",
        "\n",
        "#Print the DataFrame\n",
        "fish_k['species'] = [1 if s=='Swedish' else 0 for s in fish_k[\"species\"]] # species : 1 for Swedish 0 for McFish.\n",
        "print(fish_k)"
      ],
      "metadata": {
        "id": "vH6G5KgTqAlv",
        "colab": {
          "base_uri": "https://localhost:8080/"
        },
        "outputId": "df7fb376-3422-4040-e185-0e2e38a7b071"
      },
      "execution_count": 278,
      "outputs": [
        {
          "output_type": "stream",
          "name": "stdout",
          "text": [
            "    length  weight  species\n",
            "0     25.4   242.0        1\n",
            "1     26.3   290.0        1\n",
            "2     26.5   340.0        1\n",
            "3     29.0   363.0        1\n",
            "4     29.0   430.0        1\n",
            "5     29.7   450.0        1\n",
            "6     29.7   500.0        1\n",
            "7     30.0   390.0        1\n",
            "8     30.0   450.0        1\n",
            "9     30.7   500.0        1\n",
            "10    31.0   475.0        1\n",
            "11    31.0   500.0        1\n",
            "12    31.5   500.0        1\n",
            "13    32.0   340.0        1\n",
            "14    32.0   600.0        1\n",
            "15    32.0   600.0        1\n",
            "16    33.0   700.0        1\n",
            "17    33.0   700.0        1\n",
            "18    33.5   610.0        1\n",
            "19    33.5   650.0        1\n",
            "20    34.0   575.0        1\n",
            "21    34.0   685.0        1\n",
            "22    34.5   620.0        1\n",
            "23    35.0   680.0        1\n",
            "24    35.0   700.0        1\n",
            "25    35.0   725.0        1\n",
            "26    35.0   720.0        1\n",
            "27    36.0   714.0        1\n",
            "28    36.0   850.0        1\n",
            "29    37.0  1000.0        1\n",
            "30    38.5   920.0        1\n",
            "31    38.5   955.0        1\n",
            "32    39.5   925.0        1\n",
            "33    41.0   975.0        1\n",
            "34    41.0   950.0        1\n",
            "35     9.8     6.7        0\n",
            "36    10.5     7.5        0\n",
            "37    10.6     7.0        0\n",
            "38    11.0     9.7        0\n",
            "39    11.2     9.8        0\n",
            "40    11.3     8.7        0\n",
            "41    11.8    10.0        0\n",
            "42    11.8     9.9        0\n",
            "43    12.0     9.8        0\n",
            "44    12.2    12.2        0\n",
            "45    12.4    13.4        0\n",
            "46    13.0    12.2        0\n",
            "47    14.3    19.7        0\n",
            "48    15.0    19.9        0\n"
          ]
        }
      ]
    },
    {
      "cell_type": "code",
      "source": [
        "fish_X= fish_k.iloc[:,:2].to_numpy()\n",
        "fish_y=fish_k['species'].to_numpy()"
      ],
      "metadata": {
        "id": "BlD4dedc43Wi"
      },
      "execution_count": 204,
      "outputs": []
    },
    {
      "cell_type": "code",
      "source": [
        "fish_X.shape"
      ],
      "metadata": {
        "id": "yysrQCCd5OQ8",
        "outputId": "078bbc69-f196-4f97-ff1b-eec10c103c58",
        "colab": {
          "base_uri": "https://localhost:8080/"
        }
      },
      "execution_count": 205,
      "outputs": [
        {
          "output_type": "execute_result",
          "data": {
            "text/plain": [
              "(49, 2)"
            ]
          },
          "metadata": {},
          "execution_count": 205
        }
      ]
    },
    {
      "cell_type": "code",
      "source": [
        "fish_y.shape"
      ],
      "metadata": {
        "id": "A0v1TbS15Qoz",
        "outputId": "4e839eca-6195-41aa-94d1-a6bb1450fc4e",
        "colab": {
          "base_uri": "https://localhost:8080/"
        }
      },
      "execution_count": 218,
      "outputs": [
        {
          "output_type": "execute_result",
          "data": {
            "text/plain": [
              "(49,)"
            ]
          },
          "metadata": {},
          "execution_count": 218
        }
      ]
    },
    {
      "cell_type": "code",
      "source": [
        "fish_y"
      ],
      "metadata": {
        "colab": {
          "base_uri": "https://localhost:8080/"
        },
        "id": "u37bH7nJorsh",
        "outputId": "46261e0f-a1f6-412a-8814-9adf7ffc4948"
      },
      "execution_count": 219,
      "outputs": [
        {
          "output_type": "execute_result",
          "data": {
            "text/plain": [
              "array([1, 1, 1, 1, 1, 1, 1, 1, 1, 1, 1, 1, 1, 1, 1, 1, 1, 1, 1, 1, 1, 1,\n",
              "       1, 1, 1, 1, 1, 1, 1, 1, 1, 1, 1, 1, 1, 0, 0, 0, 0, 0, 0, 0, 0, 0,\n",
              "       0, 0, 0, 0, 0])"
            ]
          },
          "metadata": {},
          "execution_count": 219
        }
      ]
    },
    {
      "cell_type": "markdown",
      "source": [
        "## Plot the data with the actual label info ('Beamer', 'Swedish') in fish_y."
      ],
      "metadata": {
        "id": "qx6xS7g0m0mg"
      }
    },
    {
      "cell_type": "code",
      "source": [
        "import matplotlib.pyplot as plt\n",
        "\n",
        "# Create a scatter plot for each group\n",
        "plt.scatter(fish_X[fish_y == 0, 0], fish_X[fish_y == 0, 1], label=\"McFish\")\n",
        "plt.scatter(fish_X[fish_y == 1, 0], fish_X[fish_y == 1, 1], label=\"Swedish\")\n",
        "\n",
        "# Add labels and title\n",
        "plt.xlabel(\"Length\")\n",
        "plt.ylabel(\"Weight\")\n",
        "plt.title(\"Scatterplot of Fish Data by Species\")\n",
        "\n",
        "# Add legend and show plot\n",
        "plt.legend()\n",
        "plt.show()\n"
      ],
      "metadata": {
        "colab": {
          "base_uri": "https://localhost:8080/",
          "height": 472
        },
        "id": "nJOxNrMqmEi-",
        "outputId": "79a37d12-fa1a-46fb-dec8-191d65c0926a"
      },
      "execution_count": 220,
      "outputs": [
        {
          "output_type": "display_data",
          "data": {
            "text/plain": [
              "<Figure size 640x480 with 1 Axes>"
            ],
            "image/png": "[encoded data removed]"
          },
          "metadata": {}
        }
      ]
    },
    {
      "cell_type": "markdown",
      "metadata": {
        "id": "ShnaZsAAHsB1"
      },
      "source": [
        "#Preprocessing :  Train Test Split"
      ]
    },
    {
      "cell_type": "code",
      "execution_count": 208,
      "metadata": {
        "id": "vpkI83t3KBsF"
      },
      "outputs": [],
      "source": [
        "from sklearn.model_selection import train_test_split"
      ]
    },
    {
      "cell_type": "code",
      "execution_count": 209,
      "metadata": {
        "id": "l-gm9r-jKMJY"
      },
      "outputs": [],
      "source": [
        "train_input, test_input, train_target, test_target = train_test_split(\n",
        "    fish_X, fish_y, random_state=42)"
      ]
    },
    {
      "cell_type": "code",
      "execution_count": 210,
      "metadata": {
        "id": "CS696_mxKZ38",
        "outputId": "3ee0f34c-9f2f-40cd-80bf-4575061b870f",
        "colab": {
          "base_uri": "https://localhost:8080/"
        }
      },
      "outputs": [
        {
          "output_type": "stream",
          "name": "stdout",
          "text": [
            "(36, 2) (13, 2)\n"
          ]
        }
      ],
      "source": [
        "print(train_input.shape, test_input.shape)"
      ]
    },
    {
      "cell_type": "code",
      "execution_count": 211,
      "metadata": {
        "id": "PtNqwNjbKnI-",
        "outputId": "6e427d3a-ffe7-42fd-9d81-805c74ab1017",
        "colab": {
          "base_uri": "https://localhost:8080/"
        }
      },
      "outputs": [
        {
          "output_type": "stream",
          "name": "stdout",
          "text": [
            "(36,) (13,)\n"
          ]
        }
      ],
      "source": [
        "print(train_target.shape, test_target.shape)"
      ]
    },
    {
      "cell_type": "code",
      "source": [
        "train_target"
      ],
      "metadata": {
        "colab": {
          "base_uri": "https://localhost:8080/"
        },
        "id": "KdZvmyQfojSW",
        "outputId": "a74665af-b88a-4ea3-db54-c5195eb24b50"
      },
      "execution_count": 217,
      "outputs": [
        {
          "output_type": "execute_result",
          "data": {
            "text/plain": [
              "array([1, 1, 1, 0, 0, 0, 1, 1, 1, 1, 1, 1, 1, 0, 1, 1, 1, 1, 0, 1, 1, 1,\n",
              "       0, 0, 1, 0, 1, 1, 1, 0, 1, 1, 0, 1, 1, 0])"
            ]
          },
          "metadata": {},
          "execution_count": 217
        }
      ]
    },
    {
      "cell_type": "code",
      "execution_count": 216,
      "metadata": {
        "id": "mR9_bB3COHaA",
        "outputId": "83fc2e6b-38f3-4bea-d40c-ff5257c8e2e1",
        "colab": {
          "base_uri": "https://localhost:8080/"
        }
      },
      "outputs": [
        {
          "output_type": "stream",
          "name": "stdout",
          "text": [
            "[1 0 0 0 1 1 1 1 1 1 1 1 1]\n"
          ]
        }
      ],
      "source": [
        "print(test_target)"
      ]
    },
    {
      "cell_type": "code",
      "execution_count": 213,
      "metadata": {
        "outputId": "2e9d3c77-0572-414a-8e5d-d0790bee58e9",
        "colab": {
          "base_uri": "https://localhost:8080/"
        },
        "id": "sFhCOhDj1bAW"
      },
      "outputs": [
        {
          "output_type": "execute_result",
          "data": {
            "text/plain": [
              "1.0"
            ]
          },
          "metadata": {},
          "execution_count": 213
        }
      ],
      "source": [
        "from sklearn.neighbors import KNeighborsClassifier\n",
        "\n",
        "kn = KNeighborsClassifier()\n",
        "kn.fit(train_input, train_target)\n",
        "kn.score(test_input, test_target)"
      ]
    },
    {
      "cell_type": "code",
      "source": [
        "kn.predict(test_input)"
      ],
      "metadata": {
        "id": "3j8nT-UHoun-",
        "outputId": "50903363-47c1-4a85-fd79-a15f3b87d241",
        "colab": {
          "base_uri": "https://localhost:8080/"
        }
      },
      "execution_count": 214,
      "outputs": [
        {
          "output_type": "execute_result",
          "data": {
            "text/plain": [
              "array([1, 0, 0, 0, 1, 1, 1, 1, 1, 1, 1, 1, 1])"
            ]
          },
          "metadata": {},
          "execution_count": 214
        }
      ]
    },
    {
      "cell_type": "code",
      "source": [
        "import matplotlib.pyplot as plt\n",
        "plt.scatter(train_input[:, 0], train_input[:, 1])\n",
        "plt.scatter(test_input[:, 0], test_input[:, 1])\n",
        "plt.xlabel('length')\n",
        "plt.ylabel('weight')\n",
        "plt.show()"
      ],
      "metadata": {
        "id": "1wYCy-zgvuqW",
        "outputId": "63eae074-62a2-48f8-b52a-03625bbf7249",
        "colab": {
          "base_uri": "https://localhost:8080/",
          "height": 449
        }
      },
      "execution_count": 215,
      "outputs": [
        {
          "output_type": "display_data",
          "data": {
            "text/plain": [
              "<Figure size 640x480 with 1 Axes>"
            ],
            "image/png": "[encoded data removed]"
          },
          "metadata": {}
        }
      ]
    },
    {
      "cell_type": "markdown",
      "metadata": {
        "id": "KFO96jGvHsB2"
      },
      "source": [
        "# Test One Fish!"
      ]
    },
    {
      "cell_type": "code",
      "execution_count": 281,
      "metadata": {
        "id": "HhB-Alz--6U4",
        "colab": {
          "base_uri": "https://localhost:8080/"
        },
        "outputId": "9ee442f0-46d9-4975-ec4c-ef7fbe3b4852"
      },
      "outputs": [
        {
          "output_type": "execute_result",
          "data": {
            "text/plain": [
              "1.0"
            ]
          },
          "metadata": {},
          "execution_count": 281
        }
      ],
      "source": [
        "from sklearn.neighbors import KNeighborsClassifier\n",
        "\n",
        "kn = KNeighborsClassifier()\n",
        "kn.fit(train_input, train_target)\n",
        "kn.score(test_input, test_target)"
      ]
    },
    {
      "cell_type": "code",
      "execution_count": 282,
      "metadata": {
        "id": "JRKoCZFeT9xE",
        "outputId": "c890958e-cc6b-4127-9672-85bb1f44f68d",
        "colab": {
          "base_uri": "https://localhost:8080/"
        }
      },
      "outputs": [
        {
          "output_type": "stream",
          "name": "stdout",
          "text": [
            "[0]\n"
          ]
        }
      ],
      "source": [
        "print(kn.predict([[25, 150]]))"
      ]
    },
    {
      "cell_type": "code",
      "execution_count": 283,
      "metadata": {
        "id": "1-GE9ic9_XRU",
        "outputId": "fe781f45-eb17-43b6-9d00-2234bdbad3a5",
        "colab": {
          "base_uri": "https://localhost:8080/",
          "height": 449
        }
      },
      "outputs": [
        {
          "output_type": "display_data",
          "data": {
            "text/plain": [
              "<Figure size 640x480 with 1 Axes>"
            ],
            "image/png": "[encoded data removed]"
          },
          "metadata": {}
        }
      ],
      "source": [
        "plt.scatter(train_input[:,0], train_input[:,1])\n",
        "plt.scatter(25, 150, marker='^')\n",
        "plt.xlabel('length')\n",
        "plt.ylabel('weight')\n",
        "plt.show()"
      ]
    },
    {
      "cell_type": "code",
      "source": [
        "kn.kneighbors?"
      ],
      "metadata": {
        "id": "ypkP2ZB79GVK"
      },
      "execution_count": 225,
      "outputs": []
    },
    {
      "cell_type": "code",
      "source": [
        "distances, indexes = kn.kneighbors([[25,150]])"
      ],
      "metadata": {
        "id": "NaBEcQZf-tOm"
      },
      "execution_count": 284,
      "outputs": []
    },
    {
      "cell_type": "code",
      "execution_count": 285,
      "metadata": {
        "id": "tVVz-wJoQ2ps",
        "outputId": "bbf7ed83-cfe2-4e30-fcf9-1b81f95099df",
        "colab": {
          "base_uri": "https://localhost:8080/",
          "height": 449
        }
      },
      "outputs": [
        {
          "output_type": "display_data",
          "data": {
            "text/plain": [
              "<Figure size 640x480 with 1 Axes>"
            ],
            "image/png": "[encoded data removed]"
          },
          "metadata": {}
        }
      ],
      "source": [
        "plt.scatter(train_input[:,0], train_input[:,1])\n",
        "plt.scatter(25, 150, marker='^')\n",
        "plt.scatter(train_input[indexes,0], train_input[indexes,1], marker='D')\n",
        "plt.xlabel('length')\n",
        "plt.ylabel('weight')\n",
        "plt.show()"
      ]
    },
    {
      "cell_type": "code",
      "execution_count": 286,
      "metadata": {
        "id": "0IvKvCx1RyhY",
        "outputId": "ae571b18-1ecb-40ee-9944-9980cf451079",
        "colab": {
          "base_uri": "https://localhost:8080/"
        }
      },
      "outputs": [
        {
          "output_type": "stream",
          "name": "stdout",
          "text": [
            "[[[ 25.4 242. ]\n",
            "  [ 15.   19.9]\n",
            "  [ 13.   12.2]\n",
            "  [ 26.3 290. ]\n",
            "  [ 11.8  10. ]]]\n"
          ]
        }
      ],
      "source": [
        "print(train_input[indexes])"
      ]
    },
    {
      "cell_type": "code",
      "execution_count": 287,
      "metadata": {
        "id": "3tEGpNPT00ut",
        "outputId": "44a84035-c096-46f8-bc12-0503afac6ef8",
        "colab": {
          "base_uri": "https://localhost:8080/"
        }
      },
      "outputs": [
        {
          "output_type": "stream",
          "name": "stdout",
          "text": [
            "[[1 0 0 1 0]]\n"
          ]
        }
      ],
      "source": [
        "print(train_target[indexes])"
      ]
    },
    {
      "cell_type": "code",
      "execution_count": 288,
      "metadata": {
        "id": "ry0R_gEqRVsQ",
        "outputId": "48d9c172-711c-465c-a27c-56678073f122",
        "colab": {
          "base_uri": "https://localhost:8080/"
        }
      },
      "outputs": [
        {
          "output_type": "stream",
          "name": "stdout",
          "text": [
            "[[ 92.00086956 130.48375378 138.32150953 140.00603558 140.62090883]]\n"
          ]
        }
      ],
      "source": [
        "print(distances)"
      ]
    },
    {
      "cell_type": "markdown",
      "metadata": {
        "id": "15Cz1cniHsB4"
      },
      "source": [
        "# Plot with comparable xlim (i.e., same scope of length as weight)"
      ]
    },
    {
      "cell_type": "code",
      "execution_count": 289,
      "metadata": {
        "id": "P6PXDboiTx_j",
        "scrolled": true,
        "colab": {
          "base_uri": "https://localhost:8080/",
          "height": 449
        },
        "outputId": "8fc0b177-6957-4c8e-9f25-0887125e1045"
      },
      "outputs": [
        {
          "output_type": "display_data",
          "data": {
            "text/plain": [
              "<Figure size 640x480 with 1 Axes>"
            ],
            "image/png": "[encoded data removed]"
          },
          "metadata": {}
        }
      ],
      "source": [
        "plt.scatter(train_input[:,0], train_input[:,1])\n",
        "plt.scatter(30, 150, marker='^')\n",
        "plt.scatter(train_input[indexes,0], train_input[indexes,1], marker='D')\n",
        "plt.xlim((0, 1000))\n",
        "plt.xlabel('length')\n",
        "plt.ylabel('weight')\n",
        "plt.show()\n",
        "\n",
        "#With this shape data, the length of the fish (x-axis) would not affect finding the nearest neighbors.\n",
        "#Only the weight of the fish (y-axis) would be considered.\n",
        "#--> Standardization of \"scale\" is necessary in training \"distance\"-based-algorithms."
      ]
    },
    {
      "cell_type": "markdown",
      "source": [
        "# Prepropcessing: Standardization using z scale"
      ],
      "metadata": {
        "id": "Yi9xncqkUGIZ"
      }
    },
    {
      "cell_type": "code",
      "execution_count": 307,
      "metadata": {
        "id": "f7CuQC8IUsty",
        "outputId": "c2e7aef4-3a09-4d32-a79a-60c6e1f2a354",
        "colab": {
          "base_uri": "https://localhost:8080/"
        }
      },
      "outputs": [
        {
          "output_type": "stream",
          "name": "stdout",
          "text": [
            "[[ 30.  450. ]\n",
            " [ 29.  363. ]\n",
            " [ 29.7 500. ]]\n"
          ]
        }
      ],
      "source": [
        "print(train_input[:3,:])"
      ]
    },
    {
      "cell_type": "code",
      "source": [
        "mean= np.mean(train_input, axis=0)\n",
        "std =np.std(train_input, axis=0)"
      ],
      "metadata": {
        "id": "EaPwlK1VrrUK"
      },
      "execution_count": 309,
      "outputs": []
    },
    {
      "cell_type": "code",
      "source": [
        "print(mean, std)"
      ],
      "metadata": {
        "colab": {
          "base_uri": "https://localhost:8080/"
        },
        "id": "sYeXEexGs9p-",
        "outputId": "099abf10-4b7a-49cf-8374-b1a9f12814b2"
      },
      "execution_count": 310,
      "outputs": [
        {
          "output_type": "stream",
          "name": "stdout",
          "text": [
            "[ 26.175      418.08888889] [ 10.21073441 321.67847023]\n"
          ]
        }
      ]
    },
    {
      "cell_type": "code",
      "execution_count": 311,
      "metadata": {
        "id": "jmSFa3LzUteI",
        "outputId": "f508ed2f-94e1-4ffd-a94d-6c5a3b860cb1",
        "colab": {
          "base_uri": "https://localhost:8080/"
        }
      },
      "outputs": [
        {
          "output_type": "stream",
          "name": "stdout",
          "text": [
            "[[ 0.37460577  0.09920189]\n",
            " [ 0.27666962 -0.17125451]\n",
            " [ 0.34522492  0.2546366 ]]\n"
          ]
        }
      ],
      "source": [
        "train_scaled = (train_input - mean) / std\n",
        "print(train_scaled[:3,:])"
      ]
    },
    {
      "cell_type": "markdown",
      "metadata": {
        "id": "fQEcM4FoHsB5"
      },
      "source": [
        "# Train with scaled train set;\n",
        "  - Now there is another problem: the test data ([[25,150]]) should also be standardized!"
      ]
    },
    {
      "cell_type": "code",
      "execution_count": 312,
      "metadata": {
        "id": "P4dx2WDOVDMD",
        "scrolled": true,
        "outputId": "b04e09f9-fb2b-462f-e44e-80b29bd48111",
        "colab": {
          "base_uri": "https://localhost:8080/",
          "height": 449
        }
      },
      "outputs": [
        {
          "output_type": "display_data",
          "data": {
            "text/plain": [
              "<Figure size 640x480 with 1 Axes>"
            ],
            "image/png": "[encoded data removed]"
          },
          "metadata": {}
        }
      ],
      "source": [
        "# the not-yet-standardized test data([[25,150]]) distorts the plot\n",
        "plt.scatter(train_scaled[:,0], train_scaled[:,1])\n",
        "plt.scatter(25, 150, marker='^')\n",
        "plt.xlabel('length')\n",
        "plt.ylabel('weight')\n",
        "plt.show()"
      ]
    },
    {
      "cell_type": "code",
      "execution_count": 313,
      "metadata": {
        "id": "Kjd2W6ZbVlgG"
      },
      "outputs": [],
      "source": [
        "new = ([25,150] - mean) / std"
      ]
    },
    {
      "cell_type": "code",
      "source": [
        "new"
      ],
      "metadata": {
        "colab": {
          "base_uri": "https://localhost:8080/"
        },
        "id": "EE5_L3Vism74",
        "outputId": "42678f3b-49f4-4734-b0f6-2b5f94e0e0b5"
      },
      "execution_count": 314,
      "outputs": [
        {
          "output_type": "execute_result",
          "data": {
            "text/plain": [
              "array([-0.11507497, -0.83340638])"
            ]
          },
          "metadata": {},
          "execution_count": 314
        }
      ]
    },
    {
      "cell_type": "code",
      "execution_count": 315,
      "metadata": {
        "id": "5-Zq-jIMVbV-",
        "outputId": "b25e201e-b576-47e6-e645-aee7fc5cb805",
        "colab": {
          "base_uri": "https://localhost:8080/",
          "height": 449
        }
      },
      "outputs": [
        {
          "output_type": "display_data",
          "data": {
            "text/plain": [
              "<Figure size 640x480 with 1 Axes>"
            ],
            "image/png": "[encoded data removed]"
          },
          "metadata": {}
        }
      ],
      "source": [
        "plt.scatter(train_scaled[:,0], train_scaled[:,1])\n",
        "plt.scatter(new[0], new[1], marker='^')\n",
        "\n",
        "plt.xlabel('length')\n",
        "plt.ylabel('weight')\n",
        "plt.show()"
      ]
    },
    {
      "cell_type": "code",
      "execution_count": 316,
      "metadata": {
        "id": "5uc_k1nlWnNN"
      },
      "outputs": [],
      "source": [
        "test_scaled = (test_input - mean) / std"
      ]
    },
    {
      "cell_type": "code",
      "execution_count": 317,
      "metadata": {
        "colab": {
          "base_uri": "https://localhost:8080/"
        },
        "outputId": "ef92ad48-d0e1-47a2-c8e6-5c77e40b467b",
        "id": "hiRuHx5CIs-X"
      },
      "outputs": [
        {
          "output_type": "execute_result",
          "data": {
            "text/plain": [
              "1.0"
            ]
          },
          "metadata": {},
          "execution_count": 317
        }
      ],
      "source": [
        "from sklearn.neighbors import KNeighborsClassifier\n",
        "\n",
        "kn1 = KNeighborsClassifier()\n",
        "kn1.fit(train_scaled, train_target)\n",
        "kn1.score(test_scaled, test_target)"
      ]
    },
    {
      "cell_type": "code",
      "execution_count": 320,
      "metadata": {
        "id": "mox3oWCLWzGW",
        "outputId": "e90f341c-6dbb-4c36-d46e-0edb469ade70",
        "colab": {
          "base_uri": "https://localhost:8080/"
        }
      },
      "outputs": [
        {
          "output_type": "stream",
          "name": "stdout",
          "text": [
            "[1]\n"
          ]
        }
      ],
      "source": [
        "# now it is reasonably grouppig it into Swedish,1\n",
        "print(kn1.predict([new]))"
      ]
    },
    {
      "cell_type": "code",
      "execution_count": 326,
      "metadata": {
        "id": "bRU4r44-W1t3"
      },
      "outputs": [],
      "source": [
        "distances, indexes = kn1.kneighbors([new])"
      ]
    },
    {
      "cell_type": "code",
      "execution_count": 327,
      "metadata": {
        "id": "bHWAbdefW9W6",
        "colab": {
          "base_uri": "https://localhost:8080/",
          "height": 449
        },
        "outputId": "96b6aef3-9ee8-4e05-b2a0-aa5dae72ee54"
      },
      "outputs": [
        {
          "output_type": "display_data",
          "data": {
            "text/plain": [
              "<Figure size 640x480 with 1 Axes>"
            ],
            "image/png": "[encoded data removed]"
          },
          "metadata": {}
        }
      ],
      "source": [
        "plt.scatter(train_scaled[:,0], train_scaled[:,1])\n",
        "plt.scatter(new[0], new[1], marker='^')\n",
        "plt.scatter(train_scaled[indexes,0], train_scaled[indexes,1], marker='D')\n",
        "\n",
        "plt.xlabel('length')\n",
        "plt.ylabel('weight')\n",
        "plt.show()"
      ]
    },
    {
      "cell_type": "markdown",
      "source": [
        "# Model's accuracy score - Use test dataset"
      ],
      "metadata": {
        "id": "MlauQEDUGLqP"
      }
    },
    {
      "cell_type": "code",
      "source": [
        "# Now the model 'correctly' classifies the test fish as caegory 1 (i.e., McFish)\n",
        "# This is a convenience method same as accuracy_score() shown below.\n",
        "kn.score(test_scaled, test_target)"
      ],
      "metadata": {
        "id": "6PfEwPLxWvdz",
        "colab": {
          "base_uri": "https://localhost:8080/"
        },
        "outputId": "b8b8c233-2632-4de4-da59-7d91db21134b"
      },
      "execution_count": 328,
      "outputs": [
        {
          "output_type": "execute_result",
          "data": {
            "text/plain": [
              "0.23076923076923078"
            ]
          },
          "metadata": {},
          "execution_count": 328
        }
      ]
    },
    {
      "cell_type": "markdown",
      "source": [
        "# Performance Evaluation: Confusion Matrix and the Four Classification Peformance Metrics   \n",
        "\n",
        "- **Accuracy** : assesses the overall correctness of the model (obtainable by ``kn.score()``) : $\\frac{TP + TN}{TP + TN + FP + FN}$\n",
        "- **Specificity**: measures the ability to correctly identify negatives :  $\\frac{TN}{TN + FP}$\n",
        "- **Precision**: focuses on the correctness of positive predictions: $\\frac{TP}{TP + FP}$\n",
        "- **Recall** (Sensitivity): measures ability to identify all relevant instances: $\\frac{TP}{TP + FN}$"
      ],
      "metadata": {
        "id": "HGGn_-SK_ZsW"
      }
    },
    {
      "cell_type": "code",
      "source": [
        "confusion_matrix?"
      ],
      "metadata": {
        "id": "7EhLH-rFDunq"
      },
      "execution_count": 329,
      "outputs": []
    },
    {
      "cell_type": "code",
      "source": [
        "from sklearn.metrics import confusion_matrix\n",
        "# Get the confusion matrix\n",
        "cm = confusion_matrix(test_target, kn.predict(test_scaled))\n",
        "# Convert the confusion matrix to a DataFrame\n",
        "cm_df = pd.DataFrame(cm, columns=['Predicted 0', 'Predicted 1'], index=['Actual 0', 'Actual 1'])\n",
        "# Print the DataFrame\n",
        "print(cm_df)\n",
        "\n"
      ],
      "metadata": {
        "id": "8cTihRc5_7yG",
        "outputId": "4e20bceb-9f8e-426b-da7e-4ca98c4bf8f5",
        "colab": {
          "base_uri": "https://localhost:8080/"
        }
      },
      "execution_count": 330,
      "outputs": [
        {
          "output_type": "stream",
          "name": "stdout",
          "text": [
            "          Predicted 0  Predicted 1\n",
            "Actual 0            3            0\n",
            "Actual 1           10            0\n"
          ]
        }
      ]
    },
    {
      "cell_type": "code",
      "source": [
        "from sklearn.metrics import accuracy_score, recall_score, precision_score, f1_score\n",
        "\n",
        "# Four classification metrics\n",
        "accuracy = accuracy_score(test_target, kn.predict(test_scaled))\n",
        "specificity = recall_score(test_target, kn.predict(test_scaled), pos_label=0)\n",
        "precision = precision_score(test_target, kn.predict(test_scaled), pos_label=1)\n",
        "recall = recall_score(test_target, kn.predict(test_scaled), pos_label=1)\n",
        "\n",
        "print(\"Accuracy:\", accuracy)\n",
        "print(\"Specificity:\", specificity)\n",
        "print(\"Precision:\", precision)\n",
        "print(\"Recall:\", recall)\n"
      ],
      "metadata": {
        "id": "DtKu7KMVEBut",
        "outputId": "7af016cc-e3c9-4320-b4a0-1e4ced4b0578",
        "colab": {
          "base_uri": "https://localhost:8080/"
        }
      },
      "execution_count": 331,
      "outputs": [
        {
          "output_type": "stream",
          "name": "stdout",
          "text": [
            "Accuracy: 0.23076923076923078\n",
            "Specificity: 1.0\n",
            "Precision: 0.0\n",
            "Recall: 0.0\n"
          ]
        },
        {
          "output_type": "stream",
          "name": "stderr",
          "text": [
            "/usr/local/lib/python3.10/dist-packages/sklearn/metrics/_classification.py:1344: UndefinedMetricWarning: Precision is ill-defined and being set to 0.0 due to no predicted samples. Use `zero_division` parameter to control this behavior.\n",
            "  _warn_prf(average, modifier, msg_start, len(result))\n"
          ]
        }
      ]
    },
    {
      "cell_type": "code",
      "source": [],
      "metadata": {
        "id": "02pFotl0EMbG"
      },
      "execution_count": 331,
      "outputs": []
    }
  ],
  "metadata": {
    "colab": {
      "provenance": [],
      "collapsed_sections": [
        "HGGn_-SK_ZsW"
      ],
      "include_colab_link": true
    },
    "kernelspec": {
      "display_name": "Python 3 (ipykernel)",
      "language": "python",
      "name": "python3"
    },
    "language_info": {
      "codemirror_mode": {
        "name": "ipython",
        "version": 3
      },
      "file_extension": ".py",
      "mimetype": "text/x-python",
      "name": "python",
      "nbconvert_exporter": "python",
      "pygments_lexer": "ipython3",
      "version": "3.10.9"
    }
  },
  "nbformat": 4,
  "nbformat_minor": 0
}