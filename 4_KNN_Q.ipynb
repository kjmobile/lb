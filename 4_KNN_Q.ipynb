{
  "cells": [
    {
      "cell_type": "markdown",
      "metadata": {
        "id": "view-in-github",
        "colab_type": "text"
      },
      "source": [
        "<a href=\"https://colab.research.google.com/github/kjmobile/lb/blob/main/4_KNN_Q.ipynb\" target=\"_parent\"><img src=\"https://colab.research.google.com/assets/colab-badge.svg\" alt=\"Open In Colab\"/></a>"
      ]
    },
    {
      "cell_type": "markdown",
      "source": [
        "# Import Data"
      ],
      "metadata": {
        "id": "MnA1rtoqYKpF"
      }
    },
    {
      "cell_type": "code",
      "source": [
        "import pandas as pd\n",
        "import numpy as np\n",
        "!pip install pymysql"
      ],
      "metadata": {
        "colab": {
          "base_uri": "https://localhost:8080/"
        },
        "id": "5I9dhSW8qKgf",
        "outputId": "9a3dfc21-5074-4a7f-f465-d5ca38acdaa6"
      },
      "execution_count": 1,
      "outputs": [
        {
          "output_type": "stream",
          "name": "stdout",
          "text": [
            "Collecting pymysql\n",
            "  Downloading PyMySQL-1.1.0-py3-none-any.whl (44 kB)\n",
            "\u001b[?25l     \u001b[90m━━━━━━━━━━━━━━━━━━━━━━━━━━━━━━━━━━━━━━━━\u001b[0m \u001b[32m0.0/44.8 kB\u001b[0m \u001b[31m?\u001b[0m eta \u001b[36m-:--:--\u001b[0m\r\u001b[2K     \u001b[90m━━━━━━━━━━━━━━━━━━━━━━━━━━━━━━━━━━━━━━━━\u001b[0m \u001b[32m44.8/44.8 kB\u001b[0m \u001b[31m1.3 MB/s\u001b[0m eta \u001b[36m0:00:00\u001b[0m\n",
            "\u001b[?25hInstalling collected packages: pymysql\n",
            "Successfully installed pymysql-1.1.0\n"
          ]
        }
      ]
    },
    {
      "cell_type": "code",
      "source": [
        "# import data from mySQL database  using the following info host: kaylee-db.cbgcswckszgl.us-east-1.rds.amazonaws.com, id cob, password 1212, db='data', port 3306\n",
        "\n",
        "import pymysql.cursors\n",
        "\n",
        "# Connect to the database\n",
        "connection = pymysql.connect(host='kaylee-db.cbgcswckszgl.us-east-1.rds.amazonaws.com',\n",
        "                             user='cob',\n",
        "                             password='1212',\n",
        "                             db='data',\n",
        "                             cursorclass=pymysql.cursors.DictCursor)\n",
        "\n",
        "try:\n",
        "    # Create a cursor object\n",
        "    with connection.cursor() as cursor:\n",
        "        # Execute the SQL query to fetch all data from the 'data' table\n",
        "        cursor.execute(\"SELECT * FROM data.fish_k\")\n",
        "\n",
        "        # Fetch all the results\n",
        "        results = cursor.fetchall()\n",
        "\n",
        "        # Convert the results to a Pandas DataFrame\n",
        "        fish_k = pd.DataFrame(results)\n",
        "\n",
        "finally:\n",
        "    # Close the connection\n",
        "    connection.close()\n",
        "\n",
        "# Print the DataFrame\n",
        "fish_k['species'] = [1 if s=='Swedish' else 0 for s in fish_k[\"species\"]]\n",
        "print(fish_k)"
      ],
      "metadata": {
        "id": "vH6G5KgTqAlv",
        "colab": {
          "base_uri": "https://localhost:8080/"
        },
        "outputId": "46148dd3-541a-4e42-e9c3-005e460ebcdb"
      },
      "execution_count": 4,
      "outputs": [
        {
          "output_type": "stream",
          "name": "stdout",
          "text": [
            "    length  weight  species\n",
            "0     25.4   242.0        1\n",
            "1     26.3   290.0        1\n",
            "2     26.5   340.0        1\n",
            "3     29.0   363.0        1\n",
            "4     29.0   430.0        1\n",
            "5     29.7   450.0        1\n",
            "6     29.7   500.0        1\n",
            "7     30.0   390.0        1\n",
            "8     30.0   450.0        1\n",
            "9     30.7   500.0        1\n",
            "10    31.0   475.0        1\n",
            "11    31.0   500.0        1\n",
            "12    31.5   500.0        1\n",
            "13    32.0   340.0        1\n",
            "14    32.0   600.0        1\n",
            "15    32.0   600.0        1\n",
            "16    33.0   700.0        1\n",
            "17    33.0   700.0        1\n",
            "18    33.5   610.0        1\n",
            "19    33.5   650.0        1\n",
            "20    34.0   575.0        1\n",
            "21    34.0   685.0        1\n",
            "22    34.5   620.0        1\n",
            "23    35.0   680.0        1\n",
            "24    35.0   700.0        1\n",
            "25    35.0   725.0        1\n",
            "26    35.0   720.0        1\n",
            "27    36.0   714.0        1\n",
            "28    36.0   850.0        1\n",
            "29    37.0  1000.0        1\n",
            "30    38.5   920.0        1\n",
            "31    38.5   955.0        1\n",
            "32    39.5   925.0        1\n",
            "33    41.0   975.0        1\n",
            "34    41.0   950.0        1\n",
            "35     9.8     6.7        0\n",
            "36    10.5     7.5        0\n",
            "37    10.6     7.0        0\n",
            "38    11.0     9.7        0\n",
            "39    11.2     9.8        0\n",
            "40    11.3     8.7        0\n",
            "41    11.8    10.0        0\n",
            "42    11.8     9.9        0\n",
            "43    12.0     9.8        0\n",
            "44    12.2    12.2        0\n",
            "45    12.4    13.4        0\n",
            "46    13.0    12.2        0\n",
            "47    14.3    19.7        0\n",
            "48    15.0    19.9        0\n"
          ]
        }
      ]
    },
    {
      "cell_type": "code",
      "source": [
        "fish_X= fish_k.iloc[:,:2].to_numpy()\n",
        "fish_y=fish_k['species'].to_numpy()"
      ],
      "metadata": {
        "id": "BlD4dedc43Wi"
      },
      "execution_count": 5,
      "outputs": []
    },
    {
      "cell_type": "code",
      "source": [
        "fish_X.shape"
      ],
      "metadata": {
        "id": "yysrQCCd5OQ8",
        "outputId": "6e27a864-6643-4735-c7f1-b6b790048a11",
        "colab": {
          "base_uri": "https://localhost:8080/"
        }
      },
      "execution_count": 6,
      "outputs": [
        {
          "output_type": "execute_result",
          "data": {
            "text/plain": [
              "(49, 2)"
            ]
          },
          "metadata": {},
          "execution_count": 6
        }
      ]
    },
    {
      "cell_type": "code",
      "source": [
        "fish_y.shape"
      ],
      "metadata": {
        "id": "A0v1TbS15Qoz",
        "outputId": "5ffd341d-169e-4086-ce73-4450b1fd5ef1",
        "colab": {
          "base_uri": "https://localhost:8080/"
        }
      },
      "execution_count": 8,
      "outputs": [
        {
          "output_type": "execute_result",
          "data": {
            "text/plain": [
              "(49,)"
            ]
          },
          "metadata": {},
          "execution_count": 8
        }
      ]
    },
    {
      "cell_type": "markdown",
      "metadata": {
        "id": "ShnaZsAAHsB1"
      },
      "source": [
        "#Preprocessing :  Train Test Split"
      ]
    },
    {
      "cell_type": "code",
      "execution_count": 9,
      "metadata": {
        "id": "vpkI83t3KBsF"
      },
      "outputs": [],
      "source": [
        "from sklearn.model_selection import train_test_split"
      ]
    },
    {
      "cell_type": "code",
      "execution_count": 10,
      "metadata": {
        "id": "l-gm9r-jKMJY"
      },
      "outputs": [],
      "source": [
        "train_input, test_input, train_target, test_target = train_test_split(\n",
        "    fish_X, fish_y, random_state=42)"
      ]
    },
    {
      "cell_type": "code",
      "execution_count": 11,
      "metadata": {
        "id": "CS696_mxKZ38",
        "outputId": "84340f15-2f34-4458-f644-3c67cac0ce78",
        "colab": {
          "base_uri": "https://localhost:8080/"
        }
      },
      "outputs": [
        {
          "output_type": "stream",
          "name": "stdout",
          "text": [
            "(36, 2) (13, 2)\n"
          ]
        }
      ],
      "source": [
        "print(train_input.shape, test_input.shape)"
      ]
    },
    {
      "cell_type": "code",
      "execution_count": 12,
      "metadata": {
        "id": "PtNqwNjbKnI-",
        "outputId": "afab57b2-85b7-4977-bbdc-b621697e9385",
        "colab": {
          "base_uri": "https://localhost:8080/"
        }
      },
      "outputs": [
        {
          "output_type": "stream",
          "name": "stdout",
          "text": [
            "(36,) (13,)\n"
          ]
        }
      ],
      "source": [
        "print(train_target.shape, test_target.shape)"
      ]
    },
    {
      "cell_type": "code",
      "execution_count": 13,
      "metadata": {
        "id": "mR9_bB3COHaA",
        "outputId": "33534b57-0878-4f56-87d1-8b002f01113c",
        "colab": {
          "base_uri": "https://localhost:8080/"
        }
      },
      "outputs": [
        {
          "output_type": "stream",
          "name": "stdout",
          "text": [
            "[1 0 0 0 1 1 1 1 1 1 1 1 1]\n"
          ]
        }
      ],
      "source": [
        "print(test_target)"
      ]
    },
    {
      "cell_type": "code",
      "execution_count": 14,
      "metadata": {
        "outputId": "361fee09-c077-4c42-a482-b225efb952d4",
        "colab": {
          "base_uri": "https://localhost:8080/"
        },
        "id": "sFhCOhDj1bAW"
      },
      "outputs": [
        {
          "output_type": "execute_result",
          "data": {
            "text/plain": [
              "1.0"
            ]
          },
          "metadata": {},
          "execution_count": 14
        }
      ],
      "source": [
        "from sklearn.neighbors import KNeighborsClassifier\n",
        "\n",
        "kn = KNeighborsClassifier()\n",
        "kn.fit(train_input, train_target)\n",
        "kn.score(test_input, test_target)"
      ]
    },
    {
      "cell_type": "code",
      "source": [
        "kn.predict(fish_k.iloc[:,:2])"
      ],
      "metadata": {
        "id": "3j8nT-UHoun-",
        "outputId": "39d0ffa6-3d0a-4f8b-8c1e-b98105c4d46b",
        "colab": {
          "base_uri": "https://localhost:8080/"
        }
      },
      "execution_count": 15,
      "outputs": [
        {
          "output_type": "stream",
          "name": "stderr",
          "text": [
            "/usr/local/lib/python3.10/dist-packages/sklearn/base.py:432: UserWarning: X has feature names, but KNeighborsClassifier was fitted without feature names\n",
            "  warnings.warn(\n"
          ]
        },
        {
          "output_type": "execute_result",
          "data": {
            "text/plain": [
              "array([1, 1, 1, 1, 1, 1, 1, 1, 1, 1, 1, 1, 1, 1, 1, 1, 1, 1, 1, 1, 1, 1,\n",
              "       1, 1, 1, 1, 1, 1, 1, 1, 1, 1, 1, 1, 1, 0, 0, 0, 0, 0, 0, 0, 0, 0,\n",
              "       0, 0, 0, 0, 0])"
            ]
          },
          "metadata": {},
          "execution_count": 15
        }
      ]
    },
    {
      "cell_type": "code",
      "source": [
        "import matplotlib.pyplot as plt\n",
        "plt.scatter(train_input[:, 0], train_input[:, 1])\n",
        "plt.scatter(test_input[:, 0], test_input[:, 1])\n",
        "plt.xlabel('length')\n",
        "plt.ylabel('weight')\n",
        "plt.show()"
      ],
      "metadata": {
        "id": "1wYCy-zgvuqW",
        "outputId": "31355feb-24ea-49f1-e14e-74992a085ca0",
        "colab": {
          "base_uri": "https://localhost:8080/",
          "height": 449
        }
      },
      "execution_count": 16,
      "outputs": [
        {
          "output_type": "display_data",
          "data": {
            "text/plain": [
              "<Figure size 640x480 with 1 Axes>"
            ],
            "image/png": "[encoded data removed]"
          },
          "metadata": {}
        }
      ]
    },
    {
      "cell_type": "code",
      "source": [
        "import matplotlib.pyplot as plt\n",
        "plt.scatter(fish_k['length'], fish_k['weight'],\n",
        "            c=[\"C3\" if c==1 else \"C4\" for c in kn.predict(fish_k.iloc[:,:2])])"
      ],
      "metadata": {
        "id": "n3ocQNlvnigP",
        "outputId": "58a65f79-a442-4bb5-c265-8207ad19e291",
        "colab": {
          "base_uri": "https://localhost:8080/",
          "height": 502
        }
      },
      "execution_count": 18,
      "outputs": [
        {
          "output_type": "stream",
          "name": "stderr",
          "text": [
            "/usr/local/lib/python3.10/dist-packages/sklearn/base.py:432: UserWarning: X has feature names, but KNeighborsClassifier was fitted without feature names\n",
            "  warnings.warn(\n"
          ]
        },
        {
          "output_type": "execute_result",
          "data": {
            "text/plain": [
              "<matplotlib.collections.PathCollection at 0x79d8269103d0>"
            ]
          },
          "metadata": {},
          "execution_count": 18
        },
        {
          "output_type": "display_data",
          "data": {
            "text/plain": [
              "<Figure size 640x480 with 1 Axes>"
            ],
            "image/png": "[encoded data removed]"
          },
          "metadata": {}
        }
      ]
    },
    {
      "cell_type": "markdown",
      "metadata": {
        "id": "KFO96jGvHsB2"
      },
      "source": [
        "# Test One Fish!"
      ]
    },
    {
      "cell_type": "code",
      "execution_count": 19,
      "metadata": {
        "id": "HhB-Alz--6U4",
        "colab": {
          "base_uri": "https://localhost:8080/"
        },
        "outputId": "ce1e7946-16ab-4854-ef3e-2e4890c8011e"
      },
      "outputs": [
        {
          "output_type": "execute_result",
          "data": {
            "text/plain": [
              "1.0"
            ]
          },
          "metadata": {},
          "execution_count": 19
        }
      ],
      "source": [
        "from sklearn.neighbors import KNeighborsClassifier\n",
        "\n",
        "kn = KNeighborsClassifier()\n",
        "kn.fit(train_input, train_target)\n",
        "kn.score(test_input, test_target)"
      ]
    },
    {
      "cell_type": "code",
      "execution_count": 21,
      "metadata": {
        "id": "JRKoCZFeT9xE",
        "outputId": "a9aa76b6-7f7d-41b1-c430-75bcd29a6e47",
        "colab": {
          "base_uri": "https://localhost:8080/"
        }
      },
      "outputs": [
        {
          "output_type": "stream",
          "name": "stdout",
          "text": [
            "[0]\n"
          ]
        }
      ],
      "source": [
        "print(kn.predict([[25, 150]]))"
      ]
    },
    {
      "cell_type": "code",
      "execution_count": 22,
      "metadata": {
        "id": "1-GE9ic9_XRU",
        "outputId": "fdd063ab-1102-42d6-d0d4-b36f104ac7c3",
        "colab": {
          "base_uri": "https://localhost:8080/",
          "height": 449
        }
      },
      "outputs": [
        {
          "output_type": "display_data",
          "data": {
            "text/plain": [
              "<Figure size 640x480 with 1 Axes>"
            ],
            "image/png": "[encoded data removed]"
          },
          "metadata": {}
        }
      ],
      "source": [
        "plt.scatter(train_input[:,0], train_input[:,1])\n",
        "plt.scatter(25, 150, marker='^')\n",
        "plt.xlabel('length')\n",
        "plt.ylabel('weight')\n",
        "plt.show()"
      ]
    },
    {
      "cell_type": "code",
      "execution_count": 23,
      "metadata": {
        "id": "G_jwm_ouQKQ7"
      },
      "outputs": [],
      "source": [
        "distances, indexes = kn.kneighbors([[25, 150]])"
      ]
    },
    {
      "cell_type": "code",
      "source": [
        "train_input"
      ],
      "metadata": {
        "id": "YdG6Ceg19hOd",
        "outputId": "6e713841-cb4e-4c42-fcdf-4f60825f7b14",
        "colab": {
          "base_uri": "https://localhost:8080/"
        }
      },
      "execution_count": 24,
      "outputs": [
        {
          "output_type": "execute_result",
          "data": {
            "text/plain": [
              "array([[  30. ,  450. ],\n",
              "       [  29. ,  363. ],\n",
              "       [  29.7,  500. ],\n",
              "       [  11.3,    8.7],\n",
              "       [  11.8,   10. ],\n",
              "       [  13. ,   12.2],\n",
              "       [  32. ,  600. ],\n",
              "       [  30.7,  500. ],\n",
              "       [  33. ,  700. ],\n",
              "       [  35. ,  700. ],\n",
              "       [  41. ,  975. ],\n",
              "       [  38.5,  920. ],\n",
              "       [  25.4,  242. ],\n",
              "       [  12. ,    9.8],\n",
              "       [  39.5,  925. ],\n",
              "       [  29.7,  450. ],\n",
              "       [  37. , 1000. ],\n",
              "       [  31. ,  500. ],\n",
              "       [  10.5,    7.5],\n",
              "       [  26.3,  290. ],\n",
              "       [  34. ,  685. ],\n",
              "       [  26.5,  340. ],\n",
              "       [  10.6,    7. ],\n",
              "       [   9.8,    6.7],\n",
              "       [  35. ,  680. ],\n",
              "       [  11.2,    9.8],\n",
              "       [  31. ,  475. ],\n",
              "       [  34.5,  620. ],\n",
              "       [  33.5,  610. ],\n",
              "       [  15. ,   19.9],\n",
              "       [  34. ,  575. ],\n",
              "       [  30. ,  390. ],\n",
              "       [  11.8,    9.9],\n",
              "       [  32. ,  600. ],\n",
              "       [  36. ,  850. ],\n",
              "       [  11. ,    9.7]])"
            ]
          },
          "metadata": {},
          "execution_count": 24
        }
      ]
    },
    {
      "cell_type": "code",
      "execution_count": 25,
      "metadata": {
        "id": "tVVz-wJoQ2ps",
        "outputId": "0222d9e2-b3cc-42f1-f8f4-a597051fe252",
        "colab": {
          "base_uri": "https://localhost:8080/",
          "height": 449
        }
      },
      "outputs": [
        {
          "output_type": "display_data",
          "data": {
            "text/plain": [
              "<Figure size 640x480 with 1 Axes>"
            ],
            "image/png": "[encoded data removed]"
          },
          "metadata": {}
        }
      ],
      "source": [
        "plt.scatter(train_input[:,0], train_input[:,1])\n",
        "plt.scatter(25, 150, marker='^')\n",
        "plt.scatter(train_input[indexes,0], train_input[indexes,1], marker='D')\n",
        "plt.xlabel('length')\n",
        "plt.ylabel('weight')\n",
        "plt.show()"
      ]
    },
    {
      "cell_type": "code",
      "execution_count": 26,
      "metadata": {
        "id": "0IvKvCx1RyhY",
        "outputId": "c3006274-06dc-4a39-97d9-f68e5d952ea9",
        "colab": {
          "base_uri": "https://localhost:8080/"
        }
      },
      "outputs": [
        {
          "output_type": "stream",
          "name": "stdout",
          "text": [
            "[[[ 25.4 242. ]\n",
            "  [ 15.   19.9]\n",
            "  [ 13.   12.2]\n",
            "  [ 26.3 290. ]\n",
            "  [ 11.8  10. ]]]\n"
          ]
        }
      ],
      "source": [
        "print(train_input[indexes])"
      ]
    },
    {
      "cell_type": "code",
      "execution_count": 27,
      "metadata": {
        "id": "3tEGpNPT00ut",
        "outputId": "cd398592-db2c-48ce-e788-e47fa50e6c93",
        "colab": {
          "base_uri": "https://localhost:8080/"
        }
      },
      "outputs": [
        {
          "output_type": "stream",
          "name": "stdout",
          "text": [
            "[[1 0 0 1 0]]\n"
          ]
        }
      ],
      "source": [
        "print(train_target[indexes])"
      ]
    },
    {
      "cell_type": "code",
      "execution_count": 28,
      "metadata": {
        "id": "ry0R_gEqRVsQ",
        "outputId": "1ce12c76-6f2d-4cd0-84d4-cb1bd2f2b9f4",
        "colab": {
          "base_uri": "https://localhost:8080/"
        }
      },
      "outputs": [
        {
          "output_type": "stream",
          "name": "stdout",
          "text": [
            "[[ 92.00086956 130.48375378 138.32150953 140.00603558 140.62090883]]\n"
          ]
        }
      ],
      "source": [
        "print(distances)"
      ]
    },
    {
      "cell_type": "markdown",
      "metadata": {
        "id": "15Cz1cniHsB4"
      },
      "source": [
        "# Plot with comparable xlim (i.e., same scope of length as weight)"
      ]
    },
    {
      "cell_type": "code",
      "execution_count": 29,
      "metadata": {
        "id": "P6PXDboiTx_j",
        "scrolled": true,
        "colab": {
          "base_uri": "https://localhost:8080/",
          "height": 449
        },
        "outputId": "32dddc06-d7d1-41c5-e602-9da5297050d1"
      },
      "outputs": [
        {
          "output_type": "display_data",
          "data": {
            "text/plain": [
              "<Figure size 640x480 with 1 Axes>"
            ],
            "image/png": "[encoded data removed]"
          },
          "metadata": {}
        }
      ],
      "source": [
        "plt.scatter(train_input[:,0], train_input[:,1])\n",
        "plt.scatter(25, 150, marker='^')\n",
        "plt.scatter(train_input[indexes,0], train_input[indexes,1], marker='D')\n",
        "plt.xlim((0, 1000))\n",
        "plt.xlabel('length')\n",
        "plt.ylabel('weight')\n",
        "plt.show()\n",
        "\n",
        "#With this shape data, the length of the fish (x-axis) would not affect finding the nearest neighbors.\n",
        "#Only the weight of the fish (y-axis) would be considered.\n",
        "#--> Standardization of \"scale\" is necessary in training \"distance\"-based-algorithms."
      ]
    },
    {
      "cell_type": "markdown",
      "source": [
        "# Prepropcessing: Standardization using z scale"
      ],
      "metadata": {
        "id": "Yi9xncqkUGIZ"
      }
    },
    {
      "cell_type": "code",
      "execution_count": 30,
      "metadata": {
        "id": "f7CuQC8IUsty",
        "outputId": "818cfc5a-fba2-4df6-b826-8de3326c533e",
        "colab": {
          "base_uri": "https://localhost:8080/"
        }
      },
      "outputs": [
        {
          "output_type": "stream",
          "name": "stdout",
          "text": [
            "[[ 30.  450. ]\n",
            " [ 29.  363. ]\n",
            " [ 29.7 500. ]]\n"
          ]
        }
      ],
      "source": [
        "print(train_input[:3,:])"
      ]
    },
    {
      "cell_type": "code",
      "source": [
        "mean= np.mean(train_input)\n",
        "std =np.std(train_input)"
      ],
      "metadata": {
        "id": "EaPwlK1VrrUK"
      },
      "execution_count": 32,
      "outputs": []
    },
    {
      "cell_type": "code",
      "execution_count": 33,
      "metadata": {
        "id": "jmSFa3LzUteI",
        "outputId": "55b2ebad-5c40-4723-8501-c7736a2d5716",
        "colab": {
          "base_uri": "https://localhost:8080/"
        }
      },
      "outputs": [
        {
          "output_type": "stream",
          "name": "stdout",
          "text": [
            "[[-0.63976567  0.75876065]\n",
            " [-0.64309549  0.46906591]\n",
            " [-0.64076462  0.92525188]]\n"
          ]
        }
      ],
      "source": [
        "train_scaled = (train_input - mean) / std\n",
        "print(train_scaled[:3,:])"
      ]
    },
    {
      "cell_type": "markdown",
      "metadata": {
        "id": "fQEcM4FoHsB5"
      },
      "source": [
        "# Train with scaled train set;\n",
        "  - Now there is another problem: the test data ([[25,150]]) should also be standardized!"
      ]
    },
    {
      "cell_type": "code",
      "execution_count": 34,
      "metadata": {
        "id": "P4dx2WDOVDMD",
        "scrolled": true,
        "outputId": "20ccd919-a2b8-4179-f18a-a6aae407e828",
        "colab": {
          "base_uri": "https://localhost:8080/",
          "height": 449
        }
      },
      "outputs": [
        {
          "output_type": "display_data",
          "data": {
            "text/plain": [
              "<Figure size 640x480 with 1 Axes>"
            ],
            "image/png": "[encoded data removed]"
          },
          "metadata": {}
        }
      ],
      "source": [
        "# the not-yet-standardized test data([[25,150]]) distorts the plot\n",
        "plt.scatter(train_scaled[:,0], train_scaled[:,1])\n",
        "plt.scatter(25, 150, marker='^')\n",
        "plt.xlabel('length')\n",
        "plt.ylabel('weight')\n",
        "plt.show()"
      ]
    },
    {
      "cell_type": "code",
      "execution_count": 37,
      "metadata": {
        "id": "Kjd2W6ZbVlgG"
      },
      "outputs": [],
      "source": [
        "new = ([25, 150] - mean) / std"
      ]
    },
    {
      "cell_type": "code",
      "execution_count": 36,
      "metadata": {
        "id": "5-Zq-jIMVbV-",
        "outputId": "b8e4d484-1d86-45d8-ffae-86718253f862",
        "colab": {
          "base_uri": "https://localhost:8080/",
          "height": 449
        }
      },
      "outputs": [
        {
          "output_type": "display_data",
          "data": {
            "text/plain": [
              "<Figure size 640x480 with 1 Axes>"
            ],
            "image/png": "[encoded data removed]"
          },
          "metadata": {}
        }
      ],
      "source": [
        "plt.scatter(train_scaled[:,0], train_scaled[:,1])\n",
        "plt.scatter(new[0], new[1], marker='^')\n",
        "plt.xlabel('length')\n",
        "plt.ylabel('weight')\n",
        "plt.show()"
      ]
    },
    {
      "cell_type": "code",
      "execution_count": 38,
      "metadata": {
        "id": "NbsFki8MVtrn",
        "outputId": "fc117ca3-ea35-4b82-f996-51ed31dd0f59",
        "colab": {
          "base_uri": "https://localhost:8080/",
          "height": 75
        }
      },
      "outputs": [
        {
          "output_type": "execute_result",
          "data": {
            "text/plain": [
              "KNeighborsClassifier()"
            ],
            "text/html": [
              "<style>#sk-container-id-1 {color: black;background-color: white;}#sk-container-id-1 pre{padding: 0;}#sk-container-id-1 div.sk-toggleable {background-color: white;}#sk-container-id-1 label.sk-toggleable__label {cursor: pointer;display: block;width: 100%;margin-bottom: 0;padding: 0.3em;box-sizing: border-box;text-align: center;}#sk-container-id-1 label.sk-toggleable__label-arrow:before {content: \"▸\";float: left;margin-right: 0.25em;color: #696969;}#sk-container-id-1 label.sk-toggleable__label-arrow:hover:before {color: black;}#sk-container-id-1 div.sk-estimator:hover label.sk-toggleable__label-arrow:before {color: black;}#sk-container-id-1 div.sk-toggleable__content {max-height: 0;max-width: 0;overflow: hidden;text-align: left;background-color: #f0f8ff;}#sk-container-id-1 div.sk-toggleable__content pre {margin: 0.2em;color: black;border-radius: 0.25em;background-color: #f0f8ff;}#sk-container-id-1 input.sk-toggleable__control:checked~div.sk-toggleable__content {max-height: 200px;max-width: 100%;overflow: auto;}#sk-container-id-1 input.sk-toggleable__control:checked~label.sk-toggleable__label-arrow:before {content: \"▾\";}#sk-container-id-1 div.sk-estimator input.sk-toggleable__control:checked~label.sk-toggleable__label {background-color: #d4ebff;}#sk-container-id-1 div.sk-label input.sk-toggleable__control:checked~label.sk-toggleable__label {background-color: #d4ebff;}#sk-container-id-1 input.sk-hidden--visually {border: 0;clip: rect(1px 1px 1px 1px);clip: rect(1px, 1px, 1px, 1px);height: 1px;margin: -1px;overflow: hidden;padding: 0;position: absolute;width: 1px;}#sk-container-id-1 div.sk-estimator {font-family: monospace;background-color: #f0f8ff;border: 1px dotted black;border-radius: 0.25em;box-sizing: border-box;margin-bottom: 0.5em;}#sk-container-id-1 div.sk-estimator:hover {background-color: #d4ebff;}#sk-container-id-1 div.sk-parallel-item::after {content: \"\";width: 100%;border-bottom: 1px solid gray;flex-grow: 1;}#sk-container-id-1 div.sk-label:hover label.sk-toggleable__label {background-color: #d4ebff;}#sk-container-id-1 div.sk-serial::before {content: \"\";position: absolute;border-left: 1px solid gray;box-sizing: border-box;top: 0;bottom: 0;left: 50%;z-index: 0;}#sk-container-id-1 div.sk-serial {display: flex;flex-direction: column;align-items: center;background-color: white;padding-right: 0.2em;padding-left: 0.2em;position: relative;}#sk-container-id-1 div.sk-item {position: relative;z-index: 1;}#sk-container-id-1 div.sk-parallel {display: flex;align-items: stretch;justify-content: center;background-color: white;position: relative;}#sk-container-id-1 div.sk-item::before, #sk-container-id-1 div.sk-parallel-item::before {content: \"\";position: absolute;border-left: 1px solid gray;box-sizing: border-box;top: 0;bottom: 0;left: 50%;z-index: -1;}#sk-container-id-1 div.sk-parallel-item {display: flex;flex-direction: column;z-index: 1;position: relative;background-color: white;}#sk-container-id-1 div.sk-parallel-item:first-child::after {align-self: flex-end;width: 50%;}#sk-container-id-1 div.sk-parallel-item:last-child::after {align-self: flex-start;width: 50%;}#sk-container-id-1 div.sk-parallel-item:only-child::after {width: 0;}#sk-container-id-1 div.sk-dashed-wrapped {border: 1px dashed gray;margin: 0 0.4em 0.5em 0.4em;box-sizing: border-box;padding-bottom: 0.4em;background-color: white;}#sk-container-id-1 div.sk-label label {font-family: monospace;font-weight: bold;display: inline-block;line-height: 1.2em;}#sk-container-id-1 div.sk-label-container {text-align: center;}#sk-container-id-1 div.sk-container {/* jupyter's `normalize.less` sets `[hidden] { display: none; }` but bootstrap.min.css set `[hidden] { display: none !important; }` so we also need the `!important` here to be able to override the default hidden behavior on the sphinx rendered scikit-learn.org. See: https://github.com/scikit-learn/scikit-learn/issues/21755 */display: inline-block !important;position: relative;}#sk-container-id-1 div.sk-text-repr-fallback {display: none;}</style><div id=\"sk-container-id-1\" class=\"sk-top-container\"><div class=\"sk-text-repr-fallback\"><pre>KNeighborsClassifier()</pre><b>In a Jupyter environment, please rerun this cell to show the HTML representation or trust the notebook. <br />On GitHub, the HTML representation is unable to render, please try loading this page with nbviewer.org.</b></div><div class=\"sk-container\" hidden><div class=\"sk-item\"><div class=\"sk-estimator sk-toggleable\"><input class=\"sk-toggleable__control sk-hidden--visually\" id=\"sk-estimator-id-1\" type=\"checkbox\" checked><label for=\"sk-estimator-id-1\" class=\"sk-toggleable__label sk-toggleable__label-arrow\">KNeighborsClassifier</label><div class=\"sk-toggleable__content\"><pre>KNeighborsClassifier()</pre></div></div></div></div></div>"
            ]
          },
          "metadata": {},
          "execution_count": 38
        }
      ],
      "source": [
        "kn.fit(train_scaled, train_target)"
      ]
    },
    {
      "cell_type": "code",
      "execution_count": 39,
      "metadata": {
        "id": "5uc_k1nlWnNN"
      },
      "outputs": [],
      "source": [
        "test_scaled = (test_input - mean) / std"
      ]
    },
    {
      "cell_type": "code",
      "execution_count": 40,
      "metadata": {
        "id": "mox3oWCLWzGW",
        "outputId": "91337eda-9ba6-424e-bc62-a1430dc2a9b4",
        "colab": {
          "base_uri": "https://localhost:8080/"
        }
      },
      "outputs": [
        {
          "output_type": "stream",
          "name": "stdout",
          "text": [
            "[0]\n"
          ]
        }
      ],
      "source": [
        "print(kn.predict([new]))"
      ]
    },
    {
      "cell_type": "code",
      "execution_count": 41,
      "metadata": {
        "id": "bRU4r44-W1t3"
      },
      "outputs": [],
      "source": [
        "distances, indexes = kn.kneighbors([new])"
      ]
    },
    {
      "cell_type": "code",
      "execution_count": null,
      "metadata": {
        "id": "bHWAbdefW9W6"
      },
      "outputs": [],
      "source": [
        "plt.scatter(train_scaled[:,0], train_scaled[:,1])\n",
        "plt.scatter(new[0], new[1], marker='^')\n",
        "plt.scatter(train_scaled[indexes,0], train_scaled[indexes,1], marker='D')\n",
        "plt.xlabel('length')\n",
        "plt.ylabel('weight')\n",
        "plt.show()"
      ]
    },
    {
      "cell_type": "markdown",
      "source": [
        "# Model's accuracy score - Use test dataset"
      ],
      "metadata": {
        "id": "MlauQEDUGLqP"
      }
    },
    {
      "cell_type": "code",
      "source": [
        "# Now the model 'correctly' classifies the test fish as caegory 1 (i.e., McFish)\n",
        "# This is a convenience method same as accuracy_score() shown below.\n",
        "kn.score(test_scaled, test_target)"
      ],
      "metadata": {
        "id": "6PfEwPLxWvdz",
        "colab": {
          "base_uri": "https://localhost:8080/"
        },
        "outputId": "b6a33bd1-9cfa-4c88-c98d-c8ca71f20e55"
      },
      "execution_count": 42,
      "outputs": [
        {
          "output_type": "execute_result",
          "data": {
            "text/plain": [
              "1.0"
            ]
          },
          "metadata": {},
          "execution_count": 42
        }
      ]
    },
    {
      "cell_type": "markdown",
      "source": [
        "# Performance Evaluation: Confusion Matrix and the Four Classification Peformance Metrics   \n",
        "\n",
        "- **Accuracy** : assesses the overall correctness of the model (obtainable by ``kn.score()``) : $\\frac{TP + TN}{TP + TN + FP + FN}$\n",
        "- **Specificity**: measures the ability to correctly identify negatives :  $\\frac{TN}{TN + FP}$\n",
        "- **Precision**: focuses on the correctness of positive predictions: $\\frac{TP}{TP + FP}$\n",
        "- **Recall** (Sensitivity): measures ability to identify all relevant instances: $\\frac{TP}{TP + FN}$"
      ],
      "metadata": {
        "id": "HGGn_-SK_ZsW"
      }
    },
    {
      "cell_type": "code",
      "source": [
        "confusion_matrix?"
      ],
      "metadata": {
        "id": "7EhLH-rFDunq"
      },
      "execution_count": 46,
      "outputs": []
    },
    {
      "cell_type": "code",
      "source": [
        "from sklearn.metrics import confusion_matrix\n",
        "# Get the confusion matrix\n",
        "cm = confusion_matrix(test_target, kn.predict(test_scaled))\n",
        "# Convert the confusion matrix to a DataFrame\n",
        "cm_df = pd.DataFrame(cm, columns=['Predicted 0', 'Predicted 1'], index=['Actual 0', 'Actual 1'])\n",
        "# Print the DataFrame\n",
        "print(cm_df)\n",
        "\n"
      ],
      "metadata": {
        "id": "8cTihRc5_7yG",
        "outputId": "b055f09f-e260-4714-8cd3-2011ee9f209a",
        "colab": {
          "base_uri": "https://localhost:8080/"
        }
      },
      "execution_count": 44,
      "outputs": [
        {
          "output_type": "stream",
          "name": "stdout",
          "text": [
            "          Predicted 0  Predicted 1\n",
            "Actual 0            3            0\n",
            "Actual 1            0           10\n"
          ]
        }
      ]
    },
    {
      "cell_type": "code",
      "source": [
        "from sklearn.metrics import accuracy_score, recall_score, precision_score, f1_score\n",
        "\n",
        "# Four classification metrics\n",
        "accuracy = accuracy_score(test_target, kn.predict(test_scaled))\n",
        "specificity = recall_score(test_target, kn.predict(test_scaled), pos_label=0)\n",
        "precision = precision_score(test_target, kn.predict(test_scaled), pos_label=1)\n",
        "recall = recall_score(test_target, kn.predict(test_scaled), pos_label=1)\n",
        "\n",
        "print(\"Accuracy:\", accuracy)\n",
        "print(\"Specificity:\", specificity)\n",
        "print(\"Precision:\", precision)\n",
        "print(\"Recall:\", recall)\n"
      ],
      "metadata": {
        "id": "DtKu7KMVEBut",
        "outputId": "835b832b-aa1e-4eb5-c105-786e366ca186",
        "colab": {
          "base_uri": "https://localhost:8080/"
        }
      },
      "execution_count": 45,
      "outputs": [
        {
          "output_type": "stream",
          "name": "stdout",
          "text": [
            "Accuracy: 1.0\n",
            "Specificity: 1.0\n",
            "Precision: 1.0\n",
            "Recall: 1.0\n"
          ]
        }
      ]
    },
    {
      "cell_type": "code",
      "source": [],
      "metadata": {
        "id": "02pFotl0EMbG"
      },
      "execution_count": 45,
      "outputs": []
    }
  ],
  "metadata": {
    "colab": {
      "provenance": [],
      "include_colab_link": true
    },
    "kernelspec": {
      "display_name": "Python 3 (ipykernel)",
      "language": "python",
      "name": "python3"
    },
    "language_info": {
      "codemirror_mode": {
        "name": "ipython",
        "version": 3
      },
      "file_extension": ".py",
      "mimetype": "text/x-python",
      "name": "python",
      "nbconvert_exporter": "python",
      "pygments_lexer": "ipython3",
      "version": "3.10.9"
    }
  },
  "nbformat": 4,
  "nbformat_minor": 0
}