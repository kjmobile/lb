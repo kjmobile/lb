import pymysql

def simple_backup():
    connection = pymysql.connect(
        host='database-klee.cbgcswckszgl.us-east-1.rds.amazonaws.com',
        user='erau', password='1212', db='airline_db',
        charset='utf8mb4', cursorclass=pymysql.cursors.DictCursor
    )
    
    cursor = connection.cursor()
    
    with open('airline_db_simple_backup.sql', 'w') as f:
        f.write("USE airline_db;\n\n")
        
        # 테이블 목록
        cursor.execute("SHOW TABLES")
        tables = cursor.fetchall()
        
        for table in tables:
            table_name = list(table.values())[0]
            
            # 데이터 조회
            cursor.execute(f"SELECT * FROM `{table_name}`")
            rows = cursor.fetchall()
            
            if rows:
                # 컬럼명 가져오기
                columns = list(rows[0].keys())
                columns_str = ', '.join([f'`{col}`' for col in columns])
                
                f.write(f"-- {table_name} 테이블 데이터\n")
                f.write(f"DELETE FROM `{table_name}`;\n")
                f.write(f"INSERT INTO `{table_name}` ({columns_str}) VALUES\n")
                
                for i, row in enumerate(rows):
                    values = [f"'{v}'" if isinstance(v, str) else str(v) if v is not None else 'NULL' 
                             for v in row.values()]
                    values_str = f"({', '.join(values)})"
                    
                    if i == len(rows) - 1:
                        f.write(f"{values_str};\n\n")
                    else:
                        f.write(f"{values_str},\n")
    
    cursor.close()
    connection.close()
    print("간단 백업 완료! 파일: airline_db_simple_backup.sql")

# 실행
simple_backup()



