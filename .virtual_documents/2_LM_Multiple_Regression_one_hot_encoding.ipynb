





!pip install pymysql


import pandas as pd
import pymysql.cursors
from sklearn.model_selection import train_test_split
from IPython.display import Image
from sklearn.linear_model import LinearRegression





# Connect to the database
connection = pymysql.connect(host='kaylee-db.cbgcswckszgl.us-east-1.rds.amazonaws.com',
                             user='cob',
                             password='1212',
                             database='data',
                             cursorclass=pymysql.cursors.DictCursor)

try:
    with connection.cursor() as cursor:
        # Create a new record
        sql = "SELECT * FROM startups"
        cursor.execute(sql)
        startup= pd.DataFrame(cursor.fetchall())

        print(startup)


finally:
    connection.close()

print(startup)


from matplotlib import pyplot as plt
startup.plot(kind='scatter', x='Marketing Spend', y='Profit', s=32, alpha=.8)





startup.describe()


startup.info()





# One-hot encode on state column and save the data as startup_encoded
import pandas as pd
startup_encoded = pd.get_dummies(startup, columns=['State'])



startup_encoded.info()


startup_encoded.columns


startup_encoded.head(3)


startup_encoded.columns !='Profit'


# what does this code do?
X=startup_encoded.loc[:, startup_encoded.columns!='Profit']
y=startup_encoded['Profit']


X.head(2)


y.head(2)


from sklearn.model_selection import train_test_split


# how much percent of data is being using for training?
X_train, X_test, y_train, y_test = train_test_split(X, y, test_size = 0.2, random_state=0)





from sklearn.linear_model import LinearRegression


model = LinearRegression()


model.fit(X_train, y_train)








pred = model.predict(X_test)
pred





comparison = pd.DataFrame({'actual': y_test, 'pred': pred})


comparison


# Compare actual v. predicted with line vs. scatter comparsion

# Plot the actual and predicted values
plt.scatter(y_test, pred)
plt.xlabel("Actual")
plt.ylabel("Predicted")
plt.title("Actual vs. Predicted Values")

# Add a line for the perfect fit
plt.plot([min(y_test), max(y_test)], [min(y_test), max(y_test)], color="red")

# Show the plot
plt.show()



from sklearn.metrics import mean_squared_error



mse=mean_squared_error(y_test, pred)  #mean squared error
mse


rmse= mse ** 0.5   #root mean squared error
rmse


model.score(X_train, y_train) # r-squared on train set


model.score(X_test, y_test) # r-squared on test set  : 1) which r-squared is more important? 2) are they the same as statmodels' r-squared?



