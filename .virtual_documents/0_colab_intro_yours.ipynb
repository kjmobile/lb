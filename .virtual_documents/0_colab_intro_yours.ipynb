








! pip install pymysql


! pip install IPython


# import data from mySQL database  using the following info host: kaylee-db.cbgcswckszgl.us-east-1.rds.amazonaws.com, id cob, password 1212, db='data', port 3306

import pymysql
import pandas as pd


# Perform all database operations with a single connection
with pymysql.connect(host='kaylee-db.cbgcswckszgl.us-east-1.rds.amazonaws.com',
                    user='cob',
                    password='1212',
                    db='data',
                    charset='utf8mb4',
                    cursorclass=pymysql.cursors.DictCursor) as connection:

    with connection.cursor() as cursor:
        # 1. Show available databases
        cursor.execute("SHOW DATABASES")
        print("Available databases:")
        for db in cursor.fetchall():
            print(db['Database'])

        print("\nAvailable tables in 'data' database:")
        # 2. Show tables in current database
        cursor.execute("SHOW TABLES")
        for table in cursor.fetchall():
            print(table['Tables_in_data'])

        print("\nFetching Salary_Data:")
        # 3. Fetch Salary_Data and create DataFrame
        cursor.execute("SELECT * FROM Salary_Data")
        df = pd.DataFrame(cursor.fetchall())

# Display the DataFrame
df








df.head()


from matplotlib import pyplot as plt
df.plot(kind='scatter', x='YearsExperience', y='Salary', s=32, alpha=.8)
plt.gca().spines[['top', 'right',]].set_visible(False)





# dataframe df: run linear regression using statmodels

import statsmodels.formula.api as smf

# Fit the linear regression model
model = smf.ols(formula="Salary ~ YearsExperience", data=df).fit()

# Print the model summary
print(model.summary())












df.head()






from sklearn.model_selection import train_test_split

# Split the data into training and testing sets
X_train, X_test, y_train, y_test = train_test_split(df[['YearsExperience']], df['Salary'], test_size=0.25, random_state=0)







from sklearn.linear_model import LinearRegression

# Create a linear regression model
model = LinearRegression()

# Fit the model to the training data
model.fit(X_train, y_train)


# check model coeffs

print(model.coef_.round(2))
print(model.intercept_.round(2))


model.coef_


model.intercept_


pd.Series(model.coef_, index = X_train.columns)


# specify model equation

print(f"Salary = 9869.5 * YearsExperience + 25792.2")





# Make predictions using the model
y_pred = model.predict(X_test)



y_pred


# Plot the actual and predicted values
plt.scatter(X_test, y_test, color='red', label='Actual')
plt.plot(X_test, y_pred, color='blue', label='Predicted')
plt.title('Actual vs. Predicted Salary')
plt.xlabel('YearsExperience')
plt.ylabel('Salary')
plt.legend()







model.score(X_test, y_test)


# evaluate the model

from sklearn.metrics import mean_squared_error

# Calculate the mean squared error
mse = round(mean_squared_error(y_test, y_pred), 2)

# Print the mean squared error
print("Mean squared error:", mse)





















from IPython.display import Image # Correcting the typo from 'ipython' to 'IPython'
Image(url="https://github.com/kjmobile/data/blob/main/img/R_sq.png?raw=true", width=700)









