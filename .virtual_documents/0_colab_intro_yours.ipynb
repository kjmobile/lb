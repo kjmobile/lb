








! pip install pymysql


# import data from mySQL database  using the following info host: database-klee.cbgcswckszgl.us-east-1.rds.amazonaws.com, id erau, password 1212, db='data', port 3306
import pymysql
import pandas as pd


# 1.1 Practice DB connection
connection = pymysql.connect(
    host='database-klee.cbgcswckszgl.us-east-1.rds.amazonaws.com',
    user='erau',
    password='1212',
    charset='utf8mb4',
    cursorclass=pymysql.cursors.DictCursor
)

cursor = connection.cursor()
print("Connected to database!")


#1.2 show available databases
cursor.execute("SHOW DATABASES")
print("Available databases:")
for db in cursor.fetchall():
    print(f"- {db['Database']}")


#1.3 airline_db select airline_db by USE commend
cursor.execute("USE airline_db")
print('connected to airline_db')


#1.3 airline_db 
cursor.execute("SHOW TABLES")
print("\nAvailable tables in airline_db:")
tables = cursor.fetchall()
for table in tables:
    table_name = list(table.values())[0]
    print(f"- {table_name}")


#1.4 select * from airports table.
cursor.execute("SELECT * FROM airports  WHERE city in ('Paris', 'Tokyo') ")
results =pd.DataFrame(cursor.fetchall())
results


#1.4 select * from airports table.
cursor.execute("""
SELECT f.flight_number, a.airline_name
FROM flights f
JOIN airlines a ON f.airline_code = a.airline_code 
""")
results =pd.DataFrame(cursor.fetchall())
results


cursor.execute('''
SELECT * FROM bookings ORDER BY total_price LIMIT 1
''')
results=pd.DataFrame(cursor.fetchall())
results





# 2 Perform compensation database with a single connection
with pymysql.connect(host='database-klee.cbgcswckszgl.us-east-1.rds.amazonaws.com',
                    user='erau',
                    password='1212',
                    db='hr',
                    charset='utf8mb4',
                    cursorclass=pymysql.cursors.DictCursor) as connection:

    with connection.cursor() as cursor:
        # 1. Show available databases
        cursor.execute("SHOW DATABASES")
        print("Available databases:")
        for db in cursor.fetchall():
            print(db['Database'])

        print("\nAvailable tables in selected database:")
        
        # 2. Show tables in current database
        cursor.execute("SHOW TABLES")
        for table in cursor.fetchall():
            print(list(table.values())[0])  

        print("\nFetching compensation:")
        # 3. Fetch Salary_Data and create DataFrame
        cursor.execute("SELECT * FROM compensation")
        df = pd.DataFrame(cursor.fetchall())

# Display the DataFrame
df








df.head()


import seaborn as sns
sns.scatterplot(data=df, x='YearsExperience', y='Salary')





# dataframe df: run linear regression using statmodels

import statsmodels.formula.api as smf

# Fit the linear regression model
model = smf.ols(formula="Salary ~ YearsExperience", data=df).fit()

# Print the model summary
print(model.summary())












df.head()






from sklearn.model_selection import train_test_split

# Split the data into training and testing sets
X_train, X_test, y_train, y_test = train_test_split(df[['YearsExperience']], df['Salary'], test_size=0.25, random_state=0)







from sklearn.linear_model import LinearRegression

# Create a linear regression model
model = LinearRegression()

# Fit the model to the training data
model.fit(X_train, y_train)


# check model coeffs

print(model.coef_.round(2))
print(model.intercept_.round(2))


model.coef_


model.intercept_


pd.Series(model.coef_, index = X_train.columns)


# specify model equation

print(f"Salary = 9869.5 * YearsExperience + 25792.2")





# Make predictions using the model
y_pred = model.predict(X_test)



y_pred


# Plot the actual and predicted values
plt.scatter(X_test, y_test, color='red', label='Actual')
plt.plot(X_test, y_pred, color='blue', label='Predicted')
plt.title('Actual vs. Predicted Salary')
plt.xlabel('YearsExperience')
plt.ylabel('Salary')
plt.legend()







model.score(X_test, y_test)


# evaluate the model

from sklearn.metrics import mean_squared_error

# Calculate the mean squared error
mse = round(mean_squared_error(y_test, y_pred), 2)

# Print the mean squared error
print("Mean squared error:", mse)































