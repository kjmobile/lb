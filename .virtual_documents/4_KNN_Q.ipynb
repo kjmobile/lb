





import pandas as pd
import numpy as np



#Import and preprocess data
fish_k= pd.read_csv('https://raw.githubusercontent.com/kjmobile/data/refs/heads/main/ml/fish_k.csv')
fish_k['species'] = [1 if s=='Swedish' else 0 for s in fish_k["species"]] # species : 1 for Swedish 0 for McFish.
print(fish_k)


fish_X= fish_k.iloc[:,:2].to_numpy()
fish_y=fish_k['species'].to_numpy()


fish_X.shape


fish_y.shape


fish_y





import matplotlib.pyplot as plt

# Create a scatter plot for each group
plt.scatter(fish_X[fish_y == 0, 0], fish_X[fish_y == 0, 1], label="McFish")
plt.scatter(fish_X[fish_y == 1, 0], fish_X[fish_y == 1, 1], label="Swedish")

# Add labels and title
plt.xlabel("Length")
plt.ylabel("Weight")
plt.title("Scatterplot of Fish Data by Species")

# Add legend and show plot
plt.legend()
plt.show()






from sklearn.model_selection import train_test_split


train_input, test_input, train_target, test_target = train_test_split(
    fish_X, fish_y, random_state=42)


print(train_input.shape, test_input.shape)


print(train_target.shape, test_target.shape)


train_target


print(test_target)


from sklearn.neighbors import KNeighborsClassifier

kn = KNeighborsClassifier()
kn.fit(train_input, train_target)
kn.score(test_input, test_target)


kn.predict(test_input)


import matplotlib.pyplot as plt
plt.scatter(train_input[:, 0], train_input[:, 1])
plt.scatter(test_input[:, 0], test_input[:, 1])
plt.xlabel('length')
plt.ylabel('weight')
plt.show()





from sklearn.neighbors import KNeighborsClassifier

kn = KNeighborsClassifier()
kn.fit(train_input, train_target)
kn.score(test_input, test_target)


print(kn.predict([[25, 150]]))


plt.scatter(train_input[:,0], train_input[:,1])
plt.scatter(25, 150, marker='^')
plt.xlabel('length')
plt.ylabel('weight')
plt.show()


kn.kneighbors?


distances, indexes = kn.kneighbors([[25,150]])


plt.scatter(train_input[:,0], train_input[:,1])
plt.scatter(25, 150, marker='^')
plt.scatter(train_input[indexes,0], train_input[indexes,1], marker='D')
plt.xlabel('length')
plt.ylabel('weight')
plt.show()


print(train_input[indexes])


print(train_target[indexes])


print(distances)





plt.scatter(train_input[:,0], train_input[:,1])
plt.scatter(30, 150, marker='^')
plt.scatter(train_input[indexes,0], train_input[indexes,1], marker='D')
plt.xlim((0, 1000))
plt.xlabel('length')
plt.ylabel('weight')
plt.show()

#With this shape data, the length of the fish (x-axis) would not affect finding the nearest neighbors.
#Only the weight of the fish (y-axis) would be considered.
#--> Standardization of "scale" is necessary in training "distance"-based-algorithms.





print(train_input[:3,:])


mean= np.mean(train_input, axis=0)
std =np.std(train_input, axis=0)


print(mean, std)


train_scaled = (train_input - mean) / std
print(train_scaled[:3,:])





# the not-yet-standardized test data([[25,150]]) distorts the plot
plt.scatter(train_scaled[:,0], train_scaled[:,1])
plt.scatter(25, 150, marker='^')
plt.xlabel('length')
plt.ylabel('weight')
plt.show()


new = ([25,150] - mean) / std


new


plt.scatter(train_scaled[:,0], train_scaled[:,1])
plt.scatter(new[0], new[1], marker='^')

plt.xlabel('length')
plt.ylabel('weight')
plt.show()


test_scaled = (test_input - mean) / std


from sklearn.neighbors import KNeighborsClassifier

kn1 = KNeighborsClassifier()
kn1.fit(train_scaled, train_target)
kn1.score(test_scaled, test_target)


# now it is reasonably grouppig it into Swedish,1
print(kn1.predict([new]))


distances, indexes = kn1.kneighbors([new])


plt.scatter(train_scaled[:,0], train_scaled[:,1])
plt.scatter(new[0], new[1], marker='^')
plt.scatter(train_scaled[indexes,0], train_scaled[indexes,1], marker='D')

plt.xlabel('length')
plt.ylabel('weight')
plt.show()





# Now the model 'correctly' classifies the test fish as caegory 1 (i.e., McFish)
# This is a convenience method same as accuracy_score() shown below.
kn.score(test_scaled, test_target)





confusion_matrix?


from sklearn.metrics import confusion_matrix
# Get the confusion matrix
cm = confusion_matrix(test_target, kn1.predict(test_scaled))
# Convert the confusion matrix to a DataFrame
cm_df = pd.DataFrame(cm, columns=['Predicted 0', 'Predicted 1'], index=['Actual 0', 'Actual 1'])
# Print the DataFrame
print(cm_df)




from sklearn.metrics import accuracy_score, recall_score, precision_score, f1_score

# Four classification metrics
accuracy = accuracy_score(test_target, kn1.predict(test_scaled))
specificity = recall_score(test_target, kn1.predict(test_scaled), pos_label=0)
precision = precision_score(test_target, kn1.predict(test_scaled), pos_label=1)
recall = recall_score(test_target, kn1.predict(test_scaled), pos_label=1)

print("Accuracy:", accuracy)
print("Specificity:", specificity)
print("Precision:", precision)
print("Recall:", recall)




